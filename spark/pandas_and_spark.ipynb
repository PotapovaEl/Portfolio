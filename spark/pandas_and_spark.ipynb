{
  "nbformat": 4,
  "nbformat_minor": 0,
  "metadata": {
    "colab": {
      "name": "python practice.ipynb",
      "provenance": [],
      "collapsed_sections": []
    },
    "kernelspec": {
      "name": "python3",
      "display_name": "Python 3"
    }
  },
  "cells": [
    {
      "cell_type": "markdown",
      "metadata": {
        "id": "FncPeFA1FSBy"
      },
      "source": [
        "***1. Загрузите в колаб файлы по оценкам (ratings) и фильмам (movies) и создайте на их основе pandas-датафреймы***"
      ]
    },
    {
      "cell_type": "code",
      "metadata": {
        "id": "JuxoMGXvGMJN"
      },
      "source": [
        "import pandas as pd\n",
        "import warnings\n",
        "warnings.filterwarnings('ignore')"
      ],
      "execution_count": null,
      "outputs": []
    },
    {
      "cell_type": "code",
      "metadata": {
        "colab": {
          "base_uri": "https://localhost:8080/",
          "height": 360
        },
        "id": "lE8l__hJ-46o",
        "outputId": "617410a4-93d3-4dcb-a135-6c45afdc2116"
      },
      "source": [
        "movies = pd.read_csv('u.item.csv', sep='|', header=None, encoding='cp1250', \n",
        "              names=[\"item_id\",  \"movie_title\" , \"release_date\" , \"video_release_date\" ,\n",
        "              \"IMDb_URL\" , \"unknown\" , \"Action\" , \"Adventure\" , \"Animation\" ,\n",
        "              \"Children's\" , \"Comedy\" , \"Crime\" , \"Documentary\" , \"Drama\" , \"Fantasy\" ,\n",
        "              \"Film-Noir\" , \"Horror\" , \"Musical\" , \"Mystery\" , \"Romance\" , \"Sci-Fi\" ,\n",
        "              \"Thriller\" , \"War\" , \"Western\"])\n",
        "movies.head()"
      ],
      "execution_count": null,
      "outputs": [
        {
          "output_type": "execute_result",
          "data": {
            "text/html": [
              "<div>\n",
              "<style scoped>\n",
              "    .dataframe tbody tr th:only-of-type {\n",
              "        vertical-align: middle;\n",
              "    }\n",
              "\n",
              "    .dataframe tbody tr th {\n",
              "        vertical-align: top;\n",
              "    }\n",
              "\n",
              "    .dataframe thead th {\n",
              "        text-align: right;\n",
              "    }\n",
              "</style>\n",
              "<table border=\"1\" class=\"dataframe\">\n",
              "  <thead>\n",
              "    <tr style=\"text-align: right;\">\n",
              "      <th></th>\n",
              "      <th>item_id</th>\n",
              "      <th>movie_title</th>\n",
              "      <th>release_date</th>\n",
              "      <th>video_release_date</th>\n",
              "      <th>IMDb_URL</th>\n",
              "      <th>unknown</th>\n",
              "      <th>Action</th>\n",
              "      <th>Adventure</th>\n",
              "      <th>Animation</th>\n",
              "      <th>Children's</th>\n",
              "      <th>Comedy</th>\n",
              "      <th>Crime</th>\n",
              "      <th>Documentary</th>\n",
              "      <th>Drama</th>\n",
              "      <th>Fantasy</th>\n",
              "      <th>Film-Noir</th>\n",
              "      <th>Horror</th>\n",
              "      <th>Musical</th>\n",
              "      <th>Mystery</th>\n",
              "      <th>Romance</th>\n",
              "      <th>Sci-Fi</th>\n",
              "      <th>Thriller</th>\n",
              "      <th>War</th>\n",
              "      <th>Western</th>\n",
              "    </tr>\n",
              "  </thead>\n",
              "  <tbody>\n",
              "    <tr>\n",
              "      <th>0</th>\n",
              "      <td>1</td>\n",
              "      <td>Toy Story (1995)</td>\n",
              "      <td>01-Jan-1995</td>\n",
              "      <td>NaN</td>\n",
              "      <td>http://us.imdb.com/M/title-exact?Toy%20Story%2...</td>\n",
              "      <td>0</td>\n",
              "      <td>0</td>\n",
              "      <td>0</td>\n",
              "      <td>1</td>\n",
              "      <td>1</td>\n",
              "      <td>1</td>\n",
              "      <td>0</td>\n",
              "      <td>0</td>\n",
              "      <td>0</td>\n",
              "      <td>0</td>\n",
              "      <td>0</td>\n",
              "      <td>0</td>\n",
              "      <td>0</td>\n",
              "      <td>0</td>\n",
              "      <td>0</td>\n",
              "      <td>0</td>\n",
              "      <td>0</td>\n",
              "      <td>0</td>\n",
              "      <td>0</td>\n",
              "    </tr>\n",
              "    <tr>\n",
              "      <th>1</th>\n",
              "      <td>2</td>\n",
              "      <td>GoldenEye (1995)</td>\n",
              "      <td>01-Jan-1995</td>\n",
              "      <td>NaN</td>\n",
              "      <td>http://us.imdb.com/M/title-exact?GoldenEye%20(...</td>\n",
              "      <td>0</td>\n",
              "      <td>1</td>\n",
              "      <td>1</td>\n",
              "      <td>0</td>\n",
              "      <td>0</td>\n",
              "      <td>0</td>\n",
              "      <td>0</td>\n",
              "      <td>0</td>\n",
              "      <td>0</td>\n",
              "      <td>0</td>\n",
              "      <td>0</td>\n",
              "      <td>0</td>\n",
              "      <td>0</td>\n",
              "      <td>0</td>\n",
              "      <td>0</td>\n",
              "      <td>0</td>\n",
              "      <td>1</td>\n",
              "      <td>0</td>\n",
              "      <td>0</td>\n",
              "    </tr>\n",
              "    <tr>\n",
              "      <th>2</th>\n",
              "      <td>3</td>\n",
              "      <td>Four Rooms (1995)</td>\n",
              "      <td>01-Jan-1995</td>\n",
              "      <td>NaN</td>\n",
              "      <td>http://us.imdb.com/M/title-exact?Four%20Rooms%...</td>\n",
              "      <td>0</td>\n",
              "      <td>0</td>\n",
              "      <td>0</td>\n",
              "      <td>0</td>\n",
              "      <td>0</td>\n",
              "      <td>0</td>\n",
              "      <td>0</td>\n",
              "      <td>0</td>\n",
              "      <td>0</td>\n",
              "      <td>0</td>\n",
              "      <td>0</td>\n",
              "      <td>0</td>\n",
              "      <td>0</td>\n",
              "      <td>0</td>\n",
              "      <td>0</td>\n",
              "      <td>0</td>\n",
              "      <td>1</td>\n",
              "      <td>0</td>\n",
              "      <td>0</td>\n",
              "    </tr>\n",
              "    <tr>\n",
              "      <th>3</th>\n",
              "      <td>4</td>\n",
              "      <td>Get Shorty (1995)</td>\n",
              "      <td>01-Jan-1995</td>\n",
              "      <td>NaN</td>\n",
              "      <td>http://us.imdb.com/M/title-exact?Get%20Shorty%...</td>\n",
              "      <td>0</td>\n",
              "      <td>1</td>\n",
              "      <td>0</td>\n",
              "      <td>0</td>\n",
              "      <td>0</td>\n",
              "      <td>1</td>\n",
              "      <td>0</td>\n",
              "      <td>0</td>\n",
              "      <td>1</td>\n",
              "      <td>0</td>\n",
              "      <td>0</td>\n",
              "      <td>0</td>\n",
              "      <td>0</td>\n",
              "      <td>0</td>\n",
              "      <td>0</td>\n",
              "      <td>0</td>\n",
              "      <td>0</td>\n",
              "      <td>0</td>\n",
              "      <td>0</td>\n",
              "    </tr>\n",
              "    <tr>\n",
              "      <th>4</th>\n",
              "      <td>5</td>\n",
              "      <td>Copycat (1995)</td>\n",
              "      <td>01-Jan-1995</td>\n",
              "      <td>NaN</td>\n",
              "      <td>http://us.imdb.com/M/title-exact?Copycat%20(1995)</td>\n",
              "      <td>0</td>\n",
              "      <td>0</td>\n",
              "      <td>0</td>\n",
              "      <td>0</td>\n",
              "      <td>0</td>\n",
              "      <td>0</td>\n",
              "      <td>1</td>\n",
              "      <td>0</td>\n",
              "      <td>1</td>\n",
              "      <td>0</td>\n",
              "      <td>0</td>\n",
              "      <td>0</td>\n",
              "      <td>0</td>\n",
              "      <td>0</td>\n",
              "      <td>0</td>\n",
              "      <td>0</td>\n",
              "      <td>1</td>\n",
              "      <td>0</td>\n",
              "      <td>0</td>\n",
              "    </tr>\n",
              "  </tbody>\n",
              "</table>\n",
              "</div>"
            ],
            "text/plain": [
              "   item_id        movie_title release_date  ...  Thriller War  Western\n",
              "0        1   Toy Story (1995)  01-Jan-1995  ...         0   0        0\n",
              "1        2   GoldenEye (1995)  01-Jan-1995  ...         1   0        0\n",
              "2        3  Four Rooms (1995)  01-Jan-1995  ...         1   0        0\n",
              "3        4  Get Shorty (1995)  01-Jan-1995  ...         0   0        0\n",
              "4        5     Copycat (1995)  01-Jan-1995  ...         1   0        0\n",
              "\n",
              "[5 rows x 24 columns]"
            ]
          },
          "metadata": {
            "tags": []
          },
          "execution_count": 3
        }
      ]
    },
    {
      "cell_type": "code",
      "metadata": {
        "colab": {
          "base_uri": "https://localhost:8080/"
        },
        "id": "B-85Ja8iEWFK",
        "outputId": "043fab6f-e457-4a41-f529-e4184f62b29c"
      },
      "source": [
        "movies.info()"
      ],
      "execution_count": null,
      "outputs": [
        {
          "output_type": "stream",
          "text": [
            "<class 'pandas.core.frame.DataFrame'>\n",
            "RangeIndex: 1682 entries, 0 to 1681\n",
            "Data columns (total 24 columns):\n",
            " #   Column              Non-Null Count  Dtype  \n",
            "---  ------              --------------  -----  \n",
            " 0   item_id             1682 non-null   int64  \n",
            " 1   movie_title         1682 non-null   object \n",
            " 2   release_date        1681 non-null   object \n",
            " 3   video_release_date  0 non-null      float64\n",
            " 4   IMDb_URL            1679 non-null   object \n",
            " 5   unknown             1682 non-null   int64  \n",
            " 6   Action              1682 non-null   int64  \n",
            " 7   Adventure           1682 non-null   int64  \n",
            " 8   Animation           1682 non-null   int64  \n",
            " 9   Children's          1682 non-null   int64  \n",
            " 10  Comedy              1682 non-null   int64  \n",
            " 11  Crime               1682 non-null   int64  \n",
            " 12  Documentary         1682 non-null   int64  \n",
            " 13  Drama               1682 non-null   int64  \n",
            " 14  Fantasy             1682 non-null   int64  \n",
            " 15  Film-Noir           1682 non-null   int64  \n",
            " 16  Horror              1682 non-null   int64  \n",
            " 17  Musical             1682 non-null   int64  \n",
            " 18  Mystery             1682 non-null   int64  \n",
            " 19  Romance             1682 non-null   int64  \n",
            " 20  Sci-Fi              1682 non-null   int64  \n",
            " 21  Thriller            1682 non-null   int64  \n",
            " 22  War                 1682 non-null   int64  \n",
            " 23  Western             1682 non-null   int64  \n",
            "dtypes: float64(1), int64(20), object(3)\n",
            "memory usage: 315.5+ KB\n"
          ],
          "name": "stdout"
        }
      ]
    },
    {
      "cell_type": "code",
      "metadata": {
        "colab": {
          "base_uri": "https://localhost:8080/"
        },
        "id": "AOLCdxZPGD7O",
        "outputId": "ceae6d61-50dd-44c7-a9bd-1ba3dcba8c69"
      },
      "source": [
        "# смотрим пропуски\n",
        "movies.isna().sum()"
      ],
      "execution_count": null,
      "outputs": [
        {
          "output_type": "execute_result",
          "data": {
            "text/plain": [
              "item_id                  0\n",
              "movie_title              0\n",
              "release_date             1\n",
              "video_release_date    1682\n",
              "IMDb_URL                 3\n",
              "unknown                  0\n",
              "Action                   0\n",
              "Adventure                0\n",
              "Animation                0\n",
              "Children's               0\n",
              "Comedy                   0\n",
              "Crime                    0\n",
              "Documentary              0\n",
              "Drama                    0\n",
              "Fantasy                  0\n",
              "Film-Noir                0\n",
              "Horror                   0\n",
              "Musical                  0\n",
              "Mystery                  0\n",
              "Romance                  0\n",
              "Sci-Fi                   0\n",
              "Thriller                 0\n",
              "War                      0\n",
              "Western                  0\n",
              "dtype: int64"
            ]
          },
          "metadata": {
            "tags": []
          },
          "execution_count": 5
        }
      ]
    },
    {
      "cell_type": "code",
      "metadata": {
        "id": "wa9dheirGmL6"
      },
      "source": [
        "movies.release_date.fillna(movies.release_date.mode()[0], inplace=True)"
      ],
      "execution_count": null,
      "outputs": []
    },
    {
      "cell_type": "code",
      "metadata": {
        "colab": {
          "base_uri": "https://localhost:8080/",
          "height": 326
        },
        "id": "LxHbORkfFQpS",
        "outputId": "32074677-f686-40de-83f4-3da234faedfa"
      },
      "source": [
        "movies.drop(columns=['video_release_date', 'IMDb_URL'], inplace=True)\n",
        "movies.head()"
      ],
      "execution_count": null,
      "outputs": [
        {
          "output_type": "execute_result",
          "data": {
            "text/html": [
              "<div>\n",
              "<style scoped>\n",
              "    .dataframe tbody tr th:only-of-type {\n",
              "        vertical-align: middle;\n",
              "    }\n",
              "\n",
              "    .dataframe tbody tr th {\n",
              "        vertical-align: top;\n",
              "    }\n",
              "\n",
              "    .dataframe thead th {\n",
              "        text-align: right;\n",
              "    }\n",
              "</style>\n",
              "<table border=\"1\" class=\"dataframe\">\n",
              "  <thead>\n",
              "    <tr style=\"text-align: right;\">\n",
              "      <th></th>\n",
              "      <th>item_id</th>\n",
              "      <th>movie_title</th>\n",
              "      <th>release_date</th>\n",
              "      <th>unknown</th>\n",
              "      <th>Action</th>\n",
              "      <th>Adventure</th>\n",
              "      <th>Animation</th>\n",
              "      <th>Children's</th>\n",
              "      <th>Comedy</th>\n",
              "      <th>Crime</th>\n",
              "      <th>Documentary</th>\n",
              "      <th>Drama</th>\n",
              "      <th>Fantasy</th>\n",
              "      <th>Film-Noir</th>\n",
              "      <th>Horror</th>\n",
              "      <th>Musical</th>\n",
              "      <th>Mystery</th>\n",
              "      <th>Romance</th>\n",
              "      <th>Sci-Fi</th>\n",
              "      <th>Thriller</th>\n",
              "      <th>War</th>\n",
              "      <th>Western</th>\n",
              "    </tr>\n",
              "  </thead>\n",
              "  <tbody>\n",
              "    <tr>\n",
              "      <th>0</th>\n",
              "      <td>1</td>\n",
              "      <td>Toy Story (1995)</td>\n",
              "      <td>01-Jan-1995</td>\n",
              "      <td>0</td>\n",
              "      <td>0</td>\n",
              "      <td>0</td>\n",
              "      <td>1</td>\n",
              "      <td>1</td>\n",
              "      <td>1</td>\n",
              "      <td>0</td>\n",
              "      <td>0</td>\n",
              "      <td>0</td>\n",
              "      <td>0</td>\n",
              "      <td>0</td>\n",
              "      <td>0</td>\n",
              "      <td>0</td>\n",
              "      <td>0</td>\n",
              "      <td>0</td>\n",
              "      <td>0</td>\n",
              "      <td>0</td>\n",
              "      <td>0</td>\n",
              "      <td>0</td>\n",
              "    </tr>\n",
              "    <tr>\n",
              "      <th>1</th>\n",
              "      <td>2</td>\n",
              "      <td>GoldenEye (1995)</td>\n",
              "      <td>01-Jan-1995</td>\n",
              "      <td>0</td>\n",
              "      <td>1</td>\n",
              "      <td>1</td>\n",
              "      <td>0</td>\n",
              "      <td>0</td>\n",
              "      <td>0</td>\n",
              "      <td>0</td>\n",
              "      <td>0</td>\n",
              "      <td>0</td>\n",
              "      <td>0</td>\n",
              "      <td>0</td>\n",
              "      <td>0</td>\n",
              "      <td>0</td>\n",
              "      <td>0</td>\n",
              "      <td>0</td>\n",
              "      <td>0</td>\n",
              "      <td>1</td>\n",
              "      <td>0</td>\n",
              "      <td>0</td>\n",
              "    </tr>\n",
              "    <tr>\n",
              "      <th>2</th>\n",
              "      <td>3</td>\n",
              "      <td>Four Rooms (1995)</td>\n",
              "      <td>01-Jan-1995</td>\n",
              "      <td>0</td>\n",
              "      <td>0</td>\n",
              "      <td>0</td>\n",
              "      <td>0</td>\n",
              "      <td>0</td>\n",
              "      <td>0</td>\n",
              "      <td>0</td>\n",
              "      <td>0</td>\n",
              "      <td>0</td>\n",
              "      <td>0</td>\n",
              "      <td>0</td>\n",
              "      <td>0</td>\n",
              "      <td>0</td>\n",
              "      <td>0</td>\n",
              "      <td>0</td>\n",
              "      <td>0</td>\n",
              "      <td>1</td>\n",
              "      <td>0</td>\n",
              "      <td>0</td>\n",
              "    </tr>\n",
              "    <tr>\n",
              "      <th>3</th>\n",
              "      <td>4</td>\n",
              "      <td>Get Shorty (1995)</td>\n",
              "      <td>01-Jan-1995</td>\n",
              "      <td>0</td>\n",
              "      <td>1</td>\n",
              "      <td>0</td>\n",
              "      <td>0</td>\n",
              "      <td>0</td>\n",
              "      <td>1</td>\n",
              "      <td>0</td>\n",
              "      <td>0</td>\n",
              "      <td>1</td>\n",
              "      <td>0</td>\n",
              "      <td>0</td>\n",
              "      <td>0</td>\n",
              "      <td>0</td>\n",
              "      <td>0</td>\n",
              "      <td>0</td>\n",
              "      <td>0</td>\n",
              "      <td>0</td>\n",
              "      <td>0</td>\n",
              "      <td>0</td>\n",
              "    </tr>\n",
              "    <tr>\n",
              "      <th>4</th>\n",
              "      <td>5</td>\n",
              "      <td>Copycat (1995)</td>\n",
              "      <td>01-Jan-1995</td>\n",
              "      <td>0</td>\n",
              "      <td>0</td>\n",
              "      <td>0</td>\n",
              "      <td>0</td>\n",
              "      <td>0</td>\n",
              "      <td>0</td>\n",
              "      <td>1</td>\n",
              "      <td>0</td>\n",
              "      <td>1</td>\n",
              "      <td>0</td>\n",
              "      <td>0</td>\n",
              "      <td>0</td>\n",
              "      <td>0</td>\n",
              "      <td>0</td>\n",
              "      <td>0</td>\n",
              "      <td>0</td>\n",
              "      <td>1</td>\n",
              "      <td>0</td>\n",
              "      <td>0</td>\n",
              "    </tr>\n",
              "  </tbody>\n",
              "</table>\n",
              "</div>"
            ],
            "text/plain": [
              "   item_id        movie_title release_date  ...  Thriller  War  Western\n",
              "0        1   Toy Story (1995)  01-Jan-1995  ...         0    0        0\n",
              "1        2   GoldenEye (1995)  01-Jan-1995  ...         1    0        0\n",
              "2        3  Four Rooms (1995)  01-Jan-1995  ...         1    0        0\n",
              "3        4  Get Shorty (1995)  01-Jan-1995  ...         0    0        0\n",
              "4        5     Copycat (1995)  01-Jan-1995  ...         1    0        0\n",
              "\n",
              "[5 rows x 22 columns]"
            ]
          },
          "metadata": {
            "tags": []
          },
          "execution_count": 7
        }
      ]
    },
    {
      "cell_type": "code",
      "metadata": {
        "colab": {
          "base_uri": "https://localhost:8080/",
          "height": 204
        },
        "id": "3SVCBLDABxvg",
        "outputId": "e0d2fbab-28f3-4d51-dfb2-462e27b15cef"
      },
      "source": [
        "ratings = pd.read_csv('u.data.csv', sep=\"\\t\", header=None, encoding='cp1250', \n",
        "                      names=[\"user_id\", \"item_id\", \"rating\", \"timestamp\"])\n",
        "ratings.head()"
      ],
      "execution_count": null,
      "outputs": [
        {
          "output_type": "execute_result",
          "data": {
            "text/html": [
              "<div>\n",
              "<style scoped>\n",
              "    .dataframe tbody tr th:only-of-type {\n",
              "        vertical-align: middle;\n",
              "    }\n",
              "\n",
              "    .dataframe tbody tr th {\n",
              "        vertical-align: top;\n",
              "    }\n",
              "\n",
              "    .dataframe thead th {\n",
              "        text-align: right;\n",
              "    }\n",
              "</style>\n",
              "<table border=\"1\" class=\"dataframe\">\n",
              "  <thead>\n",
              "    <tr style=\"text-align: right;\">\n",
              "      <th></th>\n",
              "      <th>user_id</th>\n",
              "      <th>item_id</th>\n",
              "      <th>rating</th>\n",
              "      <th>timestamp</th>\n",
              "    </tr>\n",
              "  </thead>\n",
              "  <tbody>\n",
              "    <tr>\n",
              "      <th>0</th>\n",
              "      <td>196</td>\n",
              "      <td>242</td>\n",
              "      <td>3</td>\n",
              "      <td>881250949</td>\n",
              "    </tr>\n",
              "    <tr>\n",
              "      <th>1</th>\n",
              "      <td>186</td>\n",
              "      <td>302</td>\n",
              "      <td>3</td>\n",
              "      <td>891717742</td>\n",
              "    </tr>\n",
              "    <tr>\n",
              "      <th>2</th>\n",
              "      <td>22</td>\n",
              "      <td>377</td>\n",
              "      <td>1</td>\n",
              "      <td>878887116</td>\n",
              "    </tr>\n",
              "    <tr>\n",
              "      <th>3</th>\n",
              "      <td>244</td>\n",
              "      <td>51</td>\n",
              "      <td>2</td>\n",
              "      <td>880606923</td>\n",
              "    </tr>\n",
              "    <tr>\n",
              "      <th>4</th>\n",
              "      <td>166</td>\n",
              "      <td>346</td>\n",
              "      <td>1</td>\n",
              "      <td>886397596</td>\n",
              "    </tr>\n",
              "  </tbody>\n",
              "</table>\n",
              "</div>"
            ],
            "text/plain": [
              "   user_id  item_id  rating  timestamp\n",
              "0      196      242       3  881250949\n",
              "1      186      302       3  891717742\n",
              "2       22      377       1  878887116\n",
              "3      244       51       2  880606923\n",
              "4      166      346       1  886397596"
            ]
          },
          "metadata": {
            "tags": []
          },
          "execution_count": 8
        }
      ]
    },
    {
      "cell_type": "code",
      "metadata": {
        "colab": {
          "base_uri": "https://localhost:8080/"
        },
        "id": "2nI9_NETD3Vp",
        "outputId": "afbb5003-b126-4bb3-dec8-662279579a8d"
      },
      "source": [
        "ratings.info()"
      ],
      "execution_count": null,
      "outputs": [
        {
          "output_type": "stream",
          "text": [
            "<class 'pandas.core.frame.DataFrame'>\n",
            "RangeIndex: 100000 entries, 0 to 99999\n",
            "Data columns (total 4 columns):\n",
            " #   Column     Non-Null Count   Dtype\n",
            "---  ------     --------------   -----\n",
            " 0   user_id    100000 non-null  int64\n",
            " 1   item_id    100000 non-null  int64\n",
            " 2   rating     100000 non-null  int64\n",
            " 3   timestamp  100000 non-null  int64\n",
            "dtypes: int64(4)\n",
            "memory usage: 3.1 MB\n"
          ],
          "name": "stdout"
        }
      ]
    },
    {
      "cell_type": "markdown",
      "metadata": {
        "id": "g1HgNMorJoEu"
      },
      "source": [
        "***2. Средствами Pandas, используя dataframe ratings, найдите id пользователя, поставившего больше всего оценок***"
      ]
    },
    {
      "cell_type": "code",
      "metadata": {
        "colab": {
          "base_uri": "https://localhost:8080/",
          "height": 111
        },
        "id": "i38zb_o2J3qZ",
        "outputId": "78dcf49e-ffc4-4043-8453-ed24edb4a278"
      },
      "source": [
        "user_top = ratings.groupby('user_id').count().sort_values(by='item_id', ascending=False)\\\n",
        "          .drop(columns=['rating', 'timestamp']).rename(columns={'item_id': 'total'}).head(1)\n",
        "user_top"
      ],
      "execution_count": null,
      "outputs": [
        {
          "output_type": "execute_result",
          "data": {
            "text/html": [
              "<div>\n",
              "<style scoped>\n",
              "    .dataframe tbody tr th:only-of-type {\n",
              "        vertical-align: middle;\n",
              "    }\n",
              "\n",
              "    .dataframe tbody tr th {\n",
              "        vertical-align: top;\n",
              "    }\n",
              "\n",
              "    .dataframe thead th {\n",
              "        text-align: right;\n",
              "    }\n",
              "</style>\n",
              "<table border=\"1\" class=\"dataframe\">\n",
              "  <thead>\n",
              "    <tr style=\"text-align: right;\">\n",
              "      <th></th>\n",
              "      <th>total</th>\n",
              "    </tr>\n",
              "    <tr>\n",
              "      <th>user_id</th>\n",
              "      <th></th>\n",
              "    </tr>\n",
              "  </thead>\n",
              "  <tbody>\n",
              "    <tr>\n",
              "      <th>405</th>\n",
              "      <td>737</td>\n",
              "    </tr>\n",
              "  </tbody>\n",
              "</table>\n",
              "</div>"
            ],
            "text/plain": [
              "         total\n",
              "user_id       \n",
              "405        737"
            ]
          },
          "metadata": {
            "tags": []
          },
          "execution_count": 10
        }
      ]
    },
    {
      "cell_type": "markdown",
      "metadata": {
        "id": "DQe8t_AjS2Pn"
      },
      "source": [
        "***3. Оставьте в датафрейме ratings только те фильмы, которые оценил данный пользователь***"
      ]
    },
    {
      "cell_type": "code",
      "metadata": {
        "colab": {
          "base_uri": "https://localhost:8080/",
          "height": 204
        },
        "id": "upbNvTh1Rkm9",
        "outputId": "ef1fd26a-e111-4332-f42a-994291007205"
      },
      "source": [
        "ratings_top = ratings[ratings['user_id'] == 405]\n",
        "ratings_top.head()"
      ],
      "execution_count": null,
      "outputs": [
        {
          "output_type": "execute_result",
          "data": {
            "text/html": [
              "<div>\n",
              "<style scoped>\n",
              "    .dataframe tbody tr th:only-of-type {\n",
              "        vertical-align: middle;\n",
              "    }\n",
              "\n",
              "    .dataframe tbody tr th {\n",
              "        vertical-align: top;\n",
              "    }\n",
              "\n",
              "    .dataframe thead th {\n",
              "        text-align: right;\n",
              "    }\n",
              "</style>\n",
              "<table border=\"1\" class=\"dataframe\">\n",
              "  <thead>\n",
              "    <tr style=\"text-align: right;\">\n",
              "      <th></th>\n",
              "      <th>user_id</th>\n",
              "      <th>item_id</th>\n",
              "      <th>rating</th>\n",
              "      <th>timestamp</th>\n",
              "    </tr>\n",
              "  </thead>\n",
              "  <tbody>\n",
              "    <tr>\n",
              "      <th>12276</th>\n",
              "      <td>405</td>\n",
              "      <td>56</td>\n",
              "      <td>4</td>\n",
              "      <td>885544911</td>\n",
              "    </tr>\n",
              "    <tr>\n",
              "      <th>12383</th>\n",
              "      <td>405</td>\n",
              "      <td>592</td>\n",
              "      <td>1</td>\n",
              "      <td>885548670</td>\n",
              "    </tr>\n",
              "    <tr>\n",
              "      <th>12430</th>\n",
              "      <td>405</td>\n",
              "      <td>1582</td>\n",
              "      <td>1</td>\n",
              "      <td>885548670</td>\n",
              "    </tr>\n",
              "    <tr>\n",
              "      <th>12449</th>\n",
              "      <td>405</td>\n",
              "      <td>171</td>\n",
              "      <td>1</td>\n",
              "      <td>885549544</td>\n",
              "    </tr>\n",
              "    <tr>\n",
              "      <th>12460</th>\n",
              "      <td>405</td>\n",
              "      <td>580</td>\n",
              "      <td>1</td>\n",
              "      <td>885547447</td>\n",
              "    </tr>\n",
              "  </tbody>\n",
              "</table>\n",
              "</div>"
            ],
            "text/plain": [
              "       user_id  item_id  rating  timestamp\n",
              "12276      405       56       4  885544911\n",
              "12383      405      592       1  885548670\n",
              "12430      405     1582       1  885548670\n",
              "12449      405      171       1  885549544\n",
              "12460      405      580       1  885547447"
            ]
          },
          "metadata": {
            "tags": []
          },
          "execution_count": 11
        }
      ]
    },
    {
      "cell_type": "markdown",
      "metadata": {
        "id": "p4pypNVETI6E"
      },
      "source": [
        "***4. Для построения модели нам нужны признаки.*** \n",
        "В качестве таковых будем использовать:\n",
        "* Год выхода\n",
        "* Жанры\n",
        "* Общее количество оценок\n",
        "* Суммарную оценку\n"
      ]
    },
    {
      "cell_type": "code",
      "metadata": {
        "colab": {
          "base_uri": "https://localhost:8080/"
        },
        "id": "fEfqgTRFa0_g",
        "outputId": "85ecba36-aa23-4dfd-a6cb-0edd2920469d"
      },
      "source": [
        "# строки до merge\n",
        "ratings_top.shape"
      ],
      "execution_count": null,
      "outputs": [
        {
          "output_type": "execute_result",
          "data": {
            "text/plain": [
              "(737, 4)"
            ]
          },
          "metadata": {
            "tags": []
          },
          "execution_count": 12
        }
      ]
    },
    {
      "cell_type": "code",
      "metadata": {
        "colab": {
          "base_uri": "https://localhost:8080/",
          "height": 360
        },
        "id": "EjkOBMuOckIq",
        "outputId": "a61be8f9-03c4-4d2f-ff7c-ba4f857ce983"
      },
      "source": [
        "# добавим данные по жанрам\n",
        "ratings_top = ratings_top.merge(movies[['item_id', \"movie_title\", 'release_date',\n",
        "              \"unknown\", \"Action\", \"Adventure\", \"Animation\",\n",
        "              \"Children's\", \"Comedy\", \"Crime\", \"Documentary\", \"Drama\", \"Fantasy\",\n",
        "              \"Film-Noir\", \"Horror\", \"Musical\", \"Mystery\", \"Romance\", \"Sci-Fi\",\n",
        "              \"Thriller\", \"War\", \"Western\"]], how='left')\n",
        "ratings_top.head()"
      ],
      "execution_count": null,
      "outputs": [
        {
          "output_type": "execute_result",
          "data": {
            "text/html": [
              "<div>\n",
              "<style scoped>\n",
              "    .dataframe tbody tr th:only-of-type {\n",
              "        vertical-align: middle;\n",
              "    }\n",
              "\n",
              "    .dataframe tbody tr th {\n",
              "        vertical-align: top;\n",
              "    }\n",
              "\n",
              "    .dataframe thead th {\n",
              "        text-align: right;\n",
              "    }\n",
              "</style>\n",
              "<table border=\"1\" class=\"dataframe\">\n",
              "  <thead>\n",
              "    <tr style=\"text-align: right;\">\n",
              "      <th></th>\n",
              "      <th>user_id</th>\n",
              "      <th>item_id</th>\n",
              "      <th>rating</th>\n",
              "      <th>timestamp</th>\n",
              "      <th>movie_title</th>\n",
              "      <th>release_date</th>\n",
              "      <th>unknown</th>\n",
              "      <th>Action</th>\n",
              "      <th>Adventure</th>\n",
              "      <th>Animation</th>\n",
              "      <th>Children's</th>\n",
              "      <th>Comedy</th>\n",
              "      <th>Crime</th>\n",
              "      <th>Documentary</th>\n",
              "      <th>Drama</th>\n",
              "      <th>Fantasy</th>\n",
              "      <th>Film-Noir</th>\n",
              "      <th>Horror</th>\n",
              "      <th>Musical</th>\n",
              "      <th>Mystery</th>\n",
              "      <th>Romance</th>\n",
              "      <th>Sci-Fi</th>\n",
              "      <th>Thriller</th>\n",
              "      <th>War</th>\n",
              "      <th>Western</th>\n",
              "    </tr>\n",
              "  </thead>\n",
              "  <tbody>\n",
              "    <tr>\n",
              "      <th>0</th>\n",
              "      <td>405</td>\n",
              "      <td>56</td>\n",
              "      <td>4</td>\n",
              "      <td>885544911</td>\n",
              "      <td>Pulp Fiction (1994)</td>\n",
              "      <td>01-Jan-1994</td>\n",
              "      <td>0</td>\n",
              "      <td>0</td>\n",
              "      <td>0</td>\n",
              "      <td>0</td>\n",
              "      <td>0</td>\n",
              "      <td>0</td>\n",
              "      <td>1</td>\n",
              "      <td>0</td>\n",
              "      <td>1</td>\n",
              "      <td>0</td>\n",
              "      <td>0</td>\n",
              "      <td>0</td>\n",
              "      <td>0</td>\n",
              "      <td>0</td>\n",
              "      <td>0</td>\n",
              "      <td>0</td>\n",
              "      <td>0</td>\n",
              "      <td>0</td>\n",
              "      <td>0</td>\n",
              "    </tr>\n",
              "    <tr>\n",
              "      <th>1</th>\n",
              "      <td>405</td>\n",
              "      <td>592</td>\n",
              "      <td>1</td>\n",
              "      <td>885548670</td>\n",
              "      <td>True Crime (1995)</td>\n",
              "      <td>01-Jan-1995</td>\n",
              "      <td>0</td>\n",
              "      <td>0</td>\n",
              "      <td>0</td>\n",
              "      <td>0</td>\n",
              "      <td>0</td>\n",
              "      <td>0</td>\n",
              "      <td>0</td>\n",
              "      <td>0</td>\n",
              "      <td>0</td>\n",
              "      <td>0</td>\n",
              "      <td>0</td>\n",
              "      <td>0</td>\n",
              "      <td>0</td>\n",
              "      <td>1</td>\n",
              "      <td>0</td>\n",
              "      <td>0</td>\n",
              "      <td>1</td>\n",
              "      <td>0</td>\n",
              "      <td>0</td>\n",
              "    </tr>\n",
              "    <tr>\n",
              "      <th>2</th>\n",
              "      <td>405</td>\n",
              "      <td>1582</td>\n",
              "      <td>1</td>\n",
              "      <td>885548670</td>\n",
              "      <td>T-Men (1947)</td>\n",
              "      <td>01-Jan-1947</td>\n",
              "      <td>0</td>\n",
              "      <td>0</td>\n",
              "      <td>0</td>\n",
              "      <td>0</td>\n",
              "      <td>0</td>\n",
              "      <td>0</td>\n",
              "      <td>0</td>\n",
              "      <td>0</td>\n",
              "      <td>0</td>\n",
              "      <td>0</td>\n",
              "      <td>1</td>\n",
              "      <td>0</td>\n",
              "      <td>0</td>\n",
              "      <td>0</td>\n",
              "      <td>0</td>\n",
              "      <td>0</td>\n",
              "      <td>0</td>\n",
              "      <td>0</td>\n",
              "      <td>0</td>\n",
              "    </tr>\n",
              "    <tr>\n",
              "      <th>3</th>\n",
              "      <td>405</td>\n",
              "      <td>171</td>\n",
              "      <td>1</td>\n",
              "      <td>885549544</td>\n",
              "      <td>Delicatessen (1991)</td>\n",
              "      <td>01-Jan-1991</td>\n",
              "      <td>0</td>\n",
              "      <td>0</td>\n",
              "      <td>0</td>\n",
              "      <td>0</td>\n",
              "      <td>0</td>\n",
              "      <td>1</td>\n",
              "      <td>0</td>\n",
              "      <td>0</td>\n",
              "      <td>0</td>\n",
              "      <td>0</td>\n",
              "      <td>0</td>\n",
              "      <td>0</td>\n",
              "      <td>0</td>\n",
              "      <td>0</td>\n",
              "      <td>0</td>\n",
              "      <td>1</td>\n",
              "      <td>0</td>\n",
              "      <td>0</td>\n",
              "      <td>0</td>\n",
              "    </tr>\n",
              "    <tr>\n",
              "      <th>4</th>\n",
              "      <td>405</td>\n",
              "      <td>580</td>\n",
              "      <td>1</td>\n",
              "      <td>885547447</td>\n",
              "      <td>Englishman Who Went Up a Hill, But Came Down a...</td>\n",
              "      <td>01-Jan-1995</td>\n",
              "      <td>0</td>\n",
              "      <td>0</td>\n",
              "      <td>0</td>\n",
              "      <td>0</td>\n",
              "      <td>0</td>\n",
              "      <td>1</td>\n",
              "      <td>0</td>\n",
              "      <td>0</td>\n",
              "      <td>0</td>\n",
              "      <td>0</td>\n",
              "      <td>0</td>\n",
              "      <td>0</td>\n",
              "      <td>0</td>\n",
              "      <td>0</td>\n",
              "      <td>1</td>\n",
              "      <td>0</td>\n",
              "      <td>0</td>\n",
              "      <td>0</td>\n",
              "      <td>0</td>\n",
              "    </tr>\n",
              "  </tbody>\n",
              "</table>\n",
              "</div>"
            ],
            "text/plain": [
              "   user_id  item_id  rating  timestamp  ... Sci-Fi Thriller  War  Western\n",
              "0      405       56       4  885544911  ...      0        0    0        0\n",
              "1      405      592       1  885548670  ...      0        1    0        0\n",
              "2      405     1582       1  885548670  ...      0        0    0        0\n",
              "3      405      171       1  885549544  ...      1        0    0        0\n",
              "4      405      580       1  885547447  ...      0        0    0        0\n",
              "\n",
              "[5 rows x 25 columns]"
            ]
          },
          "metadata": {
            "tags": []
          },
          "execution_count": 13
        }
      ]
    },
    {
      "cell_type": "code",
      "metadata": {
        "colab": {
          "base_uri": "https://localhost:8080/",
          "height": 711
        },
        "id": "iI0e4kH3Ag8N",
        "outputId": "9cad8072-de65-4999-cfff-730b2584ad25"
      },
      "source": [
        "#получим из даты выхода фильма год выхода\n",
        "ratings_top['release_year'] = pd.DatetimeIndex(ratings_top['release_date']).year\n",
        "ratings_top.drop(columns=['timestamp', 'release_date'], inplace=True)\n",
        "ratings_top"
      ],
      "execution_count": null,
      "outputs": [
        {
          "output_type": "execute_result",
          "data": {
            "text/html": [
              "<div>\n",
              "<style scoped>\n",
              "    .dataframe tbody tr th:only-of-type {\n",
              "        vertical-align: middle;\n",
              "    }\n",
              "\n",
              "    .dataframe tbody tr th {\n",
              "        vertical-align: top;\n",
              "    }\n",
              "\n",
              "    .dataframe thead th {\n",
              "        text-align: right;\n",
              "    }\n",
              "</style>\n",
              "<table border=\"1\" class=\"dataframe\">\n",
              "  <thead>\n",
              "    <tr style=\"text-align: right;\">\n",
              "      <th></th>\n",
              "      <th>user_id</th>\n",
              "      <th>item_id</th>\n",
              "      <th>rating</th>\n",
              "      <th>movie_title</th>\n",
              "      <th>unknown</th>\n",
              "      <th>Action</th>\n",
              "      <th>Adventure</th>\n",
              "      <th>Animation</th>\n",
              "      <th>Children's</th>\n",
              "      <th>Comedy</th>\n",
              "      <th>Crime</th>\n",
              "      <th>Documentary</th>\n",
              "      <th>Drama</th>\n",
              "      <th>Fantasy</th>\n",
              "      <th>Film-Noir</th>\n",
              "      <th>Horror</th>\n",
              "      <th>Musical</th>\n",
              "      <th>Mystery</th>\n",
              "      <th>Romance</th>\n",
              "      <th>Sci-Fi</th>\n",
              "      <th>Thriller</th>\n",
              "      <th>War</th>\n",
              "      <th>Western</th>\n",
              "      <th>release_year</th>\n",
              "    </tr>\n",
              "  </thead>\n",
              "  <tbody>\n",
              "    <tr>\n",
              "      <th>0</th>\n",
              "      <td>405</td>\n",
              "      <td>56</td>\n",
              "      <td>4</td>\n",
              "      <td>Pulp Fiction (1994)</td>\n",
              "      <td>0</td>\n",
              "      <td>0</td>\n",
              "      <td>0</td>\n",
              "      <td>0</td>\n",
              "      <td>0</td>\n",
              "      <td>0</td>\n",
              "      <td>1</td>\n",
              "      <td>0</td>\n",
              "      <td>1</td>\n",
              "      <td>0</td>\n",
              "      <td>0</td>\n",
              "      <td>0</td>\n",
              "      <td>0</td>\n",
              "      <td>0</td>\n",
              "      <td>0</td>\n",
              "      <td>0</td>\n",
              "      <td>0</td>\n",
              "      <td>0</td>\n",
              "      <td>0</td>\n",
              "      <td>1994</td>\n",
              "    </tr>\n",
              "    <tr>\n",
              "      <th>1</th>\n",
              "      <td>405</td>\n",
              "      <td>592</td>\n",
              "      <td>1</td>\n",
              "      <td>True Crime (1995)</td>\n",
              "      <td>0</td>\n",
              "      <td>0</td>\n",
              "      <td>0</td>\n",
              "      <td>0</td>\n",
              "      <td>0</td>\n",
              "      <td>0</td>\n",
              "      <td>0</td>\n",
              "      <td>0</td>\n",
              "      <td>0</td>\n",
              "      <td>0</td>\n",
              "      <td>0</td>\n",
              "      <td>0</td>\n",
              "      <td>0</td>\n",
              "      <td>1</td>\n",
              "      <td>0</td>\n",
              "      <td>0</td>\n",
              "      <td>1</td>\n",
              "      <td>0</td>\n",
              "      <td>0</td>\n",
              "      <td>1995</td>\n",
              "    </tr>\n",
              "    <tr>\n",
              "      <th>2</th>\n",
              "      <td>405</td>\n",
              "      <td>1582</td>\n",
              "      <td>1</td>\n",
              "      <td>T-Men (1947)</td>\n",
              "      <td>0</td>\n",
              "      <td>0</td>\n",
              "      <td>0</td>\n",
              "      <td>0</td>\n",
              "      <td>0</td>\n",
              "      <td>0</td>\n",
              "      <td>0</td>\n",
              "      <td>0</td>\n",
              "      <td>0</td>\n",
              "      <td>0</td>\n",
              "      <td>1</td>\n",
              "      <td>0</td>\n",
              "      <td>0</td>\n",
              "      <td>0</td>\n",
              "      <td>0</td>\n",
              "      <td>0</td>\n",
              "      <td>0</td>\n",
              "      <td>0</td>\n",
              "      <td>0</td>\n",
              "      <td>1947</td>\n",
              "    </tr>\n",
              "    <tr>\n",
              "      <th>3</th>\n",
              "      <td>405</td>\n",
              "      <td>171</td>\n",
              "      <td>1</td>\n",
              "      <td>Delicatessen (1991)</td>\n",
              "      <td>0</td>\n",
              "      <td>0</td>\n",
              "      <td>0</td>\n",
              "      <td>0</td>\n",
              "      <td>0</td>\n",
              "      <td>1</td>\n",
              "      <td>0</td>\n",
              "      <td>0</td>\n",
              "      <td>0</td>\n",
              "      <td>0</td>\n",
              "      <td>0</td>\n",
              "      <td>0</td>\n",
              "      <td>0</td>\n",
              "      <td>0</td>\n",
              "      <td>0</td>\n",
              "      <td>1</td>\n",
              "      <td>0</td>\n",
              "      <td>0</td>\n",
              "      <td>0</td>\n",
              "      <td>1991</td>\n",
              "    </tr>\n",
              "    <tr>\n",
              "      <th>4</th>\n",
              "      <td>405</td>\n",
              "      <td>580</td>\n",
              "      <td>1</td>\n",
              "      <td>Englishman Who Went Up a Hill, But Came Down a...</td>\n",
              "      <td>0</td>\n",
              "      <td>0</td>\n",
              "      <td>0</td>\n",
              "      <td>0</td>\n",
              "      <td>0</td>\n",
              "      <td>1</td>\n",
              "      <td>0</td>\n",
              "      <td>0</td>\n",
              "      <td>0</td>\n",
              "      <td>0</td>\n",
              "      <td>0</td>\n",
              "      <td>0</td>\n",
              "      <td>0</td>\n",
              "      <td>0</td>\n",
              "      <td>1</td>\n",
              "      <td>0</td>\n",
              "      <td>0</td>\n",
              "      <td>0</td>\n",
              "      <td>0</td>\n",
              "      <td>1995</td>\n",
              "    </tr>\n",
              "    <tr>\n",
              "      <th>...</th>\n",
              "      <td>...</td>\n",
              "      <td>...</td>\n",
              "      <td>...</td>\n",
              "      <td>...</td>\n",
              "      <td>...</td>\n",
              "      <td>...</td>\n",
              "      <td>...</td>\n",
              "      <td>...</td>\n",
              "      <td>...</td>\n",
              "      <td>...</td>\n",
              "      <td>...</td>\n",
              "      <td>...</td>\n",
              "      <td>...</td>\n",
              "      <td>...</td>\n",
              "      <td>...</td>\n",
              "      <td>...</td>\n",
              "      <td>...</td>\n",
              "      <td>...</td>\n",
              "      <td>...</td>\n",
              "      <td>...</td>\n",
              "      <td>...</td>\n",
              "      <td>...</td>\n",
              "      <td>...</td>\n",
              "      <td>...</td>\n",
              "    </tr>\n",
              "    <tr>\n",
              "      <th>732</th>\n",
              "      <td>405</td>\n",
              "      <td>375</td>\n",
              "      <td>1</td>\n",
              "      <td>Showgirls (1995)</td>\n",
              "      <td>0</td>\n",
              "      <td>0</td>\n",
              "      <td>0</td>\n",
              "      <td>0</td>\n",
              "      <td>0</td>\n",
              "      <td>0</td>\n",
              "      <td>0</td>\n",
              "      <td>0</td>\n",
              "      <td>1</td>\n",
              "      <td>0</td>\n",
              "      <td>0</td>\n",
              "      <td>0</td>\n",
              "      <td>0</td>\n",
              "      <td>0</td>\n",
              "      <td>0</td>\n",
              "      <td>0</td>\n",
              "      <td>0</td>\n",
              "      <td>0</td>\n",
              "      <td>0</td>\n",
              "      <td>1995</td>\n",
              "    </tr>\n",
              "    <tr>\n",
              "      <th>733</th>\n",
              "      <td>405</td>\n",
              "      <td>445</td>\n",
              "      <td>4</td>\n",
              "      <td>Body Snatcher, The (1945)</td>\n",
              "      <td>0</td>\n",
              "      <td>0</td>\n",
              "      <td>0</td>\n",
              "      <td>0</td>\n",
              "      <td>0</td>\n",
              "      <td>0</td>\n",
              "      <td>0</td>\n",
              "      <td>0</td>\n",
              "      <td>0</td>\n",
              "      <td>0</td>\n",
              "      <td>0</td>\n",
              "      <td>1</td>\n",
              "      <td>0</td>\n",
              "      <td>0</td>\n",
              "      <td>0</td>\n",
              "      <td>0</td>\n",
              "      <td>0</td>\n",
              "      <td>0</td>\n",
              "      <td>0</td>\n",
              "      <td>1945</td>\n",
              "    </tr>\n",
              "    <tr>\n",
              "      <th>734</th>\n",
              "      <td>405</td>\n",
              "      <td>1246</td>\n",
              "      <td>1</td>\n",
              "      <td>Bushwhacked (1995)</td>\n",
              "      <td>0</td>\n",
              "      <td>0</td>\n",
              "      <td>0</td>\n",
              "      <td>0</td>\n",
              "      <td>0</td>\n",
              "      <td>1</td>\n",
              "      <td>0</td>\n",
              "      <td>0</td>\n",
              "      <td>0</td>\n",
              "      <td>0</td>\n",
              "      <td>0</td>\n",
              "      <td>0</td>\n",
              "      <td>0</td>\n",
              "      <td>0</td>\n",
              "      <td>0</td>\n",
              "      <td>0</td>\n",
              "      <td>0</td>\n",
              "      <td>0</td>\n",
              "      <td>0</td>\n",
              "      <td>1995</td>\n",
              "    </tr>\n",
              "    <tr>\n",
              "      <th>735</th>\n",
              "      <td>405</td>\n",
              "      <td>196</td>\n",
              "      <td>1</td>\n",
              "      <td>Dead Poets Society (1989)</td>\n",
              "      <td>0</td>\n",
              "      <td>0</td>\n",
              "      <td>0</td>\n",
              "      <td>0</td>\n",
              "      <td>0</td>\n",
              "      <td>0</td>\n",
              "      <td>0</td>\n",
              "      <td>0</td>\n",
              "      <td>1</td>\n",
              "      <td>0</td>\n",
              "      <td>0</td>\n",
              "      <td>0</td>\n",
              "      <td>0</td>\n",
              "      <td>0</td>\n",
              "      <td>0</td>\n",
              "      <td>0</td>\n",
              "      <td>0</td>\n",
              "      <td>0</td>\n",
              "      <td>0</td>\n",
              "      <td>1989</td>\n",
              "    </tr>\n",
              "    <tr>\n",
              "      <th>736</th>\n",
              "      <td>405</td>\n",
              "      <td>958</td>\n",
              "      <td>1</td>\n",
              "      <td>To Live (Huozhe) (1994)</td>\n",
              "      <td>0</td>\n",
              "      <td>0</td>\n",
              "      <td>0</td>\n",
              "      <td>0</td>\n",
              "      <td>0</td>\n",
              "      <td>0</td>\n",
              "      <td>0</td>\n",
              "      <td>0</td>\n",
              "      <td>1</td>\n",
              "      <td>0</td>\n",
              "      <td>0</td>\n",
              "      <td>0</td>\n",
              "      <td>0</td>\n",
              "      <td>0</td>\n",
              "      <td>0</td>\n",
              "      <td>0</td>\n",
              "      <td>0</td>\n",
              "      <td>0</td>\n",
              "      <td>0</td>\n",
              "      <td>1994</td>\n",
              "    </tr>\n",
              "  </tbody>\n",
              "</table>\n",
              "<p>737 rows × 24 columns</p>\n",
              "</div>"
            ],
            "text/plain": [
              "     user_id  item_id  rating  ... War  Western  release_year\n",
              "0        405       56       4  ...   0        0          1994\n",
              "1        405      592       1  ...   0        0          1995\n",
              "2        405     1582       1  ...   0        0          1947\n",
              "3        405      171       1  ...   0        0          1991\n",
              "4        405      580       1  ...   0        0          1995\n",
              "..       ...      ...     ...  ...  ..      ...           ...\n",
              "732      405      375       1  ...   0        0          1995\n",
              "733      405      445       4  ...   0        0          1945\n",
              "734      405     1246       1  ...   0        0          1995\n",
              "735      405      196       1  ...   0        0          1989\n",
              "736      405      958       1  ...   0        0          1994\n",
              "\n",
              "[737 rows x 24 columns]"
            ]
          },
          "metadata": {
            "tags": []
          },
          "execution_count": 14
        }
      ]
    },
    {
      "cell_type": "code",
      "metadata": {
        "colab": {
          "base_uri": "https://localhost:8080/",
          "height": 204
        },
        "id": "tmgiO-5xfqAV",
        "outputId": "15154b5a-0b63-4adc-af07-3be746a9299d"
      },
      "source": [
        "# уберем лишние колонки\n",
        "ratings = ratings[['item_id', 'rating']]\n",
        "ratings.head()"
      ],
      "execution_count": null,
      "outputs": [
        {
          "output_type": "execute_result",
          "data": {
            "text/html": [
              "<div>\n",
              "<style scoped>\n",
              "    .dataframe tbody tr th:only-of-type {\n",
              "        vertical-align: middle;\n",
              "    }\n",
              "\n",
              "    .dataframe tbody tr th {\n",
              "        vertical-align: top;\n",
              "    }\n",
              "\n",
              "    .dataframe thead th {\n",
              "        text-align: right;\n",
              "    }\n",
              "</style>\n",
              "<table border=\"1\" class=\"dataframe\">\n",
              "  <thead>\n",
              "    <tr style=\"text-align: right;\">\n",
              "      <th></th>\n",
              "      <th>item_id</th>\n",
              "      <th>rating</th>\n",
              "    </tr>\n",
              "  </thead>\n",
              "  <tbody>\n",
              "    <tr>\n",
              "      <th>0</th>\n",
              "      <td>242</td>\n",
              "      <td>3</td>\n",
              "    </tr>\n",
              "    <tr>\n",
              "      <th>1</th>\n",
              "      <td>302</td>\n",
              "      <td>3</td>\n",
              "    </tr>\n",
              "    <tr>\n",
              "      <th>2</th>\n",
              "      <td>377</td>\n",
              "      <td>1</td>\n",
              "    </tr>\n",
              "    <tr>\n",
              "      <th>3</th>\n",
              "      <td>51</td>\n",
              "      <td>2</td>\n",
              "    </tr>\n",
              "    <tr>\n",
              "      <th>4</th>\n",
              "      <td>346</td>\n",
              "      <td>1</td>\n",
              "    </tr>\n",
              "  </tbody>\n",
              "</table>\n",
              "</div>"
            ],
            "text/plain": [
              "   item_id  rating\n",
              "0      242       3\n",
              "1      302       3\n",
              "2      377       1\n",
              "3       51       2\n",
              "4      346       1"
            ]
          },
          "metadata": {
            "tags": []
          },
          "execution_count": 15
        }
      ]
    },
    {
      "cell_type": "code",
      "metadata": {
        "colab": {
          "base_uri": "https://localhost:8080/",
          "height": 419
        },
        "id": "1x8p-FR5grin",
        "outputId": "facf9814-3db6-400e-cb5d-b1ba589bc651"
      },
      "source": [
        "# общее количество оценок на фильм\n",
        "count_of_ratings = ratings.groupby('item_id', as_index=False).count().rename(columns={'rating': 'count_of_ratings'})\n",
        "count_of_ratings"
      ],
      "execution_count": null,
      "outputs": [
        {
          "output_type": "execute_result",
          "data": {
            "text/html": [
              "<div>\n",
              "<style scoped>\n",
              "    .dataframe tbody tr th:only-of-type {\n",
              "        vertical-align: middle;\n",
              "    }\n",
              "\n",
              "    .dataframe tbody tr th {\n",
              "        vertical-align: top;\n",
              "    }\n",
              "\n",
              "    .dataframe thead th {\n",
              "        text-align: right;\n",
              "    }\n",
              "</style>\n",
              "<table border=\"1\" class=\"dataframe\">\n",
              "  <thead>\n",
              "    <tr style=\"text-align: right;\">\n",
              "      <th></th>\n",
              "      <th>item_id</th>\n",
              "      <th>count_of_ratings</th>\n",
              "    </tr>\n",
              "  </thead>\n",
              "  <tbody>\n",
              "    <tr>\n",
              "      <th>0</th>\n",
              "      <td>1</td>\n",
              "      <td>452</td>\n",
              "    </tr>\n",
              "    <tr>\n",
              "      <th>1</th>\n",
              "      <td>2</td>\n",
              "      <td>131</td>\n",
              "    </tr>\n",
              "    <tr>\n",
              "      <th>2</th>\n",
              "      <td>3</td>\n",
              "      <td>90</td>\n",
              "    </tr>\n",
              "    <tr>\n",
              "      <th>3</th>\n",
              "      <td>4</td>\n",
              "      <td>209</td>\n",
              "    </tr>\n",
              "    <tr>\n",
              "      <th>4</th>\n",
              "      <td>5</td>\n",
              "      <td>86</td>\n",
              "    </tr>\n",
              "    <tr>\n",
              "      <th>...</th>\n",
              "      <td>...</td>\n",
              "      <td>...</td>\n",
              "    </tr>\n",
              "    <tr>\n",
              "      <th>1677</th>\n",
              "      <td>1678</td>\n",
              "      <td>1</td>\n",
              "    </tr>\n",
              "    <tr>\n",
              "      <th>1678</th>\n",
              "      <td>1679</td>\n",
              "      <td>1</td>\n",
              "    </tr>\n",
              "    <tr>\n",
              "      <th>1679</th>\n",
              "      <td>1680</td>\n",
              "      <td>1</td>\n",
              "    </tr>\n",
              "    <tr>\n",
              "      <th>1680</th>\n",
              "      <td>1681</td>\n",
              "      <td>1</td>\n",
              "    </tr>\n",
              "    <tr>\n",
              "      <th>1681</th>\n",
              "      <td>1682</td>\n",
              "      <td>1</td>\n",
              "    </tr>\n",
              "  </tbody>\n",
              "</table>\n",
              "<p>1682 rows × 2 columns</p>\n",
              "</div>"
            ],
            "text/plain": [
              "      item_id  count_of_ratings\n",
              "0           1               452\n",
              "1           2               131\n",
              "2           3                90\n",
              "3           4               209\n",
              "4           5                86\n",
              "...       ...               ...\n",
              "1677     1678                 1\n",
              "1678     1679                 1\n",
              "1679     1680                 1\n",
              "1680     1681                 1\n",
              "1681     1682                 1\n",
              "\n",
              "[1682 rows x 2 columns]"
            ]
          },
          "metadata": {
            "tags": []
          },
          "execution_count": 16
        }
      ]
    },
    {
      "cell_type": "code",
      "metadata": {
        "colab": {
          "base_uri": "https://localhost:8080/",
          "height": 204
        },
        "id": "s7OL_gbagDH6",
        "outputId": "2f29c6ca-a4ea-48bf-8d63-b802d2432c14"
      },
      "source": [
        "# суммарная оценка фильма пользователями\n",
        "summary_rating = ratings.groupby('item_id', as_index=False).agg({'rating':'sum'}).rename(columns={'rating': 'summary_rating'})\n",
        "summary_rating.head()\n"
      ],
      "execution_count": null,
      "outputs": [
        {
          "output_type": "execute_result",
          "data": {
            "text/html": [
              "<div>\n",
              "<style scoped>\n",
              "    .dataframe tbody tr th:only-of-type {\n",
              "        vertical-align: middle;\n",
              "    }\n",
              "\n",
              "    .dataframe tbody tr th {\n",
              "        vertical-align: top;\n",
              "    }\n",
              "\n",
              "    .dataframe thead th {\n",
              "        text-align: right;\n",
              "    }\n",
              "</style>\n",
              "<table border=\"1\" class=\"dataframe\">\n",
              "  <thead>\n",
              "    <tr style=\"text-align: right;\">\n",
              "      <th></th>\n",
              "      <th>item_id</th>\n",
              "      <th>summary_rating</th>\n",
              "    </tr>\n",
              "  </thead>\n",
              "  <tbody>\n",
              "    <tr>\n",
              "      <th>0</th>\n",
              "      <td>1</td>\n",
              "      <td>1753</td>\n",
              "    </tr>\n",
              "    <tr>\n",
              "      <th>1</th>\n",
              "      <td>2</td>\n",
              "      <td>420</td>\n",
              "    </tr>\n",
              "    <tr>\n",
              "      <th>2</th>\n",
              "      <td>3</td>\n",
              "      <td>273</td>\n",
              "    </tr>\n",
              "    <tr>\n",
              "      <th>3</th>\n",
              "      <td>4</td>\n",
              "      <td>742</td>\n",
              "    </tr>\n",
              "    <tr>\n",
              "      <th>4</th>\n",
              "      <td>5</td>\n",
              "      <td>284</td>\n",
              "    </tr>\n",
              "  </tbody>\n",
              "</table>\n",
              "</div>"
            ],
            "text/plain": [
              "   item_id  summary_rating\n",
              "0        1            1753\n",
              "1        2             420\n",
              "2        3             273\n",
              "3        4             742\n",
              "4        5             284"
            ]
          },
          "metadata": {
            "tags": []
          },
          "execution_count": 17
        }
      ]
    },
    {
      "cell_type": "code",
      "metadata": {
        "colab": {
          "base_uri": "https://localhost:8080/",
          "height": 360
        },
        "id": "BfB5fV1umSRU",
        "outputId": "32896f0d-7160-4816-9363-0c022ac0c759"
      },
      "source": [
        "ratings_top = ratings_top.merge(count_of_ratings, on='item_id', how='left').merge(summary_rating, on='item_id', how='left')\n",
        "ratings_top.head()"
      ],
      "execution_count": null,
      "outputs": [
        {
          "output_type": "execute_result",
          "data": {
            "text/html": [
              "<div>\n",
              "<style scoped>\n",
              "    .dataframe tbody tr th:only-of-type {\n",
              "        vertical-align: middle;\n",
              "    }\n",
              "\n",
              "    .dataframe tbody tr th {\n",
              "        vertical-align: top;\n",
              "    }\n",
              "\n",
              "    .dataframe thead th {\n",
              "        text-align: right;\n",
              "    }\n",
              "</style>\n",
              "<table border=\"1\" class=\"dataframe\">\n",
              "  <thead>\n",
              "    <tr style=\"text-align: right;\">\n",
              "      <th></th>\n",
              "      <th>user_id</th>\n",
              "      <th>item_id</th>\n",
              "      <th>rating</th>\n",
              "      <th>movie_title</th>\n",
              "      <th>unknown</th>\n",
              "      <th>Action</th>\n",
              "      <th>Adventure</th>\n",
              "      <th>Animation</th>\n",
              "      <th>Children's</th>\n",
              "      <th>Comedy</th>\n",
              "      <th>Crime</th>\n",
              "      <th>Documentary</th>\n",
              "      <th>Drama</th>\n",
              "      <th>Fantasy</th>\n",
              "      <th>Film-Noir</th>\n",
              "      <th>Horror</th>\n",
              "      <th>Musical</th>\n",
              "      <th>Mystery</th>\n",
              "      <th>Romance</th>\n",
              "      <th>Sci-Fi</th>\n",
              "      <th>Thriller</th>\n",
              "      <th>War</th>\n",
              "      <th>Western</th>\n",
              "      <th>release_year</th>\n",
              "      <th>count_of_ratings</th>\n",
              "      <th>summary_rating</th>\n",
              "    </tr>\n",
              "  </thead>\n",
              "  <tbody>\n",
              "    <tr>\n",
              "      <th>0</th>\n",
              "      <td>405</td>\n",
              "      <td>56</td>\n",
              "      <td>4</td>\n",
              "      <td>Pulp Fiction (1994)</td>\n",
              "      <td>0</td>\n",
              "      <td>0</td>\n",
              "      <td>0</td>\n",
              "      <td>0</td>\n",
              "      <td>0</td>\n",
              "      <td>0</td>\n",
              "      <td>1</td>\n",
              "      <td>0</td>\n",
              "      <td>1</td>\n",
              "      <td>0</td>\n",
              "      <td>0</td>\n",
              "      <td>0</td>\n",
              "      <td>0</td>\n",
              "      <td>0</td>\n",
              "      <td>0</td>\n",
              "      <td>0</td>\n",
              "      <td>0</td>\n",
              "      <td>0</td>\n",
              "      <td>0</td>\n",
              "      <td>1994</td>\n",
              "      <td>394</td>\n",
              "      <td>1600</td>\n",
              "    </tr>\n",
              "    <tr>\n",
              "      <th>1</th>\n",
              "      <td>405</td>\n",
              "      <td>592</td>\n",
              "      <td>1</td>\n",
              "      <td>True Crime (1995)</td>\n",
              "      <td>0</td>\n",
              "      <td>0</td>\n",
              "      <td>0</td>\n",
              "      <td>0</td>\n",
              "      <td>0</td>\n",
              "      <td>0</td>\n",
              "      <td>0</td>\n",
              "      <td>0</td>\n",
              "      <td>0</td>\n",
              "      <td>0</td>\n",
              "      <td>0</td>\n",
              "      <td>0</td>\n",
              "      <td>0</td>\n",
              "      <td>1</td>\n",
              "      <td>0</td>\n",
              "      <td>0</td>\n",
              "      <td>1</td>\n",
              "      <td>0</td>\n",
              "      <td>0</td>\n",
              "      <td>1995</td>\n",
              "      <td>9</td>\n",
              "      <td>30</td>\n",
              "    </tr>\n",
              "    <tr>\n",
              "      <th>2</th>\n",
              "      <td>405</td>\n",
              "      <td>1582</td>\n",
              "      <td>1</td>\n",
              "      <td>T-Men (1947)</td>\n",
              "      <td>0</td>\n",
              "      <td>0</td>\n",
              "      <td>0</td>\n",
              "      <td>0</td>\n",
              "      <td>0</td>\n",
              "      <td>0</td>\n",
              "      <td>0</td>\n",
              "      <td>0</td>\n",
              "      <td>0</td>\n",
              "      <td>0</td>\n",
              "      <td>1</td>\n",
              "      <td>0</td>\n",
              "      <td>0</td>\n",
              "      <td>0</td>\n",
              "      <td>0</td>\n",
              "      <td>0</td>\n",
              "      <td>0</td>\n",
              "      <td>0</td>\n",
              "      <td>0</td>\n",
              "      <td>1947</td>\n",
              "      <td>1</td>\n",
              "      <td>1</td>\n",
              "    </tr>\n",
              "    <tr>\n",
              "      <th>3</th>\n",
              "      <td>405</td>\n",
              "      <td>171</td>\n",
              "      <td>1</td>\n",
              "      <td>Delicatessen (1991)</td>\n",
              "      <td>0</td>\n",
              "      <td>0</td>\n",
              "      <td>0</td>\n",
              "      <td>0</td>\n",
              "      <td>0</td>\n",
              "      <td>1</td>\n",
              "      <td>0</td>\n",
              "      <td>0</td>\n",
              "      <td>0</td>\n",
              "      <td>0</td>\n",
              "      <td>0</td>\n",
              "      <td>0</td>\n",
              "      <td>0</td>\n",
              "      <td>0</td>\n",
              "      <td>0</td>\n",
              "      <td>1</td>\n",
              "      <td>0</td>\n",
              "      <td>0</td>\n",
              "      <td>0</td>\n",
              "      <td>1991</td>\n",
              "      <td>65</td>\n",
              "      <td>252</td>\n",
              "    </tr>\n",
              "    <tr>\n",
              "      <th>4</th>\n",
              "      <td>405</td>\n",
              "      <td>580</td>\n",
              "      <td>1</td>\n",
              "      <td>Englishman Who Went Up a Hill, But Came Down a...</td>\n",
              "      <td>0</td>\n",
              "      <td>0</td>\n",
              "      <td>0</td>\n",
              "      <td>0</td>\n",
              "      <td>0</td>\n",
              "      <td>1</td>\n",
              "      <td>0</td>\n",
              "      <td>0</td>\n",
              "      <td>0</td>\n",
              "      <td>0</td>\n",
              "      <td>0</td>\n",
              "      <td>0</td>\n",
              "      <td>0</td>\n",
              "      <td>0</td>\n",
              "      <td>1</td>\n",
              "      <td>0</td>\n",
              "      <td>0</td>\n",
              "      <td>0</td>\n",
              "      <td>0</td>\n",
              "      <td>1995</td>\n",
              "      <td>32</td>\n",
              "      <td>108</td>\n",
              "    </tr>\n",
              "  </tbody>\n",
              "</table>\n",
              "</div>"
            ],
            "text/plain": [
              "   user_id  item_id  rating  ... release_year  count_of_ratings  summary_rating\n",
              "0      405       56       4  ...         1994               394            1600\n",
              "1      405      592       1  ...         1995                 9              30\n",
              "2      405     1582       1  ...         1947                 1               1\n",
              "3      405      171       1  ...         1991                65             252\n",
              "4      405      580       1  ...         1995                32             108\n",
              "\n",
              "[5 rows x 26 columns]"
            ]
          },
          "metadata": {
            "tags": []
          },
          "execution_count": 18
        }
      ]
    },
    {
      "cell_type": "code",
      "metadata": {
        "colab": {
          "base_uri": "https://localhost:8080/"
        },
        "id": "bhHFkJ4On24A",
        "outputId": "d09d4f25-1032-4ff0-81a1-f096922b296d"
      },
      "source": [
        "# строки после merge\n",
        "ratings_top.shape"
      ],
      "execution_count": null,
      "outputs": [
        {
          "output_type": "execute_result",
          "data": {
            "text/plain": [
              "(737, 26)"
            ]
          },
          "metadata": {
            "tags": []
          },
          "execution_count": 19
        }
      ]
    },
    {
      "cell_type": "markdown",
      "metadata": {
        "id": "VM8vl-oboIKT"
      },
      "source": [
        "***5-7. Построение модели линейной регрессии***"
      ]
    },
    {
      "cell_type": "code",
      "metadata": {
        "id": "Jv8xechHoHss"
      },
      "source": [
        "from sklearn.linear_model import LinearRegression\n",
        "from sklearn.model_selection import train_test_split\n",
        "import matplotlib.pyplot as plt\n",
        "import seaborn as sns\n",
        "import numpy as np\n",
        "from sklearn.metrics import r2_score"
      ],
      "execution_count": null,
      "outputs": []
    },
    {
      "cell_type": "code",
      "metadata": {
        "id": "dYaFtfQL4QSs"
      },
      "source": [
        "corr_matrix = ratings_top.corr(method='kendall')"
      ],
      "execution_count": null,
      "outputs": []
    },
    {
      "cell_type": "code",
      "metadata": {
        "colab": {
          "base_uri": "https://localhost:8080/",
          "height": 1000
        },
        "id": "gQd6Z2ui1g6x",
        "outputId": "6bff7d4b-da9c-4395-ba17-a76fcd85428f"
      },
      "source": [
        "# посмотрим матрицу корреляции признаков\n",
        "plt.figure(figsize=(24, 24))\n",
        "mask = np.triu(corr_matrix)\n",
        "sns.heatmap(corr_matrix, annot=True, cmap='bwr', mask=mask, center=0, linecolor='black', linewidths=0.5)"
      ],
      "execution_count": null,
      "outputs": [
        {
          "output_type": "execute_result",
          "data": {
            "text/plain": [
              "<matplotlib.axes._subplots.AxesSubplot at 0x7fe6fd0ae080>"
            ]
          },
          "metadata": {
            "tags": []
          },
          "execution_count": 22
        },
        {
          "output_type": "display_data",
          "data": {
            "image/png": "[encoded data removed]",
            "text/plain": [
              "<Figure size 1728x1728 with 2 Axes>"
            ]
          },
          "metadata": {
            "tags": [],
            "needs_background": "light"
          }
        }
      ]
    },
    {
      "cell_type": "code",
      "metadata": {
        "colab": {
          "base_uri": "https://localhost:8080/"
        },
        "id": "bs4wgM-q9L_L",
        "outputId": "027f65af-e08f-498d-958b-e26cbc5ca83d"
      },
      "source": [
        "ratings_top.columns"
      ],
      "execution_count": null,
      "outputs": [
        {
          "output_type": "execute_result",
          "data": {
            "text/plain": [
              "Index(['user_id', 'item_id', 'rating', 'movie_title', 'unknown', 'Action',\n",
              "       'Adventure', 'Animation', 'Children's', 'Comedy', 'Crime',\n",
              "       'Documentary', 'Drama', 'Fantasy', 'Film-Noir', 'Horror', 'Musical',\n",
              "       'Mystery', 'Romance', 'Sci-Fi', 'Thriller', 'War', 'Western',\n",
              "       'release_year', 'count_of_ratings', 'summary_rating'],\n",
              "      dtype='object')"
            ]
          },
          "metadata": {
            "tags": []
          },
          "execution_count": 23
        }
      ]
    },
    {
      "cell_type": "code",
      "metadata": {
        "id": "3ZcdbAKV7l5K"
      },
      "source": [
        "X = ratings_top[['rating']]\n",
        "y = ratings_top[['unknown', 'Action',\n",
        "       'Adventure', 'Animation', \"Children's\", 'Comedy', 'Crime',\n",
        "       'Documentary', 'Drama', 'Fantasy', 'Film-Noir', 'Horror', 'Musical',\n",
        "       'Mystery', 'Romance', 'Sci-Fi', 'Thriller', 'War', 'Western',\n",
        "       'release_year','count_of_ratings',  'summary_rating']]"
      ],
      "execution_count": null,
      "outputs": []
    },
    {
      "cell_type": "code",
      "metadata": {
        "id": "kOBEJCv3p2_x"
      },
      "source": [
        "X_train, X_test, y_train, y_test = train_test_split(X, y, test_size=0.30, random_state=0)"
      ],
      "execution_count": null,
      "outputs": []
    },
    {
      "cell_type": "code",
      "metadata": {
        "colab": {
          "base_uri": "https://localhost:8080/"
        },
        "id": "Zd0hF9_1CP6u",
        "outputId": "d5c414b2-f4f8-4404-e504-ace35ef89886"
      },
      "source": [
        "model = LinearRegression()\n",
        "model.fit(X_train, y_train)"
      ],
      "execution_count": null,
      "outputs": [
        {
          "output_type": "execute_result",
          "data": {
            "text/plain": [
              "LinearRegression(copy_X=True, fit_intercept=True, n_jobs=None, normalize=False)"
            ]
          },
          "metadata": {
            "tags": []
          },
          "execution_count": 26
        }
      ]
    },
    {
      "cell_type": "code",
      "metadata": {
        "id": "bNBT8Lv9Cm2M"
      },
      "source": [
        "y_pred = model.predict(X_test)"
      ],
      "execution_count": null,
      "outputs": []
    },
    {
      "cell_type": "code",
      "metadata": {
        "colab": {
          "base_uri": "https://localhost:8080/"
        },
        "id": "LpbIuy0QFYfF",
        "outputId": "e47fae9f-4272-46d5-f42b-a0a0cdb6cdf2"
      },
      "source": [
        "# Коэффициент детерминации R^2 достаточно скромно оценивает предсказательную силу нашей модели)\n",
        "model.score(X_test, y_test)"
      ],
      "execution_count": null,
      "outputs": [
        {
          "output_type": "execute_result",
          "data": {
            "text/plain": [
              "0.3588721535386718"
            ]
          },
          "metadata": {
            "tags": []
          },
          "execution_count": 28
        }
      ]
    },
    {
      "cell_type": "markdown",
      "metadata": {
        "id": "wl4wXDqpUPQu"
      },
      "source": [
        "***8. Загрузить данные в spark***"
      ]
    },
    {
      "cell_type": "code",
      "metadata": {
        "colab": {
          "base_uri": "https://localhost:8080/"
        },
        "id": "IrPVEgpLUFTr",
        "outputId": "9c52e546-6368-4f16-c2af-88178db3fa4e"
      },
      "source": [
        "!apt-get update"
      ],
      "execution_count": null,
      "outputs": [
        {
          "output_type": "stream",
          "text": [
            "\r0% [Working]\r            \rGet:1 https://cloud.r-project.org/bin/linux/ubuntu bionic-cran40/ InRelease [3,626 B]\n",
            "Ign:2 https://developer.download.nvidia.com/compute/cuda/repos/ubuntu1804/x86_64  InRelease\n",
            "Ign:3 https://developer.download.nvidia.com/compute/machine-learning/repos/ubuntu1804/x86_64  InRelease\n",
            "Hit:4 https://developer.download.nvidia.com/compute/cuda/repos/ubuntu1804/x86_64  Release\n",
            "Hit:5 https://developer.download.nvidia.com/compute/machine-learning/repos/ubuntu1804/x86_64  Release\n",
            "Get:6 http://security.ubuntu.com/ubuntu bionic-security InRelease [88.7 kB]\n",
            "Get:7 http://ppa.launchpad.net/c2d4u.team/c2d4u4.0+/ubuntu bionic InRelease [15.9 kB]\n",
            "Hit:9 http://archive.ubuntu.com/ubuntu bionic InRelease\n",
            "Get:11 http://archive.ubuntu.com/ubuntu bionic-updates InRelease [88.7 kB]\n",
            "Hit:12 http://ppa.launchpad.net/cran/libgit2/ubuntu bionic InRelease\n",
            "Get:13 http://security.ubuntu.com/ubuntu bionic-security/main amd64 Packages [1,929 kB]\n",
            "Hit:14 http://ppa.launchpad.net/graphics-drivers/ppa/ubuntu bionic InRelease\n",
            "Get:15 http://archive.ubuntu.com/ubuntu bionic-backports InRelease [74.6 kB]\n",
            "Get:16 http://archive.ubuntu.com/ubuntu bionic-updates/universe amd64 Packages [2,162 kB]\n",
            "Get:17 http://ppa.launchpad.net/c2d4u.team/c2d4u4.0+/ubuntu bionic/main Sources [1,732 kB]\n",
            "Get:18 http://security.ubuntu.com/ubuntu bionic-security/universe amd64 Packages [1,391 kB]\n",
            "Get:19 http://archive.ubuntu.com/ubuntu bionic-updates/main amd64 Packages [2,360 kB]\n",
            "Get:20 http://ppa.launchpad.net/c2d4u.team/c2d4u4.0+/ubuntu bionic/main amd64 Packages [886 kB]\n",
            "Fetched 10.7 MB in 5s (1,978 kB/s)\n",
            "Reading package lists... Done\n"
          ],
          "name": "stdout"
        }
      ]
    },
    {
      "cell_type": "code",
      "metadata": {
        "id": "U3WtvwjhUgGY"
      },
      "source": [
        "!apt-get install openjdk-8-jdk-headless -qq > /dev/null"
      ],
      "execution_count": null,
      "outputs": []
    },
    {
      "cell_type": "code",
      "metadata": {
        "id": "yp_Bi4YaUlAH"
      },
      "source": [
        "!wget -q www-us.apache.org/dist/spark/spark-2.4.7/spark-2.4.7-bin-hadoop2.7.tgz"
      ],
      "execution_count": null,
      "outputs": []
    },
    {
      "cell_type": "code",
      "metadata": {
        "colab": {
          "base_uri": "https://localhost:8080/"
        },
        "id": "6X7NGhw2Uq25",
        "outputId": "e38f7c25-89d4-4851-9e4c-8d8c71909a30"
      },
      "source": [
        "!tar -xvf spark-2.4.7-bin-hadoop2.7.tgz"
      ],
      "execution_count": null,
      "outputs": [
        {
          "output_type": "stream",
          "text": [
            "spark-2.4.7-bin-hadoop2.7/\n",
            "spark-2.4.7-bin-hadoop2.7/kubernetes/\n",
            "spark-2.4.7-bin-hadoop2.7/kubernetes/tests/\n",
            "spark-2.4.7-bin-hadoop2.7/kubernetes/tests/py_container_checks.py\n",
            "spark-2.4.7-bin-hadoop2.7/kubernetes/tests/pyfiles.py\n",
            "spark-2.4.7-bin-hadoop2.7/kubernetes/tests/worker_memory_check.py\n",
            "spark-2.4.7-bin-hadoop2.7/kubernetes/dockerfiles/\n",
            "spark-2.4.7-bin-hadoop2.7/kubernetes/dockerfiles/spark/\n",
            "spark-2.4.7-bin-hadoop2.7/kubernetes/dockerfiles/spark/entrypoint.sh\n",
            "spark-2.4.7-bin-hadoop2.7/kubernetes/dockerfiles/spark/bindings/\n",
            "spark-2.4.7-bin-hadoop2.7/kubernetes/dockerfiles/spark/bindings/python/\n",
            "spark-2.4.7-bin-hadoop2.7/kubernetes/dockerfiles/spark/bindings/python/Dockerfile\n",
            "spark-2.4.7-bin-hadoop2.7/kubernetes/dockerfiles/spark/bindings/R/\n",
            "spark-2.4.7-bin-hadoop2.7/kubernetes/dockerfiles/spark/bindings/R/Dockerfile\n",
            "spark-2.4.7-bin-hadoop2.7/kubernetes/dockerfiles/spark/Dockerfile\n",
            "spark-2.4.7-bin-hadoop2.7/NOTICE\n",
            "spark-2.4.7-bin-hadoop2.7/data/\n",
            "spark-2.4.7-bin-hadoop2.7/data/streaming/\n",
            "spark-2.4.7-bin-hadoop2.7/data/streaming/AFINN-111.txt\n",
            "spark-2.4.7-bin-hadoop2.7/data/mllib/\n",
            "spark-2.4.7-bin-hadoop2.7/data/mllib/sample_multiclass_classification_data.txt\n",
            "spark-2.4.7-bin-hadoop2.7/data/mllib/streaming_kmeans_data_test.txt\n",
            "spark-2.4.7-bin-hadoop2.7/data/mllib/ridge-data/\n",
            "spark-2.4.7-bin-hadoop2.7/data/mllib/ridge-data/lpsa.data\n",
            "spark-2.4.7-bin-hadoop2.7/data/mllib/als/\n",
            "spark-2.4.7-bin-hadoop2.7/data/mllib/als/test.data\n",
            "spark-2.4.7-bin-hadoop2.7/data/mllib/als/sample_movielens_ratings.txt\n",
            "spark-2.4.7-bin-hadoop2.7/data/mllib/sample_svm_data.txt\n",
            "spark-2.4.7-bin-hadoop2.7/data/mllib/images/\n",
            "spark-2.4.7-bin-hadoop2.7/data/mllib/images/origin/\n",
            "spark-2.4.7-bin-hadoop2.7/data/mllib/images/origin/license.txt\n",
            "spark-2.4.7-bin-hadoop2.7/data/mllib/images/origin/multi-channel/\n",
            "spark-2.4.7-bin-hadoop2.7/data/mllib/images/origin/multi-channel/grayscale.jpg\n",
            "spark-2.4.7-bin-hadoop2.7/data/mllib/images/origin/multi-channel/BGRA_alpha_60.png\n",
            "spark-2.4.7-bin-hadoop2.7/data/mllib/images/origin/multi-channel/chr30.4.184.jpg\n",
            "spark-2.4.7-bin-hadoop2.7/data/mllib/images/origin/multi-channel/BGRA.png\n",
            "spark-2.4.7-bin-hadoop2.7/data/mllib/images/origin/kittens/\n",
            "spark-2.4.7-bin-hadoop2.7/data/mllib/images/origin/kittens/not-image.txt\n",
            "spark-2.4.7-bin-hadoop2.7/data/mllib/images/origin/kittens/29.5.a_b_EGDP022204.jpg\n",
            "spark-2.4.7-bin-hadoop2.7/data/mllib/images/origin/kittens/54893.jpg\n",
            "spark-2.4.7-bin-hadoop2.7/data/mllib/images/origin/kittens/DP153539.jpg\n",
            "spark-2.4.7-bin-hadoop2.7/data/mllib/images/origin/kittens/DP802813.jpg\n",
            "spark-2.4.7-bin-hadoop2.7/data/mllib/images/partitioned/\n",
            "spark-2.4.7-bin-hadoop2.7/data/mllib/images/partitioned/cls=multichannel/\n",
            "spark-2.4.7-bin-hadoop2.7/data/mllib/images/partitioned/cls=multichannel/date=2018-01/\n",
            "spark-2.4.7-bin-hadoop2.7/data/mllib/images/partitioned/cls=multichannel/date=2018-01/BGRA_alpha_60.png\n",
            "spark-2.4.7-bin-hadoop2.7/data/mllib/images/partitioned/cls=multichannel/date=2018-01/BGRA.png\n",
            "spark-2.4.7-bin-hadoop2.7/data/mllib/images/partitioned/cls=multichannel/date=2018-02/\n",
            "spark-2.4.7-bin-hadoop2.7/data/mllib/images/partitioned/cls=multichannel/date=2018-02/grayscale.jpg\n",
            "spark-2.4.7-bin-hadoop2.7/data/mllib/images/partitioned/cls=multichannel/date=2018-02/chr30.4.184.jpg\n",
            "spark-2.4.7-bin-hadoop2.7/data/mllib/images/partitioned/cls=kittens/\n",
            "spark-2.4.7-bin-hadoop2.7/data/mllib/images/partitioned/cls=kittens/date=2018-01/\n",
            "spark-2.4.7-bin-hadoop2.7/data/mllib/images/partitioned/cls=kittens/date=2018-01/not-image.txt\n",
            "spark-2.4.7-bin-hadoop2.7/data/mllib/images/partitioned/cls=kittens/date=2018-01/29.5.a_b_EGDP022204.jpg\n",
            "spark-2.4.7-bin-hadoop2.7/data/mllib/images/partitioned/cls=kittens/date=2018-02/\n",
            "spark-2.4.7-bin-hadoop2.7/data/mllib/images/partitioned/cls=kittens/date=2018-02/54893.jpg\n",
            "spark-2.4.7-bin-hadoop2.7/data/mllib/images/partitioned/cls=kittens/date=2018-02/DP153539.jpg\n",
            "spark-2.4.7-bin-hadoop2.7/data/mllib/images/partitioned/cls=kittens/date=2018-02/DP802813.jpg\n",
            "spark-2.4.7-bin-hadoop2.7/data/mllib/images/license.txt\n",
            "spark-2.4.7-bin-hadoop2.7/data/mllib/sample_fpgrowth.txt\n",
            "spark-2.4.7-bin-hadoop2.7/data/mllib/iris_libsvm.txt\n",
            "spark-2.4.7-bin-hadoop2.7/data/mllib/sample_lda_data.txt\n",
            "spark-2.4.7-bin-hadoop2.7/data/mllib/sample_movielens_data.txt\n",
            "spark-2.4.7-bin-hadoop2.7/data/mllib/sample_binary_classification_data.txt\n",
            "spark-2.4.7-bin-hadoop2.7/data/mllib/sample_lda_libsvm_data.txt\n",
            "spark-2.4.7-bin-hadoop2.7/data/mllib/pagerank_data.txt\n",
            "spark-2.4.7-bin-hadoop2.7/data/mllib/sample_linear_regression_data.txt\n",
            "spark-2.4.7-bin-hadoop2.7/data/mllib/gmm_data.txt\n",
            "spark-2.4.7-bin-hadoop2.7/data/mllib/sample_kmeans_data.txt\n",
            "spark-2.4.7-bin-hadoop2.7/data/mllib/pic_data.txt\n",
            "spark-2.4.7-bin-hadoop2.7/data/mllib/kmeans_data.txt\n",
            "spark-2.4.7-bin-hadoop2.7/data/mllib/sample_isotonic_regression_libsvm_data.txt\n",
            "spark-2.4.7-bin-hadoop2.7/data/mllib/sample_libsvm_data.txt\n",
            "spark-2.4.7-bin-hadoop2.7/data/graphx/\n",
            "spark-2.4.7-bin-hadoop2.7/data/graphx/followers.txt\n",
            "spark-2.4.7-bin-hadoop2.7/data/graphx/users.txt\n",
            "spark-2.4.7-bin-hadoop2.7/README.md\n",
            "spark-2.4.7-bin-hadoop2.7/conf/\n",
            "spark-2.4.7-bin-hadoop2.7/conf/docker.properties.template\n",
            "spark-2.4.7-bin-hadoop2.7/conf/spark-env.sh.template\n",
            "spark-2.4.7-bin-hadoop2.7/conf/metrics.properties.template\n",
            "spark-2.4.7-bin-hadoop2.7/conf/log4j.properties.template\n",
            "spark-2.4.7-bin-hadoop2.7/conf/spark-defaults.conf.template\n",
            "spark-2.4.7-bin-hadoop2.7/conf/fairscheduler.xml.template\n",
            "spark-2.4.7-bin-hadoop2.7/conf/slaves.template\n",
            "spark-2.4.7-bin-hadoop2.7/licenses/\n",
            "spark-2.4.7-bin-hadoop2.7/licenses/LICENSE-jline.txt\n",
            "spark-2.4.7-bin-hadoop2.7/licenses/LICENSE-javolution.txt\n",
            "spark-2.4.7-bin-hadoop2.7/licenses/LICENSE-heapq.txt\n",
            "spark-2.4.7-bin-hadoop2.7/licenses/LICENSE-dagre-d3.txt\n",
            "spark-2.4.7-bin-hadoop2.7/licenses/LICENSE-modernizr.txt\n",
            "spark-2.4.7-bin-hadoop2.7/licenses/LICENSE-bootstrap.txt\n",
            "spark-2.4.7-bin-hadoop2.7/licenses/LICENSE-mustache.txt\n",
            "spark-2.4.7-bin-hadoop2.7/licenses/LICENSE-respond.txt\n",
            "spark-2.4.7-bin-hadoop2.7/licenses/LICENSE-jtransforms.html\n",
            "spark-2.4.7-bin-hadoop2.7/licenses/LICENSE-zstd-jni.txt\n",
            "spark-2.4.7-bin-hadoop2.7/licenses/LICENSE-vis-timeline.txt\n",
            "spark-2.4.7-bin-hadoop2.7/licenses/LICENSE-protobuf.txt\n",
            "spark-2.4.7-bin-hadoop2.7/licenses/LICENSE-netlib.txt\n",
            "spark-2.4.7-bin-hadoop2.7/licenses/LICENSE-xmlenc.txt\n",
            "spark-2.4.7-bin-hadoop2.7/licenses/LICENSE-reflectasm.txt\n",
            "spark-2.4.7-bin-hadoop2.7/licenses/LICENSE-jodd.txt\n",
            "spark-2.4.7-bin-hadoop2.7/licenses/LICENSE-arpack.txt\n",
            "spark-2.4.7-bin-hadoop2.7/licenses/LICENSE-zstd.txt\n",
            "spark-2.4.7-bin-hadoop2.7/licenses/LICENSE-machinist.txt\n",
            "spark-2.4.7-bin-hadoop2.7/licenses/LICENSE-CC0.txt\n",
            "spark-2.4.7-bin-hadoop2.7/licenses/LICENSE-leveldbjni.txt\n",
            "spark-2.4.7-bin-hadoop2.7/licenses/LICENSE-minlog.txt\n",
            "spark-2.4.7-bin-hadoop2.7/licenses/LICENSE-spire.txt\n",
            "spark-2.4.7-bin-hadoop2.7/licenses/LICENSE-scala.txt\n",
            "spark-2.4.7-bin-hadoop2.7/licenses/LICENSE-janino.txt\n",
            "spark-2.4.7-bin-hadoop2.7/licenses/LICENSE-antlr.txt\n",
            "spark-2.4.7-bin-hadoop2.7/licenses/LICENSE-AnchorJS.txt\n",
            "spark-2.4.7-bin-hadoop2.7/licenses/LICENSE-cloudpickle.txt\n",
            "spark-2.4.7-bin-hadoop2.7/licenses/LICENSE-f2j.txt\n",
            "spark-2.4.7-bin-hadoop2.7/licenses/LICENSE-graphlib-dot.txt\n",
            "spark-2.4.7-bin-hadoop2.7/licenses/LICENSE-pyrolite.txt\n",
            "spark-2.4.7-bin-hadoop2.7/licenses/LICENSE-datatables.txt\n",
            "spark-2.4.7-bin-hadoop2.7/licenses/LICENSE-kryo.txt\n",
            "spark-2.4.7-bin-hadoop2.7/licenses/LICENSE-join.txt\n",
            "spark-2.4.7-bin-hadoop2.7/licenses/LICENSE-scopt.txt\n",
            "spark-2.4.7-bin-hadoop2.7/licenses/LICENSE-sbt-launch-lib.txt\n",
            "spark-2.4.7-bin-hadoop2.7/licenses/LICENSE-paranamer.txt\n",
            "spark-2.4.7-bin-hadoop2.7/licenses/LICENSE-d3.min.js.txt\n",
            "spark-2.4.7-bin-hadoop2.7/licenses/LICENSE-automaton.txt\n",
            "spark-2.4.7-bin-hadoop2.7/licenses/LICENSE-slf4j.txt\n",
            "spark-2.4.7-bin-hadoop2.7/licenses/LICENSE-matchMedia-polyfill.txt\n",
            "spark-2.4.7-bin-hadoop2.7/licenses/LICENSE-javassist.html\n",
            "spark-2.4.7-bin-hadoop2.7/licenses/LICENSE-pmml-model.txt\n",
            "spark-2.4.7-bin-hadoop2.7/licenses/LICENSE-jquery.txt\n",
            "spark-2.4.7-bin-hadoop2.7/licenses/LICENSE-sorttable.js.txt\n",
            "spark-2.4.7-bin-hadoop2.7/licenses/LICENSE-py4j.txt\n",
            "spark-2.4.7-bin-hadoop2.7/licenses/LICENSE-json-formatter.txt\n",
            "spark-2.4.7-bin-hadoop2.7/yarn/\n",
            "spark-2.4.7-bin-hadoop2.7/yarn/spark-2.4.7-yarn-shuffle.jar\n",
            "spark-2.4.7-bin-hadoop2.7/bin/\n",
            "spark-2.4.7-bin-hadoop2.7/bin/spark-shell\n",
            "spark-2.4.7-bin-hadoop2.7/bin/spark-sql.cmd\n",
            "spark-2.4.7-bin-hadoop2.7/bin/spark-shell2.cmd\n",
            "spark-2.4.7-bin-hadoop2.7/bin/find-spark-home.cmd\n",
            "spark-2.4.7-bin-hadoop2.7/bin/load-spark-env.sh\n",
            "spark-2.4.7-bin-hadoop2.7/bin/beeline.cmd\n",
            "spark-2.4.7-bin-hadoop2.7/bin/spark-class\n",
            "spark-2.4.7-bin-hadoop2.7/bin/sparkR2.cmd\n",
            "spark-2.4.7-bin-hadoop2.7/bin/run-example\n",
            "spark-2.4.7-bin-hadoop2.7/bin/sparkR\n",
            "spark-2.4.7-bin-hadoop2.7/bin/pyspark2.cmd\n",
            "spark-2.4.7-bin-hadoop2.7/bin/run-example.cmd\n",
            "spark-2.4.7-bin-hadoop2.7/bin/spark-sql2.cmd\n",
            "spark-2.4.7-bin-hadoop2.7/bin/spark-submit\n",
            "spark-2.4.7-bin-hadoop2.7/bin/spark-shell.cmd\n",
            "spark-2.4.7-bin-hadoop2.7/bin/docker-image-tool.sh\n",
            "spark-2.4.7-bin-hadoop2.7/bin/find-spark-home\n",
            "spark-2.4.7-bin-hadoop2.7/bin/sparkR.cmd\n",
            "spark-2.4.7-bin-hadoop2.7/bin/load-spark-env.cmd\n",
            "spark-2.4.7-bin-hadoop2.7/bin/pyspark\n",
            "spark-2.4.7-bin-hadoop2.7/bin/beeline\n",
            "spark-2.4.7-bin-hadoop2.7/bin/spark-sql\n",
            "spark-2.4.7-bin-hadoop2.7/bin/spark-submit.cmd\n",
            "spark-2.4.7-bin-hadoop2.7/bin/spark-submit2.cmd\n",
            "spark-2.4.7-bin-hadoop2.7/bin/spark-class2.cmd\n",
            "spark-2.4.7-bin-hadoop2.7/bin/pyspark.cmd\n",
            "spark-2.4.7-bin-hadoop2.7/bin/spark-class.cmd\n",
            "spark-2.4.7-bin-hadoop2.7/sbin/\n",
            "spark-2.4.7-bin-hadoop2.7/sbin/stop-shuffle-service.sh\n",
            "spark-2.4.7-bin-hadoop2.7/sbin/start-master.sh\n",
            "spark-2.4.7-bin-hadoop2.7/sbin/start-mesos-dispatcher.sh\n",
            "spark-2.4.7-bin-hadoop2.7/sbin/stop-slave.sh\n",
            "spark-2.4.7-bin-hadoop2.7/sbin/stop-thriftserver.sh\n",
            "spark-2.4.7-bin-hadoop2.7/sbin/stop-history-server.sh\n",
            "spark-2.4.7-bin-hadoop2.7/sbin/start-thriftserver.sh\n",
            "spark-2.4.7-bin-hadoop2.7/sbin/stop-master.sh\n",
            "spark-2.4.7-bin-hadoop2.7/sbin/start-history-server.sh\n",
            "spark-2.4.7-bin-hadoop2.7/sbin/stop-mesos-shuffle-service.sh\n",
            "spark-2.4.7-bin-hadoop2.7/sbin/stop-mesos-dispatcher.sh\n",
            "spark-2.4.7-bin-hadoop2.7/sbin/stop-all.sh\n",
            "spark-2.4.7-bin-hadoop2.7/sbin/start-mesos-shuffle-service.sh\n",
            "spark-2.4.7-bin-hadoop2.7/sbin/start-slaves.sh\n",
            "spark-2.4.7-bin-hadoop2.7/sbin/spark-config.sh\n",
            "spark-2.4.7-bin-hadoop2.7/sbin/start-shuffle-service.sh\n",
            "spark-2.4.7-bin-hadoop2.7/sbin/start-slave.sh\n",
            "spark-2.4.7-bin-hadoop2.7/sbin/spark-daemons.sh\n",
            "spark-2.4.7-bin-hadoop2.7/sbin/start-all.sh\n",
            "spark-2.4.7-bin-hadoop2.7/sbin/spark-daemon.sh\n",
            "spark-2.4.7-bin-hadoop2.7/sbin/slaves.sh\n",
            "spark-2.4.7-bin-hadoop2.7/sbin/stop-slaves.sh\n",
            "spark-2.4.7-bin-hadoop2.7/LICENSE\n",
            "spark-2.4.7-bin-hadoop2.7/python/\n",
            "spark-2.4.7-bin-hadoop2.7/python/setup.py\n",
            "spark-2.4.7-bin-hadoop2.7/python/pylintrc\n",
            "spark-2.4.7-bin-hadoop2.7/python/README.md\n",
            "spark-2.4.7-bin-hadoop2.7/python/run-tests.py\n",
            "spark-2.4.7-bin-hadoop2.7/python/.coveragerc\n",
            "spark-2.4.7-bin-hadoop2.7/python/run-tests-with-coverage\n",
            "spark-2.4.7-bin-hadoop2.7/python/.gitignore\n",
            "spark-2.4.7-bin-hadoop2.7/python/test_support/\n",
            "spark-2.4.7-bin-hadoop2.7/python/test_support/userlibrary.py\n",
            "spark-2.4.7-bin-hadoop2.7/python/test_support/sql/\n",
            "spark-2.4.7-bin-hadoop2.7/python/test_support/sql/parquet_partitioned/\n",
            "spark-2.4.7-bin-hadoop2.7/python/test_support/sql/parquet_partitioned/_SUCCESS\n",
            "spark-2.4.7-bin-hadoop2.7/python/test_support/sql/parquet_partitioned/year=2014/\n",
            "spark-2.4.7-bin-hadoop2.7/python/test_support/sql/parquet_partitioned/year=2014/month=9/\n",
            "spark-2.4.7-bin-hadoop2.7/python/test_support/sql/parquet_partitioned/year=2014/month=9/day=1/\n",
            "spark-2.4.7-bin-hadoop2.7/python/test_support/sql/parquet_partitioned/year=2014/month=9/day=1/.part-r-00008.gz.parquet.crc\n",
            "spark-2.4.7-bin-hadoop2.7/python/test_support/sql/parquet_partitioned/year=2014/month=9/day=1/part-r-00008.gz.parquet\n",
            "spark-2.4.7-bin-hadoop2.7/python/test_support/sql/parquet_partitioned/year=2015/\n",
            "spark-2.4.7-bin-hadoop2.7/python/test_support/sql/parquet_partitioned/year=2015/month=10/\n",
            "spark-2.4.7-bin-hadoop2.7/python/test_support/sql/parquet_partitioned/year=2015/month=10/day=26/\n",
            "spark-2.4.7-bin-hadoop2.7/python/test_support/sql/parquet_partitioned/year=2015/month=10/day=26/part-r-00005.gz.parquet\n",
            "spark-2.4.7-bin-hadoop2.7/python/test_support/sql/parquet_partitioned/year=2015/month=10/day=26/.part-r-00005.gz.parquet.crc\n",
            "spark-2.4.7-bin-hadoop2.7/python/test_support/sql/parquet_partitioned/year=2015/month=10/day=25/\n",
            "spark-2.4.7-bin-hadoop2.7/python/test_support/sql/parquet_partitioned/year=2015/month=10/day=25/part-r-00002.gz.parquet\n",
            "spark-2.4.7-bin-hadoop2.7/python/test_support/sql/parquet_partitioned/year=2015/month=10/day=25/.part-r-00002.gz.parquet.crc\n",
            "spark-2.4.7-bin-hadoop2.7/python/test_support/sql/parquet_partitioned/year=2015/month=10/day=25/.part-r-00004.gz.parquet.crc\n",
            "spark-2.4.7-bin-hadoop2.7/python/test_support/sql/parquet_partitioned/year=2015/month=10/day=25/part-r-00004.gz.parquet\n",
            "spark-2.4.7-bin-hadoop2.7/python/test_support/sql/parquet_partitioned/year=2015/month=9/\n",
            "spark-2.4.7-bin-hadoop2.7/python/test_support/sql/parquet_partitioned/year=2015/month=9/day=1/\n",
            "spark-2.4.7-bin-hadoop2.7/python/test_support/sql/parquet_partitioned/year=2015/month=9/day=1/.part-r-00007.gz.parquet.crc\n",
            "spark-2.4.7-bin-hadoop2.7/python/test_support/sql/parquet_partitioned/year=2015/month=9/day=1/part-r-00007.gz.parquet\n",
            "spark-2.4.7-bin-hadoop2.7/python/test_support/sql/parquet_partitioned/_metadata\n",
            "spark-2.4.7-bin-hadoop2.7/python/test_support/sql/parquet_partitioned/_common_metadata\n",
            "spark-2.4.7-bin-hadoop2.7/python/test_support/sql/people_array.json\n",
            "spark-2.4.7-bin-hadoop2.7/python/test_support/sql/ages.csv\n",
            "spark-2.4.7-bin-hadoop2.7/python/test_support/sql/ages_newlines.csv\n",
            "spark-2.4.7-bin-hadoop2.7/python/test_support/sql/people_array_utf16le.json\n",
            "spark-2.4.7-bin-hadoop2.7/python/test_support/sql/people1.json\n",
            "spark-2.4.7-bin-hadoop2.7/python/test_support/sql/people.json\n",
            "spark-2.4.7-bin-hadoop2.7/python/test_support/sql/orc_partitioned/\n",
            "spark-2.4.7-bin-hadoop2.7/python/test_support/sql/orc_partitioned/_SUCCESS\n",
            "spark-2.4.7-bin-hadoop2.7/python/test_support/sql/orc_partitioned/b=0/\n",
            "spark-2.4.7-bin-hadoop2.7/python/test_support/sql/orc_partitioned/b=0/c=0/\n",
            "spark-2.4.7-bin-hadoop2.7/python/test_support/sql/orc_partitioned/b=0/c=0/part-r-00000-829af031-b970-49d6-ad39-30460a0be2c8.orc\n",
            "spark-2.4.7-bin-hadoop2.7/python/test_support/sql/orc_partitioned/b=0/c=0/.part-r-00000-829af031-b970-49d6-ad39-30460a0be2c8.orc.crc\n",
            "spark-2.4.7-bin-hadoop2.7/python/test_support/sql/orc_partitioned/b=1/\n",
            "spark-2.4.7-bin-hadoop2.7/python/test_support/sql/orc_partitioned/b=1/c=1/\n",
            "spark-2.4.7-bin-hadoop2.7/python/test_support/sql/orc_partitioned/b=1/c=1/part-r-00000-829af031-b970-49d6-ad39-30460a0be2c8.orc\n",
            "spark-2.4.7-bin-hadoop2.7/python/test_support/sql/orc_partitioned/b=1/c=1/.part-r-00000-829af031-b970-49d6-ad39-30460a0be2c8.orc.crc\n",
            "spark-2.4.7-bin-hadoop2.7/python/test_support/sql/streaming/\n",
            "spark-2.4.7-bin-hadoop2.7/python/test_support/sql/streaming/text-test.txt\n",
            "spark-2.4.7-bin-hadoop2.7/python/test_support/sql/text-test.txt\n",
            "spark-2.4.7-bin-hadoop2.7/python/test_support/userlib-0.1.zip\n",
            "spark-2.4.7-bin-hadoop2.7/python/test_support/SimpleHTTPServer.py\n",
            "spark-2.4.7-bin-hadoop2.7/python/test_support/hello/\n",
            "spark-2.4.7-bin-hadoop2.7/python/test_support/hello/sub_hello/\n",
            "spark-2.4.7-bin-hadoop2.7/python/test_support/hello/sub_hello/sub_hello.txt\n",
            "spark-2.4.7-bin-hadoop2.7/python/test_support/hello/hello.txt\n",
            "spark-2.4.7-bin-hadoop2.7/python/MANIFEST.in\n",
            "spark-2.4.7-bin-hadoop2.7/python/lib/\n",
            "spark-2.4.7-bin-hadoop2.7/python/lib/PY4J_LICENSE.txt\n",
            "spark-2.4.7-bin-hadoop2.7/python/lib/pyspark.zip\n",
            "spark-2.4.7-bin-hadoop2.7/python/lib/py4j-0.10.7-src.zip\n",
            "spark-2.4.7-bin-hadoop2.7/python/pyspark/\n",
            "spark-2.4.7-bin-hadoop2.7/python/pyspark/find_spark_home.py\n",
            "spark-2.4.7-bin-hadoop2.7/python/pyspark/serializers.py\n",
            "spark-2.4.7-bin-hadoop2.7/python/pyspark/__init__.py\n",
            "spark-2.4.7-bin-hadoop2.7/python/pyspark/util.py\n",
            "spark-2.4.7-bin-hadoop2.7/python/pyspark/_globals.py\n",
            "spark-2.4.7-bin-hadoop2.7/python/pyspark/heapq3.py\n",
            "spark-2.4.7-bin-hadoop2.7/python/pyspark/cloudpickle.py\n",
            "spark-2.4.7-bin-hadoop2.7/python/pyspark/version.py\n",
            "spark-2.4.7-bin-hadoop2.7/python/pyspark/shell.py\n",
            "spark-2.4.7-bin-hadoop2.7/python/pyspark/traceback_utils.py\n",
            "spark-2.4.7-bin-hadoop2.7/python/pyspark/taskcontext.py\n",
            "spark-2.4.7-bin-hadoop2.7/python/pyspark/worker.py\n",
            "spark-2.4.7-bin-hadoop2.7/python/pyspark/daemon.py\n",
            "spark-2.4.7-bin-hadoop2.7/python/pyspark/statcounter.py\n",
            "spark-2.4.7-bin-hadoop2.7/python/pyspark/java_gateway.py\n",
            "spark-2.4.7-bin-hadoop2.7/python/pyspark/context.py\n",
            "spark-2.4.7-bin-hadoop2.7/python/pyspark/sql/\n",
            "spark-2.4.7-bin-hadoop2.7/python/pyspark/sql/readwriter.py\n",
            "spark-2.4.7-bin-hadoop2.7/python/pyspark/sql/streaming.py\n",
            "spark-2.4.7-bin-hadoop2.7/python/pyspark/sql/__init__.py\n",
            "spark-2.4.7-bin-hadoop2.7/python/pyspark/sql/utils.py\n",
            "spark-2.4.7-bin-hadoop2.7/python/pyspark/sql/udf.py\n",
            "spark-2.4.7-bin-hadoop2.7/python/pyspark/sql/session.py\n",
            "spark-2.4.7-bin-hadoop2.7/python/pyspark/sql/dataframe.py\n",
            "spark-2.4.7-bin-hadoop2.7/python/pyspark/sql/column.py\n",
            "spark-2.4.7-bin-hadoop2.7/python/pyspark/sql/context.py\n",
            "spark-2.4.7-bin-hadoop2.7/python/pyspark/sql/functions.py\n",
            "spark-2.4.7-bin-hadoop2.7/python/pyspark/sql/types.py\n",
            "spark-2.4.7-bin-hadoop2.7/python/pyspark/sql/catalog.py\n",
            "spark-2.4.7-bin-hadoop2.7/python/pyspark/sql/tests.py\n",
            "spark-2.4.7-bin-hadoop2.7/python/pyspark/sql/conf.py\n",
            "spark-2.4.7-bin-hadoop2.7/python/pyspark/sql/window.py\n",
            "spark-2.4.7-bin-hadoop2.7/python/pyspark/sql/group.py\n",
            "spark-2.4.7-bin-hadoop2.7/python/pyspark/shuffle.py\n",
            "spark-2.4.7-bin-hadoop2.7/python/pyspark/test_serializers.py\n",
            "spark-2.4.7-bin-hadoop2.7/python/pyspark/rddsampler.py\n",
            "spark-2.4.7-bin-hadoop2.7/python/pyspark/files.py\n",
            "spark-2.4.7-bin-hadoop2.7/python/pyspark/join.py\n",
            "spark-2.4.7-bin-hadoop2.7/python/pyspark/profiler.py\n",
            "spark-2.4.7-bin-hadoop2.7/python/pyspark/streaming/\n",
            "spark-2.4.7-bin-hadoop2.7/python/pyspark/streaming/__init__.py\n",
            "spark-2.4.7-bin-hadoop2.7/python/pyspark/streaming/util.py\n",
            "spark-2.4.7-bin-hadoop2.7/python/pyspark/streaming/flume.py\n",
            "spark-2.4.7-bin-hadoop2.7/python/pyspark/streaming/context.py\n",
            "spark-2.4.7-bin-hadoop2.7/python/pyspark/streaming/listener.py\n",
            "spark-2.4.7-bin-hadoop2.7/python/pyspark/streaming/kafka.py\n",
            "spark-2.4.7-bin-hadoop2.7/python/pyspark/streaming/kinesis.py\n",
            "spark-2.4.7-bin-hadoop2.7/python/pyspark/streaming/dstream.py\n",
            "spark-2.4.7-bin-hadoop2.7/python/pyspark/streaming/tests.py\n",
            "spark-2.4.7-bin-hadoop2.7/python/pyspark/ml/\n",
            "spark-2.4.7-bin-hadoop2.7/python/pyspark/ml/recommendation.py\n",
            "spark-2.4.7-bin-hadoop2.7/python/pyspark/ml/linalg/\n",
            "spark-2.4.7-bin-hadoop2.7/python/pyspark/ml/linalg/__init__.py\n",
            "spark-2.4.7-bin-hadoop2.7/python/pyspark/ml/clustering.py\n",
            "spark-2.4.7-bin-hadoop2.7/python/pyspark/ml/__init__.py\n",
            "spark-2.4.7-bin-hadoop2.7/python/pyspark/ml/tuning.py\n",
            "spark-2.4.7-bin-hadoop2.7/python/pyspark/ml/util.py\n",
            "spark-2.4.7-bin-hadoop2.7/python/pyspark/ml/classification.py\n",
            "spark-2.4.7-bin-hadoop2.7/python/pyspark/ml/wrapper.py\n",
            "spark-2.4.7-bin-hadoop2.7/python/pyspark/ml/param/\n",
            "spark-2.4.7-bin-hadoop2.7/python/pyspark/ml/param/__init__.py\n",
            "spark-2.4.7-bin-hadoop2.7/python/pyspark/ml/param/_shared_params_code_gen.py\n",
            "spark-2.4.7-bin-hadoop2.7/python/pyspark/ml/param/shared.py\n",
            "spark-2.4.7-bin-hadoop2.7/python/pyspark/ml/feature.py\n",
            "spark-2.4.7-bin-hadoop2.7/python/pyspark/ml/regression.py\n",
            "spark-2.4.7-bin-hadoop2.7/python/pyspark/ml/stat.py\n",
            "spark-2.4.7-bin-hadoop2.7/python/pyspark/ml/common.py\n",
            "spark-2.4.7-bin-hadoop2.7/python/pyspark/ml/evaluation.py\n",
            "spark-2.4.7-bin-hadoop2.7/python/pyspark/ml/tests.py\n",
            "spark-2.4.7-bin-hadoop2.7/python/pyspark/ml/image.py\n",
            "spark-2.4.7-bin-hadoop2.7/python/pyspark/ml/pipeline.py\n",
            "spark-2.4.7-bin-hadoop2.7/python/pyspark/ml/fpm.py\n",
            "spark-2.4.7-bin-hadoop2.7/python/pyspark/ml/base.py\n",
            "spark-2.4.7-bin-hadoop2.7/python/pyspark/resultiterable.py\n",
            "spark-2.4.7-bin-hadoop2.7/python/pyspark/tests.py\n",
            "spark-2.4.7-bin-hadoop2.7/python/pyspark/conf.py\n",
            "spark-2.4.7-bin-hadoop2.7/python/pyspark/broadcast.py\n",
            "spark-2.4.7-bin-hadoop2.7/python/pyspark/accumulators.py\n",
            "spark-2.4.7-bin-hadoop2.7/python/pyspark/python/\n",
            "spark-2.4.7-bin-hadoop2.7/python/pyspark/python/pyspark/\n",
            "spark-2.4.7-bin-hadoop2.7/python/pyspark/python/pyspark/shell.py\n",
            "spark-2.4.7-bin-hadoop2.7/python/pyspark/status.py\n",
            "spark-2.4.7-bin-hadoop2.7/python/pyspark/test_broadcast.py\n",
            "spark-2.4.7-bin-hadoop2.7/python/pyspark/mllib/\n",
            "spark-2.4.7-bin-hadoop2.7/python/pyspark/mllib/recommendation.py\n",
            "spark-2.4.7-bin-hadoop2.7/python/pyspark/mllib/linalg/\n",
            "spark-2.4.7-bin-hadoop2.7/python/pyspark/mllib/linalg/distributed.py\n",
            "spark-2.4.7-bin-hadoop2.7/python/pyspark/mllib/linalg/__init__.py\n",
            "spark-2.4.7-bin-hadoop2.7/python/pyspark/mllib/clustering.py\n",
            "spark-2.4.7-bin-hadoop2.7/python/pyspark/mllib/random.py\n",
            "spark-2.4.7-bin-hadoop2.7/python/pyspark/mllib/__init__.py\n",
            "spark-2.4.7-bin-hadoop2.7/python/pyspark/mllib/util.py\n",
            "spark-2.4.7-bin-hadoop2.7/python/pyspark/mllib/classification.py\n",
            "spark-2.4.7-bin-hadoop2.7/python/pyspark/mllib/stat/\n",
            "spark-2.4.7-bin-hadoop2.7/python/pyspark/mllib/stat/_statistics.py\n",
            "spark-2.4.7-bin-hadoop2.7/python/pyspark/mllib/stat/__init__.py\n",
            "spark-2.4.7-bin-hadoop2.7/python/pyspark/mllib/stat/KernelDensity.py\n",
            "spark-2.4.7-bin-hadoop2.7/python/pyspark/mllib/stat/distribution.py\n",
            "spark-2.4.7-bin-hadoop2.7/python/pyspark/mllib/stat/test.py\n",
            "spark-2.4.7-bin-hadoop2.7/python/pyspark/mllib/feature.py\n",
            "spark-2.4.7-bin-hadoop2.7/python/pyspark/mllib/regression.py\n",
            "spark-2.4.7-bin-hadoop2.7/python/pyspark/mllib/common.py\n",
            "spark-2.4.7-bin-hadoop2.7/python/pyspark/mllib/evaluation.py\n",
            "spark-2.4.7-bin-hadoop2.7/python/pyspark/mllib/tests.py\n",
            "spark-2.4.7-bin-hadoop2.7/python/pyspark/mllib/tree.py\n",
            "spark-2.4.7-bin-hadoop2.7/python/pyspark/mllib/fpm.py\n",
            "spark-2.4.7-bin-hadoop2.7/python/pyspark/rdd.py\n",
            "spark-2.4.7-bin-hadoop2.7/python/pyspark/storagelevel.py\n",
            "spark-2.4.7-bin-hadoop2.7/python/dist/\n",
            "spark-2.4.7-bin-hadoop2.7/python/setup.cfg\n",
            "spark-2.4.7-bin-hadoop2.7/python/pyspark.egg-info/\n",
            "spark-2.4.7-bin-hadoop2.7/python/pyspark.egg-info/top_level.txt\n",
            "spark-2.4.7-bin-hadoop2.7/python/pyspark.egg-info/SOURCES.txt\n",
            "spark-2.4.7-bin-hadoop2.7/python/pyspark.egg-info/PKG-INFO\n",
            "spark-2.4.7-bin-hadoop2.7/python/pyspark.egg-info/requires.txt\n",
            "spark-2.4.7-bin-hadoop2.7/python/pyspark.egg-info/dependency_links.txt\n",
            "spark-2.4.7-bin-hadoop2.7/python/docs/\n",
            "spark-2.4.7-bin-hadoop2.7/python/docs/pyspark.ml.rst\n",
            "spark-2.4.7-bin-hadoop2.7/python/docs/epytext.py\n",
            "spark-2.4.7-bin-hadoop2.7/python/docs/Makefile\n",
            "spark-2.4.7-bin-hadoop2.7/python/docs/pyspark.sql.rst\n",
            "spark-2.4.7-bin-hadoop2.7/python/docs/pyspark.streaming.rst\n",
            "spark-2.4.7-bin-hadoop2.7/python/docs/pyspark.mllib.rst\n",
            "spark-2.4.7-bin-hadoop2.7/python/docs/make.bat\n",
            "spark-2.4.7-bin-hadoop2.7/python/docs/conf.py\n",
            "spark-2.4.7-bin-hadoop2.7/python/docs/_templates/\n",
            "spark-2.4.7-bin-hadoop2.7/python/docs/_templates/layout.html\n",
            "spark-2.4.7-bin-hadoop2.7/python/docs/_static/\n",
            "spark-2.4.7-bin-hadoop2.7/python/docs/_static/pyspark.js\n",
            "spark-2.4.7-bin-hadoop2.7/python/docs/_static/pyspark.css\n",
            "spark-2.4.7-bin-hadoop2.7/python/docs/make2.bat\n",
            "spark-2.4.7-bin-hadoop2.7/python/docs/index.rst\n",
            "spark-2.4.7-bin-hadoop2.7/python/docs/pyspark.rst\n",
            "spark-2.4.7-bin-hadoop2.7/python/run-tests\n",
            "spark-2.4.7-bin-hadoop2.7/python/test_coverage/\n",
            "spark-2.4.7-bin-hadoop2.7/python/test_coverage/conf/\n",
            "spark-2.4.7-bin-hadoop2.7/python/test_coverage/conf/spark-defaults.conf\n",
            "spark-2.4.7-bin-hadoop2.7/python/test_coverage/coverage_daemon.py\n",
            "spark-2.4.7-bin-hadoop2.7/python/test_coverage/sitecustomize.py\n",
            "spark-2.4.7-bin-hadoop2.7/examples/\n",
            "spark-2.4.7-bin-hadoop2.7/examples/src/\n",
            "spark-2.4.7-bin-hadoop2.7/examples/src/main/\n",
            "spark-2.4.7-bin-hadoop2.7/examples/src/main/r/\n",
            "spark-2.4.7-bin-hadoop2.7/examples/src/main/r/dataframe.R\n",
            "spark-2.4.7-bin-hadoop2.7/examples/src/main/r/data-manipulation.R\n",
            "spark-2.4.7-bin-hadoop2.7/examples/src/main/r/RSparkSQLExample.R\n",
            "spark-2.4.7-bin-hadoop2.7/examples/src/main/r/streaming/\n",
            "spark-2.4.7-bin-hadoop2.7/examples/src/main/r/streaming/structured_network_wordcount.R\n",
            "spark-2.4.7-bin-hadoop2.7/examples/src/main/r/ml/\n",
            "spark-2.4.7-bin-hadoop2.7/examples/src/main/r/ml/fpm.R\n",
            "spark-2.4.7-bin-hadoop2.7/examples/src/main/r/ml/glm.R\n",
            "spark-2.4.7-bin-hadoop2.7/examples/src/main/r/ml/mlp.R\n",
            "spark-2.4.7-bin-hadoop2.7/examples/src/main/r/ml/naiveBayes.R\n",
            "spark-2.4.7-bin-hadoop2.7/examples/src/main/r/ml/logit.R\n",
            "spark-2.4.7-bin-hadoop2.7/examples/src/main/r/ml/decisionTree.R\n",
            "spark-2.4.7-bin-hadoop2.7/examples/src/main/r/ml/svmLinear.R\n",
            "spark-2.4.7-bin-hadoop2.7/examples/src/main/r/ml/isoreg.R\n",
            "spark-2.4.7-bin-hadoop2.7/examples/src/main/r/ml/gaussianMixture.R\n",
            "spark-2.4.7-bin-hadoop2.7/examples/src/main/r/ml/randomForest.R\n",
            "spark-2.4.7-bin-hadoop2.7/examples/src/main/r/ml/gbt.R\n",
            "spark-2.4.7-bin-hadoop2.7/examples/src/main/r/ml/als.R\n",
            "spark-2.4.7-bin-hadoop2.7/examples/src/main/r/ml/lda.R\n",
            "spark-2.4.7-bin-hadoop2.7/examples/src/main/r/ml/ml.R\n",
            "spark-2.4.7-bin-hadoop2.7/examples/src/main/r/ml/survreg.R\n",
            "spark-2.4.7-bin-hadoop2.7/examples/src/main/r/ml/bisectingKmeans.R\n",
            "spark-2.4.7-bin-hadoop2.7/examples/src/main/r/ml/kmeans.R\n",
            "spark-2.4.7-bin-hadoop2.7/examples/src/main/r/ml/kstest.R\n",
            "spark-2.4.7-bin-hadoop2.7/examples/src/main/resources/\n",
            "spark-2.4.7-bin-hadoop2.7/examples/src/main/resources/users.avro\n",
            "spark-2.4.7-bin-hadoop2.7/examples/src/main/resources/people.txt\n",
            "spark-2.4.7-bin-hadoop2.7/examples/src/main/resources/people.csv\n",
            "spark-2.4.7-bin-hadoop2.7/examples/src/main/resources/users.parquet\n",
            "spark-2.4.7-bin-hadoop2.7/examples/src/main/resources/kv1.txt\n",
            "spark-2.4.7-bin-hadoop2.7/examples/src/main/resources/people.json\n",
            "spark-2.4.7-bin-hadoop2.7/examples/src/main/resources/employees.json\n",
            "spark-2.4.7-bin-hadoop2.7/examples/src/main/resources/user.avsc\n",
            "spark-2.4.7-bin-hadoop2.7/examples/src/main/resources/full_user.avsc\n",
            "spark-2.4.7-bin-hadoop2.7/examples/src/main/resources/users.orc\n",
            "spark-2.4.7-bin-hadoop2.7/examples/src/main/scala/\n",
            "spark-2.4.7-bin-hadoop2.7/examples/src/main/scala/org/\n",
            "spark-2.4.7-bin-hadoop2.7/examples/src/main/scala/org/apache/\n",
            "spark-2.4.7-bin-hadoop2.7/examples/src/main/scala/org/apache/spark/\n",
            "spark-2.4.7-bin-hadoop2.7/examples/src/main/scala/org/apache/spark/examples/\n",
            "spark-2.4.7-bin-hadoop2.7/examples/src/main/scala/org/apache/spark/examples/ExceptionHandlingTest.scala\n",
            "spark-2.4.7-bin-hadoop2.7/examples/src/main/scala/org/apache/spark/examples/GroupByTest.scala\n",
            "spark-2.4.7-bin-hadoop2.7/examples/src/main/scala/org/apache/spark/examples/LogQuery.scala\n",
            "spark-2.4.7-bin-hadoop2.7/examples/src/main/scala/org/apache/spark/examples/DriverSubmissionTest.scala\n",
            "spark-2.4.7-bin-hadoop2.7/examples/src/main/scala/org/apache/spark/examples/SparkPi.scala\n",
            "spark-2.4.7-bin-hadoop2.7/examples/src/main/scala/org/apache/spark/examples/SparkALS.scala\n",
            "spark-2.4.7-bin-hadoop2.7/examples/src/main/scala/org/apache/spark/examples/SparkRemoteFileTest.scala\n",
            "spark-2.4.7-bin-hadoop2.7/examples/src/main/scala/org/apache/spark/examples/SparkLR.scala\n",
            "spark-2.4.7-bin-hadoop2.7/examples/src/main/scala/org/apache/spark/examples/SparkKMeans.scala\n",
            "spark-2.4.7-bin-hadoop2.7/examples/src/main/scala/org/apache/spark/examples/SparkPageRank.scala\n",
            "spark-2.4.7-bin-hadoop2.7/examples/src/main/scala/org/apache/spark/examples/LocalPi.scala\n",
            "spark-2.4.7-bin-hadoop2.7/examples/src/main/scala/org/apache/spark/examples/BroadcastTest.scala\n",
            "spark-2.4.7-bin-hadoop2.7/examples/src/main/scala/org/apache/spark/examples/SimpleSkewedGroupByTest.scala\n",
            "spark-2.4.7-bin-hadoop2.7/examples/src/main/scala/org/apache/spark/examples/pythonconverters/\n",
            "spark-2.4.7-bin-hadoop2.7/examples/src/main/scala/org/apache/spark/examples/pythonconverters/AvroConverters.scala\n",
            "spark-2.4.7-bin-hadoop2.7/examples/src/main/scala/org/apache/spark/examples/LocalKMeans.scala\n",
            "spark-2.4.7-bin-hadoop2.7/examples/src/main/scala/org/apache/spark/examples/sql/\n",
            "spark-2.4.7-bin-hadoop2.7/examples/src/main/scala/org/apache/spark/examples/sql/UserDefinedTypedAggregation.scala\n",
            "spark-2.4.7-bin-hadoop2.7/examples/src/main/scala/org/apache/spark/examples/sql/SparkSQLExample.scala\n",
            "spark-2.4.7-bin-hadoop2.7/examples/src/main/scala/org/apache/spark/examples/sql/SQLDataSourceExample.scala\n",
            "spark-2.4.7-bin-hadoop2.7/examples/src/main/scala/org/apache/spark/examples/sql/RDDRelation.scala\n",
            "spark-2.4.7-bin-hadoop2.7/examples/src/main/scala/org/apache/spark/examples/sql/UserDefinedUntypedAggregation.scala\n",
            "spark-2.4.7-bin-hadoop2.7/examples/src/main/scala/org/apache/spark/examples/sql/streaming/\n",
            "spark-2.4.7-bin-hadoop2.7/examples/src/main/scala/org/apache/spark/examples/sql/streaming/StructuredNetworkWordCount.scala\n",
            "spark-2.4.7-bin-hadoop2.7/examples/src/main/scala/org/apache/spark/examples/sql/streaming/StructuredKafkaWordCount.scala\n",
            "spark-2.4.7-bin-hadoop2.7/examples/src/main/scala/org/apache/spark/examples/sql/streaming/StructuredSessionization.scala\n",
            "spark-2.4.7-bin-hadoop2.7/examples/src/main/scala/org/apache/spark/examples/sql/streaming/StructuredNetworkWordCountWindowed.scala\n",
            "spark-2.4.7-bin-hadoop2.7/examples/src/main/scala/org/apache/spark/examples/sql/hive/\n",
            "spark-2.4.7-bin-hadoop2.7/examples/src/main/scala/org/apache/spark/examples/sql/hive/SparkHiveExample.scala\n",
            "spark-2.4.7-bin-hadoop2.7/examples/src/main/scala/org/apache/spark/examples/SparkHdfsLR.scala\n",
            "spark-2.4.7-bin-hadoop2.7/examples/src/main/scala/org/apache/spark/examples/SparkTC.scala\n",
            "spark-2.4.7-bin-hadoop2.7/examples/src/main/scala/org/apache/spark/examples/LocalLR.scala\n",
            "spark-2.4.7-bin-hadoop2.7/examples/src/main/scala/org/apache/spark/examples/LocalFileLR.scala\n",
            "spark-2.4.7-bin-hadoop2.7/examples/src/main/scala/org/apache/spark/examples/streaming/\n",
            "spark-2.4.7-bin-hadoop2.7/examples/src/main/scala/org/apache/spark/examples/streaming/clickstream/\n",
            "spark-2.4.7-bin-hadoop2.7/examples/src/main/scala/org/apache/spark/examples/streaming/clickstream/PageViewStream.scala\n",
            "spark-2.4.7-bin-hadoop2.7/examples/src/main/scala/org/apache/spark/examples/streaming/clickstream/PageViewGenerator.scala\n",
            "spark-2.4.7-bin-hadoop2.7/examples/src/main/scala/org/apache/spark/examples/streaming/QueueStream.scala\n",
            "spark-2.4.7-bin-hadoop2.7/examples/src/main/scala/org/apache/spark/examples/streaming/RecoverableNetworkWordCount.scala\n",
            "spark-2.4.7-bin-hadoop2.7/examples/src/main/scala/org/apache/spark/examples/streaming/DirectKafkaWordCount.scala\n",
            "spark-2.4.7-bin-hadoop2.7/examples/src/main/scala/org/apache/spark/examples/streaming/StreamingExamples.scala\n",
            "spark-2.4.7-bin-hadoop2.7/examples/src/main/scala/org/apache/spark/examples/streaming/CustomReceiver.scala\n",
            "spark-2.4.7-bin-hadoop2.7/examples/src/main/scala/org/apache/spark/examples/streaming/NetworkWordCount.scala\n",
            "spark-2.4.7-bin-hadoop2.7/examples/src/main/scala/org/apache/spark/examples/streaming/StatefulNetworkWordCount.scala\n",
            "spark-2.4.7-bin-hadoop2.7/examples/src/main/scala/org/apache/spark/examples/streaming/SqlNetworkWordCount.scala\n",
            "spark-2.4.7-bin-hadoop2.7/examples/src/main/scala/org/apache/spark/examples/streaming/HdfsWordCount.scala\n",
            "spark-2.4.7-bin-hadoop2.7/examples/src/main/scala/org/apache/spark/examples/streaming/RawNetworkGrep.scala\n",
            "spark-2.4.7-bin-hadoop2.7/examples/src/main/scala/org/apache/spark/examples/MultiBroadcastTest.scala\n",
            "spark-2.4.7-bin-hadoop2.7/examples/src/main/scala/org/apache/spark/examples/ml/\n",
            "spark-2.4.7-bin-hadoop2.7/examples/src/main/scala/org/apache/spark/examples/ml/StringIndexerExample.scala\n",
            "spark-2.4.7-bin-hadoop2.7/examples/src/main/scala/org/apache/spark/examples/ml/StopWordsRemoverExample.scala\n",
            "spark-2.4.7-bin-hadoop2.7/examples/src/main/scala/org/apache/spark/examples/ml/ModelSelectionViaTrainValidationSplitExample.scala\n",
            "spark-2.4.7-bin-hadoop2.7/examples/src/main/scala/org/apache/spark/examples/ml/StandardScalerExample.scala\n",
            "spark-2.4.7-bin-hadoop2.7/examples/src/main/scala/org/apache/spark/examples/ml/ImputerExample.scala\n",
            "spark-2.4.7-bin-hadoop2.7/examples/src/main/scala/org/apache/spark/examples/ml/CorrelationExample.scala\n",
            "spark-2.4.7-bin-hadoop2.7/examples/src/main/scala/org/apache/spark/examples/ml/ElementwiseProductExample.scala\n",
            "spark-2.4.7-bin-hadoop2.7/examples/src/main/scala/org/apache/spark/examples/ml/NormalizerExample.scala\n",
            "spark-2.4.7-bin-hadoop2.7/examples/src/main/scala/org/apache/spark/examples/ml/ChiSqSelectorExample.scala\n",
            "spark-2.4.7-bin-hadoop2.7/examples/src/main/scala/org/apache/spark/examples/ml/NaiveBayesExample.scala\n",
            "spark-2.4.7-bin-hadoop2.7/examples/src/main/scala/org/apache/spark/examples/ml/SQLTransformerExample.scala\n",
            "spark-2.4.7-bin-hadoop2.7/examples/src/main/scala/org/apache/spark/examples/ml/MinHashLSHExample.scala\n",
            "spark-2.4.7-bin-hadoop2.7/examples/src/main/scala/org/apache/spark/examples/ml/FPGrowthExample.scala\n",
            "spark-2.4.7-bin-hadoop2.7/examples/src/main/scala/org/apache/spark/examples/ml/LogisticRegressionSummaryExample.scala\n",
            "spark-2.4.7-bin-hadoop2.7/examples/src/main/scala/org/apache/spark/examples/ml/DataFrameExample.scala\n",
            "spark-2.4.7-bin-hadoop2.7/examples/src/main/scala/org/apache/spark/examples/ml/VectorSlicerExample.scala\n",
            "spark-2.4.7-bin-hadoop2.7/examples/src/main/scala/org/apache/spark/examples/ml/VectorAssemblerExample.scala\n",
            "spark-2.4.7-bin-hadoop2.7/examples/src/main/scala/org/apache/spark/examples/ml/VectorSizeHintExample.scala\n",
            "spark-2.4.7-bin-hadoop2.7/examples/src/main/scala/org/apache/spark/examples/ml/DecisionTreeClassificationExample.scala\n",
            "spark-2.4.7-bin-hadoop2.7/examples/src/main/scala/org/apache/spark/examples/ml/RFormulaExample.scala\n",
            "spark-2.4.7-bin-hadoop2.7/examples/src/main/scala/org/apache/spark/examples/ml/BinarizerExample.scala\n",
            "spark-2.4.7-bin-hadoop2.7/examples/src/main/scala/org/apache/spark/examples/ml/TfIdfExample.scala\n",
            "spark-2.4.7-bin-hadoop2.7/examples/src/main/scala/org/apache/spark/examples/ml/RandomForestRegressorExample.scala\n",
            "spark-2.4.7-bin-hadoop2.7/examples/src/main/scala/org/apache/spark/examples/ml/LinearSVCExample.scala\n",
            "spark-2.4.7-bin-hadoop2.7/examples/src/main/scala/org/apache/spark/examples/ml/DecisionTreeRegressionExample.scala\n",
            "spark-2.4.7-bin-hadoop2.7/examples/src/main/scala/org/apache/spark/examples/ml/MinMaxScalerExample.scala\n",
            "spark-2.4.7-bin-hadoop2.7/examples/src/main/scala/org/apache/spark/examples/ml/CountVectorizerExample.scala\n",
            "spark-2.4.7-bin-hadoop2.7/examples/src/main/scala/org/apache/spark/examples/ml/DecisionTreeExample.scala\n",
            "spark-2.4.7-bin-hadoop2.7/examples/src/main/scala/org/apache/spark/examples/ml/LinearRegressionWithElasticNetExample.scala\n",
            "spark-2.4.7-bin-hadoop2.7/examples/src/main/scala/org/apache/spark/examples/ml/FeatureHasherExample.scala\n",
            "spark-2.4.7-bin-hadoop2.7/examples/src/main/scala/org/apache/spark/examples/ml/ALSExample.scala\n",
            "spark-2.4.7-bin-hadoop2.7/examples/src/main/scala/org/apache/spark/examples/ml/GeneralizedLinearRegressionExample.scala\n",
            "spark-2.4.7-bin-hadoop2.7/examples/src/main/scala/org/apache/spark/examples/ml/LinearRegressionExample.scala\n",
            "spark-2.4.7-bin-hadoop2.7/examples/src/main/scala/org/apache/spark/examples/ml/VectorIndexerExample.scala\n",
            "spark-2.4.7-bin-hadoop2.7/examples/src/main/scala/org/apache/spark/examples/ml/BucketizerExample.scala\n",
            "spark-2.4.7-bin-hadoop2.7/examples/src/main/scala/org/apache/spark/examples/ml/AFTSurvivalRegressionExample.scala\n",
            "spark-2.4.7-bin-hadoop2.7/examples/src/main/scala/org/apache/spark/examples/ml/TokenizerExample.scala\n",
            "spark-2.4.7-bin-hadoop2.7/examples/src/main/scala/org/apache/spark/examples/ml/QuantileDiscretizerExample.scala\n",
            "spark-2.4.7-bin-hadoop2.7/examples/src/main/scala/org/apache/spark/examples/ml/GaussianMixtureExample.scala\n",
            "spark-2.4.7-bin-hadoop2.7/examples/src/main/scala/org/apache/spark/examples/ml/DeveloperApiExample.scala\n",
            "spark-2.4.7-bin-hadoop2.7/examples/src/main/scala/org/apache/spark/examples/ml/IsotonicRegressionExample.scala\n",
            "spark-2.4.7-bin-hadoop2.7/examples/src/main/scala/org/apache/spark/examples/ml/GBTExample.scala\n",
            "spark-2.4.7-bin-hadoop2.7/examples/src/main/scala/org/apache/spark/examples/ml/MaxAbsScalerExample.scala\n",
            "spark-2.4.7-bin-hadoop2.7/examples/src/main/scala/org/apache/spark/examples/ml/ChiSquareTestExample.scala\n",
            "spark-2.4.7-bin-hadoop2.7/examples/src/main/scala/org/apache/spark/examples/ml/BucketedRandomProjectionLSHExample.scala\n",
            "spark-2.4.7-bin-hadoop2.7/examples/src/main/scala/org/apache/spark/examples/ml/Word2VecExample.scala\n",
            "spark-2.4.7-bin-hadoop2.7/examples/src/main/scala/org/apache/spark/examples/ml/NGramExample.scala\n",
            "spark-2.4.7-bin-hadoop2.7/examples/src/main/scala/org/apache/spark/examples/ml/DCTExample.scala\n",
            "spark-2.4.7-bin-hadoop2.7/examples/src/main/scala/org/apache/spark/examples/ml/LDAExample.scala\n",
            "spark-2.4.7-bin-hadoop2.7/examples/src/main/scala/org/apache/spark/examples/ml/SummarizerExample.scala\n",
            "spark-2.4.7-bin-hadoop2.7/examples/src/main/scala/org/apache/spark/examples/ml/InteractionExample.scala\n",
            "spark-2.4.7-bin-hadoop2.7/examples/src/main/scala/org/apache/spark/examples/ml/RandomForestClassifierExample.scala\n",
            "spark-2.4.7-bin-hadoop2.7/examples/src/main/scala/org/apache/spark/examples/ml/RandomForestExample.scala\n",
            "spark-2.4.7-bin-hadoop2.7/examples/src/main/scala/org/apache/spark/examples/ml/ModelSelectionViaCrossValidationExample.scala\n",
            "spark-2.4.7-bin-hadoop2.7/examples/src/main/scala/org/apache/spark/examples/ml/KMeansExample.scala\n",
            "spark-2.4.7-bin-hadoop2.7/examples/src/main/scala/org/apache/spark/examples/ml/GradientBoostedTreeRegressorExample.scala\n",
            "spark-2.4.7-bin-hadoop2.7/examples/src/main/scala/org/apache/spark/examples/ml/UnaryTransformerExample.scala\n",
            "spark-2.4.7-bin-hadoop2.7/examples/src/main/scala/org/apache/spark/examples/ml/PolynomialExpansionExample.scala\n",
            "spark-2.4.7-bin-hadoop2.7/examples/src/main/scala/org/apache/spark/examples/ml/IndexToStringExample.scala\n",
            "spark-2.4.7-bin-hadoop2.7/examples/src/main/scala/org/apache/spark/examples/ml/LogisticRegressionWithElasticNetExample.scala\n",
            "spark-2.4.7-bin-hadoop2.7/examples/src/main/scala/org/apache/spark/examples/ml/BisectingKMeansExample.scala\n",
            "spark-2.4.7-bin-hadoop2.7/examples/src/main/scala/org/apache/spark/examples/ml/LogisticRegressionExample.scala\n",
            "spark-2.4.7-bin-hadoop2.7/examples/src/main/scala/org/apache/spark/examples/ml/MulticlassLogisticRegressionWithElasticNetExample.scala\n",
            "spark-2.4.7-bin-hadoop2.7/examples/src/main/scala/org/apache/spark/examples/ml/PipelineExample.scala\n",
            "spark-2.4.7-bin-hadoop2.7/examples/src/main/scala/org/apache/spark/examples/ml/PCAExample.scala\n",
            "spark-2.4.7-bin-hadoop2.7/examples/src/main/scala/org/apache/spark/examples/ml/OneVsRestExample.scala\n",
            "spark-2.4.7-bin-hadoop2.7/examples/src/main/scala/org/apache/spark/examples/ml/MultilayerPerceptronClassifierExample.scala\n",
            "spark-2.4.7-bin-hadoop2.7/examples/src/main/scala/org/apache/spark/examples/ml/EstimatorTransformerParamExample.scala\n",
            "spark-2.4.7-bin-hadoop2.7/examples/src/main/scala/org/apache/spark/examples/ml/OneHotEncoderEstimatorExample.scala\n",
            "spark-2.4.7-bin-hadoop2.7/examples/src/main/scala/org/apache/spark/examples/ml/GradientBoostedTreeClassifierExample.scala\n",
            "spark-2.4.7-bin-hadoop2.7/examples/src/main/scala/org/apache/spark/examples/ml/PrefixSpanExample.scala\n",
            "spark-2.4.7-bin-hadoop2.7/examples/src/main/scala/org/apache/spark/examples/ml/PowerIterationClusteringExample.scala\n",
            "spark-2.4.7-bin-hadoop2.7/examples/src/main/scala/org/apache/spark/examples/HdfsTest.scala\n",
            "spark-2.4.7-bin-hadoop2.7/examples/src/main/scala/org/apache/spark/examples/LocalALS.scala\n",
            "spark-2.4.7-bin-hadoop2.7/examples/src/main/scala/org/apache/spark/examples/mllib/\n",
            "spark-2.4.7-bin-hadoop2.7/examples/src/main/scala/org/apache/spark/examples/mllib/LinearRegressionWithSGDExample.scala\n",
            "spark-2.4.7-bin-hadoop2.7/examples/src/main/scala/org/apache/spark/examples/mllib/StandardScalerExample.scala\n",
            "spark-2.4.7-bin-hadoop2.7/examples/src/main/scala/org/apache/spark/examples/mllib/MultiLabelMetricsExample.scala\n",
            "spark-2.4.7-bin-hadoop2.7/examples/src/main/scala/org/apache/spark/examples/mllib/HypothesisTestingKolmogorovSmirnovTestExample.scala\n",
            "spark-2.4.7-bin-hadoop2.7/examples/src/main/scala/org/apache/spark/examples/mllib/StreamingLogisticRegression.scala\n",
            "spark-2.4.7-bin-hadoop2.7/examples/src/main/scala/org/apache/spark/examples/mllib/RandomForestRegressionExample.scala\n",
            "spark-2.4.7-bin-hadoop2.7/examples/src/main/scala/org/apache/spark/examples/mllib/RandomForestClassificationExample.scala\n",
            "spark-2.4.7-bin-hadoop2.7/examples/src/main/scala/org/apache/spark/examples/mllib/ElementwiseProductExample.scala\n",
            "spark-2.4.7-bin-hadoop2.7/examples/src/main/scala/org/apache/spark/examples/mllib/NormalizerExample.scala\n",
            "spark-2.4.7-bin-hadoop2.7/examples/src/main/scala/org/apache/spark/examples/mllib/ChiSqSelectorExample.scala\n",
            "spark-2.4.7-bin-hadoop2.7/examples/src/main/scala/org/apache/spark/examples/mllib/NaiveBayesExample.scala\n",
            "spark-2.4.7-bin-hadoop2.7/examples/src/main/scala/org/apache/spark/examples/mllib/RecommendationExample.scala\n",
            "spark-2.4.7-bin-hadoop2.7/examples/src/main/scala/org/apache/spark/examples/mllib/BinaryClassification.scala\n",
            "spark-2.4.7-bin-hadoop2.7/examples/src/main/scala/org/apache/spark/examples/mllib/StreamingTestExample.scala\n",
            "spark-2.4.7-bin-hadoop2.7/examples/src/main/scala/org/apache/spark/examples/mllib/FPGrowthExample.scala\n",
            "spark-2.4.7-bin-hadoop2.7/examples/src/main/scala/org/apache/spark/examples/mllib/GradientBoostingClassificationExample.scala\n",
            "spark-2.4.7-bin-hadoop2.7/examples/src/main/scala/org/apache/spark/examples/mllib/BinaryClassificationMetricsExample.scala\n",
            "spark-2.4.7-bin-hadoop2.7/examples/src/main/scala/org/apache/spark/examples/mllib/AssociationRulesExample.scala\n",
            "spark-2.4.7-bin-hadoop2.7/examples/src/main/scala/org/apache/spark/examples/mllib/DecisionTreeRunner.scala\n",
            "spark-2.4.7-bin-hadoop2.7/examples/src/main/scala/org/apache/spark/examples/mllib/DecisionTreeClassificationExample.scala\n",
            "spark-2.4.7-bin-hadoop2.7/examples/src/main/scala/org/apache/spark/examples/mllib/MulticlassMetricsExample.scala\n",
            "spark-2.4.7-bin-hadoop2.7/examples/src/main/scala/org/apache/spark/examples/mllib/RankingMetricsExample.scala\n",
            "spark-2.4.7-bin-hadoop2.7/examples/src/main/scala/org/apache/spark/examples/mllib/StreamingLinearRegressionExample.scala\n",
            "spark-2.4.7-bin-hadoop2.7/examples/src/main/scala/org/apache/spark/examples/mllib/MovieLensALS.scala\n",
            "spark-2.4.7-bin-hadoop2.7/examples/src/main/scala/org/apache/spark/examples/mllib/DecisionTreeRegressionExample.scala\n",
            "spark-2.4.7-bin-hadoop2.7/examples/src/main/scala/org/apache/spark/examples/mllib/TallSkinnySVD.scala\n",
            "spark-2.4.7-bin-hadoop2.7/examples/src/main/scala/org/apache/spark/examples/mllib/SummaryStatisticsExample.scala\n",
            "spark-2.4.7-bin-hadoop2.7/examples/src/main/scala/org/apache/spark/examples/mllib/CosineSimilarity.scala\n",
            "spark-2.4.7-bin-hadoop2.7/examples/src/main/scala/org/apache/spark/examples/mllib/CorrelationsExample.scala\n",
            "spark-2.4.7-bin-hadoop2.7/examples/src/main/scala/org/apache/spark/examples/mllib/LatentDirichletAllocationExample.scala\n",
            "spark-2.4.7-bin-hadoop2.7/examples/src/main/scala/org/apache/spark/examples/mllib/LBFGSExample.scala\n",
            "spark-2.4.7-bin-hadoop2.7/examples/src/main/scala/org/apache/spark/examples/mllib/PCAOnRowMatrixExample.scala\n",
            "spark-2.4.7-bin-hadoop2.7/examples/src/main/scala/org/apache/spark/examples/mllib/SVDExample.scala\n",
            "spark-2.4.7-bin-hadoop2.7/examples/src/main/scala/org/apache/spark/examples/mllib/TFIDFExample.scala\n",
            "spark-2.4.7-bin-hadoop2.7/examples/src/main/scala/org/apache/spark/examples/mllib/GaussianMixtureExample.scala\n",
            "spark-2.4.7-bin-hadoop2.7/examples/src/main/scala/org/apache/spark/examples/mllib/SampledRDDs.scala\n",
            "spark-2.4.7-bin-hadoop2.7/examples/src/main/scala/org/apache/spark/examples/mllib/DenseKMeans.scala\n",
            "spark-2.4.7-bin-hadoop2.7/examples/src/main/scala/org/apache/spark/examples/mllib/IsotonicRegressionExample.scala\n",
            "spark-2.4.7-bin-hadoop2.7/examples/src/main/scala/org/apache/spark/examples/mllib/SVMWithSGDExample.scala\n",
            "spark-2.4.7-bin-hadoop2.7/examples/src/main/scala/org/apache/spark/examples/mllib/GradientBoostingRegressionExample.scala\n",
            "spark-2.4.7-bin-hadoop2.7/examples/src/main/scala/org/apache/spark/examples/mllib/StratifiedSamplingExample.scala\n",
            "spark-2.4.7-bin-hadoop2.7/examples/src/main/scala/org/apache/spark/examples/mllib/StreamingKMeansExample.scala\n",
            "spark-2.4.7-bin-hadoop2.7/examples/src/main/scala/org/apache/spark/examples/mllib/SparseNaiveBayes.scala\n",
            "spark-2.4.7-bin-hadoop2.7/examples/src/main/scala/org/apache/spark/examples/mllib/Word2VecExample.scala\n",
            "spark-2.4.7-bin-hadoop2.7/examples/src/main/scala/org/apache/spark/examples/mllib/LDAExample.scala\n",
            "spark-2.4.7-bin-hadoop2.7/examples/src/main/scala/org/apache/spark/examples/mllib/PMMLModelExportExample.scala\n",
            "spark-2.4.7-bin-hadoop2.7/examples/src/main/scala/org/apache/spark/examples/mllib/Correlations.scala\n",
            "spark-2.4.7-bin-hadoop2.7/examples/src/main/scala/org/apache/spark/examples/mllib/MultivariateSummarizer.scala\n",
            "spark-2.4.7-bin-hadoop2.7/examples/src/main/scala/org/apache/spark/examples/mllib/KMeansExample.scala\n",
            "spark-2.4.7-bin-hadoop2.7/examples/src/main/scala/org/apache/spark/examples/mllib/LinearRegression.scala\n",
            "spark-2.4.7-bin-hadoop2.7/examples/src/main/scala/org/apache/spark/examples/mllib/KernelDensityEstimationExample.scala\n",
            "spark-2.4.7-bin-hadoop2.7/examples/src/main/scala/org/apache/spark/examples/mllib/PCAOnSourceVectorExample.scala\n",
            "spark-2.4.7-bin-hadoop2.7/examples/src/main/scala/org/apache/spark/examples/mllib/RandomRDDGeneration.scala\n",
            "spark-2.4.7-bin-hadoop2.7/examples/src/main/scala/org/apache/spark/examples/mllib/TallSkinnyPCA.scala\n",
            "spark-2.4.7-bin-hadoop2.7/examples/src/main/scala/org/apache/spark/examples/mllib/GradientBoostedTreesRunner.scala\n",
            "spark-2.4.7-bin-hadoop2.7/examples/src/main/scala/org/apache/spark/examples/mllib/LogisticRegressionWithLBFGSExample.scala\n",
            "spark-2.4.7-bin-hadoop2.7/examples/src/main/scala/org/apache/spark/examples/mllib/BisectingKMeansExample.scala\n",
            "spark-2.4.7-bin-hadoop2.7/examples/src/main/scala/org/apache/spark/examples/mllib/PCAExample.scala\n",
            "spark-2.4.7-bin-hadoop2.7/examples/src/main/scala/org/apache/spark/examples/mllib/RegressionMetricsExample.scala\n",
            "spark-2.4.7-bin-hadoop2.7/examples/src/main/scala/org/apache/spark/examples/mllib/AbstractParams.scala\n",
            "spark-2.4.7-bin-hadoop2.7/examples/src/main/scala/org/apache/spark/examples/mllib/PrefixSpanExample.scala\n",
            "spark-2.4.7-bin-hadoop2.7/examples/src/main/scala/org/apache/spark/examples/mllib/HypothesisTestingExample.scala\n",
            "spark-2.4.7-bin-hadoop2.7/examples/src/main/scala/org/apache/spark/examples/mllib/SimpleFPGrowth.scala\n",
            "spark-2.4.7-bin-hadoop2.7/examples/src/main/scala/org/apache/spark/examples/mllib/PowerIterationClusteringExample.scala\n",
            "spark-2.4.7-bin-hadoop2.7/examples/src/main/scala/org/apache/spark/examples/graphx/\n",
            "spark-2.4.7-bin-hadoop2.7/examples/src/main/scala/org/apache/spark/examples/graphx/AggregateMessagesExample.scala\n",
            "spark-2.4.7-bin-hadoop2.7/examples/src/main/scala/org/apache/spark/examples/graphx/SynthBenchmark.scala\n",
            "spark-2.4.7-bin-hadoop2.7/examples/src/main/scala/org/apache/spark/examples/graphx/TriangleCountingExample.scala\n",
            "spark-2.4.7-bin-hadoop2.7/examples/src/main/scala/org/apache/spark/examples/graphx/ComprehensiveExample.scala\n",
            "spark-2.4.7-bin-hadoop2.7/examples/src/main/scala/org/apache/spark/examples/graphx/Analytics.scala\n",
            "spark-2.4.7-bin-hadoop2.7/examples/src/main/scala/org/apache/spark/examples/graphx/SSSPExample.scala\n",
            "spark-2.4.7-bin-hadoop2.7/examples/src/main/scala/org/apache/spark/examples/graphx/ConnectedComponentsExample.scala\n",
            "spark-2.4.7-bin-hadoop2.7/examples/src/main/scala/org/apache/spark/examples/graphx/PageRankExample.scala\n",
            "spark-2.4.7-bin-hadoop2.7/examples/src/main/scala/org/apache/spark/examples/graphx/LiveJournalPageRank.scala\n",
            "spark-2.4.7-bin-hadoop2.7/examples/src/main/scala/org/apache/spark/examples/SkewedGroupByTest.scala\n",
            "spark-2.4.7-bin-hadoop2.7/examples/src/main/scala/org/apache/spark/examples/DFSReadWriteTest.scala\n",
            "spark-2.4.7-bin-hadoop2.7/examples/src/main/java/\n",
            "spark-2.4.7-bin-hadoop2.7/examples/src/main/java/org/\n",
            "spark-2.4.7-bin-hadoop2.7/examples/src/main/java/org/apache/\n",
            "spark-2.4.7-bin-hadoop2.7/examples/src/main/java/org/apache/spark/\n",
            "spark-2.4.7-bin-hadoop2.7/examples/src/main/java/org/apache/spark/examples/\n",
            "spark-2.4.7-bin-hadoop2.7/examples/src/main/java/org/apache/spark/examples/JavaTC.java\n",
            "spark-2.4.7-bin-hadoop2.7/examples/src/main/java/org/apache/spark/examples/JavaStatusTrackerDemo.java\n",
            "spark-2.4.7-bin-hadoop2.7/examples/src/main/java/org/apache/spark/examples/JavaWordCount.java\n",
            "spark-2.4.7-bin-hadoop2.7/examples/src/main/java/org/apache/spark/examples/JavaPageRank.java\n",
            "spark-2.4.7-bin-hadoop2.7/examples/src/main/java/org/apache/spark/examples/JavaHdfsLR.java\n",
            "spark-2.4.7-bin-hadoop2.7/examples/src/main/java/org/apache/spark/examples/sql/\n",
            "spark-2.4.7-bin-hadoop2.7/examples/src/main/java/org/apache/spark/examples/sql/JavaSparkSQLExample.java\n",
            "spark-2.4.7-bin-hadoop2.7/examples/src/main/java/org/apache/spark/examples/sql/JavaUserDefinedTypedAggregation.java\n",
            "spark-2.4.7-bin-hadoop2.7/examples/src/main/java/org/apache/spark/examples/sql/JavaSQLDataSourceExample.java\n",
            "spark-2.4.7-bin-hadoop2.7/examples/src/main/java/org/apache/spark/examples/sql/streaming/\n",
            "spark-2.4.7-bin-hadoop2.7/examples/src/main/java/org/apache/spark/examples/sql/streaming/JavaStructuredNetworkWordCount.java\n",
            "spark-2.4.7-bin-hadoop2.7/examples/src/main/java/org/apache/spark/examples/sql/streaming/JavaStructuredKafkaWordCount.java\n",
            "spark-2.4.7-bin-hadoop2.7/examples/src/main/java/org/apache/spark/examples/sql/streaming/JavaStructuredSessionization.java\n",
            "spark-2.4.7-bin-hadoop2.7/examples/src/main/java/org/apache/spark/examples/sql/streaming/JavaStructuredNetworkWordCountWindowed.java\n",
            "spark-2.4.7-bin-hadoop2.7/examples/src/main/java/org/apache/spark/examples/sql/JavaUserDefinedUntypedAggregation.java\n",
            "spark-2.4.7-bin-hadoop2.7/examples/src/main/java/org/apache/spark/examples/sql/hive/\n",
            "spark-2.4.7-bin-hadoop2.7/examples/src/main/java/org/apache/spark/examples/sql/hive/JavaSparkHiveExample.java\n",
            "spark-2.4.7-bin-hadoop2.7/examples/src/main/java/org/apache/spark/examples/streaming/\n",
            "spark-2.4.7-bin-hadoop2.7/examples/src/main/java/org/apache/spark/examples/streaming/JavaCustomReceiver.java\n",
            "spark-2.4.7-bin-hadoop2.7/examples/src/main/java/org/apache/spark/examples/streaming/JavaRecord.java\n",
            "spark-2.4.7-bin-hadoop2.7/examples/src/main/java/org/apache/spark/examples/streaming/JavaQueueStream.java\n",
            "spark-2.4.7-bin-hadoop2.7/examples/src/main/java/org/apache/spark/examples/streaming/JavaRecoverableNetworkWordCount.java\n",
            "spark-2.4.7-bin-hadoop2.7/examples/src/main/java/org/apache/spark/examples/streaming/JavaSqlNetworkWordCount.java\n",
            "spark-2.4.7-bin-hadoop2.7/examples/src/main/java/org/apache/spark/examples/streaming/JavaStatefulNetworkWordCount.java\n",
            "spark-2.4.7-bin-hadoop2.7/examples/src/main/java/org/apache/spark/examples/streaming/JavaDirectKafkaWordCount.java\n",
            "spark-2.4.7-bin-hadoop2.7/examples/src/main/java/org/apache/spark/examples/streaming/JavaNetworkWordCount.java\n",
            "spark-2.4.7-bin-hadoop2.7/examples/src/main/java/org/apache/spark/examples/ml/\n",
            "spark-2.4.7-bin-hadoop2.7/examples/src/main/java/org/apache/spark/examples/ml/JavaGradientBoostedTreeRegressorExample.java\n",
            "spark-2.4.7-bin-hadoop2.7/examples/src/main/java/org/apache/spark/examples/ml/JavaPowerIterationClusteringExample.java\n",
            "spark-2.4.7-bin-hadoop2.7/examples/src/main/java/org/apache/spark/examples/ml/JavaMaxAbsScalerExample.java\n",
            "spark-2.4.7-bin-hadoop2.7/examples/src/main/java/org/apache/spark/examples/ml/JavaGradientBoostedTreeClassifierExample.java\n",
            "spark-2.4.7-bin-hadoop2.7/examples/src/main/java/org/apache/spark/examples/ml/JavaSQLTransformerExample.java\n",
            "spark-2.4.7-bin-hadoop2.7/examples/src/main/java/org/apache/spark/examples/ml/JavaModelSelectionViaCrossValidationExample.java\n",
            "spark-2.4.7-bin-hadoop2.7/examples/src/main/java/org/apache/spark/examples/ml/JavaCorrelationExample.java\n",
            "spark-2.4.7-bin-hadoop2.7/examples/src/main/java/org/apache/spark/examples/ml/JavaDecisionTreeClassificationExample.java\n",
            "spark-2.4.7-bin-hadoop2.7/examples/src/main/java/org/apache/spark/examples/ml/JavaDocument.java\n",
            "spark-2.4.7-bin-hadoop2.7/examples/src/main/java/org/apache/spark/examples/ml/JavaChiSqSelectorExample.java\n",
            "spark-2.4.7-bin-hadoop2.7/examples/src/main/java/org/apache/spark/examples/ml/JavaLabeledDocument.java\n",
            "spark-2.4.7-bin-hadoop2.7/examples/src/main/java/org/apache/spark/examples/ml/JavaGaussianMixtureExample.java\n",
            "spark-2.4.7-bin-hadoop2.7/examples/src/main/java/org/apache/spark/examples/ml/JavaModelSelectionViaTrainValidationSplitExample.java\n",
            "spark-2.4.7-bin-hadoop2.7/examples/src/main/java/org/apache/spark/examples/ml/JavaDCTExample.java\n",
            "spark-2.4.7-bin-hadoop2.7/examples/src/main/java/org/apache/spark/examples/ml/JavaNaiveBayesExample.java\n",
            "spark-2.4.7-bin-hadoop2.7/examples/src/main/java/org/apache/spark/examples/ml/JavaRandomForestRegressorExample.java\n",
            "spark-2.4.7-bin-hadoop2.7/examples/src/main/java/org/apache/spark/examples/ml/JavaPolynomialExpansionExample.java\n",
            "spark-2.4.7-bin-hadoop2.7/examples/src/main/java/org/apache/spark/examples/ml/JavaLDAExample.java\n",
            "spark-2.4.7-bin-hadoop2.7/examples/src/main/java/org/apache/spark/examples/ml/JavaAFTSurvivalRegressionExample.java\n",
            "spark-2.4.7-bin-hadoop2.7/examples/src/main/java/org/apache/spark/examples/ml/JavaEstimatorTransformerParamExample.java\n",
            "spark-2.4.7-bin-hadoop2.7/examples/src/main/java/org/apache/spark/examples/ml/JavaMultilayerPerceptronClassifierExample.java\n",
            "spark-2.4.7-bin-hadoop2.7/examples/src/main/java/org/apache/spark/examples/ml/JavaRFormulaExample.java\n",
            "spark-2.4.7-bin-hadoop2.7/examples/src/main/java/org/apache/spark/examples/ml/JavaBucketedRandomProjectionLSHExample.java\n",
            "spark-2.4.7-bin-hadoop2.7/examples/src/main/java/org/apache/spark/examples/ml/JavaLogisticRegressionWithElasticNetExample.java\n",
            "spark-2.4.7-bin-hadoop2.7/examples/src/main/java/org/apache/spark/examples/ml/JavaVectorSlicerExample.java\n",
            "spark-2.4.7-bin-hadoop2.7/examples/src/main/java/org/apache/spark/examples/ml/JavaMinHashLSHExample.java\n",
            "spark-2.4.7-bin-hadoop2.7/examples/src/main/java/org/apache/spark/examples/ml/JavaBisectingKMeansExample.java\n",
            "spark-2.4.7-bin-hadoop2.7/examples/src/main/java/org/apache/spark/examples/ml/JavaStandardScalerExample.java\n",
            "spark-2.4.7-bin-hadoop2.7/examples/src/main/java/org/apache/spark/examples/ml/JavaIndexToStringExample.java\n",
            "spark-2.4.7-bin-hadoop2.7/examples/src/main/java/org/apache/spark/examples/ml/JavaPipelineExample.java\n",
            "spark-2.4.7-bin-hadoop2.7/examples/src/main/java/org/apache/spark/examples/ml/JavaNGramExample.java\n",
            "spark-2.4.7-bin-hadoop2.7/examples/src/main/java/org/apache/spark/examples/ml/JavaGeneralizedLinearRegressionExample.java\n",
            "spark-2.4.7-bin-hadoop2.7/examples/src/main/java/org/apache/spark/examples/ml/JavaIsotonicRegressionExample.java\n",
            "spark-2.4.7-bin-hadoop2.7/examples/src/main/java/org/apache/spark/examples/ml/JavaWord2VecExample.java\n",
            "spark-2.4.7-bin-hadoop2.7/examples/src/main/java/org/apache/spark/examples/ml/JavaFPGrowthExample.java\n",
            "spark-2.4.7-bin-hadoop2.7/examples/src/main/java/org/apache/spark/examples/ml/JavaMulticlassLogisticRegressionWithElasticNetExample.java\n",
            "spark-2.4.7-bin-hadoop2.7/examples/src/main/java/org/apache/spark/examples/ml/JavaVectorAssemblerExample.java\n",
            "spark-2.4.7-bin-hadoop2.7/examples/src/main/java/org/apache/spark/examples/ml/JavaLinearRegressionWithElasticNetExample.java\n",
            "spark-2.4.7-bin-hadoop2.7/examples/src/main/java/org/apache/spark/examples/ml/JavaElementwiseProductExample.java\n",
            "spark-2.4.7-bin-hadoop2.7/examples/src/main/java/org/apache/spark/examples/ml/JavaOneVsRestExample.java\n",
            "spark-2.4.7-bin-hadoop2.7/examples/src/main/java/org/apache/spark/examples/ml/JavaInteractionExample.java\n",
            "spark-2.4.7-bin-hadoop2.7/examples/src/main/java/org/apache/spark/examples/ml/JavaVectorSizeHintExample.java\n",
            "spark-2.4.7-bin-hadoop2.7/examples/src/main/java/org/apache/spark/examples/ml/JavaPrefixSpanExample.java\n",
            "spark-2.4.7-bin-hadoop2.7/examples/src/main/java/org/apache/spark/examples/ml/JavaNormalizerExample.java\n",
            "spark-2.4.7-bin-hadoop2.7/examples/src/main/java/org/apache/spark/examples/ml/JavaTokenizerExample.java\n",
            "spark-2.4.7-bin-hadoop2.7/examples/src/main/java/org/apache/spark/examples/ml/JavaLinearSVCExample.java\n",
            "spark-2.4.7-bin-hadoop2.7/examples/src/main/java/org/apache/spark/examples/ml/JavaVectorIndexerExample.java\n",
            "spark-2.4.7-bin-hadoop2.7/examples/src/main/java/org/apache/spark/examples/ml/JavaCountVectorizerExample.java\n",
            "spark-2.4.7-bin-hadoop2.7/examples/src/main/java/org/apache/spark/examples/ml/JavaStringIndexerExample.java\n",
            "spark-2.4.7-bin-hadoop2.7/examples/src/main/java/org/apache/spark/examples/ml/JavaBinarizerExample.java\n",
            "spark-2.4.7-bin-hadoop2.7/examples/src/main/java/org/apache/spark/examples/ml/JavaChiSquareTestExample.java\n",
            "spark-2.4.7-bin-hadoop2.7/examples/src/main/java/org/apache/spark/examples/ml/JavaPCAExample.java\n",
            "spark-2.4.7-bin-hadoop2.7/examples/src/main/java/org/apache/spark/examples/ml/JavaRandomForestClassifierExample.java\n",
            "spark-2.4.7-bin-hadoop2.7/examples/src/main/java/org/apache/spark/examples/ml/JavaSummarizerExample.java\n",
            "spark-2.4.7-bin-hadoop2.7/examples/src/main/java/org/apache/spark/examples/ml/JavaQuantileDiscretizerExample.java\n",
            "spark-2.4.7-bin-hadoop2.7/examples/src/main/java/org/apache/spark/examples/ml/JavaALSExample.java\n",
            "spark-2.4.7-bin-hadoop2.7/examples/src/main/java/org/apache/spark/examples/ml/JavaOneHotEncoderEstimatorExample.java\n",
            "spark-2.4.7-bin-hadoop2.7/examples/src/main/java/org/apache/spark/examples/ml/JavaFeatureHasherExample.java\n",
            "spark-2.4.7-bin-hadoop2.7/examples/src/main/java/org/apache/spark/examples/ml/JavaTfIdfExample.java\n",
            "spark-2.4.7-bin-hadoop2.7/examples/src/main/java/org/apache/spark/examples/ml/JavaStopWordsRemoverExample.java\n",
            "spark-2.4.7-bin-hadoop2.7/examples/src/main/java/org/apache/spark/examples/ml/JavaMinMaxScalerExample.java\n",
            "spark-2.4.7-bin-hadoop2.7/examples/src/main/java/org/apache/spark/examples/ml/JavaLogisticRegressionSummaryExample.java\n",
            "spark-2.4.7-bin-hadoop2.7/examples/src/main/java/org/apache/spark/examples/ml/JavaKMeansExample.java\n",
            "spark-2.4.7-bin-hadoop2.7/examples/src/main/java/org/apache/spark/examples/ml/JavaDecisionTreeRegressionExample.java\n",
            "spark-2.4.7-bin-hadoop2.7/examples/src/main/java/org/apache/spark/examples/ml/JavaBucketizerExample.java\n",
            "spark-2.4.7-bin-hadoop2.7/examples/src/main/java/org/apache/spark/examples/ml/JavaImputerExample.java\n",
            "spark-2.4.7-bin-hadoop2.7/examples/src/main/java/org/apache/spark/examples/JavaLogQuery.java\n",
            "spark-2.4.7-bin-hadoop2.7/examples/src/main/java/org/apache/spark/examples/JavaSparkPi.java\n",
            "spark-2.4.7-bin-hadoop2.7/examples/src/main/java/org/apache/spark/examples/mllib/\n",
            "spark-2.4.7-bin-hadoop2.7/examples/src/main/java/org/apache/spark/examples/mllib/JavaPowerIterationClusteringExample.java\n",
            "spark-2.4.7-bin-hadoop2.7/examples/src/main/java/org/apache/spark/examples/mllib/JavaALS.java\n",
            "spark-2.4.7-bin-hadoop2.7/examples/src/main/java/org/apache/spark/examples/mllib/JavaDecisionTreeClassificationExample.java\n",
            "spark-2.4.7-bin-hadoop2.7/examples/src/main/java/org/apache/spark/examples/mllib/JavaSVMWithSGDExample.java\n",
            "spark-2.4.7-bin-hadoop2.7/examples/src/main/java/org/apache/spark/examples/mllib/JavaLinearRegressionWithSGDExample.java\n",
            "spark-2.4.7-bin-hadoop2.7/examples/src/main/java/org/apache/spark/examples/mllib/JavaGradientBoostingClassificationExample.java\n",
            "spark-2.4.7-bin-hadoop2.7/examples/src/main/java/org/apache/spark/examples/mllib/JavaChiSqSelectorExample.java\n",
            "spark-2.4.7-bin-hadoop2.7/examples/src/main/java/org/apache/spark/examples/mllib/JavaRankingMetricsExample.java\n",
            "spark-2.4.7-bin-hadoop2.7/examples/src/main/java/org/apache/spark/examples/mllib/JavaKernelDensityEstimationExample.java\n",
            "spark-2.4.7-bin-hadoop2.7/examples/src/main/java/org/apache/spark/examples/mllib/JavaGaussianMixtureExample.java\n",
            "spark-2.4.7-bin-hadoop2.7/examples/src/main/java/org/apache/spark/examples/mllib/JavaNaiveBayesExample.java\n",
            "spark-2.4.7-bin-hadoop2.7/examples/src/main/java/org/apache/spark/examples/mllib/JavaStreamingTestExample.java\n",
            "spark-2.4.7-bin-hadoop2.7/examples/src/main/java/org/apache/spark/examples/mllib/JavaSimpleFPGrowth.java\n",
            "spark-2.4.7-bin-hadoop2.7/examples/src/main/java/org/apache/spark/examples/mllib/JavaAssociationRulesExample.java\n",
            "spark-2.4.7-bin-hadoop2.7/examples/src/main/java/org/apache/spark/examples/mllib/JavaLBFGSExample.java\n",
            "spark-2.4.7-bin-hadoop2.7/examples/src/main/java/org/apache/spark/examples/mllib/JavaBinaryClassificationMetricsExample.java\n",
            "spark-2.4.7-bin-hadoop2.7/examples/src/main/java/org/apache/spark/examples/mllib/JavaRecommendationExample.java\n",
            "spark-2.4.7-bin-hadoop2.7/examples/src/main/java/org/apache/spark/examples/mllib/JavaBisectingKMeansExample.java\n",
            "spark-2.4.7-bin-hadoop2.7/examples/src/main/java/org/apache/spark/examples/mllib/JavaHypothesisTestingExample.java\n",
            "spark-2.4.7-bin-hadoop2.7/examples/src/main/java/org/apache/spark/examples/mllib/JavaLatentDirichletAllocationExample.java\n",
            "spark-2.4.7-bin-hadoop2.7/examples/src/main/java/org/apache/spark/examples/mllib/JavaIsotonicRegressionExample.java\n",
            "spark-2.4.7-bin-hadoop2.7/examples/src/main/java/org/apache/spark/examples/mllib/JavaMulticlassClassificationMetricsExample.java\n",
            "spark-2.4.7-bin-hadoop2.7/examples/src/main/java/org/apache/spark/examples/mllib/JavaSVDExample.java\n",
            "spark-2.4.7-bin-hadoop2.7/examples/src/main/java/org/apache/spark/examples/mllib/JavaStratifiedSamplingExample.java\n",
            "spark-2.4.7-bin-hadoop2.7/examples/src/main/java/org/apache/spark/examples/mllib/JavaElementwiseProductExample.java\n",
            "spark-2.4.7-bin-hadoop2.7/examples/src/main/java/org/apache/spark/examples/mllib/JavaRegressionMetricsExample.java\n",
            "spark-2.4.7-bin-hadoop2.7/examples/src/main/java/org/apache/spark/examples/mllib/JavaLogisticRegressionWithLBFGSExample.java\n",
            "spark-2.4.7-bin-hadoop2.7/examples/src/main/java/org/apache/spark/examples/mllib/JavaPrefixSpanExample.java\n",
            "spark-2.4.7-bin-hadoop2.7/examples/src/main/java/org/apache/spark/examples/mllib/JavaRandomForestClassificationExample.java\n",
            "spark-2.4.7-bin-hadoop2.7/examples/src/main/java/org/apache/spark/examples/mllib/JavaHypothesisTestingKolmogorovSmirnovTestExample.java\n",
            "spark-2.4.7-bin-hadoop2.7/examples/src/main/java/org/apache/spark/examples/mllib/JavaRandomForestRegressionExample.java\n",
            "spark-2.4.7-bin-hadoop2.7/examples/src/main/java/org/apache/spark/examples/mllib/JavaCorrelationsExample.java\n",
            "spark-2.4.7-bin-hadoop2.7/examples/src/main/java/org/apache/spark/examples/mllib/JavaMultiLabelClassificationMetricsExample.java\n",
            "spark-2.4.7-bin-hadoop2.7/examples/src/main/java/org/apache/spark/examples/mllib/JavaPCAExample.java\n",
            "spark-2.4.7-bin-hadoop2.7/examples/src/main/java/org/apache/spark/examples/mllib/JavaKMeansExample.java\n",
            "spark-2.4.7-bin-hadoop2.7/examples/src/main/java/org/apache/spark/examples/mllib/JavaDecisionTreeRegressionExample.java\n",
            "spark-2.4.7-bin-hadoop2.7/examples/src/main/java/org/apache/spark/examples/mllib/JavaSummaryStatisticsExample.java\n",
            "spark-2.4.7-bin-hadoop2.7/examples/src/main/java/org/apache/spark/examples/mllib/JavaGradientBoostingRegressionExample.java\n",
            "spark-2.4.7-bin-hadoop2.7/examples/src/main/python/\n",
            "spark-2.4.7-bin-hadoop2.7/examples/src/main/python/parquet_inputformat.py\n",
            "spark-2.4.7-bin-hadoop2.7/examples/src/main/python/pagerank.py\n",
            "spark-2.4.7-bin-hadoop2.7/examples/src/main/python/transitive_closure.py\n",
            "spark-2.4.7-bin-hadoop2.7/examples/src/main/python/logistic_regression.py\n",
            "spark-2.4.7-bin-hadoop2.7/examples/src/main/python/kmeans.py\n",
            "spark-2.4.7-bin-hadoop2.7/examples/src/main/python/wordcount.py\n",
            "spark-2.4.7-bin-hadoop2.7/examples/src/main/python/sql/\n",
            "spark-2.4.7-bin-hadoop2.7/examples/src/main/python/sql/basic.py\n",
            "spark-2.4.7-bin-hadoop2.7/examples/src/main/python/sql/arrow.py\n",
            "spark-2.4.7-bin-hadoop2.7/examples/src/main/python/sql/hive.py\n",
            "spark-2.4.7-bin-hadoop2.7/examples/src/main/python/sql/streaming/\n",
            "spark-2.4.7-bin-hadoop2.7/examples/src/main/python/sql/streaming/structured_network_wordcount.py\n",
            "spark-2.4.7-bin-hadoop2.7/examples/src/main/python/sql/streaming/structured_kafka_wordcount.py\n",
            "spark-2.4.7-bin-hadoop2.7/examples/src/main/python/sql/streaming/structured_network_wordcount_windowed.py\n",
            "spark-2.4.7-bin-hadoop2.7/examples/src/main/python/sql/datasource.py\n",
            "spark-2.4.7-bin-hadoop2.7/examples/src/main/python/status_api_demo.py\n",
            "spark-2.4.7-bin-hadoop2.7/examples/src/main/python/pi.py\n",
            "spark-2.4.7-bin-hadoop2.7/examples/src/main/python/streaming/\n",
            "spark-2.4.7-bin-hadoop2.7/examples/src/main/python/streaming/hdfs_wordcount.py\n",
            "spark-2.4.7-bin-hadoop2.7/examples/src/main/python/streaming/recoverable_network_wordcount.py\n",
            "spark-2.4.7-bin-hadoop2.7/examples/src/main/python/streaming/network_wordjoinsentiments.py\n",
            "spark-2.4.7-bin-hadoop2.7/examples/src/main/python/streaming/stateful_network_wordcount.py\n",
            "spark-2.4.7-bin-hadoop2.7/examples/src/main/python/streaming/kafka_wordcount.py\n",
            "spark-2.4.7-bin-hadoop2.7/examples/src/main/python/streaming/sql_network_wordcount.py\n",
            "spark-2.4.7-bin-hadoop2.7/examples/src/main/python/streaming/network_wordcount.py\n",
            "spark-2.4.7-bin-hadoop2.7/examples/src/main/python/streaming/direct_kafka_wordcount.py\n",
            "spark-2.4.7-bin-hadoop2.7/examples/src/main/python/streaming/flume_wordcount.py\n",
            "spark-2.4.7-bin-hadoop2.7/examples/src/main/python/streaming/queue_stream.py\n",
            "spark-2.4.7-bin-hadoop2.7/examples/src/main/python/ml/\n",
            "spark-2.4.7-bin-hadoop2.7/examples/src/main/python/ml/logistic_regression_with_elastic_net.py\n",
            "spark-2.4.7-bin-hadoop2.7/examples/src/main/python/ml/decision_tree_regression_example.py\n",
            "spark-2.4.7-bin-hadoop2.7/examples/src/main/python/ml/generalized_linear_regression_example.py\n",
            "spark-2.4.7-bin-hadoop2.7/examples/src/main/python/ml/vector_assembler_example.py\n",
            "spark-2.4.7-bin-hadoop2.7/examples/src/main/python/ml/elementwise_product_example.py\n",
            "spark-2.4.7-bin-hadoop2.7/examples/src/main/python/ml/polynomial_expansion_example.py\n",
            "spark-2.4.7-bin-hadoop2.7/examples/src/main/python/ml/vector_slicer_example.py\n",
            "spark-2.4.7-bin-hadoop2.7/examples/src/main/python/ml/train_validation_split.py\n",
            "spark-2.4.7-bin-hadoop2.7/examples/src/main/python/ml/index_to_string_example.py\n",
            "spark-2.4.7-bin-hadoop2.7/examples/src/main/python/ml/n_gram_example.py\n",
            "spark-2.4.7-bin-hadoop2.7/examples/src/main/python/ml/pca_example.py\n",
            "spark-2.4.7-bin-hadoop2.7/examples/src/main/python/ml/one_vs_rest_example.py\n",
            "spark-2.4.7-bin-hadoop2.7/examples/src/main/python/ml/logistic_regression_summary_example.py\n",
            "spark-2.4.7-bin-hadoop2.7/examples/src/main/python/ml/dct_example.py\n",
            "spark-2.4.7-bin-hadoop2.7/examples/src/main/python/ml/quantile_discretizer_example.py\n",
            "spark-2.4.7-bin-hadoop2.7/examples/src/main/python/ml/bucketizer_example.py\n",
            "spark-2.4.7-bin-hadoop2.7/examples/src/main/python/ml/binarizer_example.py\n",
            "spark-2.4.7-bin-hadoop2.7/examples/src/main/python/ml/fpgrowth_example.py\n",
            "spark-2.4.7-bin-hadoop2.7/examples/src/main/python/ml/stopwords_remover_example.py\n",
            "spark-2.4.7-bin-hadoop2.7/examples/src/main/python/ml/correlation_example.py\n",
            "spark-2.4.7-bin-hadoop2.7/examples/src/main/python/ml/min_hash_lsh_example.py\n",
            "spark-2.4.7-bin-hadoop2.7/examples/src/main/python/ml/standard_scaler_example.py\n",
            "spark-2.4.7-bin-hadoop2.7/examples/src/main/python/ml/multiclass_logistic_regression_with_elastic_net.py\n",
            "spark-2.4.7-bin-hadoop2.7/examples/src/main/python/ml/naive_bayes_example.py\n",
            "spark-2.4.7-bin-hadoop2.7/examples/src/main/python/ml/linearsvc.py\n",
            "spark-2.4.7-bin-hadoop2.7/examples/src/main/python/ml/vector_size_hint_example.py\n",
            "spark-2.4.7-bin-hadoop2.7/examples/src/main/python/ml/rformula_example.py\n",
            "spark-2.4.7-bin-hadoop2.7/examples/src/main/python/ml/count_vectorizer_example.py\n",
            "spark-2.4.7-bin-hadoop2.7/examples/src/main/python/ml/min_max_scaler_example.py\n",
            "spark-2.4.7-bin-hadoop2.7/examples/src/main/python/ml/cross_validator.py\n",
            "spark-2.4.7-bin-hadoop2.7/examples/src/main/python/ml/gaussian_mixture_example.py\n",
            "spark-2.4.7-bin-hadoop2.7/examples/src/main/python/ml/tokenizer_example.py\n",
            "spark-2.4.7-bin-hadoop2.7/examples/src/main/python/ml/dataframe_example.py\n",
            "spark-2.4.7-bin-hadoop2.7/examples/src/main/python/ml/chisq_selector_example.py\n",
            "spark-2.4.7-bin-hadoop2.7/examples/src/main/python/ml/max_abs_scaler_example.py\n",
            "spark-2.4.7-bin-hadoop2.7/examples/src/main/python/ml/gradient_boosted_tree_classifier_example.py\n",
            "spark-2.4.7-bin-hadoop2.7/examples/src/main/python/ml/random_forest_classifier_example.py\n",
            "spark-2.4.7-bin-hadoop2.7/examples/src/main/python/ml/bisecting_k_means_example.py\n",
            "spark-2.4.7-bin-hadoop2.7/examples/src/main/python/ml/aft_survival_regression.py\n",
            "spark-2.4.7-bin-hadoop2.7/examples/src/main/python/ml/kmeans_example.py\n",
            "spark-2.4.7-bin-hadoop2.7/examples/src/main/python/ml/decision_tree_classification_example.py\n",
            "spark-2.4.7-bin-hadoop2.7/examples/src/main/python/ml/linear_regression_with_elastic_net.py\n",
            "spark-2.4.7-bin-hadoop2.7/examples/src/main/python/ml/lda_example.py\n",
            "spark-2.4.7-bin-hadoop2.7/examples/src/main/python/ml/string_indexer_example.py\n",
            "spark-2.4.7-bin-hadoop2.7/examples/src/main/python/ml/estimator_transformer_param_example.py\n",
            "spark-2.4.7-bin-hadoop2.7/examples/src/main/python/ml/imputer_example.py\n",
            "spark-2.4.7-bin-hadoop2.7/examples/src/main/python/ml/isotonic_regression_example.py\n",
            "spark-2.4.7-bin-hadoop2.7/examples/src/main/python/ml/als_example.py\n",
            "spark-2.4.7-bin-hadoop2.7/examples/src/main/python/ml/sql_transformer.py\n",
            "spark-2.4.7-bin-hadoop2.7/examples/src/main/python/ml/summarizer_example.py\n",
            "spark-2.4.7-bin-hadoop2.7/examples/src/main/python/ml/multilayer_perceptron_classification.py\n",
            "spark-2.4.7-bin-hadoop2.7/examples/src/main/python/ml/prefixspan_example.py\n",
            "spark-2.4.7-bin-hadoop2.7/examples/src/main/python/ml/normalizer_example.py\n",
            "spark-2.4.7-bin-hadoop2.7/examples/src/main/python/ml/bucketed_random_projection_lsh_example.py\n",
            "spark-2.4.7-bin-hadoop2.7/examples/src/main/python/ml/feature_hasher_example.py\n",
            "spark-2.4.7-bin-hadoop2.7/examples/src/main/python/ml/random_forest_regressor_example.py\n",
            "spark-2.4.7-bin-hadoop2.7/examples/src/main/python/ml/chi_square_test_example.py\n",
            "spark-2.4.7-bin-hadoop2.7/examples/src/main/python/ml/tf_idf_example.py\n",
            "spark-2.4.7-bin-hadoop2.7/examples/src/main/python/ml/vector_indexer_example.py\n",
            "spark-2.4.7-bin-hadoop2.7/examples/src/main/python/ml/onehot_encoder_estimator_example.py\n",
            "spark-2.4.7-bin-hadoop2.7/examples/src/main/python/ml/pipeline_example.py\n",
            "spark-2.4.7-bin-hadoop2.7/examples/src/main/python/ml/word2vec_example.py\n",
            "spark-2.4.7-bin-hadoop2.7/examples/src/main/python/ml/gradient_boosted_tree_regressor_example.py\n",
            "spark-2.4.7-bin-hadoop2.7/examples/src/main/python/mllib/\n",
            "spark-2.4.7-bin-hadoop2.7/examples/src/main/python/mllib/summary_statistics_example.py\n",
            "spark-2.4.7-bin-hadoop2.7/examples/src/main/python/mllib/decision_tree_regression_example.py\n",
            "spark-2.4.7-bin-hadoop2.7/examples/src/main/python/mllib/stratified_sampling_example.py\n",
            "spark-2.4.7-bin-hadoop2.7/examples/src/main/python/mllib/multi_class_metrics_example.py\n",
            "spark-2.4.7-bin-hadoop2.7/examples/src/main/python/mllib/elementwise_product_example.py\n",
            "spark-2.4.7-bin-hadoop2.7/examples/src/main/python/mllib/streaming_k_means_example.py\n",
            "spark-2.4.7-bin-hadoop2.7/examples/src/main/python/mllib/binary_classification_metrics_example.py\n",
            "spark-2.4.7-bin-hadoop2.7/examples/src/main/python/mllib/svd_example.py\n",
            "spark-2.4.7-bin-hadoop2.7/examples/src/main/python/mllib/random_forest_classification_example.py\n",
            "spark-2.4.7-bin-hadoop2.7/examples/src/main/python/mllib/correlations_example.py\n",
            "spark-2.4.7-bin-hadoop2.7/examples/src/main/python/mllib/pca_rowmatrix_example.py\n",
            "spark-2.4.7-bin-hadoop2.7/examples/src/main/python/mllib/hypothesis_testing_kolmogorov_smirnov_test_example.py\n",
            "spark-2.4.7-bin-hadoop2.7/examples/src/main/python/mllib/sampled_rdds.py\n",
            "spark-2.4.7-bin-hadoop2.7/examples/src/main/python/mllib/correlations.py\n",
            "spark-2.4.7-bin-hadoop2.7/examples/src/main/python/mllib/regression_metrics_example.py\n",
            "spark-2.4.7-bin-hadoop2.7/examples/src/main/python/mllib/logistic_regression.py\n",
            "spark-2.4.7-bin-hadoop2.7/examples/src/main/python/mllib/linear_regression_with_sgd_example.py\n",
            "spark-2.4.7-bin-hadoop2.7/examples/src/main/python/mllib/logistic_regression_with_lbfgs_example.py\n",
            "spark-2.4.7-bin-hadoop2.7/examples/src/main/python/mllib/fpgrowth_example.py\n",
            "spark-2.4.7-bin-hadoop2.7/examples/src/main/python/mllib/svm_with_sgd_example.py\n",
            "spark-2.4.7-bin-hadoop2.7/examples/src/main/python/mllib/standard_scaler_example.py\n",
            "spark-2.4.7-bin-hadoop2.7/examples/src/main/python/mllib/naive_bayes_example.py\n",
            "spark-2.4.7-bin-hadoop2.7/examples/src/main/python/mllib/power_iteration_clustering_example.py\n",
            "spark-2.4.7-bin-hadoop2.7/examples/src/main/python/mllib/k_means_example.py\n",
            "spark-2.4.7-bin-hadoop2.7/examples/src/main/python/mllib/kmeans.py\n",
            "spark-2.4.7-bin-hadoop2.7/examples/src/main/python/mllib/kernel_density_estimation_example.py\n",
            "spark-2.4.7-bin-hadoop2.7/examples/src/main/python/mllib/gaussian_mixture_example.py\n",
            "spark-2.4.7-bin-hadoop2.7/examples/src/main/python/mllib/word2vec.py\n",
            "spark-2.4.7-bin-hadoop2.7/examples/src/main/python/mllib/random_rdd_generation.py\n",
            "spark-2.4.7-bin-hadoop2.7/examples/src/main/python/mllib/multi_label_metrics_example.py\n",
            "spark-2.4.7-bin-hadoop2.7/examples/src/main/python/mllib/bisecting_k_means_example.py\n",
            "spark-2.4.7-bin-hadoop2.7/examples/src/main/python/mllib/gradient_boosting_classification_example.py\n",
            "spark-2.4.7-bin-hadoop2.7/examples/src/main/python/mllib/hypothesis_testing_example.py\n",
            "spark-2.4.7-bin-hadoop2.7/examples/src/main/python/mllib/decision_tree_classification_example.py\n",
            "spark-2.4.7-bin-hadoop2.7/examples/src/main/python/mllib/recommendation_example.py\n",
            "spark-2.4.7-bin-hadoop2.7/examples/src/main/python/mllib/gaussian_mixture_model.py\n",
            "spark-2.4.7-bin-hadoop2.7/examples/src/main/python/mllib/isotonic_regression_example.py\n",
            "spark-2.4.7-bin-hadoop2.7/examples/src/main/python/mllib/gradient_boosting_regression_example.py\n",
            "spark-2.4.7-bin-hadoop2.7/examples/src/main/python/mllib/normalizer_example.py\n",
            "spark-2.4.7-bin-hadoop2.7/examples/src/main/python/mllib/random_forest_regression_example.py\n",
            "spark-2.4.7-bin-hadoop2.7/examples/src/main/python/mllib/tf_idf_example.py\n",
            "spark-2.4.7-bin-hadoop2.7/examples/src/main/python/mllib/latent_dirichlet_allocation_example.py\n",
            "spark-2.4.7-bin-hadoop2.7/examples/src/main/python/mllib/ranking_metrics_example.py\n",
            "spark-2.4.7-bin-hadoop2.7/examples/src/main/python/mllib/word2vec_example.py\n",
            "spark-2.4.7-bin-hadoop2.7/examples/src/main/python/mllib/streaming_linear_regression_example.py\n",
            "spark-2.4.7-bin-hadoop2.7/examples/src/main/python/als.py\n",
            "spark-2.4.7-bin-hadoop2.7/examples/src/main/python/sort.py\n",
            "spark-2.4.7-bin-hadoop2.7/examples/src/main/python/avro_inputformat.py\n",
            "spark-2.4.7-bin-hadoop2.7/examples/jars/\n",
            "spark-2.4.7-bin-hadoop2.7/examples/jars/spark-examples_2.11-2.4.7.jar\n",
            "spark-2.4.7-bin-hadoop2.7/examples/jars/scopt_2.11-3.7.0.jar\n",
            "spark-2.4.7-bin-hadoop2.7/R/\n",
            "spark-2.4.7-bin-hadoop2.7/R/lib/\n",
            "spark-2.4.7-bin-hadoop2.7/R/lib/SparkR/\n",
            "spark-2.4.7-bin-hadoop2.7/R/lib/SparkR/tests/\n",
            "spark-2.4.7-bin-hadoop2.7/R/lib/SparkR/tests/testthat/\n",
            "spark-2.4.7-bin-hadoop2.7/R/lib/SparkR/tests/testthat/test_basic.R\n",
            "spark-2.4.7-bin-hadoop2.7/R/lib/SparkR/html/\n",
            "spark-2.4.7-bin-hadoop2.7/R/lib/SparkR/html/R.css\n",
            "spark-2.4.7-bin-hadoop2.7/R/lib/SparkR/html/00Index.html\n",
            "spark-2.4.7-bin-hadoop2.7/R/lib/SparkR/NAMESPACE\n",
            "spark-2.4.7-bin-hadoop2.7/R/lib/SparkR/profile/\n",
            "spark-2.4.7-bin-hadoop2.7/R/lib/SparkR/profile/shell.R\n",
            "spark-2.4.7-bin-hadoop2.7/R/lib/SparkR/profile/general.R\n",
            "spark-2.4.7-bin-hadoop2.7/R/lib/SparkR/Meta/\n",
            "spark-2.4.7-bin-hadoop2.7/R/lib/SparkR/Meta/Rd.rds\n",
            "spark-2.4.7-bin-hadoop2.7/R/lib/SparkR/Meta/features.rds\n",
            "spark-2.4.7-bin-hadoop2.7/R/lib/SparkR/Meta/hsearch.rds\n",
            "spark-2.4.7-bin-hadoop2.7/R/lib/SparkR/Meta/links.rds\n",
            "spark-2.4.7-bin-hadoop2.7/R/lib/SparkR/Meta/nsInfo.rds\n",
            "spark-2.4.7-bin-hadoop2.7/R/lib/SparkR/Meta/package.rds\n",
            "spark-2.4.7-bin-hadoop2.7/R/lib/SparkR/worker/\n",
            "spark-2.4.7-bin-hadoop2.7/R/lib/SparkR/worker/daemon.R\n",
            "spark-2.4.7-bin-hadoop2.7/R/lib/SparkR/worker/worker.R\n",
            "spark-2.4.7-bin-hadoop2.7/R/lib/SparkR/help/\n",
            "spark-2.4.7-bin-hadoop2.7/R/lib/SparkR/help/paths.rds\n",
            "spark-2.4.7-bin-hadoop2.7/R/lib/SparkR/help/aliases.rds\n",
            "spark-2.4.7-bin-hadoop2.7/R/lib/SparkR/help/SparkR.rdx\n",
            "spark-2.4.7-bin-hadoop2.7/R/lib/SparkR/help/AnIndex\n",
            "spark-2.4.7-bin-hadoop2.7/R/lib/SparkR/help/SparkR.rdb\n",
            "spark-2.4.7-bin-hadoop2.7/R/lib/SparkR/DESCRIPTION\n",
            "spark-2.4.7-bin-hadoop2.7/R/lib/SparkR/INDEX\n",
            "spark-2.4.7-bin-hadoop2.7/R/lib/SparkR/R/\n",
            "spark-2.4.7-bin-hadoop2.7/R/lib/SparkR/R/SparkR\n",
            "spark-2.4.7-bin-hadoop2.7/R/lib/SparkR/R/SparkR.rdx\n",
            "spark-2.4.7-bin-hadoop2.7/R/lib/SparkR/R/SparkR.rdb\n",
            "spark-2.4.7-bin-hadoop2.7/R/lib/sparkr.zip\n",
            "spark-2.4.7-bin-hadoop2.7/RELEASE\n",
            "spark-2.4.7-bin-hadoop2.7/jars/\n",
            "spark-2.4.7-bin-hadoop2.7/jars/hadoop-client-2.7.3.jar\n",
            "spark-2.4.7-bin-hadoop2.7/jars/compress-lzf-1.0.3.jar\n",
            "spark-2.4.7-bin-hadoop2.7/jars/activation-1.1.1.jar\n",
            "spark-2.4.7-bin-hadoop2.7/jars/json4s-scalap_2.11-3.5.3.jar\n",
            "spark-2.4.7-bin-hadoop2.7/jars/chill-java-0.9.3.jar\n",
            "spark-2.4.7-bin-hadoop2.7/jars/hk2-locator-2.4.0-b34.jar\n",
            "spark-2.4.7-bin-hadoop2.7/jars/validation-api-1.1.0.Final.jar\n",
            "spark-2.4.7-bin-hadoop2.7/jars/super-csv-2.2.0.jar\n",
            "spark-2.4.7-bin-hadoop2.7/jars/leveldbjni-all-1.8.jar\n",
            "spark-2.4.7-bin-hadoop2.7/jars/arrow-format-0.10.0.jar\n",
            "spark-2.4.7-bin-hadoop2.7/jars/hadoop-common-2.7.3.jar\n",
            "spark-2.4.7-bin-hadoop2.7/jars/spark-hive_2.11-2.4.7.jar\n",
            "spark-2.4.7-bin-hadoop2.7/jars/javassist-3.18.1-GA.jar\n",
            "spark-2.4.7-bin-hadoop2.7/jars/oro-2.0.8.jar\n",
            "spark-2.4.7-bin-hadoop2.7/jars/jersey-client-2.22.2.jar\n",
            "spark-2.4.7-bin-hadoop2.7/jars/parquet-encoding-1.10.1.jar\n",
            "spark-2.4.7-bin-hadoop2.7/jars/janino-3.0.16.jar\n",
            "spark-2.4.7-bin-hadoop2.7/jars/arrow-memory-0.10.0.jar\n",
            "spark-2.4.7-bin-hadoop2.7/jars/hadoop-mapreduce-client-core-2.7.3.jar\n",
            "spark-2.4.7-bin-hadoop2.7/jars/logging-interceptor-3.12.0.jar\n",
            "spark-2.4.7-bin-hadoop2.7/jars/flatbuffers-1.2.0-3f79e055.jar\n",
            "spark-2.4.7-bin-hadoop2.7/jars/slf4j-log4j12-1.7.16.jar\n",
            "spark-2.4.7-bin-hadoop2.7/jars/guava-14.0.1.jar\n",
            "spark-2.4.7-bin-hadoop2.7/jars/datanucleus-core-3.2.10.jar\n",
            "spark-2.4.7-bin-hadoop2.7/jars/calcite-core-1.2.0-incubating.jar\n",
            "spark-2.4.7-bin-hadoop2.7/jars/antlr-2.7.7.jar\n",
            "spark-2.4.7-bin-hadoop2.7/jars/jackson-core-2.6.7.jar\n",
            "spark-2.4.7-bin-hadoop2.7/jars/jaxb-api-2.2.2.jar\n",
            "spark-2.4.7-bin-hadoop2.7/jars/commons-configuration-1.6.jar\n",
            "spark-2.4.7-bin-hadoop2.7/jars/json4s-ast_2.11-3.5.3.jar\n",
            "spark-2.4.7-bin-hadoop2.7/jars/hive-jdbc-1.2.1.spark2.jar\n",
            "spark-2.4.7-bin-hadoop2.7/jars/jackson-module-jaxb-annotations-2.6.7.jar\n",
            "spark-2.4.7-bin-hadoop2.7/jars/bonecp-0.8.0.RELEASE.jar\n",
            "spark-2.4.7-bin-hadoop2.7/jars/spark-hive-thriftserver_2.11-2.4.7.jar\n",
            "spark-2.4.7-bin-hadoop2.7/jars/hadoop-yarn-client-2.7.3.jar\n",
            "spark-2.4.7-bin-hadoop2.7/jars/machinist_2.11-0.6.1.jar\n",
            "spark-2.4.7-bin-hadoop2.7/jars/kubernetes-model-common-4.6.1.jar\n",
            "spark-2.4.7-bin-hadoop2.7/jars/hive-beeline-1.2.1.spark2.jar\n",
            "spark-2.4.7-bin-hadoop2.7/jars/libthrift-0.9.3.jar\n",
            "spark-2.4.7-bin-hadoop2.7/jars/commons-pool-1.5.4.jar\n",
            "spark-2.4.7-bin-hadoop2.7/jars/metrics-graphite-3.1.5.jar\n",
            "spark-2.4.7-bin-hadoop2.7/jars/libfb303-0.9.3.jar\n",
            "spark-2.4.7-bin-hadoop2.7/jars/commons-lang-2.6.jar\n",
            "spark-2.4.7-bin-hadoop2.7/jars/pyrolite-4.13.jar\n",
            "spark-2.4.7-bin-hadoop2.7/jars/lz4-java-1.4.0.jar\n",
            "spark-2.4.7-bin-hadoop2.7/jars/orc-core-1.5.5-nohive.jar\n",
            "spark-2.4.7-bin-hadoop2.7/jars/calcite-linq4j-1.2.0-incubating.jar\n",
            "spark-2.4.7-bin-hadoop2.7/jars/hk2-api-2.4.0-b34.jar\n",
            "spark-2.4.7-bin-hadoop2.7/jars/snakeyaml-1.15.jar\n",
            "spark-2.4.7-bin-hadoop2.7/jars/shapeless_2.11-2.3.2.jar\n",
            "spark-2.4.7-bin-hadoop2.7/jars/arrow-vector-0.10.0.jar\n",
            "spark-2.4.7-bin-hadoop2.7/jars/spark-tags_2.11-2.4.7-tests.jar\n",
            "spark-2.4.7-bin-hadoop2.7/jars/jackson-module-paranamer-2.7.9.jar\n",
            "spark-2.4.7-bin-hadoop2.7/jars/api-asn1-api-1.0.0-M20.jar\n",
            "spark-2.4.7-bin-hadoop2.7/jars/minlog-1.3.0.jar\n",
            "spark-2.4.7-bin-hadoop2.7/jars/spark-yarn_2.11-2.4.7.jar\n",
            "spark-2.4.7-bin-hadoop2.7/jars/curator-framework-2.7.1.jar\n",
            "spark-2.4.7-bin-hadoop2.7/jars/commons-compress-1.8.1.jar\n",
            "spark-2.4.7-bin-hadoop2.7/jars/javax.ws.rs-api-2.0.1.jar\n",
            "spark-2.4.7-bin-hadoop2.7/jars/scala-compiler-2.11.12.jar\n",
            "spark-2.4.7-bin-hadoop2.7/jars/jackson-xc-1.9.13.jar\n",
            "spark-2.4.7-bin-hadoop2.7/jars/jackson-databind-2.6.7.3.jar\n",
            "spark-2.4.7-bin-hadoop2.7/jars/jersey-media-jaxb-2.22.2.jar\n",
            "spark-2.4.7-bin-hadoop2.7/jars/arpack_combined_all-0.1.jar\n",
            "spark-2.4.7-bin-hadoop2.7/jars/gson-2.2.4.jar\n",
            "spark-2.4.7-bin-hadoop2.7/jars/hadoop-yarn-api-2.7.3.jar\n",
            "spark-2.4.7-bin-hadoop2.7/jars/parquet-hadoop-1.10.1.jar\n",
            "spark-2.4.7-bin-hadoop2.7/jars/apacheds-i18n-2.0.0-M15.jar\n",
            "spark-2.4.7-bin-hadoop2.7/jars/metrics-json-3.1.5.jar\n",
            "spark-2.4.7-bin-hadoop2.7/jars/hk2-utils-2.4.0-b34.jar\n",
            "spark-2.4.7-bin-hadoop2.7/jars/log4j-1.2.17.jar\n",
            "spark-2.4.7-bin-hadoop2.7/jars/javolution-5.5.1.jar\n",
            "spark-2.4.7-bin-hadoop2.7/jars/macro-compat_2.11-1.1.1.jar\n",
            "spark-2.4.7-bin-hadoop2.7/jars/aopalliance-repackaged-2.4.0-b34.jar\n",
            "spark-2.4.7-bin-hadoop2.7/jars/spark-graphx_2.11-2.4.7.jar\n",
            "spark-2.4.7-bin-hadoop2.7/jars/commons-beanutils-1.9.4.jar\n",
            "spark-2.4.7-bin-hadoop2.7/jars/xz-1.5.jar\n",
            "spark-2.4.7-bin-hadoop2.7/jars/xmlenc-0.52.jar\n",
            "spark-2.4.7-bin-hadoop2.7/jars/jersey-container-servlet-2.22.2.jar\n",
            "spark-2.4.7-bin-hadoop2.7/jars/jcl-over-slf4j-1.7.16.jar\n",
            "spark-2.4.7-bin-hadoop2.7/jars/parquet-format-2.4.0.jar\n",
            "spark-2.4.7-bin-hadoop2.7/jars/spark-streaming_2.11-2.4.7.jar\n",
            "spark-2.4.7-bin-hadoop2.7/jars/spark-sql_2.11-2.4.7.jar\n",
            "spark-2.4.7-bin-hadoop2.7/jars/jdo-api-3.0.1.jar\n",
            "spark-2.4.7-bin-hadoop2.7/jars/jpam-1.1.jar\n",
            "spark-2.4.7-bin-hadoop2.7/jars/spark-tags_2.11-2.4.7.jar\n",
            "spark-2.4.7-bin-hadoop2.7/jars/json4s-core_2.11-3.5.3.jar\n",
            "spark-2.4.7-bin-hadoop2.7/jars/core-1.1.2.jar\n",
            "spark-2.4.7-bin-hadoop2.7/jars/hppc-0.7.2.jar\n",
            "spark-2.4.7-bin-hadoop2.7/jars/datanucleus-api-jdo-3.2.6.jar\n",
            "spark-2.4.7-bin-hadoop2.7/jars/commons-math3-3.4.1.jar\n",
            "spark-2.4.7-bin-hadoop2.7/jars/spark-network-common_2.11-2.4.7.jar\n",
            "spark-2.4.7-bin-hadoop2.7/jars/commons-net-3.1.jar\n",
            "spark-2.4.7-bin-hadoop2.7/jars/commons-compiler-3.0.16.jar\n",
            "spark-2.4.7-bin-hadoop2.7/jars/spire_2.11-0.13.0.jar\n",
            "spark-2.4.7-bin-hadoop2.7/jars/aircompressor-0.10.jar\n",
            "spark-2.4.7-bin-hadoop2.7/jars/derby-10.12.1.1.jar\n",
            "spark-2.4.7-bin-hadoop2.7/jars/datanucleus-rdbms-3.2.9.jar\n",
            "spark-2.4.7-bin-hadoop2.7/jars/hadoop-mapreduce-client-jobclient-2.7.3.jar\n",
            "spark-2.4.7-bin-hadoop2.7/jars/avro-1.8.2.jar\n",
            "spark-2.4.7-bin-hadoop2.7/jars/chill_2.11-0.9.3.jar\n",
            "spark-2.4.7-bin-hadoop2.7/jars/hadoop-auth-2.7.3.jar\n",
            "spark-2.4.7-bin-hadoop2.7/jars/stream-2.7.0.jar\n",
            "spark-2.4.7-bin-hadoop2.7/jars/apacheds-kerberos-codec-2.0.0-M15.jar\n",
            "spark-2.4.7-bin-hadoop2.7/jars/antlr4-runtime-4.7.jar\n",
            "spark-2.4.7-bin-hadoop2.7/jars/osgi-resource-locator-1.0.1.jar\n",
            "spark-2.4.7-bin-hadoop2.7/jars/httpcore-4.4.10.jar\n",
            "spark-2.4.7-bin-hadoop2.7/jars/ivy-2.4.0.jar\n",
            "spark-2.4.7-bin-hadoop2.7/jars/kryo-shaded-4.0.2.jar\n",
            "spark-2.4.7-bin-hadoop2.7/jars/jackson-module-scala_2.11-2.6.7.1.jar\n",
            "spark-2.4.7-bin-hadoop2.7/jars/orc-shims-1.5.5.jar\n",
            "spark-2.4.7-bin-hadoop2.7/jars/curator-recipes-2.7.1.jar\n",
            "spark-2.4.7-bin-hadoop2.7/jars/json4s-jackson_2.11-3.5.3.jar\n",
            "spark-2.4.7-bin-hadoop2.7/jars/commons-cli-1.2.jar\n",
            "spark-2.4.7-bin-hadoop2.7/jars/slf4j-api-1.7.16.jar\n",
            "spark-2.4.7-bin-hadoop2.7/jars/jetty-6.1.26.jar\n",
            "spark-2.4.7-bin-hadoop2.7/jars/spark-catalyst_2.11-2.4.7.jar\n",
            "spark-2.4.7-bin-hadoop2.7/jars/stax-api-1.0.1.jar\n",
            "spark-2.4.7-bin-hadoop2.7/jars/eigenbase-properties-1.1.5.jar\n",
            "spark-2.4.7-bin-hadoop2.7/jars/spark-unsafe_2.11-2.4.7.jar\n",
            "spark-2.4.7-bin-hadoop2.7/jars/commons-io-2.4.jar\n",
            "spark-2.4.7-bin-hadoop2.7/jars/javax.inject-1.jar\n",
            "spark-2.4.7-bin-hadoop2.7/jars/guice-3.0.jar\n",
            "spark-2.4.7-bin-hadoop2.7/jars/commons-logging-1.1.3.jar\n",
            "spark-2.4.7-bin-hadoop2.7/jars/spark-mllib_2.11-2.4.7.jar\n",
            "spark-2.4.7-bin-hadoop2.7/jars/hadoop-mapreduce-client-common-2.7.3.jar\n",
            "spark-2.4.7-bin-hadoop2.7/jars/zjsonpatch-0.3.0.jar\n",
            "spark-2.4.7-bin-hadoop2.7/jars/spark-sketch_2.11-2.4.7.jar\n",
            "spark-2.4.7-bin-hadoop2.7/jars/univocity-parsers-2.7.3.jar\n",
            "spark-2.4.7-bin-hadoop2.7/jars/scala-reflect-2.11.12.jar\n",
            "spark-2.4.7-bin-hadoop2.7/jars/jsp-api-2.1.jar\n",
            "spark-2.4.7-bin-hadoop2.7/jars/kubernetes-model-4.6.1.jar\n",
            "spark-2.4.7-bin-hadoop2.7/jars/parquet-jackson-1.10.1.jar\n",
            "spark-2.4.7-bin-hadoop2.7/jars/jackson-core-asl-1.9.13.jar\n",
            "spark-2.4.7-bin-hadoop2.7/jars/aopalliance-1.0.jar\n",
            "spark-2.4.7-bin-hadoop2.7/jars/hadoop-yarn-server-web-proxy-2.7.3.jar\n",
            "spark-2.4.7-bin-hadoop2.7/jars/metrics-jvm-3.1.5.jar\n",
            "spark-2.4.7-bin-hadoop2.7/jars/spark-mesos_2.11-2.4.7.jar\n",
            "spark-2.4.7-bin-hadoop2.7/jars/hive-cli-1.2.1.spark2.jar\n",
            "spark-2.4.7-bin-hadoop2.7/jars/apache-log4j-extras-1.2.17.jar\n",
            "spark-2.4.7-bin-hadoop2.7/jars/guice-servlet-3.0.jar\n",
            "spark-2.4.7-bin-hadoop2.7/jars/commons-dbcp-1.4.jar\n",
            "spark-2.4.7-bin-hadoop2.7/jars/netty-all-4.1.47.Final.jar\n",
            "spark-2.4.7-bin-hadoop2.7/jars/protobuf-java-2.5.0.jar\n",
            "spark-2.4.7-bin-hadoop2.7/jars/jta-1.1.jar\n",
            "spark-2.4.7-bin-hadoop2.7/jars/netty-3.9.9.Final.jar\n",
            "spark-2.4.7-bin-hadoop2.7/jars/orc-mapreduce-1.5.5-nohive.jar\n",
            "spark-2.4.7-bin-hadoop2.7/jars/spark-core_2.11-2.4.7.jar\n",
            "spark-2.4.7-bin-hadoop2.7/jars/scala-xml_2.11-1.0.5.jar\n",
            "spark-2.4.7-bin-hadoop2.7/jars/javax.annotation-api-1.2.jar\n",
            "spark-2.4.7-bin-hadoop2.7/jars/hadoop-yarn-common-2.7.3.jar\n",
            "spark-2.4.7-bin-hadoop2.7/jars/jackson-mapper-asl-1.9.13.jar\n",
            "spark-2.4.7-bin-hadoop2.7/jars/jul-to-slf4j-1.7.16.jar\n",
            "spark-2.4.7-bin-hadoop2.7/jars/spire-macros_2.11-0.13.0.jar\n",
            "spark-2.4.7-bin-hadoop2.7/jars/javax.servlet-api-3.1.0.jar\n",
            "spark-2.4.7-bin-hadoop2.7/jars/hive-exec-1.2.1.spark2.jar\n",
            "spark-2.4.7-bin-hadoop2.7/jars/mesos-1.4.0-shaded-protobuf.jar\n",
            "spark-2.4.7-bin-hadoop2.7/jars/jodd-core-3.5.2.jar\n",
            "spark-2.4.7-bin-hadoop2.7/jars/curator-client-2.7.1.jar\n",
            "spark-2.4.7-bin-hadoop2.7/jars/zookeeper-3.4.6.jar\n",
            "spark-2.4.7-bin-hadoop2.7/jars/commons-digester-1.8.jar\n",
            "spark-2.4.7-bin-hadoop2.7/jars/xbean-asm6-shaded-4.8.jar\n",
            "spark-2.4.7-bin-hadoop2.7/jars/scala-parser-combinators_2.11-1.1.0.jar\n",
            "spark-2.4.7-bin-hadoop2.7/jars/spark-launcher_2.11-2.4.7.jar\n",
            "spark-2.4.7-bin-hadoop2.7/jars/jsr305-1.3.9.jar\n",
            "spark-2.4.7-bin-hadoop2.7/jars/scala-library-2.11.12.jar\n",
            "spark-2.4.7-bin-hadoop2.7/jars/jersey-container-servlet-core-2.22.2.jar\n",
            "spark-2.4.7-bin-hadoop2.7/jars/spark-repl_2.11-2.4.7.jar\n",
            "spark-2.4.7-bin-hadoop2.7/jars/jackson-jaxrs-1.9.13.jar\n",
            "spark-2.4.7-bin-hadoop2.7/jars/opencsv-2.3.jar\n",
            "spark-2.4.7-bin-hadoop2.7/jars/commons-lang3-3.5.jar\n",
            "spark-2.4.7-bin-hadoop2.7/jars/jetty-util-6.1.26.jar\n",
            "spark-2.4.7-bin-hadoop2.7/jars/generex-1.0.2.jar\n",
            "spark-2.4.7-bin-hadoop2.7/jars/joda-time-2.9.3.jar\n",
            "spark-2.4.7-bin-hadoop2.7/jars/shims-0.7.45.jar\n",
            "spark-2.4.7-bin-hadoop2.7/jars/objenesis-2.5.1.jar\n",
            "spark-2.4.7-bin-hadoop2.7/jars/commons-codec-1.10.jar\n",
            "spark-2.4.7-bin-hadoop2.7/jars/py4j-0.10.7.jar\n",
            "spark-2.4.7-bin-hadoop2.7/jars/avro-mapred-1.8.2-hadoop2.jar\n",
            "spark-2.4.7-bin-hadoop2.7/jars/RoaringBitmap-0.7.45.jar\n",
            "spark-2.4.7-bin-hadoop2.7/jars/zstd-jni-1.3.2-2.jar\n",
            "spark-2.4.7-bin-hadoop2.7/jars/hadoop-annotations-2.7.3.jar\n",
            "spark-2.4.7-bin-hadoop2.7/jars/commons-collections-3.2.2.jar\n",
            "spark-2.4.7-bin-hadoop2.7/jars/parquet-column-1.10.1.jar\n",
            "spark-2.4.7-bin-hadoop2.7/jars/commons-crypto-1.0.0.jar\n",
            "spark-2.4.7-bin-hadoop2.7/jars/spark-kvstore_2.11-2.4.7.jar\n",
            "spark-2.4.7-bin-hadoop2.7/jars/snappy-java-1.1.7.5.jar\n",
            "spark-2.4.7-bin-hadoop2.7/jars/httpclient-4.5.6.jar\n",
            "spark-2.4.7-bin-hadoop2.7/jars/spark-mllib-local_2.11-2.4.7.jar\n",
            "spark-2.4.7-bin-hadoop2.7/jars/okio-1.15.0.jar\n",
            "spark-2.4.7-bin-hadoop2.7/jars/hadoop-hdfs-2.7.3.jar\n",
            "spark-2.4.7-bin-hadoop2.7/jars/breeze_2.11-0.13.2.jar\n",
            "spark-2.4.7-bin-hadoop2.7/jars/hadoop-yarn-server-common-2.7.3.jar\n",
            "spark-2.4.7-bin-hadoop2.7/jars/paranamer-2.8.jar\n",
            "spark-2.4.7-bin-hadoop2.7/jars/commons-httpclient-3.1.jar\n",
            "spark-2.4.7-bin-hadoop2.7/jars/jersey-server-2.22.2.jar\n",
            "spark-2.4.7-bin-hadoop2.7/jars/jline-2.14.6.jar\n",
            "spark-2.4.7-bin-hadoop2.7/jars/spark-network-shuffle_2.11-2.4.7.jar\n",
            "spark-2.4.7-bin-hadoop2.7/jars/spark-kubernetes_2.11-2.4.7.jar\n",
            "spark-2.4.7-bin-hadoop2.7/jars/jackson-annotations-2.6.7.jar\n",
            "spark-2.4.7-bin-hadoop2.7/jars/parquet-common-1.10.1.jar\n",
            "spark-2.4.7-bin-hadoop2.7/jars/ST4-4.0.4.jar\n",
            "spark-2.4.7-bin-hadoop2.7/jars/htrace-core-3.1.0-incubating.jar\n",
            "spark-2.4.7-bin-hadoop2.7/jars/JavaEWAH-0.3.2.jar\n",
            "spark-2.4.7-bin-hadoop2.7/jars/api-util-1.0.0-M20.jar\n",
            "spark-2.4.7-bin-hadoop2.7/jars/parquet-hadoop-bundle-1.6.0.jar\n",
            "spark-2.4.7-bin-hadoop2.7/jars/breeze-macros_2.11-0.13.2.jar\n",
            "spark-2.4.7-bin-hadoop2.7/jars/snappy-0.2.jar\n",
            "spark-2.4.7-bin-hadoop2.7/jars/stringtemplate-3.2.1.jar\n",
            "spark-2.4.7-bin-hadoop2.7/jars/kubernetes-client-4.6.1.jar\n",
            "spark-2.4.7-bin-hadoop2.7/jars/automaton-1.11-8.jar\n",
            "spark-2.4.7-bin-hadoop2.7/jars/hive-metastore-1.2.1.spark2.jar\n",
            "spark-2.4.7-bin-hadoop2.7/jars/jersey-common-2.22.2.jar\n",
            "spark-2.4.7-bin-hadoop2.7/jars/javax.inject-2.4.0-b34.jar\n",
            "spark-2.4.7-bin-hadoop2.7/jars/okhttp-3.12.0.jar\n",
            "spark-2.4.7-bin-hadoop2.7/jars/antlr-runtime-3.4.jar\n",
            "spark-2.4.7-bin-hadoop2.7/jars/hadoop-mapreduce-client-app-2.7.3.jar\n",
            "spark-2.4.7-bin-hadoop2.7/jars/xercesImpl-2.9.1.jar\n",
            "spark-2.4.7-bin-hadoop2.7/jars/jersey-guava-2.22.2.jar\n",
            "spark-2.4.7-bin-hadoop2.7/jars/jtransforms-2.4.0.jar\n",
            "spark-2.4.7-bin-hadoop2.7/jars/hadoop-mapreduce-client-shuffle-2.7.3.jar\n",
            "spark-2.4.7-bin-hadoop2.7/jars/stax-api-1.0-2.jar\n",
            "spark-2.4.7-bin-hadoop2.7/jars/metrics-core-3.1.5.jar\n",
            "spark-2.4.7-bin-hadoop2.7/jars/jackson-dataformat-yaml-2.6.7.jar\n",
            "spark-2.4.7-bin-hadoop2.7/jars/avro-ipc-1.8.2.jar\n",
            "spark-2.4.7-bin-hadoop2.7/jars/calcite-avatica-1.2.0-incubating.jar\n"
          ],
          "name": "stdout"
        }
      ]
    },
    {
      "cell_type": "code",
      "metadata": {
        "id": "9Cx2B1SlUxB-"
      },
      "source": [
        "!pip install -q findspark"
      ],
      "execution_count": null,
      "outputs": []
    },
    {
      "cell_type": "code",
      "metadata": {
        "id": "arMH8PpQWDiB"
      },
      "source": [
        "import os\n",
        "os.environ[\"JAVA_HOME\"] = \"/usr/lib/jvm/java-8-openjdk-amd64\"\n",
        "os.environ[\"SPARK_HOME\"] = \"/content/spark-2.4.7-bin-hadoop2.7\""
      ],
      "execution_count": null,
      "outputs": []
    },
    {
      "cell_type": "code",
      "metadata": {
        "id": "amUZHlBHWIS2"
      },
      "source": [
        "import findspark\n",
        "findspark.init()\n",
        "from pyspark.sql import SparkSession\n",
        "\n",
        "spark = SparkSession.builder.master(\"local[*]\").getOrCreate()"
      ],
      "execution_count": null,
      "outputs": []
    },
    {
      "cell_type": "code",
      "metadata": {
        "colab": {
          "base_uri": "https://localhost:8080/"
        },
        "id": "fczsboz5WPrL",
        "outputId": "4f0a7d15-7b8c-436b-dd52-1e9ec9f8c387"
      },
      "source": [
        "df = spark.read.csv('u.item.csv', sep='|', inferSchema=True, header=False)\n",
        "df.show()"
      ],
      "execution_count": null,
      "outputs": [
        {
          "output_type": "stream",
          "text": [
            "+---+--------------------+-----------+----+--------------------+---+---+---+---+---+----+----+----+----+----+----+----+----+----+----+----+----+----+----+\n",
            "|_c0|                 _c1|        _c2| _c3|                 _c4|_c5|_c6|_c7|_c8|_c9|_c10|_c11|_c12|_c13|_c14|_c15|_c16|_c17|_c18|_c19|_c20|_c21|_c22|_c23|\n",
            "+---+--------------------+-----------+----+--------------------+---+---+---+---+---+----+----+----+----+----+----+----+----+----+----+----+----+----+----+\n",
            "|  1|    Toy Story (1995)|01-Jan-1995|null|http://us.imdb.co...|  0|  0|  0|  1|  1|   1|   0|   0|   0|   0|   0|   0|   0|   0|   0|   0|   0|   0|   0|\n",
            "|  2|    GoldenEye (1995)|01-Jan-1995|null|http://us.imdb.co...|  0|  1|  1|  0|  0|   0|   0|   0|   0|   0|   0|   0|   0|   0|   0|   0|   1|   0|   0|\n",
            "|  3|   Four Rooms (1995)|01-Jan-1995|null|http://us.imdb.co...|  0|  0|  0|  0|  0|   0|   0|   0|   0|   0|   0|   0|   0|   0|   0|   0|   1|   0|   0|\n",
            "|  4|   Get Shorty (1995)|01-Jan-1995|null|http://us.imdb.co...|  0|  1|  0|  0|  0|   1|   0|   0|   1|   0|   0|   0|   0|   0|   0|   0|   0|   0|   0|\n",
            "|  5|      Copycat (1995)|01-Jan-1995|null|http://us.imdb.co...|  0|  0|  0|  0|  0|   0|   1|   0|   1|   0|   0|   0|   0|   0|   0|   0|   1|   0|   0|\n",
            "|  6|Shanghai Triad (Y...|01-Jan-1995|null|http://us.imdb.co...|  0|  0|  0|  0|  0|   0|   0|   0|   1|   0|   0|   0|   0|   0|   0|   0|   0|   0|   0|\n",
            "|  7|Twelve Monkeys (1...|01-Jan-1995|null|http://us.imdb.co...|  0|  0|  0|  0|  0|   0|   0|   0|   1|   0|   0|   0|   0|   0|   0|   1|   0|   0|   0|\n",
            "|  8|         Babe (1995)|01-Jan-1995|null|http://us.imdb.co...|  0|  0|  0|  0|  1|   1|   0|   0|   1|   0|   0|   0|   0|   0|   0|   0|   0|   0|   0|\n",
            "|  9|Dead Man Walking ...|01-Jan-1995|null|http://us.imdb.co...|  0|  0|  0|  0|  0|   0|   0|   0|   1|   0|   0|   0|   0|   0|   0|   0|   0|   0|   0|\n",
            "| 10|  Richard III (1995)|22-Jan-1996|null|http://us.imdb.co...|  0|  0|  0|  0|  0|   0|   0|   0|   1|   0|   0|   0|   0|   0|   0|   0|   0|   1|   0|\n",
            "| 11|Seven (Se7en) (1995)|01-Jan-1995|null|http://us.imdb.co...|  0|  0|  0|  0|  0|   0|   1|   0|   0|   0|   0|   0|   0|   0|   0|   0|   1|   0|   0|\n",
            "| 12|Usual Suspects, T...|14-Aug-1995|null|http://us.imdb.co...|  0|  0|  0|  0|  0|   0|   1|   0|   0|   0|   0|   0|   0|   0|   0|   0|   1|   0|   0|\n",
            "| 13|Mighty Aphrodite ...|30-Oct-1995|null|http://us.imdb.co...|  0|  0|  0|  0|  0|   1|   0|   0|   0|   0|   0|   0|   0|   0|   0|   0|   0|   0|   0|\n",
            "| 14|  Postino, Il (1994)|01-Jan-1994|null|http://us.imdb.co...|  0|  0|  0|  0|  0|   0|   0|   0|   1|   0|   0|   0|   0|   0|   1|   0|   0|   0|   0|\n",
            "| 15|Mr. Holland's Opu...|29-Jan-1996|null|http://us.imdb.co...|  0|  0|  0|  0|  0|   0|   0|   0|   1|   0|   0|   0|   0|   0|   0|   0|   0|   0|   0|\n",
            "| 16|French Twist (Gaz...|01-Jan-1995|null|http://us.imdb.co...|  0|  0|  0|  0|  0|   1|   0|   0|   0|   0|   0|   0|   0|   0|   1|   0|   0|   0|   0|\n",
            "| 17|From Dusk Till Da...|05-Feb-1996|null|http://us.imdb.co...|  0|  1|  0|  0|  0|   1|   1|   0|   0|   0|   0|   1|   0|   0|   0|   0|   1|   0|   0|\n",
            "| 18|White Balloon, Th...|01-Jan-1995|null|http://us.imdb.co...|  0|  0|  0|  0|  0|   0|   0|   0|   1|   0|   0|   0|   0|   0|   0|   0|   0|   0|   0|\n",
            "| 19|Antonia's Line (1...|01-Jan-1995|null|http://us.imdb.co...|  0|  0|  0|  0|  0|   0|   0|   0|   1|   0|   0|   0|   0|   0|   0|   0|   0|   0|   0|\n",
            "| 20|Angels and Insect...|01-Jan-1995|null|http://us.imdb.co...|  0|  0|  0|  0|  0|   0|   0|   0|   1|   0|   0|   0|   0|   0|   1|   0|   0|   0|   0|\n",
            "+---+--------------------+-----------+----+--------------------+---+---+---+---+---+----+----+----+----+----+----+----+----+----+----+----+----+----+----+\n",
            "only showing top 20 rows\n",
            "\n"
          ],
          "name": "stdout"
        }
      ]
    },
    {
      "cell_type": "code",
      "metadata": {
        "id": "1_JmZSdLccmj"
      },
      "source": [
        "# переименуем столбцы датафрейма\n",
        "def renameCols(df, old_columns, new_columns):\n",
        "    for old_col,new_col in zip(old_columns,new_columns):\n",
        "        df = df.withColumnRenamed(old_col,new_col)\n",
        "    return df\n",
        "\n",
        "old_columns = ['_c0','_c1','_c2','_c3','_c4','_c5', '_c6','_c7','_c8','_c9','_c10','_c11','_c12','_c13',\n",
        "               '_c14','_c15','_c16','_c17', '_c18','_c19','_c20','_c21','_c22','_c23']\n",
        "new_columns = [\"item_id\",  \"movie_title\" , \"release_date\" , \"video_release_date\" ,\n",
        "              \"IMDb_URL\" , \"unknown\" , \"Action\" , \"Adventure\" , \"Animation\" ,\n",
        "              \"Children's\" , \"Comedy\" , \"Crime\" , \"Documentary\" , \"Drama\" , \"Fantasy\" ,\n",
        "              \"Film-Noir\" , \"Horror\" , \"Musical\" , \"Mystery\" , \"Romance\" , \"Sci-Fi\" ,\n",
        "              \"Thriller\" , \"War\" , \"Western\"]"
      ],
      "execution_count": null,
      "outputs": []
    },
    {
      "cell_type": "code",
      "metadata": {
        "colab": {
          "base_uri": "https://localhost:8080/"
        },
        "id": "OyfjjuI3fAXa",
        "outputId": "a336cda2-ee4d-4f05-8bbd-45ba6c562791"
      },
      "source": [
        "df_movies = renameCols(df, old_columns, new_columns)\n",
        "df_movies.show()"
      ],
      "execution_count": null,
      "outputs": [
        {
          "output_type": "stream",
          "text": [
            "+-------+--------------------+------------+------------------+--------------------+-------+------+---------+---------+----------+------+-----+-----------+-----+-------+---------+------+-------+-------+-------+------+--------+---+-------+\n",
            "|item_id|         movie_title|release_date|video_release_date|            IMDb_URL|unknown|Action|Adventure|Animation|Children's|Comedy|Crime|Documentary|Drama|Fantasy|Film-Noir|Horror|Musical|Mystery|Romance|Sci-Fi|Thriller|War|Western|\n",
            "+-------+--------------------+------------+------------------+--------------------+-------+------+---------+---------+----------+------+-----+-----------+-----+-------+---------+------+-------+-------+-------+------+--------+---+-------+\n",
            "|      1|    Toy Story (1995)| 01-Jan-1995|              null|http://us.imdb.co...|      0|     0|        0|        1|         1|     1|    0|          0|    0|      0|        0|     0|      0|      0|      0|     0|       0|  0|      0|\n",
            "|      2|    GoldenEye (1995)| 01-Jan-1995|              null|http://us.imdb.co...|      0|     1|        1|        0|         0|     0|    0|          0|    0|      0|        0|     0|      0|      0|      0|     0|       1|  0|      0|\n",
            "|      3|   Four Rooms (1995)| 01-Jan-1995|              null|http://us.imdb.co...|      0|     0|        0|        0|         0|     0|    0|          0|    0|      0|        0|     0|      0|      0|      0|     0|       1|  0|      0|\n",
            "|      4|   Get Shorty (1995)| 01-Jan-1995|              null|http://us.imdb.co...|      0|     1|        0|        0|         0|     1|    0|          0|    1|      0|        0|     0|      0|      0|      0|     0|       0|  0|      0|\n",
            "|      5|      Copycat (1995)| 01-Jan-1995|              null|http://us.imdb.co...|      0|     0|        0|        0|         0|     0|    1|          0|    1|      0|        0|     0|      0|      0|      0|     0|       1|  0|      0|\n",
            "|      6|Shanghai Triad (Y...| 01-Jan-1995|              null|http://us.imdb.co...|      0|     0|        0|        0|         0|     0|    0|          0|    1|      0|        0|     0|      0|      0|      0|     0|       0|  0|      0|\n",
            "|      7|Twelve Monkeys (1...| 01-Jan-1995|              null|http://us.imdb.co...|      0|     0|        0|        0|         0|     0|    0|          0|    1|      0|        0|     0|      0|      0|      0|     1|       0|  0|      0|\n",
            "|      8|         Babe (1995)| 01-Jan-1995|              null|http://us.imdb.co...|      0|     0|        0|        0|         1|     1|    0|          0|    1|      0|        0|     0|      0|      0|      0|     0|       0|  0|      0|\n",
            "|      9|Dead Man Walking ...| 01-Jan-1995|              null|http://us.imdb.co...|      0|     0|        0|        0|         0|     0|    0|          0|    1|      0|        0|     0|      0|      0|      0|     0|       0|  0|      0|\n",
            "|     10|  Richard III (1995)| 22-Jan-1996|              null|http://us.imdb.co...|      0|     0|        0|        0|         0|     0|    0|          0|    1|      0|        0|     0|      0|      0|      0|     0|       0|  1|      0|\n",
            "|     11|Seven (Se7en) (1995)| 01-Jan-1995|              null|http://us.imdb.co...|      0|     0|        0|        0|         0|     0|    1|          0|    0|      0|        0|     0|      0|      0|      0|     0|       1|  0|      0|\n",
            "|     12|Usual Suspects, T...| 14-Aug-1995|              null|http://us.imdb.co...|      0|     0|        0|        0|         0|     0|    1|          0|    0|      0|        0|     0|      0|      0|      0|     0|       1|  0|      0|\n",
            "|     13|Mighty Aphrodite ...| 30-Oct-1995|              null|http://us.imdb.co...|      0|     0|        0|        0|         0|     1|    0|          0|    0|      0|        0|     0|      0|      0|      0|     0|       0|  0|      0|\n",
            "|     14|  Postino, Il (1994)| 01-Jan-1994|              null|http://us.imdb.co...|      0|     0|        0|        0|         0|     0|    0|          0|    1|      0|        0|     0|      0|      0|      1|     0|       0|  0|      0|\n",
            "|     15|Mr. Holland's Opu...| 29-Jan-1996|              null|http://us.imdb.co...|      0|     0|        0|        0|         0|     0|    0|          0|    1|      0|        0|     0|      0|      0|      0|     0|       0|  0|      0|\n",
            "|     16|French Twist (Gaz...| 01-Jan-1995|              null|http://us.imdb.co...|      0|     0|        0|        0|         0|     1|    0|          0|    0|      0|        0|     0|      0|      0|      1|     0|       0|  0|      0|\n",
            "|     17|From Dusk Till Da...| 05-Feb-1996|              null|http://us.imdb.co...|      0|     1|        0|        0|         0|     1|    1|          0|    0|      0|        0|     1|      0|      0|      0|     0|       1|  0|      0|\n",
            "|     18|White Balloon, Th...| 01-Jan-1995|              null|http://us.imdb.co...|      0|     0|        0|        0|         0|     0|    0|          0|    1|      0|        0|     0|      0|      0|      0|     0|       0|  0|      0|\n",
            "|     19|Antonia's Line (1...| 01-Jan-1995|              null|http://us.imdb.co...|      0|     0|        0|        0|         0|     0|    0|          0|    1|      0|        0|     0|      0|      0|      0|     0|       0|  0|      0|\n",
            "|     20|Angels and Insect...| 01-Jan-1995|              null|http://us.imdb.co...|      0|     0|        0|        0|         0|     0|    0|          0|    1|      0|        0|     0|      0|      0|      1|     0|       0|  0|      0|\n",
            "+-------+--------------------+------------+------------------+--------------------+-------+------+---------+---------+----------+------+-----+-----------+-----+-------+---------+------+-------+-------+-------+------+--------+---+-------+\n",
            "only showing top 20 rows\n",
            "\n"
          ],
          "name": "stdout"
        }
      ]
    },
    {
      "cell_type": "code",
      "metadata": {
        "colab": {
          "base_uri": "https://localhost:8080/"
        },
        "id": "fGv-KlrgfzAO",
        "outputId": "fd6847d1-b89d-40ad-82a8-29e965f15046"
      },
      "source": [
        "df_rate = spark.read.csv('u.data.csv', sep=\"\\t\", inferSchema=True, header=False)\n",
        "df_rate.show()"
      ],
      "execution_count": null,
      "outputs": [
        {
          "output_type": "stream",
          "text": [
            "+---+----+---+---------+\n",
            "|_c0| _c1|_c2|      _c3|\n",
            "+---+----+---+---------+\n",
            "|196| 242|  3|881250949|\n",
            "|186| 302|  3|891717742|\n",
            "| 22| 377|  1|878887116|\n",
            "|244|  51|  2|880606923|\n",
            "|166| 346|  1|886397596|\n",
            "|298| 474|  4|884182806|\n",
            "|115| 265|  2|881171488|\n",
            "|253| 465|  5|891628467|\n",
            "|305| 451|  3|886324817|\n",
            "|  6|  86|  3|883603013|\n",
            "| 62| 257|  2|879372434|\n",
            "|286|1014|  5|879781125|\n",
            "|200| 222|  5|876042340|\n",
            "|210|  40|  3|891035994|\n",
            "|224|  29|  3|888104457|\n",
            "|303| 785|  3|879485318|\n",
            "|122| 387|  5|879270459|\n",
            "|194| 274|  2|879539794|\n",
            "|291|1042|  4|874834944|\n",
            "|234|1184|  2|892079237|\n",
            "+---+----+---+---------+\n",
            "only showing top 20 rows\n",
            "\n"
          ],
          "name": "stdout"
        }
      ]
    },
    {
      "cell_type": "code",
      "metadata": {
        "id": "JbR4RyqUgkxR"
      },
      "source": [
        "def renameCols(df, old_columns, new_columns):\n",
        "    for old_col,new_col in zip(old_columns,new_columns):\n",
        "        df = df.withColumnRenamed(old_col,new_col)\n",
        "    return df\n",
        "old_columns = ['_c0','_c1','_c2','_c3']\n",
        "new_columns = [\"user_id\", \"item_id\", \"rating\", \"timestamp\"]"
      ],
      "execution_count": null,
      "outputs": []
    },
    {
      "cell_type": "code",
      "metadata": {
        "colab": {
          "base_uri": "https://localhost:8080/"
        },
        "id": "3AKUTkobhUL-",
        "outputId": "de9fad6f-63e0-468d-a398-529f51d02462"
      },
      "source": [
        "df_ratings = renameCols(df_rate, old_columns, new_columns)\n",
        "df_ratings.show(10)"
      ],
      "execution_count": null,
      "outputs": [
        {
          "output_type": "stream",
          "text": [
            "+-------+-------+------+---------+\n",
            "|user_id|item_id|rating|timestamp|\n",
            "+-------+-------+------+---------+\n",
            "|    196|    242|     3|881250949|\n",
            "|    186|    302|     3|891717742|\n",
            "|     22|    377|     1|878887116|\n",
            "|    244|     51|     2|880606923|\n",
            "|    166|    346|     1|886397596|\n",
            "|    298|    474|     4|884182806|\n",
            "|    115|    265|     2|881171488|\n",
            "|    253|    465|     5|891628467|\n",
            "|    305|    451|     3|886324817|\n",
            "|      6|     86|     3|883603013|\n",
            "+-------+-------+------+---------+\n",
            "only showing top 10 rows\n",
            "\n"
          ],
          "name": "stdout"
        }
      ]
    },
    {
      "cell_type": "markdown",
      "metadata": {
        "id": "NsmG8bwKiHus"
      },
      "source": [
        "***9.Средствами спарка вывести среднюю оценку для каждого фильма***"
      ]
    },
    {
      "cell_type": "code",
      "metadata": {
        "colab": {
          "base_uri": "https://localhost:8080/"
        },
        "id": "RHZUPawpNQS1",
        "outputId": "8a1d53ed-85ad-4b76-9b49-0f88d093b0d9"
      },
      "source": [
        "df_ratings = df_ratings.join(df_movies.select('item_id', 'movie_title', \"unknown\" , \"Action\" , \"Adventure\" , \"Animation\" ,\n",
        "              \"Children's\" , \"Comedy\" , \"Crime\" , \"Documentary\" , \"Drama\" , \"Fantasy\" ,\n",
        "              \"Film-Noir\" , \"Horror\" , \"Musical\" , \"Mystery\" , \"Romance\" , \"Sci-Fi\" ,\n",
        "              \"Thriller\" , \"War\" , \"Western\"), on='item_id', how='left')\n",
        "df_ratings.show()"
      ],
      "execution_count": null,
      "outputs": [
        {
          "output_type": "stream",
          "text": [
            "+-------+-------+------+---------+--------------------+-------+------+---------+---------+----------+------+-----+-----------+-----+-------+---------+------+-------+-------+-------+------+--------+---+-------+\n",
            "|item_id|user_id|rating|timestamp|         movie_title|unknown|Action|Adventure|Animation|Children's|Comedy|Crime|Documentary|Drama|Fantasy|Film-Noir|Horror|Musical|Mystery|Romance|Sci-Fi|Thriller|War|Western|\n",
            "+-------+-------+------+---------+--------------------+-------+------+---------+---------+----------+------+-----+-----------+-----+-------+---------+------+-------+-------+-------+------+--------+---+-------+\n",
            "|    242|    196|     3|881250949|        Kolya (1996)|      0|     0|        0|        0|         0|     1|    0|          0|    0|      0|        0|     0|      0|      0|      0|     0|       0|  0|      0|\n",
            "|    302|    186|     3|891717742|L.A. Confidential...|      0|     0|        0|        0|         0|     0|    1|          0|    0|      0|        1|     0|      0|      1|      0|     0|       1|  0|      0|\n",
            "|    377|     22|     1|878887116| Heavyweights (1994)|      0|     0|        0|        0|         1|     1|    0|          0|    0|      0|        0|     0|      0|      0|      0|     0|       0|  0|      0|\n",
            "|     51|    244|     2|880606923|Legends of the Fa...|      0|     0|        0|        0|         0|     0|    0|          0|    1|      0|        0|     0|      0|      0|      1|     0|       0|  1|      1|\n",
            "|    346|    166|     1|886397596| Jackie Brown (1997)|      0|     0|        0|        0|         0|     0|    1|          0|    1|      0|        0|     0|      0|      0|      0|     0|       0|  0|      0|\n",
            "|    474|    298|     4|884182806|Dr. Strangelove o...|      0|     0|        0|        0|         0|     0|    0|          0|    0|      0|        0|     0|      0|      0|      0|     1|       0|  1|      0|\n",
            "|    265|    115|     2|881171488|Hunt for Red Octo...|      0|     1|        0|        0|         0|     0|    0|          0|    0|      0|        0|     0|      0|      0|      0|     0|       1|  0|      0|\n",
            "|    465|    253|     5|891628467|Jungle Book, The ...|      0|     0|        1|        0|         1|     0|    0|          0|    0|      0|        0|     0|      0|      0|      1|     0|       0|  0|      0|\n",
            "|    451|    305|     3|886324817|       Grease (1978)|      0|     0|        0|        0|         0|     1|    0|          0|    0|      0|        0|     0|      1|      0|      1|     0|       0|  0|      0|\n",
            "|     86|      6|     3|883603013|Remains of the Da...|      0|     0|        0|        0|         0|     0|    0|          0|    1|      0|        0|     0|      0|      0|      0|     0|       0|  0|      0|\n",
            "|    257|     62|     2|879372434| Men in Black (1997)|      0|     1|        1|        0|         0|     1|    0|          0|    0|      0|        0|     0|      0|      0|      0|     1|       0|  0|      0|\n",
            "|   1014|    286|     5|879781125|Romy and Michele'...|      0|     0|        0|        0|         0|     1|    0|          0|    0|      0|        0|     0|      0|      0|      0|     0|       0|  0|      0|\n",
            "|    222|    200|     5|876042340|Star Trek: First ...|      0|     1|        1|        0|         0|     0|    0|          0|    0|      0|        0|     0|      0|      0|      0|     1|       0|  0|      0|\n",
            "|     40|    210|     3|891035994|To Wong Foo, Than...|      0|     0|        0|        0|         0|     1|    0|          0|    0|      0|        0|     0|      0|      0|      0|     0|       0|  0|      0|\n",
            "|     29|    224|     3|888104457|Batman Forever (1...|      0|     1|        1|        0|         0|     1|    1|          0|    0|      0|        0|     0|      0|      0|      0|     0|       0|  0|      0|\n",
            "|    785|    303|     3|879485318|     Only You (1994)|      0|     0|        0|        0|         0|     1|    0|          0|    0|      0|        0|     0|      0|      0|      1|     0|       0|  0|      0|\n",
            "|    387|    122|     5|879270459|Age of Innocence,...|      0|     0|        0|        0|         0|     0|    0|          0|    1|      0|        0|     0|      0|      0|      0|     0|       0|  0|      0|\n",
            "|    274|    194|     2|879539794|      Sabrina (1995)|      0|     0|        0|        0|         0|     1|    0|          0|    0|      0|        0|     0|      0|      0|      1|     0|       0|  0|      0|\n",
            "|   1042|    291|     4|874834944|   Just Cause (1995)|      0|     0|        0|        0|         0|     0|    0|          0|    0|      0|        0|     0|      0|      1|      0|     0|       1|  0|      0|\n",
            "|   1184|    234|     2|892079237|Endless Summer 2,...|      0|     0|        0|        0|         0|     0|    0|          1|    0|      0|        0|     0|      0|      0|      0|     0|       0|  0|      0|\n",
            "+-------+-------+------+---------+--------------------+-------+------+---------+---------+----------+------+-----+-----------+-----+-------+---------+------+-------+-------+-------+------+--------+---+-------+\n",
            "only showing top 20 rows\n",
            "\n"
          ],
          "name": "stdout"
        }
      ]
    },
    {
      "cell_type": "code",
      "metadata": {
        "colab": {
          "base_uri": "https://localhost:8080/"
        },
        "id": "B_GrI-SZiPri",
        "outputId": "5d32a53b-edf2-4edd-f86c-6fb22a508ccb"
      },
      "source": [
        "avg_ratings = df_ratings.groupby('item_id', 'movie_title').avg('rating')\n",
        "avg_ratings.show()"
      ],
      "execution_count": null,
      "outputs": [
        {
          "output_type": "stream",
          "text": [
            "+-------+--------------------+------------------+\n",
            "|item_id|         movie_title|       avg(rating)|\n",
            "+-------+--------------------+------------------+\n",
            "|    171| Delicatessen (1991)| 3.876923076923077|\n",
            "|    279|Once Upon a Time....|3.2857142857142856|\n",
            "|    873|Picture Perfect (...| 2.962962962962963|\n",
            "|    660|Fried Green Tomat...| 3.764705882352941|\n",
            "|    708|Sex, Lies, and Vi...|3.4752475247524752|\n",
            "|    170|Cinema Paradiso (...|4.1735537190082646|\n",
            "|    394|Radioland Murders...|3.3333333333333335|\n",
            "|   1512|World of Apu, The...|               4.0|\n",
            "|    648|Quiet Man, The (1...| 4.029850746268656|\n",
            "|    586|Terminal Velocity...| 2.676470588235294|\n",
            "|    517|    Manhattan (1979)| 3.769230769230769|\n",
            "|   1437|House Party 3 (1994)|               2.0|\n",
            "|   1618|King of New York ...|               1.0|\n",
            "|    961|      Orlando (1993)|3.6176470588235294|\n",
            "|    923|Raise the Red Lan...| 4.155172413793103|\n",
            "|     43|   Disclosure (1994)|               3.0|\n",
            "|    981|Dangerous Ground ...|              1.75|\n",
            "|   1319|Neon Bible, The (...|              1.75|\n",
            "|   1572|Wend Kuuni (God's...|               1.0|\n",
            "|    984|Shadow Conspiracy...|2.8636363636363638|\n",
            "+-------+--------------------+------------------+\n",
            "only showing top 20 rows\n",
            "\n"
          ],
          "name": "stdout"
        }
      ]
    },
    {
      "cell_type": "markdown",
      "metadata": {
        "id": "6gG2b45TQyTX"
      },
      "source": [
        "***10. Посчитайте средствами спарка среднюю оценку для каждого жанра***"
      ]
    },
    {
      "cell_type": "code",
      "metadata": {
        "colab": {
          "base_uri": "https://localhost:8080/"
        },
        "id": "Zi0j_evcag19",
        "outputId": "a1957d32-da36-4044-b59b-4e127f9e3813"
      },
      "source": [
        "genre_unknown = df_ratings.where(df_ratings['unknown'] == 1)\n",
        "avg_genre_unknown = genre_unknown.groupBy('unknown').avg('rating')\n",
        "avg_genre_unknown.show()"
      ],
      "execution_count": null,
      "outputs": [
        {
          "output_type": "stream",
          "text": [
            "+-------+-----------+\n",
            "|unknown|avg(rating)|\n",
            "+-------+-----------+\n",
            "|      1|        3.2|\n",
            "+-------+-----------+\n",
            "\n"
          ],
          "name": "stdout"
        }
      ]
    },
    {
      "cell_type": "code",
      "metadata": {
        "colab": {
          "base_uri": "https://localhost:8080/"
        },
        "id": "Dt4bntoKbe2K",
        "outputId": "cb70b142-8797-4ff5-c5fb-8d0b1a47e353"
      },
      "source": [
        "genre_action = df_ratings.where(df_ratings[\"Action\"] == 1)\n",
        "avg_genre_action = genre_action.groupBy('Action').avg('rating')\n",
        "avg_genre_action.show()"
      ],
      "execution_count": null,
      "outputs": [
        {
          "output_type": "stream",
          "text": [
            "+------+-----------------+\n",
            "|Action|      avg(rating)|\n",
            "+------+-----------------+\n",
            "|     1|3.480245417953027|\n",
            "+------+-----------------+\n",
            "\n"
          ],
          "name": "stdout"
        }
      ]
    },
    {
      "cell_type": "code",
      "metadata": {
        "colab": {
          "base_uri": "https://localhost:8080/"
        },
        "id": "ePiKFMhDcMad",
        "outputId": "8160d018-7120-417b-814c-36e308eeaea4"
      },
      "source": [
        "genre_Adventure = df_ratings.where(df_ratings[\"Adventure\"] == 1)\n",
        "avg_genre_Adventure = genre_Adventure.groupBy('Adventure').avg('rating')\n",
        "avg_genre_Adventure.show()"
      ],
      "execution_count": null,
      "outputs": [
        {
          "output_type": "stream",
          "text": [
            "+---------+-----------------+\n",
            "|Adventure|      avg(rating)|\n",
            "+---------+-----------------+\n",
            "|        1|3.503526503308369|\n",
            "+---------+-----------------+\n",
            "\n"
          ],
          "name": "stdout"
        }
      ]
    },
    {
      "cell_type": "code",
      "metadata": {
        "colab": {
          "base_uri": "https://localhost:8080/"
        },
        "id": "lfNpG855cske",
        "outputId": "17de9b70-9c68-4fd9-e7c4-b260c783e47c"
      },
      "source": [
        "genre_Animation = df_ratings.where(df_ratings[\"Animation\"] == 1)\n",
        "avg_genre_Animation = genre_Animation.groupBy('Animation').avg('rating')\n",
        "avg_genre_Animation.show()\n"
      ],
      "execution_count": null,
      "outputs": [
        {
          "output_type": "stream",
          "text": [
            "+---------+------------------+\n",
            "|Animation|       avg(rating)|\n",
            "+---------+------------------+\n",
            "|        1|3.5766990291262135|\n",
            "+---------+------------------+\n",
            "\n"
          ],
          "name": "stdout"
        }
      ]
    },
    {
      "cell_type": "code",
      "metadata": {
        "colab": {
          "base_uri": "https://localhost:8080/"
        },
        "id": "WvIsJYmjdH2e",
        "outputId": "616f400b-0d49-438b-adf1-689e1caf7d3b"
      },
      "source": [
        "genre_Children = df_ratings.where(df_ratings[\"Children's\"] == 1)\n",
        "avg_genre_Children = genre_Children.groupBy(\"Children's\").avg('rating')\n",
        "avg_genre_Children.show()"
      ],
      "execution_count": null,
      "outputs": [
        {
          "output_type": "stream",
          "text": [
            "+----------+------------------+\n",
            "|Children's|       avg(rating)|\n",
            "+----------+------------------+\n",
            "|         1|3.3532442216652742|\n",
            "+----------+------------------+\n",
            "\n"
          ],
          "name": "stdout"
        }
      ]
    },
    {
      "cell_type": "code",
      "metadata": {
        "colab": {
          "base_uri": "https://localhost:8080/"
        },
        "id": "jw9fQuxQdcha",
        "outputId": "23b74c11-4fcd-4094-b9af-ae17b241a38a"
      },
      "source": [
        "genre_Comedy = df_ratings.where(df_ratings[\"Comedy\"] == 1)\n",
        "avg_genre_Comedy = genre_Comedy.groupBy(\"Comedy\").avg('rating')\n",
        "avg_genre_Comedy.show()"
      ],
      "execution_count": null,
      "outputs": [
        {
          "output_type": "stream",
          "text": [
            "+------+------------------+\n",
            "|Comedy|       avg(rating)|\n",
            "+------+------------------+\n",
            "|     1|3.3940734781442745|\n",
            "+------+------------------+\n",
            "\n"
          ],
          "name": "stdout"
        }
      ]
    },
    {
      "cell_type": "code",
      "metadata": {
        "colab": {
          "base_uri": "https://localhost:8080/"
        },
        "id": "7UjS8W6UdpAK",
        "outputId": "48b08106-5e1c-4ba8-c79f-722dbd52be0c"
      },
      "source": [
        "genre_Crime = df_ratings.where(df_ratings[\"Crime\"] == 1)\n",
        "avg_genre_Crime = genre_Crime.groupBy(\"Crime\").avg('rating')\n",
        "avg_genre_Crime.show()"
      ],
      "execution_count": null,
      "outputs": [
        {
          "output_type": "stream",
          "text": [
            "+-----+------------------+\n",
            "|Crime|       avg(rating)|\n",
            "+-----+------------------+\n",
            "|    1|3.6322780881440098|\n",
            "+-----+------------------+\n",
            "\n"
          ],
          "name": "stdout"
        }
      ]
    },
    {
      "cell_type": "code",
      "metadata": {
        "colab": {
          "base_uri": "https://localhost:8080/"
        },
        "id": "dOwLmttid2nZ",
        "outputId": "0a2be9d6-832c-4333-df07-1a03468794f4"
      },
      "source": [
        "genre_Documentary = df_ratings.where(df_ratings[\"Documentary\"] == 1)\n",
        "avg_genre_Documentary = genre_Documentary.groupBy(\"Documentary\").avg('rating')\n",
        "avg_genre_Documentary.show()"
      ],
      "execution_count": null,
      "outputs": [
        {
          "output_type": "stream",
          "text": [
            "+-----------+------------------+\n",
            "|Documentary|       avg(rating)|\n",
            "+-----------+------------------+\n",
            "|          1|3.6728232189973613|\n",
            "+-----------+------------------+\n",
            "\n"
          ],
          "name": "stdout"
        }
      ]
    },
    {
      "cell_type": "code",
      "metadata": {
        "colab": {
          "base_uri": "https://localhost:8080/"
        },
        "id": "tBXxJxU8eE0Z",
        "outputId": "35858fc9-c522-40c3-9b65-0e2403d812fc"
      },
      "source": [
        "genre_Drama = df_ratings.where(df_ratings[\"Drama\"] == 1)\n",
        "avg_genre_Drama = genre_Drama.groupBy(\"Drama\").avg('rating')\n",
        "avg_genre_Drama.show()"
      ],
      "execution_count": null,
      "outputs": [
        {
          "output_type": "stream",
          "text": [
            "+-----+------------------+\n",
            "|Drama|       avg(rating)|\n",
            "+-----+------------------+\n",
            "|    1|3.6873793708484772|\n",
            "+-----+------------------+\n",
            "\n"
          ],
          "name": "stdout"
        }
      ]
    },
    {
      "cell_type": "code",
      "metadata": {
        "colab": {
          "base_uri": "https://localhost:8080/"
        },
        "id": "wgVqac5-ePrx",
        "outputId": "d959f61d-7744-405e-9cd0-dd74a4614b73"
      },
      "source": [
        "genre_Fantasy = df_ratings.where(df_ratings[\"Fantasy\"] == 1)\n",
        "avg_genre_Fantasy = genre_Fantasy.groupBy(\"Fantasy\").avg('rating')\n",
        "avg_genre_Fantasy.show()"
      ],
      "execution_count": null,
      "outputs": [
        {
          "output_type": "stream",
          "text": [
            "+-------+------------------+\n",
            "|Fantasy|       avg(rating)|\n",
            "+-------+------------------+\n",
            "|      1|3.2152366863905324|\n",
            "+-------+------------------+\n",
            "\n"
          ],
          "name": "stdout"
        }
      ]
    },
    {
      "cell_type": "code",
      "metadata": {
        "colab": {
          "base_uri": "https://localhost:8080/"
        },
        "id": "fNuHCTsEeYeG",
        "outputId": "7263bd08-ffcf-4e43-e90a-36b0e744f0ea"
      },
      "source": [
        "genre_Film_Noir = df_ratings.where(df_ratings[\"Film-Noir\"] == 1)\n",
        "avg_genre_Film_Noir = genre_Film_Noir.groupBy(\"Film-Noir\").avg('rating')\n",
        "avg_genre_Film_Noir.show()"
      ],
      "execution_count": null,
      "outputs": [
        {
          "output_type": "stream",
          "text": [
            "+---------+------------------+\n",
            "|Film-Noir|       avg(rating)|\n",
            "+---------+------------------+\n",
            "|        1|3.9215233698788228|\n",
            "+---------+------------------+\n",
            "\n"
          ],
          "name": "stdout"
        }
      ]
    },
    {
      "cell_type": "code",
      "metadata": {
        "colab": {
          "base_uri": "https://localhost:8080/"
        },
        "id": "UDMs5rTOe2T1",
        "outputId": "56b039ff-ddd6-4e5b-b952-4d63e0706a30"
      },
      "source": [
        "genre_Horror = df_ratings.where(df_ratings[\"Horror\"] == 1)\n",
        "avg_genre_Horror = genre_Horror.groupBy(\"Horror\").avg('rating')\n",
        "avg_genre_Horror.show()"
      ],
      "execution_count": null,
      "outputs": [
        {
          "output_type": "stream",
          "text": [
            "+------+------------------+\n",
            "|Horror|       avg(rating)|\n",
            "+------+------------------+\n",
            "|     1|3.2903893172841827|\n",
            "+------+------------------+\n",
            "\n"
          ],
          "name": "stdout"
        }
      ]
    },
    {
      "cell_type": "code",
      "metadata": {
        "colab": {
          "base_uri": "https://localhost:8080/"
        },
        "id": "_mpuQbMVfCQ6",
        "outputId": "4a266bee-4166-4ff2-d007-e9b5e48658ca"
      },
      "source": [
        "genre_Musical = df_ratings.where(df_ratings[\"Musical\"] == 1)\n",
        "avg_genre_Musical = genre_Musical.groupBy(\"Musical\").avg('rating')\n",
        "avg_genre_Musical.show()"
      ],
      "execution_count": null,
      "outputs": [
        {
          "output_type": "stream",
          "text": [
            "+-------+-----------------+\n",
            "|Musical|      avg(rating)|\n",
            "+-------+-----------------+\n",
            "|      1|3.521396851029471|\n",
            "+-------+-----------------+\n",
            "\n"
          ],
          "name": "stdout"
        }
      ]
    },
    {
      "cell_type": "code",
      "metadata": {
        "colab": {
          "base_uri": "https://localhost:8080/"
        },
        "id": "gg8bKwMBfOJN",
        "outputId": "5c012aac-65ea-407c-9e27-951d2b76a828"
      },
      "source": [
        "genre_Mystery = df_ratings.where(df_ratings[\"Mystery\"] == 1)\n",
        "avg_genre_Mystery = genre_Mystery.groupBy(\"Mystery\").avg('rating')\n",
        "avg_genre_Mystery.show()"
      ],
      "execution_count": null,
      "outputs": [
        {
          "output_type": "stream",
          "text": [
            "+-------+----------------+\n",
            "|Mystery|     avg(rating)|\n",
            "+-------+----------------+\n",
            "|      1|3.63813155386082|\n",
            "+-------+----------------+\n",
            "\n"
          ],
          "name": "stdout"
        }
      ]
    },
    {
      "cell_type": "code",
      "metadata": {
        "colab": {
          "base_uri": "https://localhost:8080/"
        },
        "id": "_B3uBWk0fPIs",
        "outputId": "6d60cc5a-9b1a-4eea-9fcc-a5f64b3b3eb4"
      },
      "source": [
        "genre_Romance = df_ratings.where(df_ratings[\"Romance\"] == 1)\n",
        "avg_genre_Romance = genre_Romance.groupBy(\"Romance\").avg('rating')\n",
        "avg_genre_Romance.show()"
      ],
      "execution_count": null,
      "outputs": [
        {
          "output_type": "stream",
          "text": [
            "+-------+-----------------+\n",
            "|Romance|      avg(rating)|\n",
            "+-------+-----------------+\n",
            "|      1|3.621704948358255|\n",
            "+-------+-----------------+\n",
            "\n"
          ],
          "name": "stdout"
        }
      ]
    },
    {
      "cell_type": "code",
      "metadata": {
        "colab": {
          "base_uri": "https://localhost:8080/"
        },
        "id": "NaKdQwujfird",
        "outputId": "6bced81a-c25e-4f86-eaf1-a114db014a48"
      },
      "source": [
        "genre_SciFi = df_ratings.where(df_ratings[\"Sci-Fi\"] == 1)\n",
        "avg_genre_SciFi = genre_SciFi.groupBy(\"Sci-Fi\").avg('rating')\n",
        "avg_genre_SciFi.show()"
      ],
      "execution_count": null,
      "outputs": [
        {
          "output_type": "stream",
          "text": [
            "+------+------------------+\n",
            "|Sci-Fi|       avg(rating)|\n",
            "+------+------------------+\n",
            "|     1|3.5607227022780834|\n",
            "+------+------------------+\n",
            "\n"
          ],
          "name": "stdout"
        }
      ]
    },
    {
      "cell_type": "code",
      "metadata": {
        "colab": {
          "base_uri": "https://localhost:8080/"
        },
        "id": "W0mE5SrQfjP0",
        "outputId": "fa2495f0-bbd5-4d40-b8d5-5886d6db84b5"
      },
      "source": [
        "genre_Thriller = df_ratings.where(df_ratings[\"Thriller\"] == 1)\n",
        "avg_genre_Thriller = genre_Thriller.groupBy(\"Thriller\").avg('rating')\n",
        "avg_genre_Thriller.show()"
      ],
      "execution_count": null,
      "outputs": [
        {
          "output_type": "stream",
          "text": [
            "+--------+------------------+\n",
            "|Thriller|       avg(rating)|\n",
            "+--------+------------------+\n",
            "|       1|3.5090069495245064|\n",
            "+--------+------------------+\n",
            "\n"
          ],
          "name": "stdout"
        }
      ]
    },
    {
      "cell_type": "code",
      "metadata": {
        "colab": {
          "base_uri": "https://localhost:8080/"
        },
        "id": "LfOYgXhAf3LG",
        "outputId": "d614de4a-bb6f-4726-bed5-91c70f12eab6"
      },
      "source": [
        "genre_War = df_ratings.where(df_ratings[\"War\"] == 1)\n",
        "avg_genre_War = genre_War.groupBy(\"War\").avg('rating')\n",
        "avg_genre_War.show()"
      ],
      "execution_count": null,
      "outputs": [
        {
          "output_type": "stream",
          "text": [
            "+---+-----------------+\n",
            "|War|      avg(rating)|\n",
            "+---+-----------------+\n",
            "|  1|3.815811874866993|\n",
            "+---+-----------------+\n",
            "\n"
          ],
          "name": "stdout"
        }
      ]
    },
    {
      "cell_type": "code",
      "metadata": {
        "colab": {
          "base_uri": "https://localhost:8080/"
        },
        "id": "TeBuFTAPf3fk",
        "outputId": "5ebb4d3e-1a51-4020-dc84-379895ba068a"
      },
      "source": [
        "genre_Western = df_ratings.where(df_ratings[\"Western\"] == 1)\n",
        "avg_genre_Western = genre_Western.groupBy(\"Western\").avg('rating')\n",
        "avg_genre_Western.show()"
      ],
      "execution_count": null,
      "outputs": [
        {
          "output_type": "stream",
          "text": [
            "+-------+------------------+\n",
            "|Western|       avg(rating)|\n",
            "+-------+------------------+\n",
            "|      1|3.6132686084142396|\n",
            "+-------+------------------+\n",
            "\n"
          ],
          "name": "stdout"
        }
      ]
    },
    {
      "cell_type": "markdown",
      "metadata": {
        "id": "iYVt5Fq-gcpS"
      },
      "source": [
        "***11. В спарке получить 2 датафрейма с 5-ю самыми популярными и самыми непопулярными фильмами (по количеству оценок, либо по самой оценке - на Ваш выбор)***"
      ]
    },
    {
      "cell_type": "code",
      "metadata": {
        "colab": {
          "base_uri": "https://localhost:8080/"
        },
        "id": "L04qhUVngoH3",
        "outputId": "727ca220-e7d4-4a3d-9eb0-ed238e32cd84"
      },
      "source": [
        "# Топ 5 по средней оценке пользователей\n",
        "top = df_ratings.groupby('item_id', 'movie_title').avg('rating').orderBy('avg(rating)', ascending=False)\n",
        "top.show(5)"
      ],
      "execution_count": null,
      "outputs": [
        {
          "output_type": "stream",
          "text": [
            "+-------+--------------------+-----------+\n",
            "|item_id|         movie_title|avg(rating)|\n",
            "+-------+--------------------+-----------+\n",
            "|   1653|Entertaining Ange...|        5.0|\n",
            "|   1536|Aiqing wansui (1994)|        5.0|\n",
            "|   1467|Saint of Fort Was...|        5.0|\n",
            "|   1599|Someone Else's Am...|        5.0|\n",
            "|   1293|     Star Kid (1997)|        5.0|\n",
            "+-------+--------------------+-----------+\n",
            "only showing top 5 rows\n",
            "\n"
          ],
          "name": "stdout"
        }
      ]
    },
    {
      "cell_type": "code",
      "metadata": {
        "colab": {
          "base_uri": "https://localhost:8080/"
        },
        "id": "gjy0sCP8j9k9",
        "outputId": "215bf565-2189-4019-e6a4-811cd01b5b60"
      },
      "source": [
        "# АнтиТоп 5 по средней оценке пользователей\n",
        "antitop = df_ratings.groupby('item_id', 'movie_title').avg('rating').orderBy('avg(rating)', ascending=True)\n",
        "antitop.show(5)"
      ],
      "execution_count": null,
      "outputs": [
        {
          "output_type": "stream",
          "text": [
            "+-------+--------------------+-----------+\n",
            "|item_id|         movie_title|avg(rating)|\n",
            "+-------+--------------------+-----------+\n",
            "|    314|3 Ninjas: High No...|        1.0|\n",
            "|   1583|Invitation, The (...|        1.0|\n",
            "|   1341|     Hedd Wyn (1992)|        1.0|\n",
            "|   1618|King of New York ...|        1.0|\n",
            "|   1572|Wend Kuuni (God's...|        1.0|\n",
            "+-------+--------------------+-----------+\n",
            "only showing top 5 rows\n",
            "\n"
          ],
          "name": "stdout"
        }
      ]
    }
  ]
}