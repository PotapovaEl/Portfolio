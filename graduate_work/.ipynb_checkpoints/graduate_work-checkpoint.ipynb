{
 "cells": [
  {
   "cell_type": "code",
   "execution_count": 1,
   "metadata": {
    "colab": {
     "base_uri": "https://localhost:8080/"
    },
    "id": "SWj0Pq7F8F-9",
    "outputId": "ee2ee2f8-e4ad-4948-d424-0c741789be30"
   },
   "outputs": [
    {
     "name": "stdout",
     "output_type": "stream",
     "text": [
      "Collecting geopandas\n",
      "  Downloading geopandas-0.9.0-py2.py3-none-any.whl (994 kB)\n",
      "Requirement already satisfied: pandas>=0.24.0 in c:\\users\\melku_000\\anaconda3\\lib\\site-packages (from geopandas) (1.0.5)\n",
      "Collecting shapely>=1.6\n",
      "  Downloading Shapely-1.7.1-cp38-cp38-win_amd64.whl (1.0 MB)\n",
      "Collecting pyproj>=2.2.0\n",
      "  Downloading pyproj-3.0.1-cp38-cp38-win_amd64.whl (14.5 MB)\n",
      "Collecting fiona>=1.8\n",
      "  Downloading Fiona-1.8.19.tar.gz (1.3 MB)\n",
      "Note: you may need to restart the kernel to use updated packages.\n"
     ]
    },
    {
     "name": "stderr",
     "output_type": "stream",
     "text": [
      "    ERROR: Command errored out with exit status 1:\n",
      "     command: 'C:\\Users\\melku_000\\anaconda3\\python.exe' -c 'import sys, setuptools, tokenize; sys.argv[0] = '\"'\"'C:\\\\Users\\\\melku_000\\\\AppData\\\\Local\\\\Temp\\\\pip-install-i0jiignu\\\\fiona\\\\setup.py'\"'\"'; __file__='\"'\"'C:\\\\Users\\\\melku_000\\\\AppData\\\\Local\\\\Temp\\\\pip-install-i0jiignu\\\\fiona\\\\setup.py'\"'\"';f=getattr(tokenize, '\"'\"'open'\"'\"', open)(__file__);code=f.read().replace('\"'\"'\\r\\n'\"'\"', '\"'\"'\\n'\"'\"');f.close();exec(compile(code, __file__, '\"'\"'exec'\"'\"'))' egg_info --egg-base 'C:\\Users\\melku_000\\AppData\\Local\\Temp\\pip-pip-egg-info-nuk1_t6l'\n",
      "         cwd: C:\\Users\\melku_000\\AppData\\Local\\Temp\\pip-install-i0jiignu\\fiona\\\n",
      "    Complete output (1 lines):\n",
      "    A GDAL API version must be specified. Provide a path to gdal-config using a GDAL_CONFIG environment variable or use a GDAL_VERSION environment variable.\n",
      "    ----------------------------------------\n",
      "ERROR: Command errored out with exit status 1: python setup.py egg_info Check the logs for full command output.\n"
     ]
    }
   ],
   "source": [
    "pip install geopandas"
   ]
  },
  {
   "cell_type": "code",
   "execution_count": null,
   "metadata": {
    "colab": {
     "base_uri": "https://localhost:8080/"
    },
    "id": "De-DQmiUfQMh",
    "outputId": "217641de-734d-4e87-af3d-0e54deaa5a87"
   },
   "outputs": [],
   "source": [
    "import pandas as pd\n",
    "import numpy as np\n",
    "import matplotlib.pyplot as plt\n",
    "import seaborn as sns\n",
    "import warnings\n",
    "warnings.filterwarnings(\"ignore\")\n",
    "from datetime import datetime\n",
    "\n",
    "from collections import Counter\n",
    "import random \n",
    "import re\n",
    "import string \n",
    "plt.style.use('seaborn-whitegrid')\n",
    "sns.set_style(\"white\")\n",
    "%matplotlib inline\n",
    "from wordcloud import WordCloud\n",
    "import geopandas as gpd\n",
    "from scipy import stats\n",
    "from mpl_toolkits.mplot3d import Axes3D\n",
    "from sklearn import preprocessing"
   ]
  },
  {
   "cell_type": "markdown",
   "metadata": {
    "id": "Sbp2zKhH4yjW"
   },
   "source": [
    "#ОЗНАКОМИМСЯ С ДАННЫМИ"
   ]
  },
  {
   "cell_type": "code",
   "execution_count": null,
   "metadata": {
    "colab": {
     "base_uri": "https://localhost:8080/",
     "height": 365
    },
    "id": "8RO76L0hfybJ",
    "outputId": "4f73e54e-eb46-4843-b5a6-fb91ab360925"
   },
   "outputs": [],
   "source": [
    "listings = pd.read_csv('listings.csv')\n",
    "listings.head(3)"
   ]
  },
  {
   "cell_type": "code",
   "execution_count": null,
   "metadata": {
    "colab": {
     "base_uri": "https://localhost:8080/"
    },
    "id": "YTDhyXFTfx22",
    "outputId": "ab999650-c039-4404-ae05-dfa9240a4473"
   },
   "outputs": [],
   "source": [
    "listings.columns"
   ]
  },
  {
   "cell_type": "code",
   "execution_count": null,
   "metadata": {
    "colab": {
     "base_uri": "https://localhost:8080/"
    },
    "id": "ZmaFL4HEhtiG",
    "outputId": "67cdbfeb-1800-48e9-8bdb-1a9d17e7669c"
   },
   "outputs": [],
   "source": [
    "listings.info()"
   ]
  },
  {
   "cell_type": "markdown",
   "metadata": {
    "id": "IfXwl-UQ4m-h"
   },
   "source": [
    "#ПРОВЕДЕМ ОЧИСТКУ И ПОДГОТОВКУ ДАННЫХ ДЛЯ АНАЛИЗА"
   ]
  },
  {
   "cell_type": "code",
   "execution_count": null,
   "metadata": {
    "colab": {
     "base_uri": "https://localhost:8080/"
    },
    "id": "NPvYCJhRiHk8",
    "outputId": "abe43955-12ab-4c52-e299-b8e6c1133c22"
   },
   "outputs": [],
   "source": [
    "# пропуски\n",
    "for column in listings:\n",
    "        missings = listings[column].isnull().mean()\n",
    "        print(f'{column} - {missings :.1%}')"
   ]
  },
  {
   "cell_type": "code",
   "execution_count": null,
   "metadata": {
    "colab": {
     "base_uri": "https://localhost:8080/",
     "height": 743
    },
    "id": "eekc7JHQuZz8",
    "outputId": "1ed55f98-ce23-4b39-b886-819e90922799"
   },
   "outputs": [],
   "source": [
    "# пропуски визуально\n",
    "plt.figure(figsize=(14,8))\n",
    "sns.heatmap(listings.isnull(), cbar=False, cmap='coolwarm')\n",
    "plt.xlabel('Columns')\n",
    "plt.title('Missing Values Exploration by Columns')"
   ]
  },
  {
   "cell_type": "code",
   "execution_count": null,
   "metadata": {
    "id": "LetIZTdlT7zf"
   },
   "outputs": [],
   "source": [
    "listings['last_scraped'] = pd.to_datetime(listings['last_scraped'], format='%Y-%m-%d')"
   ]
  },
  {
   "cell_type": "code",
   "execution_count": null,
   "metadata": {
    "colab": {
     "base_uri": "https://localhost:8080/"
    },
    "id": "fbpM_DJyWI_I",
    "outputId": "d751cdfc-6aa2-4da6-ef07-6ee20dd8467b"
   },
   "outputs": [],
   "source": [
    "listings['last_scraped'].isnull().sum()"
   ]
  },
  {
   "cell_type": "code",
   "execution_count": null,
   "metadata": {
    "colab": {
     "base_uri": "https://localhost:8080/",
     "height": 358
    },
    "id": "MedJyXOlUq6c",
    "outputId": "d01c46ee-1640-46a6-ff8e-8ab55579c9c1"
   },
   "outputs": [],
   "source": [
    "# датасет содержит данные по объявлениям, которые размещались с середины декабря 2020 по начало января 2021\n",
    "listings['last_scraped'].hist()\n",
    "plt.xticks(rotation=90)"
   ]
  },
  {
   "cell_type": "code",
   "execution_count": null,
   "metadata": {
    "id": "3D6Fsw7PR9He"
   },
   "outputs": [],
   "source": [
    "# убираем пустые столбцы\n",
    "listings.drop(columns = ['neighbourhood_group_cleansed','bathrooms', 'calendar_updated'], axis=1, inplace=True)"
   ]
  },
  {
   "cell_type": "code",
   "execution_count": null,
   "metadata": {
    "id": "FdMk3pbwwaLQ"
   },
   "outputs": [],
   "source": [
    "# убираем часть данных, содержащие ссылки, которые не будут использованы\n",
    "listings.drop(columns = ['scrape_id','listing_url', 'picture_url', 'host_url', 'host_thumbnail_url', 'host_picture_url'], axis=1, inplace=True)"
   ]
  },
  {
   "cell_type": "code",
   "execution_count": null,
   "metadata": {
    "id": "bY_X5w9W84o8"
   },
   "outputs": [],
   "source": [
    "# убираем часть текстовых данных, которые не будут использованы\n",
    "listings.drop(columns = ['description', 'neighborhood_overview', 'neighborhood_overview', 'host_name', 'calendar_last_scraped', \n",
    "                         'host_location', 'host_about', 'neighbourhood'],  axis=1, inplace=True)"
   ]
  },
  {
   "cell_type": "code",
   "execution_count": null,
   "metadata": {
    "colab": {
     "base_uri": "https://localhost:8080/"
    },
    "id": "CjXbhsYMB9iC",
    "outputId": "d6413f34-218b-489c-e8aa-47b0e9f3617e"
   },
   "outputs": [],
   "source": [
    "# проверим на сколько схожие данные в двух столбцах\n",
    "print(sum((listings['host_listings_count'] == listings['host_total_listings_count']) == False))\n",
    "# расхождения только в 11 случаях"
   ]
  },
  {
   "cell_type": "code",
   "execution_count": null,
   "metadata": {
    "id": "AHq9DUxv_iB9"
   },
   "outputs": [],
   "source": [
    "# убираем часть данных о хосте\n",
    "listings.drop(columns = ['host_response_time', 'host_neighbourhood', 'license', 'instant_bookable',\n",
    "                         'host_has_profile_pic','host_total_listings_count', 'calculated_host_listings_count', 'last_scraped',\n",
    "                         'calculated_host_listings_count_entire_homes', 'calculated_host_listings_count_private_rooms', \n",
    "                         'calculated_host_listings_count_shared_rooms'], axis=1, inplace=True)"
   ]
  },
  {
   "cell_type": "code",
   "execution_count": null,
   "metadata": {
    "colab": {
     "base_uri": "https://localhost:8080/"
    },
    "id": "sckGHaBUFFyg",
    "outputId": "c4984aff-5728-40b0-de00-656704e71783"
   },
   "outputs": [],
   "source": [
    "# проверим на сколько схожие данные в двух столбцах\n",
    "print(sum((listings['maximum_nights'] == listings['maximum_maximum_nights']) == False))"
   ]
  },
  {
   "cell_type": "code",
   "execution_count": null,
   "metadata": {
    "id": "wZzj5m8BEwXO"
   },
   "outputs": [],
   "source": [
    "# убираем часть данных о возможном количестве ночей пребывания\n",
    "listings.drop(columns = ['minimum_minimum_nights', 'maximum_minimum_nights', 'minimum_maximum_nights', \n",
    "                         'maximum_maximum_nights', 'minimum_nights_avg_ntm', 'maximum_nights_avg_ntm'], axis=1, inplace=True)"
   ]
  },
  {
   "cell_type": "code",
   "execution_count": null,
   "metadata": {
    "colab": {
     "base_uri": "https://localhost:8080/"
    },
    "id": "bwnJLFIW9ae3",
    "outputId": "8ceeae86-a9dd-4405-ebd1-388b397cf1c0"
   },
   "outputs": [],
   "source": [
    "# проверим есть ли количественный перекос\n",
    "listings['has_availability'].value_counts()"
   ]
  },
  {
   "cell_type": "code",
   "execution_count": null,
   "metadata": {
    "id": "P__fDUgYLxC1"
   },
   "outputs": [],
   "source": [
    "# убираем часть данных о доступности жилья\n",
    "listings.drop(columns = ['has_availability','availability_30', 'availability_60', 'availability_90'], axis=1, inplace=True)"
   ]
  },
  {
   "cell_type": "code",
   "execution_count": null,
   "metadata": {
    "id": "etmR9VMIP5y3"
   },
   "outputs": [],
   "source": [
    "# убираем часть данных об отзывах\n",
    "listings.drop(columns = ['number_of_reviews_ltm','number_of_reviews_l30d', 'reviews_per_month'], axis=1, inplace=True)"
   ]
  },
  {
   "cell_type": "code",
   "execution_count": null,
   "metadata": {
    "id": "HlfKu2RHv3Wc"
   },
   "outputs": [],
   "source": [
    "# сделаем замену в столбцах с булевым типом данных t\\f на 1\\0\n",
    "listings.replace({'f': 0, 't': 1}, inplace=True)"
   ]
  },
  {
   "cell_type": "code",
   "execution_count": null,
   "metadata": {
    "id": "if8ND-4jYLzW"
   },
   "outputs": [],
   "source": [
    "# приведем цены к более удобному для обработки формату\n",
    "# убираем знак \"$\"\n",
    "listings['price'] = listings['price'].str[1:]\n"
   ]
  },
  {
   "cell_type": "code",
   "execution_count": null,
   "metadata": {
    "id": "o4Nu6rwta4JJ"
   },
   "outputs": [],
   "source": [
    "# часть данных содержит разделитель групп разрядов в виде \",\" - убираем его \n",
    "listings['price'] = listings['price'].str.replace(\",\", \"\")"
   ]
  },
  {
   "cell_type": "code",
   "execution_count": null,
   "metadata": {
    "id": "90U3AqvQbvvX"
   },
   "outputs": [],
   "source": [
    "listings['price'] = listings['price'].str[:-3]"
   ]
  },
  {
   "cell_type": "code",
   "execution_count": null,
   "metadata": {
    "id": "yWLyb1egb3Em"
   },
   "outputs": [],
   "source": [
    "listings['price'] = listings['price'].astype('int64')"
   ]
  },
  {
   "cell_type": "code",
   "execution_count": null,
   "metadata": {
    "id": "RSTLJncN1dXB"
   },
   "outputs": [],
   "source": [
    "# конвертируем цены в евро, курс на 10.02.2021\n",
    "def euro(row):\n",
    "  return row['price'] * 0.83"
   ]
  },
  {
   "cell_type": "code",
   "execution_count": null,
   "metadata": {
    "id": "oz1eNzVw1w9H"
   },
   "outputs": [],
   "source": [
    "listings['price_euro'] = listings.apply(euro, axis=1).round(0)"
   ]
  },
  {
   "cell_type": "code",
   "execution_count": null,
   "metadata": {
    "id": "Fa3AoBe727b-"
   },
   "outputs": [],
   "source": [
    "listings.drop(columns = ['price'], axis=1, inplace=True)"
   ]
  },
  {
   "cell_type": "markdown",
   "metadata": {
    "id": "Y0f5KKhF4kg9"
   },
   "source": [
    "***ОПИСАНИЕ ДАННЫХ***  \n",
    "***признаки, взятые для анализа***\n",
    "* ***id***- уникальный идентификатор предлагаемой недвижимости\n",
    "* ***name*** - краткое неструктурированное описание предлагаемой недвижимости\n",
    "* ***host_verifications*** - методы верификации хоста\n",
    "* ***neighbourhood_cleansed*** - район города (муниципальные образования), где расположена недвижимость\n",
    "* ***property_type*** - тип предлагаемой недвижимости\n",
    "* ***room_type*** - тип комнаты для размещения\n",
    "* ***bathrooms_text*** - количество ванных комнат\n",
    "* ***amenities*** - список предлагаемых удобств\n",
    "* ***host_is_superhost*** - являеся ли владелец суперхостом (особая отметка качества гостеприимства хоста, присваемая сервисом Airbnb)\n",
    "* ***host_identity_verified*** - проходил ли хост верификацию аккаунта\n",
    "* ***host_since*** - дата, когда хост впервые разместил объявление в сервисе\n",
    "* ***first_review*** - дата размещения первого отзыва   \n",
    "* ***last_review*** - дата последнего размещения отзыва\n",
    "* ***host_id*** - идентификатор хоста (владельца недвижимости).\n",
    "* ***host_acceptance_rate*** - на какую долю обращений гостей хост ответил согласием\n",
    "* ***host_response_rate*** - доля сообщений, на которые ответил хост\n",
    "* ***host_listings_count*** - количество объектов недвижимости, предлагаемых хостом\n",
    "* ***latitude*** - данные о широте расположения объекта недвижимости\n",
    "* ***longitude*** - данные о долготе расположения объекта недвижимости\n",
    "* ***accommodates*** - сколько человек возможно разместить\n",
    "* ***bedrooms*** - количество спален\n",
    "* ***beds*** - количество спальных мест\n",
    "* ***minimum_nights*** - минимальное количество ночей для бронирования\n",
    "* ***maximum_nights*** - максимальное количество ночей для бронирования\n",
    "* ***availability_365*** - количество ночей доступных для бронирования в следующие 365 дней\n",
    "* ***number_of_reviews*** - количество отзывов\n",
    "* ***price_euro*** - цена в евро за ночь пребывания\n",
    "* ***'review_scores_rating'*** - общее впечатление гостей\n",
    "* ***'review_scores_accuracy'*** - оценка недвижимости по соответствию описанию\n",
    "* ***'review_scores_checkin'*** - оценка прибытия гостя\n",
    "* ***'review_scores_communication'*** - оценка общения с хостом\n",
    "* ***'review_scores_location'*** - оценка местоположения недвижимости\n",
    "* ***'review_scores_value'*** - оценка соотношения цена/качество\n",
    "\n",
    "\n",
    "       "
   ]
  },
  {
   "cell_type": "code",
   "execution_count": null,
   "metadata": {
    "colab": {
     "base_uri": "https://localhost:8080/"
    },
    "id": "6ngbyopjKSvO",
    "outputId": "b937705d-a28a-416a-a51e-9ef1b8151ecf"
   },
   "outputs": [],
   "source": [
    "listings.shape"
   ]
  },
  {
   "cell_type": "code",
   "execution_count": null,
   "metadata": {
    "colab": {
     "base_uri": "https://localhost:8080/",
     "height": 330
    },
    "id": "7EvqA8b5PICv",
    "outputId": "c434b626-693e-4d40-fbcd-3666a702a309"
   },
   "outputs": [],
   "source": [
    "# Основные статистические данные, включая моду\n",
    "df_describe = listings.describe()\n",
    "metrics = {}\n",
    "for column in listings:\n",
    "    metrics[column] = listings[column].mode()[0]\n",
    "df_describe = pd.concat([pd.DataFrame([metrics], index = ['mode']), df_describe])\n",
    "df_describe = df_describe.drop(index=['count'])\n",
    "df_describe.rename(index={'50%':'median'}, inplace=True)\n",
    "df_describe.round(2)"
   ]
  },
  {
   "cell_type": "markdown",
   "metadata": {
    "id": "tzJYVoBxc_Tq"
   },
   "source": [
    "***КАТЕГОРИАЛЬНЫЕ и ТЕКСТОВЫЕ ДАННЫЕ***"
   ]
  },
  {
   "cell_type": "markdown",
   "metadata": {
    "id": "GsA7zE1UdU8G"
   },
   "source": [
    "***name*** - краткое неструктурированное описание предлагаемой недвижимости"
   ]
  },
  {
   "cell_type": "code",
   "execution_count": null,
   "metadata": {
    "colab": {
     "base_uri": "https://localhost:8080/"
    },
    "id": "tfuS7wEqgZ4E",
    "outputId": "a77b56b6-d3e7-4d99-bd8c-0518de322719"
   },
   "outputs": [],
   "source": [
    "# есть несколько пропусков\n",
    "listings['name'].isna().sum()"
   ]
  },
  {
   "cell_type": "code",
   "execution_count": null,
   "metadata": {
    "id": "OSHR2grYja5K"
   },
   "outputs": [],
   "source": [
    "# добавим описание 'unknown' для пропущенных данных\n",
    "listings['name'].fillna('unknown', inplace=True)"
   ]
  },
  {
   "cell_type": "code",
   "execution_count": null,
   "metadata": {
    "id": "KA3bgd2SRXFP"
   },
   "outputs": [],
   "source": [
    "# очистка текстовых данных\n",
    "def preprocess_text(text):\n",
    "    # убираем пунктуацию\n",
    "    text = re.sub(r'[^\\w\\d\\s]', ' ', text)\n",
    "    # убираем лишние пробелы\n",
    "    text = re.sub(r'\\s+', ' ', text)\n",
    "    # приводим к нижнему регистру\n",
    "    text = re.sub(r'^\\s+|\\s+?$', '', text.lower())\n",
    "    # получаем и убираем стоп слова и используем леммы\n",
    "    stop_words = nltk.corpus.stopwords.words('english', 'italian')\n",
    "    lemmatizer = WordNetLemmatizer() \n",
    "    return ' '.join(\n",
    "        lemmatizer.lemmatize(term) \n",
    "        for term in text.split()\n",
    "        if term not in set(stop_words)\n",
    "    )"
   ]
  },
  {
   "cell_type": "code",
   "execution_count": null,
   "metadata": {
    "id": "IRsFGe4sT4d1"
   },
   "outputs": [],
   "source": [
    "listings['name'] = listings['name'].apply(lambda row : preprocess_text(row))"
   ]
  },
  {
   "cell_type": "code",
   "execution_count": null,
   "metadata": {
    "colab": {
     "base_uri": "https://localhost:8080/"
    },
    "id": "hsIjfN6Vguag",
    "outputId": "ac0b0b85-cdc1-45bf-8e39-95768a883011"
   },
   "outputs": [],
   "source": [
    "# описание недвижмости достаточно оригинальны, полных повторов немного\n",
    "listings['name'].value_counts()"
   ]
  },
  {
   "cell_type": "code",
   "execution_count": null,
   "metadata": {
    "id": "gDB84bhPavNf"
   },
   "outputs": [],
   "source": [
    "# полученные данные больше относятся к описанию, чем названию - переименуем\n",
    "listings.rename(columns={'name':'description'}, inplace=True)"
   ]
  },
  {
   "cell_type": "markdown",
   "metadata": {
    "id": "udZT93QSd_ff"
   },
   "source": [
    "***host_verifications*** - методы верификации хоста"
   ]
  },
  {
   "cell_type": "code",
   "execution_count": null,
   "metadata": {
    "colab": {
     "base_uri": "https://localhost:8080/"
    },
    "id": "TEfyqeUme1UH",
    "outputId": "6e98bb46-43d9-4ccd-d95c-e49bc25b634e"
   },
   "outputs": [],
   "source": [
    "# пропусков нет\n",
    "listings['host_verifications'].isna().sum()"
   ]
  },
  {
   "cell_type": "code",
   "execution_count": null,
   "metadata": {
    "id": "UDmSsMqRfX7N"
   },
   "outputs": [],
   "source": [
    "listings['host_verifications'] = listings['host_verifications'].apply(lambda row : preprocess_text(row))"
   ]
  },
  {
   "cell_type": "code",
   "execution_count": null,
   "metadata": {
    "colab": {
     "base_uri": "https://localhost:8080/"
    },
    "id": "LVLcI6qjfDrj",
    "outputId": "bdff3bb7-8996-48e0-ba73-0e1c0fef5d67"
   },
   "outputs": [],
   "source": [
    "listings['host_verifications'].value_counts(normalize=True).round(2)"
   ]
  },
  {
   "cell_type": "markdown",
   "metadata": {
    "id": "1rPJPvvMegB4"
   },
   "source": [
    "***neighbourhood_cleansed*** - район города (муниципальное образование), где расположена недвижимость"
   ]
  },
  {
   "cell_type": "code",
   "execution_count": null,
   "metadata": {
    "colab": {
     "base_uri": "https://localhost:8080/"
    },
    "id": "FzeXuY9mYLZL",
    "outputId": "07667641-3ce3-421f-8964-fcc13a63a42f"
   },
   "outputs": [],
   "source": [
    "# пропусков нет\n",
    "listings['neighbourhood_cleansed'].isna().sum()"
   ]
  },
  {
   "cell_type": "code",
   "execution_count": null,
   "metadata": {
    "id": "rLkIBwbfYcwY"
   },
   "outputs": [],
   "source": [
    "# переименуем для краткости\n",
    "listings.rename(columns={'neighbourhood_cleansed':'neighbourhood'}, inplace=True)"
   ]
  },
  {
   "cell_type": "code",
   "execution_count": null,
   "metadata": {
    "colab": {
     "base_uri": "https://localhost:8080/"
    },
    "id": "s6THgWyNZJCp",
    "outputId": "0e02721e-9635-469e-a1dd-dcf093a5b58d"
   },
   "outputs": [],
   "source": [
    "# предложения распределены по 15 муниципальным образованиям Рима неравномерно\n",
    "# 54% всей предлагаемой недвижимости расположено в историческом центре \n",
    "listings['neighbourhood'].value_counts(normalize=True).round(2)"
   ]
  },
  {
   "cell_type": "markdown",
   "metadata": {
    "id": "1UwuvkByezxj"
   },
   "source": [
    "***property_type*** - тип предлагаемой недвижимости"
   ]
  },
  {
   "cell_type": "code",
   "execution_count": null,
   "metadata": {
    "colab": {
     "base_uri": "https://localhost:8080/"
    },
    "id": "ij3nyFw6gBly",
    "outputId": "80bae3f8-2bb6-4330-b6ae-e5b214322d3f"
   },
   "outputs": [],
   "source": [
    "# пропусков нет\n",
    "listings['property_type'].isna().sum()"
   ]
  },
  {
   "cell_type": "code",
   "execution_count": null,
   "metadata": {
    "id": "wJac48h_gK7C"
   },
   "outputs": [],
   "source": [
    "listings['property_type'] = listings['property_type'].apply(lambda row : preprocess_text(row))"
   ]
  },
  {
   "cell_type": "code",
   "execution_count": null,
   "metadata": {
    "colab": {
     "base_uri": "https://localhost:8080/"
    },
    "id": "zg7Qz_nJhiMK",
    "outputId": "a25fe08f-2190-4517-9e08-17d92cfc4b1d"
   },
   "outputs": [],
   "source": [
    "listings['property_type'].unique()"
   ]
  },
  {
   "cell_type": "code",
   "execution_count": null,
   "metadata": {
    "id": "VrN-2DesgwYw"
   },
   "outputs": [],
   "source": [
    "# распределим данные именно по типу недвижимости, данные по типу комнаты есть в отдельном столбце\n",
    "listings['property_type'].replace({\n",
    "    'entire apartment' : 'apartment',\n",
    "    'private room' : 'apartment', \n",
    "    'private room bed breakfast' : 'apartment',\n",
    "    'private room apartment' : 'apartment',\n",
    "    'private room guesthouse' : 'guesthouse',\n",
    "    'entire loft': 'apartment',\n",
    "    'entire condominium': 'apartment',\n",
    "    'entire villa' : 'house',\n",
    "    'private room guest suite' : 'guesthouse',\n",
    "    'private room condominium' : 'apartment', \n",
    "    'room bed breakfast' : 'apartment',\n",
    "    'private room villa' : 'house', \n",
    "    'private room house' : 'house',\n",
    "    'room serviced apartment' : 'apartment', \n",
    "    'entire guesthouse' : 'guesthouse', \n",
    "    'entire cottage' : 'house',\n",
    "    'private room loft' : 'apartment', \n",
    "    'private room serviced apartment' : 'guesthouse', \n",
    "    'entire guest suite' : 'guesthouse',\n",
    "    'entire bed breakfast' : 'apartment', \n",
    "    'room boutique hotel' : 'hotel',\n",
    "    'entire house' : 'house',\n",
    "    'tiny house' : 'house', \n",
    "    'shared room apartment' : 'apartment',\n",
    "    'private room boat' : 'boat',\n",
    "    'entire serviced apartment' : 'guesthouse',\n",
    "    'entire cabin' : 'boat',\n",
    "    'private room nature lodge' : 'house', \n",
    "    'shared room hostel' : 'hostel',\n",
    "    'room aparthotel' : 'hotel', \n",
    "    'entire bungalow' : 'house',\n",
    "    'room hotel' : 'hotel',\n",
    "    'entire townhouse' : 'house', \n",
    "    'private room townhouse' : 'house',\n",
    "    'room pension': 'guesthouse',\n",
    "    'private room castle' : 'castle', \n",
    "    'private room farm stay' : 'farm stay', \n",
    "    'campsite' : 'camp',\n",
    "    'entire home apt': 'house', \n",
    "    'shared room condominium': 'apartment',\n",
    "    'private room tiny house': 'house',\n",
    "    'room apartment': 'apartment',\n",
    "    'entire chalet' : 'house', \n",
    "    'private room resort' : 'hotel', \n",
    "    'room resort': 'hotel',\n",
    "    'entire hostel' : 'hostel', \n",
    "    'entire place': 'apartment', \n",
    "    'earth house' : 'house',\n",
    "    'private room hostel' : 'hostel',\n",
    "    'shared room loft': 'apartment', \n",
    "    'room hostel': 'hostel',\n",
    "    'private room bungalow' : 'apartment', \n",
    "    'tipi' : 'camp', \n",
    "    'shared room serviced apartment': 'guesthouse',\n",
    "    'private room cottage' : 'house',\n",
    "    'camper rv' : 'camp', \n",
    "    'tent' : 'camp', \n",
    "    'shared room house' : 'house',\n",
    "    'shared room dorm': 'hostel', \n",
    "    'shared room bed breakfast': 'guesthouse',\n",
    "    'private room cabin' : 'house',\n",
    "    'private room camper rv' : 'camp',\n",
    "    'shared room cabin' : 'house', \n",
    "    'entire vacation home' : 'house',\n",
    "    'private room casa particular' : 'house',\n",
    "    'shared room tiny house' : 'house',\n",
    "    'shared room island' : 'house',\n",
    "    'room nature lodge' : 'house',\n",
    "    'shared room guesthouse' : 'guesthouse',\n",
    "    'shared room hotel': 'hotel',\n",
    "    'shared room townhouse' : 'house',\n",
    "    'dome house' : 'house', \n",
    "    'casa particular' : 'house',\n",
    "    'houseboat' : 'boat'\n",
    "      \n",
    "    }, inplace=True)"
   ]
  },
  {
   "cell_type": "code",
   "execution_count": null,
   "metadata": {
    "colab": {
     "base_uri": "https://localhost:8080/"
    },
    "id": "KTvUdVlsgWdf",
    "outputId": "ea7d6f72-b0f2-4253-8666-4978fd705669"
   },
   "outputs": [],
   "source": [
    "# подавляющая часть предложений относится к квартирам, но есть и более экзотические варианты\n",
    "listings['property_type'].value_counts(normalize=True)"
   ]
  },
  {
   "cell_type": "markdown",
   "metadata": {
    "id": "VN5KhBo2e3jB"
   },
   "source": [
    "***room_type*** - тип комнаты для размещения"
   ]
  },
  {
   "cell_type": "code",
   "execution_count": null,
   "metadata": {
    "colab": {
     "base_uri": "https://localhost:8080/"
    },
    "id": "UYD5mZtodH5h",
    "outputId": "8def1b51-13bd-4051-be76-206a1f4d9f17"
   },
   "outputs": [],
   "source": [
    "# пропусков нет\n",
    "listings['room_type'].isna().sum()"
   ]
  },
  {
   "cell_type": "code",
   "execution_count": null,
   "metadata": {
    "colab": {
     "base_uri": "https://localhost:8080/"
    },
    "id": "tcTd_ZiGdZyZ",
    "outputId": "1c40e119-35f3-4cd1-9214-a36252fadcec"
   },
   "outputs": [],
   "source": [
    "# 63% объявлений предлагают сдачу отдельной квартиры или дома\n",
    "listings['room_type'].value_counts(normalize=True).round(2)"
   ]
  },
  {
   "cell_type": "markdown",
   "metadata": {
    "id": "IHUKLm00fBqb"
   },
   "source": [
    "***bathrooms_text*** - количество ванных комнат"
   ]
  },
  {
   "cell_type": "code",
   "execution_count": null,
   "metadata": {
    "colab": {
     "base_uri": "https://localhost:8080/"
    },
    "id": "oqJ19pR6A6qQ",
    "outputId": "92b70193-ae50-41ca-d2d8-3d66cdbea5f1"
   },
   "outputs": [],
   "source": [
    "# есть небольшое количество пропусков\n",
    "listings['bathrooms_text'].isna().sum()"
   ]
  },
  {
   "cell_type": "code",
   "execution_count": null,
   "metadata": {
    "id": "_tWNuPUWyFFa"
   },
   "outputs": [],
   "source": [
    "# заполним модой\n",
    "listings['bathrooms_text'].fillna(listings['bathrooms_text'].mode()[0], inplace=True)"
   ]
  },
  {
   "cell_type": "code",
   "execution_count": null,
   "metadata": {
    "colab": {
     "base_uri": "https://localhost:8080/"
    },
    "id": "laMEKm7co2zA",
    "outputId": "3561941e-e80c-404f-9571-1d5a00724b30"
   },
   "outputs": [],
   "source": [
    "# данные можно разделить на 2 части: количественную и булевую (является ли ванная комната личной или нет)\n",
    "# дробная часть .5 в количестве не является ошибкой, обозначение 0.5 это комната, где есть только туалет и раковина\n",
    "listings['bathrooms_text'].value_counts()"
   ]
  },
  {
   "cell_type": "code",
   "execution_count": null,
   "metadata": {
    "id": "SIsLh-T_Bq7F"
   },
   "outputs": [],
   "source": [
    "# приведем данные к единому формату\n",
    "listings['bathrooms_text'].replace({\n",
    "    '1 bath' : '1 baths',\n",
    "    '1 private bath' : '1 baths',\n",
    "    'Private half-bath' : '0.5 baths',\n",
    "    'Shared half-bath' : '0.5 shared baths',\n",
    "    'Half-bath' : '0.5 baths',\n",
    "    '0 shared baths' : '0 baths'\n",
    "    }, inplace=True)"
   ]
  },
  {
   "cell_type": "code",
   "execution_count": null,
   "metadata": {
    "id": "OtDIGXF3GmUI"
   },
   "outputs": [],
   "source": [
    "# создадим отдельный столбец для количественной части показателя и извлечем его из данных\n",
    "listings['bathrooms'] = listings['bathrooms_text'].str.extract('(\\d\\.\\d|\\d\\d|\\d)', expand=True)"
   ]
  },
  {
   "cell_type": "code",
   "execution_count": null,
   "metadata": {
    "id": "DpH7RJgtx8Vl"
   },
   "outputs": [],
   "source": [
    "listings['bathrooms'] = listings['bathrooms'].astype('float64')"
   ]
  },
  {
   "cell_type": "code",
   "execution_count": null,
   "metadata": {
    "colab": {
     "base_uri": "https://localhost:8080/",
     "height": 278
    },
    "id": "TGDjuD8CPXbj",
    "outputId": "c5b158a5-d151-4e9e-83ed-701859c638b7"
   },
   "outputs": [],
   "source": [
    "# посмотрим на распределение полученного признака\n",
    "listings['bathrooms'].hist()"
   ]
  },
  {
   "cell_type": "code",
   "execution_count": null,
   "metadata": {
    "colab": {
     "base_uri": "https://localhost:8080/"
    },
    "id": "nzLhCUoTPhQc",
    "outputId": "18f64a14-1551-43b1-836a-8a608a509f0d"
   },
   "outputs": [],
   "source": [
    "# есть нулевые данные\n",
    "listings['bathrooms'].value_counts(normalize=True)"
   ]
  },
  {
   "cell_type": "code",
   "execution_count": null,
   "metadata": {
    "id": "FrqQyTAsEcZu"
   },
   "outputs": [],
   "source": [
    "listings['bathrooms'] = listings['bathrooms'].replace(0, np.nan)"
   ]
  },
  {
   "cell_type": "code",
   "execution_count": null,
   "metadata": {
    "id": "0E7MVxLLGqmz"
   },
   "outputs": [],
   "source": [
    "# заполним пропуски медианой\n",
    "listings['bathrooms'].fillna(listings['bathrooms'].median(), inplace=True)"
   ]
  },
  {
   "cell_type": "code",
   "execution_count": null,
   "metadata": {
    "colab": {
     "base_uri": "https://localhost:8080/"
    },
    "id": "OpPt8rIWGWwj",
    "outputId": "b626b56b-b3ef-45a3-b098-0871a887e1d5"
   },
   "outputs": [],
   "source": [
    "# после заполнения пропусков существенных искажений нет\n",
    "listings['bathrooms'].describe()"
   ]
  },
  {
   "cell_type": "code",
   "execution_count": null,
   "metadata": {
    "colab": {
     "base_uri": "https://localhost:8080/",
     "height": 278
    },
    "id": "24-Rcik8PrsV",
    "outputId": "0202deed-ba5e-4bc4-ee27-80e4d411e1a6"
   },
   "outputs": [],
   "source": [
    "# в данных есть явные выбросы, проработаем их комплексно, после очистки значений признаков beds, bedrooms и accommodates \n",
    "sns.boxplot(data=listings['bathrooms'], palette='cool', orient='h')"
   ]
  },
  {
   "cell_type": "code",
   "execution_count": null,
   "metadata": {
    "id": "0nqfjQaSIWiW"
   },
   "outputs": [],
   "source": [
    "# создадим столбец с булевым показателем - предположим, что значение относится к private, если не указано shared\n",
    "listings.loc[listings['bathrooms_text'].str.contains('baths'), 'bathrooms_private'] = 1"
   ]
  },
  {
   "cell_type": "code",
   "execution_count": null,
   "metadata": {
    "id": "rjX-eN9JG3kQ"
   },
   "outputs": [],
   "source": [
    "# оставшиеся значения заполним нулями\n",
    "listings['bathrooms_private'].fillna(0, inplace=True)"
   ]
  },
  {
   "cell_type": "code",
   "execution_count": null,
   "metadata": {
    "colab": {
     "base_uri": "https://localhost:8080/",
     "height": 278
    },
    "id": "XZYkK74OOZYy",
    "outputId": "68d33422-2071-4ff1-a3a8-8cf85b62a424"
   },
   "outputs": [],
   "source": [
    "# посмотрим распределение полученного признака\n",
    "listings['bathrooms_private'].hist()"
   ]
  },
  {
   "cell_type": "code",
   "execution_count": null,
   "metadata": {
    "colab": {
     "base_uri": "https://localhost:8080/"
    },
    "id": "pouXeWTPOtUh",
    "outputId": "fb9a309e-4177-46eb-d981-2b67cf2736cd"
   },
   "outputs": [],
   "source": [
    "# 92% недвижимости располагает личной ванной комнатой\n",
    "listings['bathrooms_private'].value_counts(normalize=True)"
   ]
  },
  {
   "cell_type": "code",
   "execution_count": null,
   "metadata": {
    "id": "jcTEwO0mJ5TQ"
   },
   "outputs": [],
   "source": [
    "# удалим столбец bathrooms_text\n",
    "listings.drop(columns = ['bathrooms_text'], axis=1, inplace=True)"
   ]
  },
  {
   "cell_type": "markdown",
   "metadata": {
    "id": "enUtE4ROfbbx"
   },
   "source": [
    "***amenities*** - список предлагаемых удобств"
   ]
  },
  {
   "cell_type": "code",
   "execution_count": null,
   "metadata": {
    "colab": {
     "base_uri": "https://localhost:8080/"
    },
    "id": "Nf1_gjOU0hfF",
    "outputId": "adb30331-f509-4176-8f5a-655979995313"
   },
   "outputs": [],
   "source": [
    "# пропусков нет\n",
    "listings.amenities.isna().sum()"
   ]
  },
  {
   "cell_type": "code",
   "execution_count": null,
   "metadata": {
    "colab": {
     "base_uri": "https://localhost:8080/"
    },
    "id": "Jz6eGnpK214M",
    "outputId": "e8d01a43-d50f-42c6-88a7-7852e2d6fc10"
   },
   "outputs": [],
   "source": [
    "# но данные содержат пустые списки\n",
    "listings['amenities'].value_counts()"
   ]
  },
  {
   "cell_type": "code",
   "execution_count": null,
   "metadata": {
    "id": "4ZhsxKlL3LAZ"
   },
   "outputs": [],
   "source": [
    "# заменим их на NaN\n",
    "listings['amenities'] = listings['amenities'].replace('[]', np.nan)"
   ]
  },
  {
   "cell_type": "code",
   "execution_count": null,
   "metadata": {
    "colab": {
     "base_uri": "https://localhost:8080/"
    },
    "id": "Lny0LtM75H-L",
    "outputId": "74654276-e5dc-4ab5-e1fc-ec4230ed63cf"
   },
   "outputs": [],
   "source": [
    "# получим некоторое количество пропусков\n",
    "listings.amenities.isna().sum()"
   ]
  },
  {
   "cell_type": "code",
   "execution_count": null,
   "metadata": {
    "id": "R_Uw1noR4_vH"
   },
   "outputs": [],
   "source": [
    "# добавим значение 'unknown' для пустых данных\n",
    "listings['amenities'].fillna('unknown', inplace=True)"
   ]
  },
  {
   "cell_type": "code",
   "execution_count": null,
   "metadata": {
    "id": "huOPaev4-v0y"
   },
   "outputs": [],
   "source": [
    "# очистка текстовых данных\n",
    "def preprocess_text_am(text):\n",
    "    \n",
    "    # убираем пунктуацию, кроме запятых\n",
    "    text = re.sub(r'[^\\w\\s\\,]', ' ', text)\n",
    "    # первая буква слова заглавная\n",
    "    text = re.sub(r'^\\s+|\\s+?$', '', text.title())\n",
    "    # убираем пробелы\n",
    "    text = re.sub(r'\\s+', '', text)\n",
    "    # получаем и убираем стоп слова и используем леммы\n",
    "    stop_words = nltk.corpus.stopwords.words('english')\n",
    "    lemmatizer = WordNetLemmatizer() \n",
    "    return ' '.join(\n",
    "        lemmatizer.lemmatize(term) \n",
    "        for term in text.split()\n",
    "        if term not in set(stop_words)\n",
    "    )"
   ]
  },
  {
   "cell_type": "code",
   "execution_count": null,
   "metadata": {
    "id": "xzJKaeNq0UOl"
   },
   "outputs": [],
   "source": [
    "listings['amenities'] = listings['amenities'].apply(lambda row : preprocess_text_am(row))"
   ]
  },
  {
   "cell_type": "code",
   "execution_count": null,
   "metadata": {
    "id": "x7JI343TDLDn"
   },
   "outputs": [],
   "source": [
    "listings['amenities'] = listings['amenities'].str.replace(',', ' ')"
   ]
  },
  {
   "cell_type": "code",
   "execution_count": null,
   "metadata": {
    "id": "Nnzy58hJdpFe"
   },
   "outputs": [],
   "source": [
    "# подсчитаем сколько удобств предлагают в каждом из объявлений\n",
    "amenities_list = []\n",
    "\n",
    "for amenity in listings['amenities']:\n",
    "    amenity = amenity[1:]\n",
    "    amenity = amenity[:-1]\n",
    "    x = amenity.split()\n",
    "    amenities_list.append(len(x))\n",
    "\n",
    "listings['amenities_count'] = amenities_list"
   ]
  },
  {
   "cell_type": "code",
   "execution_count": null,
   "metadata": {
    "colab": {
     "base_uri": "https://localhost:8080/"
    },
    "id": "klnOaN6s1SiJ",
    "outputId": "fa73cec4-c911-4a34-e308-198cd69d704b"
   },
   "outputs": [],
   "source": [
    "listings['amenities_count'].value_counts(normalize=True)"
   ]
  },
  {
   "cell_type": "markdown",
   "metadata": {
    "id": "i3ATPK7ldINr"
   },
   "source": [
    "***БУЛЕВЫЕ ДАННЫЕ***"
   ]
  },
  {
   "cell_type": "markdown",
   "metadata": {
    "id": "zTU_XdgDdWyC"
   },
   "source": [
    "***host_is_superhost*** - являеся ли владелец суперхостом (особая отметка качества гостеприимства хоста, присваемая сервисом Airbnb)"
   ]
  },
  {
   "cell_type": "code",
   "execution_count": null,
   "metadata": {
    "colab": {
     "base_uri": "https://localhost:8080/"
    },
    "id": "ivXi0lviRCS6",
    "outputId": "3aaea037-c3a7-41b5-8987-74ced31bb176"
   },
   "outputs": [],
   "source": [
    "# есть несколько пропусков\n",
    "listings['host_is_superhost'].isna().sum()"
   ]
  },
  {
   "cell_type": "code",
   "execution_count": null,
   "metadata": {
    "id": "iFqjljR0RZOD"
   },
   "outputs": [],
   "source": [
    "# заполним модой\n",
    "listings['host_is_superhost'].fillna(listings['host_is_superhost'].mode()[0], inplace=True)"
   ]
  },
  {
   "cell_type": "code",
   "execution_count": null,
   "metadata": {
    "colab": {
     "base_uri": "https://localhost:8080/"
    },
    "id": "QzbC9mKFSZRP",
    "outputId": "72dfc25c-df40-4cca-be00-a54dbe4ecf10"
   },
   "outputs": [],
   "source": [
    "# меньше четверти хостов являются суперхостами\n",
    "listings['host_is_superhost'].value_counts(normalize=True)"
   ]
  },
  {
   "cell_type": "code",
   "execution_count": null,
   "metadata": {
    "colab": {
     "base_uri": "https://localhost:8080/",
     "height": 278
    },
    "id": "XRUn59k6Sy9p",
    "outputId": "2f88d2d6-4b8a-4817-a5c8-a12b15b41e32"
   },
   "outputs": [],
   "source": [
    "listings['host_is_superhost'].hist()"
   ]
  },
  {
   "cell_type": "markdown",
   "metadata": {
    "id": "0PSRVfGYd8uF"
   },
   "source": [
    "***host_identity_verified*** - был ли хост верифицирован"
   ]
  },
  {
   "cell_type": "code",
   "execution_count": null,
   "metadata": {
    "colab": {
     "base_uri": "https://localhost:8080/"
    },
    "id": "5_UOkIP4TC0l",
    "outputId": "1930adfa-41a1-4954-e8db-c4a1312fd2cd"
   },
   "outputs": [],
   "source": [
    "# есть несколько пропусков\n",
    "listings['host_identity_verified'].isna().sum()"
   ]
  },
  {
   "cell_type": "code",
   "execution_count": null,
   "metadata": {
    "id": "kNR2zS1NTOvZ"
   },
   "outputs": [],
   "source": [
    "# заполним модой\n",
    "listings['host_identity_verified'].fillna(listings['host_identity_verified'].mode()[0], inplace=True)"
   ]
  },
  {
   "cell_type": "code",
   "execution_count": null,
   "metadata": {
    "colab": {
     "base_uri": "https://localhost:8080/"
    },
    "id": "TFWEX-RPTuGN",
    "outputId": "aacb5417-c430-4633-b178-4295b9a81194"
   },
   "outputs": [],
   "source": [
    "# большая часть хостов прошла верификацию\n",
    "listings['host_identity_verified'].value_counts(normalize=True)"
   ]
  },
  {
   "cell_type": "code",
   "execution_count": null,
   "metadata": {
    "colab": {
     "base_uri": "https://localhost:8080/",
     "height": 278
    },
    "id": "YPQIaHMIUDDF",
    "outputId": "54ee02b5-3753-4e8b-9f6a-c87f885427e9"
   },
   "outputs": [],
   "source": [
    "listings['host_identity_verified'].hist()"
   ]
  },
  {
   "cell_type": "markdown",
   "metadata": {
    "id": "avCHXsVFfv60"
   },
   "source": [
    "***ДАТЫ***"
   ]
  },
  {
   "cell_type": "markdown",
   "metadata": {
    "id": "iCrjdteJVOkm"
   },
   "source": [
    "***host_since*** - дата, когда хост впервые разместил объявление в сервисе"
   ]
  },
  {
   "cell_type": "code",
   "execution_count": null,
   "metadata": {
    "id": "hJNX4gSnZMpN"
   },
   "outputs": [],
   "source": [
    "listings['host_since'] = pd.to_datetime(listings['host_since'])"
   ]
  },
  {
   "cell_type": "code",
   "execution_count": null,
   "metadata": {
    "id": "RfBPPUuQZWkS"
   },
   "outputs": [],
   "source": [
    "# считаем количество дней до 10.02.2021\n",
    "listings['host_days_active'] = (datetime(2021, 2, 10) - listings['host_since']).astype('timedelta64[D]')"
   ]
  },
  {
   "cell_type": "code",
   "execution_count": null,
   "metadata": {
    "colab": {
     "base_uri": "https://localhost:8080/"
    },
    "id": "HQ1BHnncbvkk",
    "outputId": "8961c3d8-6452-42cb-a321-b40346b96532"
   },
   "outputs": [],
   "source": [
    "listings['host_days_active'].isna().sum()"
   ]
  },
  {
   "cell_type": "code",
   "execution_count": null,
   "metadata": {
    "id": "iTXGrU_PZa0p"
   },
   "outputs": [],
   "source": [
    "# Заполним медианой\n",
    "listings['host_days_active'].fillna(listings['host_days_active'].median(), inplace=True)"
   ]
  },
  {
   "cell_type": "code",
   "execution_count": null,
   "metadata": {
    "colab": {
     "base_uri": "https://localhost:8080/",
     "height": 278
    },
    "id": "NGKCUwPkZbB5",
    "outputId": "4842d43a-7f48-4867-e491-0a4d29298791"
   },
   "outputs": [],
   "source": [
    "# большая часть хостов активированы в сервисе довольно давно (более 2000 дней, т.е более 5 лет)\n",
    "listings['host_days_active'].hist()"
   ]
  },
  {
   "cell_type": "code",
   "execution_count": null,
   "metadata": {
    "id": "oAWcySeTJlZ4"
   },
   "outputs": [],
   "source": [
    "#вытащим год из полной даты\n",
    "listings['host_since'] = listings['host_since'].dt.year"
   ]
  },
  {
   "cell_type": "code",
   "execution_count": null,
   "metadata": {
    "id": "VfhBMbUhMvNj"
   },
   "outputs": [],
   "source": [
    "listings['host_since'].fillna(listings['host_since'].mode()[0], inplace=True)"
   ]
  },
  {
   "cell_type": "code",
   "execution_count": null,
   "metadata": {
    "colab": {
     "base_uri": "https://localhost:8080/"
    },
    "id": "hC8UZ8-FE4JY",
    "outputId": "8e0b922f-33fc-456f-dd7b-144d97169d73"
   },
   "outputs": [],
   "source": [
    "listings['host_since'].value_counts(normalize=True)"
   ]
  },
  {
   "cell_type": "markdown",
   "metadata": {
    "id": "VAOyKKroVqAt"
   },
   "source": [
    "***first_review*** - дата размещения первого отзыва   \n",
    "***last_review*** - дата последнего размещения отзыва"
   ]
  },
  {
   "cell_type": "code",
   "execution_count": null,
   "metadata": {
    "colab": {
     "base_uri": "https://localhost:8080/"
    },
    "id": "oRVCl3pCVZiP",
    "outputId": "b78a4d80-b803-4781-d0b1-eaa95a2771eb"
   },
   "outputs": [],
   "source": [
    "# в данных множественные пропуски, это связано с тем, что некоторые объявления не имеют отзывов\n",
    "# выведем пропуски в отдельную категорию\n",
    "listings['first_review'].isna().sum()"
   ]
  },
  {
   "cell_type": "code",
   "execution_count": null,
   "metadata": {
    "colab": {
     "base_uri": "https://localhost:8080/"
    },
    "id": "PyR6YIU9k8NQ",
    "outputId": "ffbec0ff-43b7-4520-94ba-60e30d213eda"
   },
   "outputs": [],
   "source": [
    "listings['last_review'].isna().sum()"
   ]
  },
  {
   "cell_type": "code",
   "execution_count": null,
   "metadata": {
    "id": "oJZ0kwWdlXT9"
   },
   "outputs": [],
   "source": [
    "# подсчитаем дни, прошедшие с первого отзыва\n",
    "listings['first_review'] = pd.to_datetime(listings['first_review'])\n",
    "listings['time_since_first_review'] = (datetime(2021, 2, 10) - listings['first_review']).astype('timedelta64[D]')"
   ]
  },
  {
   "cell_type": "code",
   "execution_count": null,
   "metadata": {
    "id": "bawChOO3GaRh"
   },
   "outputs": [],
   "source": [
    "# и дни прошедшие с последнего\n",
    "listings['last_review'] = pd.to_datetime(listings['last_review'])\n",
    "listings['time_since_last_review'] = (datetime(2021, 2, 10) - listings['last_review']).astype('timedelta64[D]')"
   ]
  },
  {
   "cell_type": "code",
   "execution_count": null,
   "metadata": {
    "id": "8W-uz9I6mKuY"
   },
   "outputs": [],
   "source": [
    "def review_cat(col, bins, labels):\n",
    "    listings[col] = pd.cut(listings[col], bins=bins, labels=labels, include_lowest=True)\n",
    "    listings[col] = listings[col].astype('str')"
   ]
  },
  {
   "cell_type": "code",
   "execution_count": null,
   "metadata": {
    "id": "MTUCrJpfm1kB"
   },
   "outputs": [],
   "source": [
    "review_cat('time_since_first_review',\n",
    "           bins=[0, 181, 365, 730, 1460, max(listings['time_since_first_review'])],\n",
    "           labels=['0-6 months',\n",
    "                   '6-12 months',\n",
    "                   '1-2 years',\n",
    "                   '2-3 years',\n",
    "                   '4+ years'])"
   ]
  },
  {
   "cell_type": "code",
   "execution_count": null,
   "metadata": {
    "id": "idPpvTrTHUwP"
   },
   "outputs": [],
   "source": [
    "review_cat('time_since_last_review',\n",
    "           bins=[0, 181, 365, 730, 1460, max(listings['time_since_last_review'])],\n",
    "           labels=['0-6 months',\n",
    "                   '6-12 months',\n",
    "                   '1-2 years',\n",
    "                   '2-3 years',\n",
    "                   '4+ years'])"
   ]
  },
  {
   "cell_type": "code",
   "execution_count": null,
   "metadata": {
    "id": "rmg-qu-YoFmo"
   },
   "outputs": [],
   "source": [
    "listings['time_since_first_review'] = listings['time_since_first_review'].replace('nan','no_reviews')"
   ]
  },
  {
   "cell_type": "code",
   "execution_count": null,
   "metadata": {
    "id": "YqHy0zWkHmu5"
   },
   "outputs": [],
   "source": [
    "listings['time_since_last_review'] = listings['time_since_last_review'].replace('nan','no_reviews')"
   ]
  },
  {
   "cell_type": "code",
   "execution_count": null,
   "metadata": {
    "colab": {
     "base_uri": "https://localhost:8080/"
    },
    "id": "lL0wLrxoplpP",
    "outputId": "2777504b-77a5-424f-ade7-a4807710cdf0"
   },
   "outputs": [],
   "source": [
    "listings['time_since_first_review'].value_counts(normalize=True)"
   ]
  },
  {
   "cell_type": "code",
   "execution_count": null,
   "metadata": {
    "colab": {
     "base_uri": "https://localhost:8080/",
     "height": 331
    },
    "id": "an29XxN5nOPJ",
    "outputId": "988a041f-93ef-4c86-a1d3-a4f7ce684009"
   },
   "outputs": [],
   "source": [
    "# значительная часть недвижимости сдается уже давно, так как с момента первого отзыва у многих прошло уже несколько лет\n",
    "listings['time_since_first_review'].hist()\n",
    "plt.xticks(rotation=90)"
   ]
  },
  {
   "cell_type": "code",
   "execution_count": null,
   "metadata": {
    "colab": {
     "base_uri": "https://localhost:8080/"
    },
    "id": "neKGvsy1Hxay",
    "outputId": "10c78f21-64e6-4a66-e496-c7e8f9d54ed3"
   },
   "outputs": [],
   "source": [
    "# активно сдаваемой недвижимости около 22%\n",
    "listings['time_since_last_review'].value_counts(normalize=True)"
   ]
  },
  {
   "cell_type": "code",
   "execution_count": null,
   "metadata": {
    "colab": {
     "base_uri": "https://localhost:8080/",
     "height": 333
    },
    "id": "YklDPfJrH25R",
    "outputId": "e46eb88d-68a8-4571-b09d-5a64681950e5"
   },
   "outputs": [],
   "source": [
    "listings['time_since_last_review'].hist()\n",
    "plt.xticks(rotation=90)"
   ]
  },
  {
   "cell_type": "code",
   "execution_count": null,
   "metadata": {
    "id": "sKm0fNyrIh2U"
   },
   "outputs": [],
   "source": [
    "listings.drop(columns=['first_review', 'last_review'],  axis=1, inplace=True)"
   ]
  },
  {
   "cell_type": "markdown",
   "metadata": {
    "id": "13zCDOuEFDsj"
   },
   "source": [
    "***КОЛИЧЕСТВЕННЫЕ ДАННЫЕ***"
   ]
  },
  {
   "cell_type": "markdown",
   "metadata": {
    "id": "j50XQnQh4Vc4"
   },
   "source": [
    "***id***- уникальный идентификатор предлагаемой недвижимости"
   ]
  },
  {
   "cell_type": "code",
   "execution_count": null,
   "metadata": {
    "colab": {
     "base_uri": "https://localhost:8080/"
    },
    "id": "lyB6pxENTntQ",
    "outputId": "490dbcd9-6cdb-48f5-fba7-2257aafcdb01"
   },
   "outputs": [],
   "source": [
    "# данные не имеют повторов\n",
    "listings['id'].value_counts().value_counts(normalize=True)"
   ]
  },
  {
   "cell_type": "code",
   "execution_count": null,
   "metadata": {
    "colab": {
     "base_uri": "https://localhost:8080/"
    },
    "id": "R20KD7nYLCP6",
    "outputId": "e0b0c638-6a08-465c-d426-c8c43c78baff"
   },
   "outputs": [],
   "source": [
    "# данные содержат информацию по 28151 объекту недвижимости\n",
    "listings['id'].nunique()"
   ]
  },
  {
   "cell_type": "code",
   "execution_count": null,
   "metadata": {
    "colab": {
     "base_uri": "https://localhost:8080/"
    },
    "id": "gnP5iCN7AqVF",
    "outputId": "c37b8fe3-4b25-4126-a0ac-aef64eb9a84e"
   },
   "outputs": [],
   "source": [
    "# пропусков нет\n",
    "listings['id'].isna().sum()"
   ]
  },
  {
   "cell_type": "markdown",
   "metadata": {
    "id": "OVupUxjzBJ1R"
   },
   "source": [
    "***host_id*** - идентификатор хоста (владельца недвижимости). Значение не уникальное, так как один хост может сдавать несколько объектов недвижимости"
   ]
  },
  {
   "cell_type": "code",
   "execution_count": null,
   "metadata": {
    "colab": {
     "base_uri": "https://localhost:8080/"
    },
    "id": "8U0Sj0gtI4VQ",
    "outputId": "ddcaa09f-99e2-4bcf-9233-cf170f499714"
   },
   "outputs": [],
   "source": [
    "listings['host_id'].nunique()"
   ]
  },
  {
   "cell_type": "code",
   "execution_count": null,
   "metadata": {
    "colab": {
     "base_uri": "https://localhost:8080/",
     "height": 391
    },
    "id": "dpSQuVt7BihO",
    "outputId": "9329e4f4-a85b-4c3c-c5b9-19d72fdd446c"
   },
   "outputs": [],
   "source": [
    "# 3 хоста предлагает более 100 объектов недвижимости из представленных в датасете\n",
    "host_id = listings[['host_id', 'id']].groupby('host_id', as_index=False).count().sort_values('id', ascending=False).rename(columns={'id': 'total'})\n",
    "host_id"
   ]
  },
  {
   "cell_type": "code",
   "execution_count": null,
   "metadata": {
    "colab": {
     "base_uri": "https://localhost:8080/"
    },
    "id": "vjOkfrNyL6ub",
    "outputId": "cd40bb6b-f875-45bc-caad-4e96fcebd82f"
   },
   "outputs": [],
   "source": [
    "# пропусков нет\n",
    "listings['host_id'].isna().sum()"
   ]
  },
  {
   "cell_type": "markdown",
   "metadata": {
    "id": "xvc8vDWGP-Jd"
   },
   "source": [
    "***host_acceptance_rate*** - на какую долю обращений гостей хост ответил согласием"
   ]
  },
  {
   "cell_type": "code",
   "execution_count": null,
   "metadata": {
    "colab": {
     "base_uri": "https://localhost:8080/"
    },
    "id": "IGB5y6g_Zyta",
    "outputId": "22e69806-3539-455d-abff-ad6b102431b5"
   },
   "outputs": [],
   "source": [
    "# множественные пропуски\n",
    "listings['host_acceptance_rate'].isna().sum()"
   ]
  },
  {
   "cell_type": "code",
   "execution_count": null,
   "metadata": {
    "id": "bXCPNrrqa24s"
   },
   "outputs": [],
   "source": [
    "listings['host_acceptance_rate'] = listings['host_acceptance_rate'].str[:-1].astype('float64')"
   ]
  },
  {
   "cell_type": "code",
   "execution_count": null,
   "metadata": {
    "id": "kHca4BMbOFwx"
   },
   "outputs": [],
   "source": [
    "# отсутствующие данные заменим на 0\n",
    "listings['host_acceptance_rate'].fillna(0, inplace=True)"
   ]
  },
  {
   "cell_type": "code",
   "execution_count": null,
   "metadata": {
    "id": "MufRNo1YO_s-"
   },
   "outputs": [],
   "source": [
    "# Проведем нормализацию данных\n",
    "scaler = preprocessing.MinMaxScaler()"
   ]
  },
  {
   "cell_type": "code",
   "execution_count": null,
   "metadata": {
    "id": "it7IAqaGO_tZ"
   },
   "outputs": [],
   "source": [
    "listings[['host_acceptance_rate']] = scaler.fit_transform(listings[['host_acceptance_rate']])"
   ]
  },
  {
   "cell_type": "code",
   "execution_count": null,
   "metadata": {
    "colab": {
     "base_uri": "https://localhost:8080/"
    },
    "id": "JBRS9QTScDTD",
    "outputId": "87618102-e6a7-4739-d0ef-04d81637b1bb"
   },
   "outputs": [],
   "source": [
    "# нет данных по четверти хостов\n",
    "# половина хостов принимает всех обратившихся к ним гостей\n",
    "listings['host_acceptance_rate'].value_counts(normalize=True)"
   ]
  },
  {
   "cell_type": "markdown",
   "metadata": {
    "id": "GxW2wh-sM2IO"
   },
   "source": [
    "***host_response_rate*** - частота отклика хоста"
   ]
  },
  {
   "cell_type": "code",
   "execution_count": null,
   "metadata": {
    "colab": {
     "base_uri": "https://localhost:8080/"
    },
    "id": "eFYzxT3WM_R9",
    "outputId": "a58c9689-11ff-4058-8d69-51d4db373436"
   },
   "outputs": [],
   "source": [
    "# в данных много пропусков\n",
    "listings['host_response_rate'].isna().sum()"
   ]
  },
  {
   "cell_type": "code",
   "execution_count": null,
   "metadata": {
    "id": "pTax3yOoVcVV"
   },
   "outputs": [],
   "source": [
    "listings['host_response_rate'] = listings['host_response_rate'].str[:-1].astype('float64')"
   ]
  },
  {
   "cell_type": "code",
   "execution_count": null,
   "metadata": {
    "id": "j4Q5IU1rWTJB"
   },
   "outputs": [],
   "source": [
    "listings['host_response_rate'].fillna(0, inplace=True)"
   ]
  },
  {
   "cell_type": "code",
   "execution_count": null,
   "metadata": {
    "id": "hxlu6le5Q762"
   },
   "outputs": [],
   "source": [
    "listings[['host_response_rate']] = scaler.fit_transform(listings[['host_response_rate']])"
   ]
  },
  {
   "cell_type": "code",
   "execution_count": null,
   "metadata": {
    "colab": {
     "base_uri": "https://localhost:8080/"
    },
    "id": "u1osrxMbUmfz",
    "outputId": "08d78e58-828b-48c8-d4f9-42ca424879ec"
   },
   "outputs": [],
   "source": [
    "# нет данных по 42% хостов\n",
    "# 45% хостов отвечают на все запросы\n",
    "listings['host_response_rate'].value_counts(normalize=True)"
   ]
  },
  {
   "cell_type": "markdown",
   "metadata": {
    "id": "fV6fBl4qMVVu"
   },
   "source": [
    "***host_listings_count*** - количество объектов недвижимости, предлагаемых хостом"
   ]
  },
  {
   "cell_type": "code",
   "execution_count": null,
   "metadata": {
    "colab": {
     "base_uri": "https://localhost:8080/"
    },
    "id": "nomswHMOQJ39",
    "outputId": "e1e0803f-2f89-49c0-82a6-55f7be0345ac"
   },
   "outputs": [],
   "source": [
    "''' выявляем несколько моментов:\n",
    "1. 2446 значений, указывают, что хост вообще не сдает недвижимость, что противоречит нашим данным, то есть фактически эти данные NAN\n",
    "2. некоторые хосты сдают значительно больше объектов недвижимости, чем мы выявили при группировке host_id, но это можно объяснить тем, \n",
    "что не вся их недвижимость представлена в данном датасете, также возможно, что данные объекты недвижимости расположены в других городах или даже странах''' \n",
    "listings['host_listings_count'].value_counts()"
   ]
  },
  {
   "cell_type": "code",
   "execution_count": null,
   "metadata": {
    "colab": {
     "base_uri": "https://localhost:8080/"
    },
    "id": "zpEoVlXaMVAQ",
    "outputId": "69c10815-dedd-49f9-81e8-d64a60d51e69"
   },
   "outputs": [],
   "source": [
    "# также есть 11 пропусков\n",
    "listings['host_listings_count'].isna().sum()"
   ]
  },
  {
   "cell_type": "code",
   "execution_count": null,
   "metadata": {
    "id": "AlLdRs_fUrwg"
   },
   "outputs": [],
   "source": [
    "# все 0 переводим в NaN, пропуски заполним подсчитанным выше значением total при группировке по host_id\n",
    "listings['host_listings_count'] = listings['host_listings_count'].replace(0, np.nan)"
   ]
  },
  {
   "cell_type": "code",
   "execution_count": null,
   "metadata": {
    "id": "knVwaM-CFUFu"
   },
   "outputs": [],
   "source": [
    "# датафрейм в котором host_listings_count заполнены nan и есть столбец total(вычисляемое значение кол) с вычисленным значением listings\n",
    "i = listings[listings.host_listings_count.isnull()].merge(host_id)"
   ]
  },
  {
   "cell_type": "code",
   "execution_count": null,
   "metadata": {
    "id": "9nl5puzo4PuM"
   },
   "outputs": [],
   "source": [
    "# значения для заполнения nan\n",
    "j = i.set_index('id')['total']"
   ]
  },
  {
   "cell_type": "code",
   "execution_count": null,
   "metadata": {
    "id": "L1BNViyO4XFj"
   },
   "outputs": [],
   "source": [
    "# заполняем пропуски\n",
    "listings['host_listings_count'] = listings['host_listings_count'].fillna(listings['id'].map(j))"
   ]
  },
  {
   "cell_type": "code",
   "execution_count": null,
   "metadata": {
    "colab": {
     "base_uri": "https://localhost:8080/"
    },
    "id": "upeyJD3W5KC4",
    "outputId": "fb1f5c1d-b3d8-4f73-da07-a2fd27aac009"
   },
   "outputs": [],
   "source": [
    "# проверим пропуски снова\n",
    "listings['host_listings_count'].isna().sum()"
   ]
  },
  {
   "cell_type": "code",
   "execution_count": null,
   "metadata": {
    "colab": {
     "base_uri": "https://localhost:8080/",
     "height": 278
    },
    "id": "5cs4wyFfIM7k",
    "outputId": "93d89516-02a9-401c-e81d-7a442011fe7e"
   },
   "outputs": [],
   "source": [
    "# посмотрим как распределены значения признака \n",
    "listings['host_listings_count'].hist()"
   ]
  },
  {
   "cell_type": "code",
   "execution_count": null,
   "metadata": {
    "colab": {
     "base_uri": "https://localhost:8080/"
    },
    "id": "TwJn3wp5HV6f",
    "outputId": "80b2e0c5-2aa2-43ba-9994-fd38915549f4"
   },
   "outputs": [],
   "source": [
    "# около 74% данных расположены в диапазоне от 1 до 5 объектов недвижимости на одного хоста\n",
    "listings['host_listings_count'].value_counts(normalize=True).round(2)"
   ]
  },
  {
   "cell_type": "code",
   "execution_count": null,
   "metadata": {
    "colab": {
     "base_uri": "https://localhost:8080/",
     "height": 278
    },
    "id": "yVCpbVV16mNP",
    "outputId": "a5f9bac6-9a7e-471d-c29d-dac04bebd320"
   },
   "outputs": [],
   "source": [
    "# смотрим выбросы\n",
    "sns.boxplot(data=listings['host_listings_count'], palette='cool', orient='h')"
   ]
  },
  {
   "cell_type": "code",
   "execution_count": null,
   "metadata": {
    "id": "FWZGNbkh9lgz"
   },
   "outputs": [],
   "source": [
    "# проверим, что стоит за таким большим количеством выбросов\n",
    "listings_count = listings[['host_id', 'host_listings_count', 'id']].groupby(['host_id','host_listings_count'], as_index=False).count().\\\n",
    "sort_values('host_listings_count', ascending=False).rename(columns={'id': 'count_in_df'})"
   ]
  },
  {
   "cell_type": "code",
   "execution_count": null,
   "metadata": {
    "colab": {
     "base_uri": "https://localhost:8080/",
     "height": 335
    },
    "id": "V97xtnuL-Hli",
    "outputId": "50209733-e6a9-42b1-f220-d24fda065c72"
   },
   "outputs": [],
   "source": [
    "''' проверила на сайте Airbnb хостов с наибольшим количеством предлагаемой недвижимости - все они являются представителями риэлторских компаний\n",
    "по краткосрочной сдаче жилья по всей Италии, или по всему миру - то есть полученные данные вполне реальны'''\n",
    "\n",
    "listings_count.head(10)"
   ]
  },
  {
   "cell_type": "markdown",
   "metadata": {
    "id": "AvHK0KHpGx1f"
   },
   "source": [
    "***latitude*** - данные о широте расположения объекта недвижимости"
   ]
  },
  {
   "cell_type": "code",
   "execution_count": null,
   "metadata": {
    "colab": {
     "base_uri": "https://localhost:8080/"
    },
    "id": "a29ppCzqGYIB",
    "outputId": "93f06907-f1d4-472a-e4fa-1f6e14ceec78"
   },
   "outputs": [],
   "source": [
    "# в данных отсутствуют пропуски\n",
    "listings['latitude'].isna().sum()"
   ]
  },
  {
   "cell_type": "code",
   "execution_count": null,
   "metadata": {
    "colab": {
     "base_uri": "https://localhost:8080/",
     "height": 278
    },
    "id": "46XOFIFSHfzx",
    "outputId": "e7764d31-0292-4cff-9191-aa1ff1d61be0"
   },
   "outputs": [],
   "source": [
    "# распределение значений признака\n",
    "# большинство значений сконцентрировано около широты 41,9 (эта широта делит город примерно пополам)\n",
    "listings['latitude'].hist()"
   ]
  },
  {
   "cell_type": "code",
   "execution_count": null,
   "metadata": {
    "colab": {
     "base_uri": "https://localhost:8080/",
     "height": 278
    },
    "id": "bEjsmtgwKP-h",
    "outputId": "3105ba01-31a4-4618-8062-f1eb997cba33"
   },
   "outputs": [],
   "source": [
    "# проверим выбросы\n",
    "# проверим минимальное и максимальное значение выбросов на соответствие географической широте пригородов Рима\n",
    "sns.boxplot(data=listings['latitude'], palette='cool', orient='h')"
   ]
  },
  {
   "cell_type": "code",
   "execution_count": null,
   "metadata": {
    "colab": {
     "base_uri": "https://localhost:8080/"
    },
    "id": "xlq5I1o0PRUh",
    "outputId": "83f2e3ed-d67c-48e5-9fc7-9b0b279e0c52"
   },
   "outputs": [],
   "source": [
    "min_lat = listings['latitude'].min()\n",
    "min_lat"
   ]
  },
  {
   "cell_type": "code",
   "execution_count": null,
   "metadata": {
    "colab": {
     "base_uri": "https://localhost:8080/"
    },
    "id": "tV8_tcDdK8kI",
    "outputId": "1a893619-5201-4f77-ef74-d3f4e1ca750b"
   },
   "outputs": [],
   "source": [
    "# минимальное значение широты соответствует пригородам Рима, южнее города Ачилия\n",
    "listings['neighbourhood'][listings['latitude'] == min_lat]"
   ]
  },
  {
   "cell_type": "code",
   "execution_count": null,
   "metadata": {
    "colab": {
     "base_uri": "https://localhost:8080/"
    },
    "id": "5g8fbOdoLpS1",
    "outputId": "fac651b3-7d54-4836-f839-e1694b5843f4"
   },
   "outputs": [],
   "source": [
    "max_lat = listings['latitude'].max()\n",
    "max_lat"
   ]
  },
  {
   "cell_type": "code",
   "execution_count": null,
   "metadata": {
    "colab": {
     "base_uri": "https://localhost:8080/"
    },
    "id": "nbQD_JVBPiYa",
    "outputId": "ef61eee9-ddcf-4f99-fe83-bfab8b27a505"
   },
   "outputs": [],
   "source": [
    "# максимальное значение широты соответствует северным пригородам Рима, расположенным вдоль Кассиевой дороги\n",
    "listings['neighbourhood'][listings['latitude'] == max_lat]"
   ]
  },
  {
   "cell_type": "markdown",
   "metadata": {
    "id": "h9pOd55RR_vK"
   },
   "source": [
    "***longitude*** - данные о долготе расположения объекта недвижимости"
   ]
  },
  {
   "cell_type": "code",
   "execution_count": null,
   "metadata": {
    "colab": {
     "base_uri": "https://localhost:8080/"
    },
    "id": "2d_IfFwERtk6",
    "outputId": "fa40b8ba-6b41-4d0b-8da1-ea281be17327"
   },
   "outputs": [],
   "source": [
    "# в данных отсутствуют пропуски\n",
    "listings['longitude'].isna().sum()"
   ]
  },
  {
   "cell_type": "code",
   "execution_count": null,
   "metadata": {
    "colab": {
     "base_uri": "https://localhost:8080/",
     "height": 278
    },
    "id": "a-3yz0ZnSSWb",
    "outputId": "72ba49d5-60b5-4203-cf80-ea854a3c9bdc"
   },
   "outputs": [],
   "source": [
    "# распределение значений признака - проверим соответствует ли разброс долготы географической долготе Рима и ближайших пригородов\n",
    "# большая часть значений соответствует долготе 12,5 (эта долгота также делит город пополам, что совместно с данными о широте позволяет сделать вывод,\n",
    "# что большая часть предлагаемой недвижимости расположена в центре города)\n",
    "listings['longitude'].hist()"
   ]
  },
  {
   "cell_type": "code",
   "execution_count": null,
   "metadata": {
    "colab": {
     "base_uri": "https://localhost:8080/",
     "height": 278
    },
    "id": "WLX7dPVBSkar",
    "outputId": "f360320b-1fcf-446d-9ea5-dac0ddadedb5"
   },
   "outputs": [],
   "source": [
    "# проверим выбросы\n",
    "sns.boxplot(data=listings['longitude'], palette='cool', orient='h')"
   ]
  },
  {
   "cell_type": "code",
   "execution_count": null,
   "metadata": {
    "colab": {
     "base_uri": "https://localhost:8080/"
    },
    "id": "X6JySrEMWbge",
    "outputId": "70bc9c62-94b3-4093-f6c8-1c332909d8b2"
   },
   "outputs": [],
   "source": [
    "min_long = listings['longitude'].min()\n",
    "min_long"
   ]
  },
  {
   "cell_type": "code",
   "execution_count": null,
   "metadata": {
    "colab": {
     "base_uri": "https://localhost:8080/"
    },
    "id": "ZzqGGvIDWqR-",
    "outputId": "bc6774de-da9e-47e6-ed13-f042bb9b75b3"
   },
   "outputs": [],
   "source": [
    "# минимальная долгота соответствует приморским пригородам Рима, расположенным возле аэропорта Фьюмичино\n",
    "listings['neighbourhood'][listings['longitude'] == min_long]"
   ]
  },
  {
   "cell_type": "code",
   "execution_count": null,
   "metadata": {
    "colab": {
     "base_uri": "https://localhost:8080/"
    },
    "id": "mqqMJbaTW2gA",
    "outputId": "18390294-3485-48cf-e310-2f05ae9f2206"
   },
   "outputs": [],
   "source": [
    "max_long = listings['longitude'].max()\n",
    "max_long"
   ]
  },
  {
   "cell_type": "code",
   "execution_count": null,
   "metadata": {
    "colab": {
     "base_uri": "https://localhost:8080/"
    },
    "id": "TIsVenHPXYw5",
    "outputId": "c97ad792-d42c-4056-fb5c-5e1e998b88a1"
   },
   "outputs": [],
   "source": [
    "# максимальная долгота соответствует восточному пригороду Сан-Витторино\n",
    "listings['neighbourhood'][listings['longitude'] == max_long]"
   ]
  },
  {
   "cell_type": "markdown",
   "metadata": {
    "id": "N-6aKjSil0zP"
   },
   "source": [
    "***accommodates*** - сколько человек возможно разместить"
   ]
  },
  {
   "cell_type": "code",
   "execution_count": null,
   "metadata": {
    "colab": {
     "base_uri": "https://localhost:8080/"
    },
    "id": "EFByL_xzneQ2",
    "outputId": "d4b748ba-9314-474e-d1b5-a008afc46f5b"
   },
   "outputs": [],
   "source": [
    "# пропусков в данных нет\n",
    "listings['accommodates'].isna().sum()"
   ]
  },
  {
   "cell_type": "code",
   "execution_count": null,
   "metadata": {
    "colab": {
     "base_uri": "https://localhost:8080/"
    },
    "id": "StNRGXtbmMtu",
    "outputId": "714b36e2-6c59-4585-8e2d-abf4b987b38e"
   },
   "outputs": [],
   "source": [
    "# в данных присутствует одно значение равное нулю, что противоречит логике данных \n",
    "listings['accommodates'].value_counts(normalize=True)"
   ]
  },
  {
   "cell_type": "code",
   "execution_count": null,
   "metadata": {
    "colab": {
     "base_uri": "https://localhost:8080/",
     "height": 145
    },
    "id": "p9IBEvK2oH8Q",
    "outputId": "75e36c44-22c8-419e-e260-e5ebf1c335f8"
   },
   "outputs": [],
   "source": [
    "listings[listings['accommodates'] == 0]"
   ]
  },
  {
   "cell_type": "code",
   "execution_count": null,
   "metadata": {
    "id": "FPmlju6IrR-f"
   },
   "outputs": [],
   "source": [
    "# заменим на значение моды\n",
    "listings['accommodates'] = listings['accommodates'].replace(0, listings['accommodates'].mode()[0])"
   ]
  },
  {
   "cell_type": "code",
   "execution_count": null,
   "metadata": {
    "colab": {
     "base_uri": "https://localhost:8080/",
     "height": 278
    },
    "id": "Z4tLUn-pnC4G",
    "outputId": "ce44248b-bec2-4297-fd7e-7efddb32ab9f"
   },
   "outputs": [],
   "source": [
    "# распределение значений признака\n",
    "listings['accommodates'].hist()"
   ]
  },
  {
   "cell_type": "code",
   "execution_count": null,
   "metadata": {
    "colab": {
     "base_uri": "https://localhost:8080/",
     "height": 278
    },
    "id": "nAJMqQ5MuKaO",
    "outputId": "8f1ab972-a1aa-4483-8d85-c39a4ea14915"
   },
   "outputs": [],
   "source": [
    "# проверим выбросы \n",
    "sns.boxplot(data=listings['accommodates'], palette='cool', orient='h')"
   ]
  },
  {
   "cell_type": "code",
   "execution_count": null,
   "metadata": {
    "colab": {
     "base_uri": "https://localhost:8080/",
     "height": 391
    },
    "id": "i6lRgUVLuuCU",
    "outputId": "a3310354-3c6c-455a-b4f5-7f11b25ae3bd"
   },
   "outputs": [],
   "source": [
    "# часть значений вполне реальны, среди видов недвижимости есть целые апартаменты и виллы способные вместить большое количество гостей\n",
    "# также часть объявлений относится к мини-отелям и гостевым домам, которые указывали суммарное количество гостей\n",
    "# такие значения вносят шум в остальные данных и дают выбросы по многим показателям\n",
    "listings[['id', 'property_type']][listings['accommodates'] == listings['accommodates'].max()]"
   ]
  },
  {
   "cell_type": "markdown",
   "metadata": {
    "id": "t5HeVr7L0Rq8"
   },
   "source": [
    "***bedrooms*** - количество спален"
   ]
  },
  {
   "cell_type": "code",
   "execution_count": null,
   "metadata": {
    "colab": {
     "base_uri": "https://localhost:8080/"
    },
    "id": "qasyFkh4zOWK",
    "outputId": "f0089add-d3b8-47d6-c976-4521fc614760"
   },
   "outputs": [],
   "source": [
    "# данные содержат пропуски\n",
    "listings['bedrooms'].isna().sum()"
   ]
  },
  {
   "cell_type": "code",
   "execution_count": null,
   "metadata": {
    "id": "DNwxVbYJ2d8P"
   },
   "outputs": [],
   "source": [
    "# заполним медианным значением (медиана значений признака в данной случае равна моде)\n",
    "listings['bedrooms'].fillna(listings['bedrooms'].median(), inplace=True)"
   ]
  },
  {
   "cell_type": "code",
   "execution_count": null,
   "metadata": {
    "colab": {
     "base_uri": "https://localhost:8080/"
    },
    "id": "a4oJB5nU2VFl",
    "outputId": "de67b53b-1c53-434b-da3e-2c63ab789cce"
   },
   "outputs": [],
   "source": [
    "# после заполнения пропусков, существенных искажений не получили\n",
    "listings['bedrooms'].describe()"
   ]
  },
  {
   "cell_type": "code",
   "execution_count": null,
   "metadata": {
    "colab": {
     "base_uri": "https://localhost:8080/"
    },
    "id": "wS9o7CRY0oAR",
    "outputId": "16e6883d-e96f-450b-9115-c9ccdf717a34"
   },
   "outputs": [],
   "source": [
    "# большая часть объявлений предлагает гостям одну или две спальные комнаты\n",
    "listings['bedrooms'].value_counts(normalize=True)"
   ]
  },
  {
   "cell_type": "code",
   "execution_count": null,
   "metadata": {
    "colab": {
     "base_uri": "https://localhost:8080/",
     "height": 278
    },
    "id": "gCtJQGoY-hey",
    "outputId": "d1fcd000-df88-4597-94c4-3f5c649731be"
   },
   "outputs": [],
   "source": [
    "listings['bedrooms'].hist()"
   ]
  },
  {
   "cell_type": "code",
   "execution_count": null,
   "metadata": {
    "colab": {
     "base_uri": "https://localhost:8080/",
     "height": 278
    },
    "id": "H8FOLjs--qY1",
    "outputId": "b8f51d01-db08-4705-a431-08a011eda3da"
   },
   "outputs": [],
   "source": [
    "# проверим выбросы \n",
    "# в данных также есть выбросы, на которые стоит в дальнейшем обратить внимание\n",
    "sns.boxplot(data=listings['bedrooms'], palette='cool', orient='h')"
   ]
  },
  {
   "cell_type": "markdown",
   "metadata": {
    "id": "Q2D9NdMM7ENL"
   },
   "source": [
    "***beds*** - количество спальных мест"
   ]
  },
  {
   "cell_type": "code",
   "execution_count": null,
   "metadata": {
    "colab": {
     "base_uri": "https://localhost:8080/"
    },
    "id": "WmXpeGxm7X0T",
    "outputId": "5aa05fe7-9ecd-47c9-98b3-18485fe5069e"
   },
   "outputs": [],
   "source": [
    "# есть некоторое количество пропусков\n",
    "listings['beds'].isna().sum()"
   ]
  },
  {
   "cell_type": "code",
   "execution_count": null,
   "metadata": {
    "colab": {
     "base_uri": "https://localhost:8080/"
    },
    "id": "lKRg8w7D9IA1",
    "outputId": "be7bfb41-54f7-4932-fa83-2c2e9c28bdb2"
   },
   "outputs": [],
   "source": [
    "# есть также данные, содержащие ноль кроватей\n",
    "listings['beds'].value_counts(normalize=True)"
   ]
  },
  {
   "cell_type": "code",
   "execution_count": null,
   "metadata": {
    "id": "zk37jBq8CHCc"
   },
   "outputs": [],
   "source": [
    "# заменим нули на NaN\n",
    "listings['beds'] = listings['beds'].replace(0, np.nan)"
   ]
  },
  {
   "cell_type": "code",
   "execution_count": null,
   "metadata": {
    "id": "w0Hmy7dB8aXC"
   },
   "outputs": [],
   "source": [
    "# заполним медианой показателя\n",
    "listings['beds'].fillna(listings['beds'].median(), inplace=True)"
   ]
  },
  {
   "cell_type": "code",
   "execution_count": null,
   "metadata": {
    "colab": {
     "base_uri": "https://localhost:8080/"
    },
    "id": "V6v8JwWO7oPW",
    "outputId": "d03e547f-8526-4272-f95e-52e883a176b9"
   },
   "outputs": [],
   "source": [
    "# после заполнения пропусков, существенных искажений не получили\n",
    "listings['beds'].describe()"
   ]
  },
  {
   "cell_type": "code",
   "execution_count": null,
   "metadata": {
    "colab": {
     "base_uri": "https://localhost:8080/",
     "height": 278
    },
    "id": "effrlc-dBQa3",
    "outputId": "46744bdc-176c-4413-f25b-a01bcff314e8"
   },
   "outputs": [],
   "source": [
    "listings['beds'].hist()"
   ]
  },
  {
   "cell_type": "code",
   "execution_count": null,
   "metadata": {
    "colab": {
     "base_uri": "https://localhost:8080/",
     "height": 278
    },
    "id": "WisQzuKt9SB1",
    "outputId": "6238d620-5726-4a95-fce9-1d6dc337e0d4"
   },
   "outputs": [],
   "source": [
    "sns.boxplot(data=listings['beds'], palette='cool', orient='h')"
   ]
  },
  {
   "cell_type": "code",
   "execution_count": null,
   "metadata": {
    "id": "itil2FEuAhtk"
   },
   "outputs": [],
   "source": [
    "# допустим несколько проверок на качество данных\n",
    "to_drop_1 = listings.query('(accommodates < 10) and (bedrooms > 5 or bathrooms > 6) and (property_type != \"house\")')"
   ]
  },
  {
   "cell_type": "code",
   "execution_count": null,
   "metadata": {
    "id": "SfzWsEe7uwC7"
   },
   "outputs": [],
   "source": [
    "listings = pd.concat([listings, to_drop_1]).drop_duplicates(keep=False)"
   ]
  },
  {
   "cell_type": "code",
   "execution_count": null,
   "metadata": {
    "id": "PLQod1bO1pgP"
   },
   "outputs": [],
   "source": [
    "to_drop_2 = listings.query('(accommodates > 12) and (beds < 4)')"
   ]
  },
  {
   "cell_type": "code",
   "execution_count": null,
   "metadata": {
    "id": "9Y0vQE8y3F5m"
   },
   "outputs": [],
   "source": [
    "listings = pd.concat([listings, to_drop_2]).drop_duplicates(keep=False)"
   ]
  },
  {
   "cell_type": "code",
   "execution_count": null,
   "metadata": {
    "id": "8H4fu0qO3cp2"
   },
   "outputs": [],
   "source": [
    "to_drop_3 = listings.query('(accommodates < 10) and (beds > 10)')"
   ]
  },
  {
   "cell_type": "code",
   "execution_count": null,
   "metadata": {
    "id": "kAm4PoKt4duz"
   },
   "outputs": [],
   "source": [
    "listings = pd.concat([listings, to_drop_3]).drop_duplicates(keep=False)"
   ]
  },
  {
   "cell_type": "code",
   "execution_count": null,
   "metadata": {
    "id": "FqK0PbpT0QXQ"
   },
   "outputs": [],
   "source": [
    "# теперь значения показателей 'accommodates', 'bathrooms', 'beds', 'bedrooms' хоть и содержат выбросы, но они относятся к реально существующим \n",
    "# крупным объектам недвижимости с возможностью бронирования на более 10 гостей\n",
    "outliers = listings[['accommodates', 'bathrooms', 'beds', 'bedrooms']]"
   ]
  },
  {
   "cell_type": "code",
   "execution_count": null,
   "metadata": {
    "colab": {
     "base_uri": "https://localhost:8080/",
     "height": 712
    },
    "id": "XmyIndzQ1DYY",
    "outputId": "46911922-2fe4-46f0-90d3-4db93c18a656"
   },
   "outputs": [],
   "source": [
    "fig, axes = plt.subplots(4, figsize=(10, 12))\n",
    "i=0\n",
    "for column in outliers.iloc[: , :4].columns:\n",
    "    axes[i].boxplot(outliers[column], vert=False)\n",
    "    axes[i].set_title(column)\n",
    "    i+=1"
   ]
  },
  {
   "cell_type": "markdown",
   "metadata": {
    "id": "4KWXt0UsUdHl"
   },
   "source": [
    "***minimum_nights*** - минимальное количество ночей для бронирования    и  ***maximum_nights*** - максимальное количество ночей для бронирования"
   ]
  },
  {
   "cell_type": "code",
   "execution_count": null,
   "metadata": {
    "colab": {
     "base_uri": "https://localhost:8080/"
    },
    "id": "WpWaWc7zVDOI",
    "outputId": "580cee8d-2e1c-4743-a2d6-fe646ac47d32"
   },
   "outputs": [],
   "source": [
    "# пропусков нет\n",
    "listings['minimum_nights'].isna().sum()"
   ]
  },
  {
   "cell_type": "code",
   "execution_count": null,
   "metadata": {
    "colab": {
     "base_uri": "https://localhost:8080/"
    },
    "id": "vUaBdO3zYcwY",
    "outputId": "d71e58fb-640a-4c75-b216-969c04953080"
   },
   "outputs": [],
   "source": [
    "# пропусков нет\n",
    "listings['maximum_nights'].isna().sum()"
   ]
  },
  {
   "cell_type": "code",
   "execution_count": null,
   "metadata": {
    "colab": {
     "base_uri": "https://localhost:8080/",
     "height": 67
    },
    "id": "CfVRdvRf-tO4",
    "outputId": "3c1a9d61-1169-4152-c1e6-2f7fb3b2ccfe"
   },
   "outputs": [],
   "source": [
    "# проверка на качество данных: минимальное кол-во ночей не больше максимального\n",
    "listings.query('maximum_nights < minimum_nights')"
   ]
  },
  {
   "cell_type": "code",
   "execution_count": null,
   "metadata": {
    "id": "Ie6xzHJYu48w"
   },
   "outputs": [],
   "source": [
    "# проверка на качество данных: минимальное кол-во ночей равно максимальному\n",
    "nights_max_min = listings.query('maximum_nights == minimum_nights')"
   ]
  },
  {
   "cell_type": "code",
   "execution_count": null,
   "metadata": {
    "colab": {
     "base_uri": "https://localhost:8080/"
    },
    "id": "J4-869ObwDBq",
    "outputId": "a0ee8348-7dfb-4417-ecfa-7c0e82220a34"
   },
   "outputs": [],
   "source": [
    "# есть относительно небольшое количество объявлений, где максимальное и минимальное количество ночей имеет нулевой разброс,\n",
    "# то есть жилье сдается на строго определенное количество дней\n",
    "nights_max_min[['maximum_nights' , 'minimum_nights']].value_counts()"
   ]
  },
  {
   "cell_type": "code",
   "execution_count": null,
   "metadata": {
    "colab": {
     "base_uri": "https://localhost:8080/"
    },
    "id": "NRRzsdEpVc-t",
    "outputId": "dad8ed0a-ab46-4157-915c-b9bc203209eb"
   },
   "outputs": [],
   "source": [
    "listings['minimum_nights'].unique()"
   ]
  },
  {
   "cell_type": "code",
   "execution_count": null,
   "metadata": {
    "id": "wLDST2LL_hVB"
   },
   "outputs": [],
   "source": [
    "# попробуем систематизировать разрозненные числовые значения на категории:\n",
    "listings['minimum_nights_cat'] = pd.cut(listings['minimum_nights'], bins=[0, 8, 15, 22, 32, 61, 181, 366, listings['minimum_nights'].max()], \n",
    "                                    labels=['1-7', '8-14', '15-21', '22-31', '32-60', '61-180', '181-365', '366+'], include_lowest=True)"
   ]
  },
  {
   "cell_type": "code",
   "execution_count": null,
   "metadata": {
    "colab": {
     "base_uri": "https://localhost:8080/"
    },
    "id": "-NsEcYoROVlI",
    "outputId": "4f79ffc4-53c8-42b8-c3c3-88f544ad37b5"
   },
   "outputs": [],
   "source": [
    "# большая часть предложений допускает минимальное количество ночей (1-7)\n",
    "# предложения с минимальным количеством ночей больше 366 дней относится скорее всего к временно \"замороженным\" объявлениям\n",
    "listings['minimum_nights_cat'].value_counts(normalize=True)"
   ]
  },
  {
   "cell_type": "code",
   "execution_count": null,
   "metadata": {
    "id": "0xohhES1T73D"
   },
   "outputs": [],
   "source": [
    "listings['maximum_nights_cat'] = pd.cut(listings['maximum_nights'], bins=[0, 8, 15, 22, 32, 61, 181, 366, listings['maximum_nights'].max()], \n",
    "                                    labels=['1-7', '8-14', '15-21', '22-31', '32-60', '61-180', '181-365', '366+'], include_lowest=True)"
   ]
  },
  {
   "cell_type": "code",
   "execution_count": null,
   "metadata": {
    "colab": {
     "base_uri": "https://localhost:8080/"
    },
    "id": "g0ikaDSqUkTR",
    "outputId": "98745ec8-563b-407a-8aa4-3c56daf58c9b"
   },
   "outputs": [],
   "source": [
    "# здесь, в свою очередь можно увидеть, что больше половины объявлений допускают бронирование недвижимости на срок больше года\n",
    "listings['maximum_nights_cat'].value_counts(normalize=True)"
   ]
  },
  {
   "cell_type": "markdown",
   "metadata": {
    "id": "ES0cEUAVUwQf"
   },
   "source": [
    "***availability_365*** - количество ночей доступных для бронирования в следующие 365 дней"
   ]
  },
  {
   "cell_type": "code",
   "execution_count": null,
   "metadata": {
    "colab": {
     "base_uri": "https://localhost:8080/"
    },
    "id": "AUkh5LGgYBs5",
    "outputId": "abb457d1-0afa-4453-892d-bd1ed122ae38"
   },
   "outputs": [],
   "source": [
    "# пропусков нет\n",
    "listings['availability_365'].isna().sum()"
   ]
  },
  {
   "cell_type": "code",
   "execution_count": null,
   "metadata": {
    "id": "oqA8tyDN2vr8"
   },
   "outputs": [],
   "source": [
    "listings['availability_365_cat'] = pd.cut(listings['availability_365'], bins=[0, 1, 15, 31, 61, 121, 181, 241, 301, 364, 365], \n",
    "                                    labels=['0','1-14', '15-30', '31-60', '61-120','121-180', '181-240', '241-300', '301-364', '365'], include_lowest=True)"
   ]
  },
  {
   "cell_type": "code",
   "execution_count": null,
   "metadata": {
    "colab": {
     "base_uri": "https://localhost:8080/"
    },
    "id": "yeUL4Wcf5xlR",
    "outputId": "0f6047c0-9e7a-48de-e0ea-f11ed57dee25"
   },
   "outputs": [],
   "source": [
    "# значения равные нулю, скорее всего указывают на то, что недвижимость временно не сдается или сдана долгосрочно\n",
    "# 16% недвижимости не имеет никакой брони на ближайшие 365 дней\n",
    "listings['availability_365_cat'].value_counts(normalize=True).round(2)"
   ]
  },
  {
   "cell_type": "code",
   "execution_count": null,
   "metadata": {
    "id": "5YmIEpzuIh9H"
   },
   "outputs": [],
   "source": [
    "listings.drop(columns=['availability_365', 'minimum_nights', 'maximum_nights'], axis=1, inplace=True)"
   ]
  },
  {
   "cell_type": "markdown",
   "metadata": {
    "id": "-oetD92cU335"
   },
   "source": [
    "***number_of_reviews*** - количество отзывов"
   ]
  },
  {
   "cell_type": "code",
   "execution_count": null,
   "metadata": {
    "colab": {
     "base_uri": "https://localhost:8080/"
    },
    "id": "3nohKIh-EQ3Q",
    "outputId": "b1cf0cca-a0a1-4656-97a2-ba27901e89dc"
   },
   "outputs": [],
   "source": [
    "# пропусков нет\n",
    "listings['number_of_reviews'].isna().sum()"
   ]
  },
  {
   "cell_type": "code",
   "execution_count": null,
   "metadata": {
    "colab": {
     "base_uri": "https://localhost:8080/"
    },
    "id": "D_pCANXLElAH",
    "outputId": "ff42995b-dc02-4c33-c4f9-d00cbcbb5b1b"
   },
   "outputs": [],
   "source": [
    "# 23% объявлений не имеют отзывов\n",
    "listings['number_of_reviews'].value_counts(normalize=True).round(2)"
   ]
  },
  {
   "cell_type": "markdown",
   "metadata": {
    "id": "pUCS_2iccRY1"
   },
   "source": [
    "***price_euro*** - цена в евро за ночь пребывания"
   ]
  },
  {
   "cell_type": "code",
   "execution_count": null,
   "metadata": {
    "colab": {
     "base_uri": "https://localhost:8080/"
    },
    "id": "-2BIwWLQcQXn",
    "outputId": "34132c89-14d0-4121-dddc-6769a2e6d208"
   },
   "outputs": [],
   "source": [
    "# пропусков нет\n",
    "listings['price_euro'].isna().sum()"
   ]
  },
  {
   "cell_type": "code",
   "execution_count": null,
   "metadata": {
    "colab": {
     "base_uri": "https://localhost:8080/",
     "height": 386
    },
    "id": "yKtfFNxf4tuo",
    "outputId": "46f20400-674b-4175-a29c-7efa7b20db06"
   },
   "outputs": [],
   "source": [
    "# есть предложения с нулевой ценой\n",
    "listings.loc[listings['price_euro'] == 0]"
   ]
  },
  {
   "cell_type": "code",
   "execution_count": null,
   "metadata": {
    "id": "it3DNdvn6Gmo"
   },
   "outputs": [],
   "source": [
    "# заменим нули на NaN\n",
    "listings['price_euro'] = listings['price_euro'].replace(0, np.nan)"
   ]
  },
  {
   "cell_type": "code",
   "execution_count": null,
   "metadata": {
    "id": "n1v7UbDB6Gmp"
   },
   "outputs": [],
   "source": [
    "# заполним медианой показателя\n",
    "listings['price_euro'].fillna(listings['price_euro'].median(), inplace=True)"
   ]
  },
  {
   "cell_type": "code",
   "execution_count": null,
   "metadata": {
    "colab": {
     "base_uri": "https://localhost:8080/"
    },
    "id": "A4d5v3oCc8Xb",
    "outputId": "55c33931-939d-4977-9c76-5200fb353d58"
   },
   "outputs": [],
   "source": [
    "listings['price_euro'].value_counts()"
   ]
  },
  {
   "cell_type": "code",
   "execution_count": null,
   "metadata": {
    "colab": {
     "base_uri": "https://localhost:8080/"
    },
    "id": "4NiQL0vC4bnt",
    "outputId": "f35e6b9a-9d0a-457c-8196-80fda6bc6861"
   },
   "outputs": [],
   "source": [
    "listings['price_euro'].describe()"
   ]
  },
  {
   "cell_type": "code",
   "execution_count": null,
   "metadata": {
    "colab": {
     "base_uri": "https://localhost:8080/",
     "height": 278
    },
    "id": "BXTeNrlEPmV4",
    "outputId": "3bcdf9dd-4978-4f31-e52b-d7b7dca7272e"
   },
   "outputs": [],
   "source": [
    "sns.boxplot(data=listings['price_euro'], palette='cool', orient='h')"
   ]
  },
  {
   "cell_type": "code",
   "execution_count": null,
   "metadata": {
    "id": "jHQXKVzQQWHv"
   },
   "outputs": [],
   "source": [
    "# все объявления по этому запросу оказались обычными комнатами в апартаментах и отеле\n",
    "# цена выглядит умышленно завышенной, видимо эти объявления также временно 'заморожены'\n",
    "# есть объявления, где цена указана не за ночь, а за минимальный период аренды\n",
    "\n",
    "to_drop_4 = listings.query('price_euro > 500 and (bathrooms_private == 0 or room_type == \"shared\")')\n"
   ]
  },
  {
   "cell_type": "code",
   "execution_count": null,
   "metadata": {
    "id": "VuV3IZ2OTPTb"
   },
   "outputs": [],
   "source": [
    "listings = pd.concat([listings, to_drop_4]).drop_duplicates(keep=False)"
   ]
  },
  {
   "cell_type": "code",
   "execution_count": null,
   "metadata": {
    "id": "-ztcC85UUbll"
   },
   "outputs": [],
   "source": [
    "to_drop_5 = listings.query('price_euro > 1000 and room_type == \"Private room\" and (property_type == \"guesthouse\" or property_type == \"apartment\")')"
   ]
  },
  {
   "cell_type": "code",
   "execution_count": null,
   "metadata": {
    "id": "ehHXKde2aHrN"
   },
   "outputs": [],
   "source": [
    "listings = pd.concat([listings, to_drop_5]).drop_duplicates(keep=False)"
   ]
  },
  {
   "cell_type": "code",
   "execution_count": null,
   "metadata": {
    "id": "ZTzFO-MIaRW9"
   },
   "outputs": [],
   "source": [
    "to_drop_6 = listings.query('price_euro > 2000 and room_type != \"Entire home/apt\"')"
   ]
  },
  {
   "cell_type": "code",
   "execution_count": null,
   "metadata": {
    "id": "FQLlaGF5ew8P"
   },
   "outputs": [],
   "source": [
    "listings = pd.concat([listings, to_drop_6]).drop_duplicates(keep=False)"
   ]
  },
  {
   "cell_type": "code",
   "execution_count": null,
   "metadata": {
    "id": "eFbAMsQipiFl"
   },
   "outputs": [],
   "source": [
    "to_drop_7 = listings.query('price_euro > 4000')"
   ]
  },
  {
   "cell_type": "code",
   "execution_count": null,
   "metadata": {
    "id": "u31AMWFnZex5"
   },
   "outputs": [],
   "source": [
    "listings = pd.concat([listings, to_drop_7]).drop_duplicates(keep=False)"
   ]
  },
  {
   "cell_type": "code",
   "execution_count": null,
   "metadata": {
    "id": "6IwH17zEd2vp"
   },
   "outputs": [],
   "source": [
    "to_drop_8 = listings.query('price_euro <= 50 and (accommodates >= 10 or beds >= 10 or bathrooms >= 10 or bedrooms >= 10)')\n"
   ]
  },
  {
   "cell_type": "code",
   "execution_count": null,
   "metadata": {
    "id": "Z_sDGJc4eehJ"
   },
   "outputs": [],
   "source": [
    "listings = pd.concat([listings, to_drop_8]).drop_duplicates(keep=False)"
   ]
  },
  {
   "cell_type": "code",
   "execution_count": null,
   "metadata": {
    "colab": {
     "base_uri": "https://localhost:8080/",
     "height": 145
    },
    "id": "4PQCRVZhoNYK",
    "outputId": "a8b7178d-3f95-4159-b478-1cd94a07876e"
   },
   "outputs": [],
   "source": [
    "listings.loc[listings['price_euro'] == listings['price_euro'].max()]"
   ]
  },
  {
   "cell_type": "markdown",
   "metadata": {
    "id": "HzswJ2i252S6"
   },
   "source": [
    "* ***review_scores_rating*** - общее впечатление гостей\n",
    "* ***review_scores_accuracy*** - оценка недвижимости по соответствию описанию\n",
    "* ***review_scores_checkin*** - оценка прибытия гостя\n",
    "* ***review_scores_communication*** - оценка общения с хостом\n",
    "* ***review_scores_location*** - оценка местоположения недвижимости\n",
    "* ***review_scores_value*** - оценка соотношения цена/качество\n",
    "* ***review_scores_cleanliness*** - оценка чистоты недвижимости"
   ]
  },
  {
   "cell_type": "code",
   "execution_count": null,
   "metadata": {
    "id": "TP9EaEDUTYan"
   },
   "outputs": [],
   "source": [
    "review_cols = ['review_scores_rating', 'review_scores_accuracy', 'review_scores_cleanliness', 'review_scores_checkin', \n",
    "          'review_scores_communication', 'review_scores_location', 'review_scores_value']"
   ]
  },
  {
   "cell_type": "code",
   "execution_count": null,
   "metadata": {
    "colab": {
     "base_uri": "https://localhost:8080/"
    },
    "id": "WccXpsTcTrVZ",
    "outputId": "e41ebdd2-26d9-4cd9-bbc9-f874272275e8"
   },
   "outputs": [],
   "source": [
    "listings[review_cols].isna().sum()"
   ]
  },
  {
   "cell_type": "code",
   "execution_count": null,
   "metadata": {
    "id": "KOfcULfyCkjD"
   },
   "outputs": [],
   "source": [
    "# заполним пропуски нулями\n",
    "listings['review_scores_rating'].fillna(0, inplace=True)\n",
    "listings['review_scores_accuracy'].fillna(0, inplace=True)\n",
    "listings['review_scores_checkin'].fillna(0, inplace=True)\n",
    "listings['review_scores_communication'].fillna(0, inplace=True)\n",
    "listings['review_scores_location'].fillna(0, inplace=True)\n",
    "listings['review_scores_value'].fillna(0, inplace=True)\n",
    "listings['review_scores_cleanliness'].fillna(0, inplace=True)"
   ]
  },
  {
   "cell_type": "code",
   "execution_count": null,
   "metadata": {
    "id": "-4hGa4LZ8AKE"
   },
   "outputs": [],
   "source": [
    "# нормализуем данные по рейтингам\n",
    "listings[['review_scores_rating', 'review_scores_accuracy', 'review_scores_checkin', \n",
    "          'review_scores_communication', 'review_scores_location', 'review_scores_value', 'review_scores_cleanliness']] = \\\n",
    "          scaler.fit_transform(listings[['review_scores_rating', 'review_scores_accuracy', 'review_scores_checkin', \n",
    "          'review_scores_communication', 'review_scores_location', 'review_scores_value', 'review_scores_cleanliness']])"
   ]
  },
  {
   "cell_type": "code",
   "execution_count": null,
   "metadata": {
    "colab": {
     "base_uri": "https://localhost:8080/",
     "height": 585
    },
    "id": "j0EmFfHp60GY",
    "outputId": "042d1258-ca65-4848-dbf2-5c1676b13ad5"
   },
   "outputs": [],
   "source": [
    "fig = plt.figure(figsize=(12,8))\n",
    "for i, var_name in enumerate(review_cols):\n",
    "    ax = fig.add_subplot(3,3,i+1)\n",
    "    listings[var_name].hist(bins=10,ax=ax)\n",
    "    ax.set_title(var_name)\n",
    "fig.tight_layout()\n",
    "plt.show()"
   ]
  },
  {
   "cell_type": "code",
   "execution_count": null,
   "metadata": {
    "colab": {
     "base_uri": "https://localhost:8080/"
    },
    "id": "COwYHIwHItWm",
    "outputId": "3c6814c0-482f-42ff-86df-1e555d821846"
   },
   "outputs": [],
   "source": [
    "# После всех преобразований получили такой датасет\n",
    "listings.info()"
   ]
  },
  {
   "cell_type": "code",
   "execution_count": null,
   "metadata": {
    "colab": {
     "base_uri": "https://localhost:8080/",
     "height": 313
    },
    "id": "Q-6itm9wqA20",
    "outputId": "1c4fe69f-f182-46a8-ae33-326f9d133c2e"
   },
   "outputs": [],
   "source": [
    "# Основные статистические данные, включая моду\n",
    "df_describe = listings.describe()\n",
    "metrics = {}\n",
    "for column in listings:\n",
    "    metrics[column] = listings[column].mode()[0]\n",
    "df_describe = pd.concat([pd.DataFrame([metrics], index = ['mode']), df_describe])\n",
    "df_describe = df_describe.drop(index=['count'])\n",
    "df_describe.rename(index={'50%':'median'}, inplace=True)\n",
    "df_describe.round(2)"
   ]
  },
  {
   "cell_type": "markdown",
   "metadata": {
    "id": "tko0IGmryYh1"
   },
   "source": [
    "***Теперь посмотрим, какие взаимосвязи можно найти между полученными после обработки данными***"
   ]
  },
  {
   "cell_type": "code",
   "execution_count": null,
   "metadata": {
    "colab": {
     "base_uri": "https://localhost:8080/",
     "height": 1000
    },
    "id": "oyWyIegV6vQ3",
    "outputId": "b3939e06-85d3-4d8c-ac90-206d69f614d5"
   },
   "outputs": [],
   "source": [
    "plt.figure(figsize=(20, 15))\n",
    "matrix = np.triu(listings.corr(method='kendall'))\n",
    "sns.heatmap(listings.corr(method='kendall'), cmap='coolwarm', mask=matrix, center=0, linecolor='black', annot=True, linewidths=1)"
   ]
  },
  {
   "cell_type": "markdown",
   "metadata": {
    "id": "U7Fwwj8ciYAX"
   },
   "source": [
    "***Прослеживается ряд взаимосвязей между переменными***\n",
    "* Отрицательная направленность корреляционной связи - 'host_days_active' и 'id', 'host_days_active' и 'host_id', 'host_days_active' и 'host_since', 'id' и 'number_of_reviews'. Связь между всеми этими критериями основана на давности активации - пример возможной интерпретации: чем больше прошло дней с момента активации, тем меньшим числом будет обозначен id пользователя, но можно обозначить и наоборот: чем большим числом будет обозначен id пользователя, тем меньше дней прошло с его активации в сервисе.\n",
    "\n",
    "* Положительная направленность корреляционной связи - можно разделить на подблоки:\n",
    "\n",
    "  * связи также построенные на времени активации: 'id' - 'host_id', 'id' - 'host_since', 'host_since' - 'host_id'\n",
    "  * подблок оценок недвижимости на основании отзывов: 'review_scores_rating', review_scores_accuracy', 'review_scores_cleanliness', 'review_scores_checkin',\n",
    "'review_scores_communication', 'review_scores_location' - имеют достаточно высокую корреляцию между собой (мультиколлинеарны), эти критерии в дальнейшем рассмотрим подробнее, а также их взаимосвязь с 'number_of_reviews'\n",
    "  * взаимосвязи ценообразования: 'price_euro' - 'accommodates', 'price_euro' -'bedrooms', 'price_euro' - 'beds', 'price_euro' - 'bathrooms', 'price_euro' - 'bathrooms_private'\n",
    "  * взаимосвязи с категорией superhost: здесь все показатели оценок на основании отзывов ('review_scores_rating', review_scores_accuracy', 'review_scores_cleanliness', 'review_scores_checkin',\n",
    "'review_scores_communication', 'review_scores_location'), а также 'superhost' -'number_of_reviews', 'superhost' - 'host_response_rate', 'superhost' - 'host_acceptance_rate', также рассмотрим подробнее\n",
    "  * взаимосвязи, определяющие облик предлагаемой недвижимости: 'accommodates'- 'bathrooms', 'accommodates'- 'bedrooms', 'accommodates'- 'beds', 'bathrooms' - 'bedrooms', 'bathrooms' - 'beds', 'bathrooms' - 'beds', 'bedrooms' - 'beds' \n"
   ]
  },
  {
   "cell_type": "markdown",
   "metadata": {
    "id": "LdLqN_tq4AvJ"
   },
   "source": [
    "#ПРОВЕДЕМ ИССЛЕДОВАНИЕ ПОЛУЧЕННЫХ ДАННЫХ"
   ]
  },
  {
   "cell_type": "markdown",
   "metadata": {
    "id": "5gVk8cX0zX6F"
   },
   "source": [
    "***ОБ ОТЗЫВАХ И ОЦЕНКАХ недвижимости пользователями***\n",
    "\n",
    "***Что нам уже известно:***\n",
    "\n",
    "* 23% объявлений не имеют отзывов - то есть эту недвижимость  или ещё никто ни разу не снимал, или никто из снимающих жильё не стал оставлять отзыв\n"
   ]
  },
  {
   "cell_type": "markdown",
   "metadata": {
    "id": "oRfxkO4NmO-E"
   },
   "source": [
    "Конечно, не каждая сдача недвижимости на Airbnb равна полученному отзыву, но сделаем допущение, что отзывы после сдачи жилья все-таки чаще оставляют - этому способствует в том числе система автоматических напоминаний от сервиса, что в течение 14 дней после отъезда есть возможность оставить отзыв, а также двусторонняя система отзывов (хост также оценивает гостя и отзыв можно увидеть только после того, как оставишь свой или прошло 14 дней) https://www.airbnb.ru/help/article/13/как-устроена-система-отзывов-на-жилье.\n",
    "\n",
    "\n",
    "Рассмотрим подробнее, ***сколько времени прошло с момента первого и с момента последнего отзыва*** для опубликованных объявлений:"
   ]
  },
  {
   "cell_type": "code",
   "execution_count": null,
   "metadata": {
    "id": "ilyXqjspptnh"
   },
   "outputs": [],
   "source": [
    "first_r = listings.sort_values(by='time_since_first_review', ascending=True)\n",
    "last_r = listings.sort_values(by='time_since_last_review', ascending=True)"
   ]
  },
  {
   "cell_type": "code",
   "execution_count": null,
   "metadata": {
    "colab": {
     "base_uri": "https://localhost:8080/",
     "height": 523
    },
    "id": "NBl1tl4XmPzq",
    "outputId": "dda5644d-0482-4162-a3de-edd9ab6386a1"
   },
   "outputs": [],
   "source": [
    "sns.set(rc={'figure.figsize':(10,7)})\n",
    "fig.suptitle('Сколько прошло времени с момента первого отзыва / с момента последнего отзыва',  fontsize=16, fontweight=\"bold\")\n",
    "\n",
    "fig, axes = plt.subplots(1,2, sharey=True)\n",
    "\n",
    "sns.histplot(ax=axes[0], x = 'time_since_first_review', data = first_r, stat='probability' , color='Green', edgecolor=\"k\", linewidth=2, )\n",
    "sns.histplot(ax=axes[1], x = 'time_since_last_review', data = last_r, stat='probability', color='Blue', edgecolor=\"k\", linewidth=2)\n",
    "plt.setp(axes[0].xaxis.get_majorticklabels(), rotation=70)\n",
    "plt.setp(axes[1].xaxis.get_majorticklabels(), rotation=70)"
   ]
  },
  {
   "cell_type": "markdown",
   "metadata": {
    "id": "jYd-b9zNufNF"
   },
   "source": [
    "* ***от 0 до 6 месяцев*** :\n",
    "    * первый отзыв - у 2% объявлений \n",
    "    * последний отзыв - 22% объявлений\n",
    "* ***6-12 месяцев*** -\n",
    "    * первый отзыв - 2%\n",
    "    * последний отзыв - 17%\n",
    "* ***1-2 года*** -\n",
    "    * первый отзыв - 18%\n",
    "    * последний отзыв - 27%\n",
    "* ***2-3 года*** -\n",
    "    * первый отзыв - 25%\n",
    "    * последний отзыв - 8%\n",
    "* ***более 4 лет*** -\n",
    "    * первый отзыв - 30% \n",
    "    * последний отзыв - 3%"
   ]
  },
  {
   "cell_type": "markdown",
   "metadata": {
    "id": "RmvjNUm5zi1F"
   },
   "source": [
    "***ВЫВОД:***  На сервисе Airbnb представлено достаточно большое количество недвижимости в Риме, которая сдается в аренду уже давно (точно более 4 лет - 30% объявлений и более 2-3 лет еще 25%), за последний же год есть всего 4% объявлений, получивших свой первый отзыв (по 2% за каждые полгода) - сказывается в том числе падение спроса, связанное с существенным сокращением туристического потока из-за карантинных мер. Из всей недвижимости более активно сдается 22% недвижимости (есть отзывы за последние полгода) и есть 3% объявлений, отзывов по которым нет более 4 лет.\n",
    "\n",
    "Интересно, а ***действительно ли большое количество отзывов может являться показателем качества жилья***? Попробуем проверить:"
   ]
  },
  {
   "cell_type": "markdown",
   "metadata": {
    "id": "ySkP1sM-lyS3"
   },
   "source": [
    "* на airbnb оценка качества жилья происходит через отзывы, поэтому убираем все объявления без отзывов\n",
    "* мнение одного гостя может быть очень субъективным, поэтому предположим, что объявлению для анализа дали оценку хотя бы более 10 гостей"
   ]
  },
  {
   "cell_type": "code",
   "execution_count": null,
   "metadata": {
    "id": "3xURs3ljcxQ6"
   },
   "outputs": [],
   "source": [
    "\n",
    "review = listings[listings['number_of_reviews'] > 10]"
   ]
  },
  {
   "cell_type": "code",
   "execution_count": null,
   "metadata": {
    "colab": {
     "base_uri": "https://localhost:8080/"
    },
    "id": "8QVqkJyScxk2",
    "outputId": "3b853d13-cf4a-4d7f-9f7c-03b09f2d4959"
   },
   "outputs": [],
   "source": [
    "review['number_of_reviews'].mean()"
   ]
  },
  {
   "cell_type": "code",
   "execution_count": null,
   "metadata": {
    "id": "DDjuu-QRhmo7"
   },
   "outputs": [],
   "source": [
    "review = review[['id', 'number_of_reviews', 'review_scores_rating']]"
   ]
  },
  {
   "cell_type": "code",
   "execution_count": null,
   "metadata": {
    "id": "QykrkhhGnfxN"
   },
   "outputs": [],
   "source": [
    "review['number_of_reviews'] = pd.cut(review['number_of_reviews'], bins=[review['number_of_reviews'].min(), 84, review['number_of_reviews'].max()], \n",
    "                                    labels=['less', 'more'], include_lowest=True)"
   ]
  },
  {
   "cell_type": "code",
   "execution_count": null,
   "metadata": {
    "colab": {
     "base_uri": "https://localhost:8080/",
     "height": 458
    },
    "id": "I5Y17QVlq1vd",
    "outputId": "2df16477-63fa-457a-8b83-6b1218a41aa2"
   },
   "outputs": [],
   "source": [
    "sns.set(rc={'figure.figsize':(10,7)})\n",
    "ax = sns.boxplot(x='number_of_reviews', y='id', data=review, palette='deep')\n",
    "plt.show()"
   ]
  },
  {
   "cell_type": "code",
   "execution_count": null,
   "metadata": {
    "id": "iZWeCP0Kc2YQ"
   },
   "outputs": [],
   "source": [
    "#сделаем выборку по 3000 оцененных объявлений с количеством отзывов больше и меньше среднего \n",
    "more_reviewed = review.query('number_of_reviews == \"more\" and review_scores_rating != 0').head(3000)"
   ]
  },
  {
   "cell_type": "code",
   "execution_count": null,
   "metadata": {
    "colab": {
     "base_uri": "https://localhost:8080/",
     "height": 463
    },
    "id": "Xa-f2wNsw0S6",
    "outputId": "37f5b8c2-55d6-43ba-f949-995f5f35ec31"
   },
   "outputs": [],
   "source": [
    "sns.set(rc={'figure.figsize':(10,7)})\n",
    "sns.distplot(more_reviewed['review_scores_rating'], kde_kws={\"label\": 'review_scores_rating'}, bins=20)"
   ]
  },
  {
   "cell_type": "code",
   "execution_count": null,
   "metadata": {
    "colab": {
     "base_uri": "https://localhost:8080/"
    },
    "id": "u_DRteV5nijF",
    "outputId": "ea13c35c-0cf8-4c1e-8b8b-0a439cd04a3d"
   },
   "outputs": [],
   "source": [
    "# выборка не имеет нормального распределения\n",
    "result = stats.normaltest(more_reviewed['review_scores_rating'])\n",
    "alpha = 0.5\n",
    "print(result)\n",
    "\n",
    "if result.pvalue < alpha:  # H0 - распределение нормально\n",
    "    print(\"H0 может быть отклонена\")\n",
    "else:\n",
    "    print(\"H0 не может быть отклонена\")"
   ]
  },
  {
   "cell_type": "code",
   "execution_count": null,
   "metadata": {
    "id": "nX67uATshNdv"
   },
   "outputs": [],
   "source": [
    "less_reviewed = review.query('number_of_reviews == \"less\" and review_scores_rating != 0').head(3000)"
   ]
  },
  {
   "cell_type": "code",
   "execution_count": null,
   "metadata": {
    "colab": {
     "base_uri": "https://localhost:8080/",
     "height": 627
    },
    "id": "V2O2xTWgyecU",
    "outputId": "83703e38-dfb0-4072-95c2-93d905a4e1cd"
   },
   "outputs": [],
   "source": [
    "sns.set(rc={'figure.figsize':(15,10)})\n",
    "sns.distplot(less_reviewed['review_scores_rating'], kde_kws={\"label\": 'review_scores_rating'}, bins=20)"
   ]
  },
  {
   "cell_type": "code",
   "execution_count": null,
   "metadata": {
    "colab": {
     "base_uri": "https://localhost:8080/"
    },
    "id": "jvX9sPX42AsT",
    "outputId": "a3bee6f7-2ad9-4e7d-a8e5-f4fb42ef38ed"
   },
   "outputs": [],
   "source": [
    "# выборка не имеет нормального распределения\n",
    "result = stats.normaltest(less_reviewed['review_scores_rating'])\n",
    "alpha = 0.05\n",
    "print(result)\n",
    "\n",
    "if result.pvalue < alpha:  # H0 - распределение нормально\n",
    "    print(\"H0 может быть отклонена\")\n",
    "else:\n",
    "    print(\"H0 не может быть отклонена\")"
   ]
  },
  {
   "cell_type": "code",
   "execution_count": null,
   "metadata": {
    "colab": {
     "base_uri": "https://localhost:8080/"
    },
    "id": "CI4pNsMTv6HW",
    "outputId": "03bc9951-07a1-4146-f0a0-344e234766c0"
   },
   "outputs": [],
   "source": [
    "# Использование в дальнейшем Т-теста без поправки Уэлча подразумевало бы равенство дисперсий\n",
    "# проверим равенство дисперсий, тест Флигнера-Килина\n",
    "# принимаем, что дисперсии различны\n",
    "stats.fligner((less_reviewed['review_scores_rating']), (more_reviewed['review_scores_rating']))"
   ]
  },
  {
   "cell_type": "code",
   "execution_count": null,
   "metadata": {
    "colab": {
     "base_uri": "https://localhost:8080/"
    },
    "id": "U2ry_d5P9xhC",
    "outputId": "46814d75-ef85-43cf-c0fc-3d2ddf7c7409"
   },
   "outputs": [],
   "source": [
    "print(np.var(less_reviewed['review_scores_rating']), np.var(more_reviewed['review_scores_rating']))"
   ]
  },
  {
   "cell_type": "markdown",
   "metadata": {
    "id": "HjiS_hjtrtlp"
   },
   "source": [
    "Оценим выборки с помощью 2 критериев: \n",
    "* Т-критерий с использованием поправки Уэлча (использование допустимо, так как выборка содержит большое количество наблюдений)\n",
    "* непараметрический U-критерий Манна — Уитни"
   ]
  },
  {
   "cell_type": "markdown",
   "metadata": {
    "id": "Ed8aBw74KYBU"
   },
   "source": [
    "***Сформулируем гипотезы***\n",
    "\n",
    "* H0 - Общая оценка рейтинга недвижимости одинакова для объявлений с количеством отзывов ниже среднего и с количеством отзывов выше среднего\n",
    "* H1 - Общая оценка рейтинга недвижимости различна для объявлений с количеством отзывов ниже среднего и с количеством отзывов выше среднего"
   ]
  },
  {
   "cell_type": "code",
   "execution_count": null,
   "metadata": {
    "colab": {
     "base_uri": "https://localhost:8080/"
    },
    "id": "joYG_nL05PYy",
    "outputId": "a6847c58-aa68-4644-e811-9de8d6cadfcd"
   },
   "outputs": [],
   "source": [
    "# Т-тест с использованием поправки Уэлча для неравных отклонений в случае двух выборок\n",
    "alpha = 0.05\n",
    "\n",
    "result = stats.ttest_ind(more_reviewed['review_scores_rating'], less_reviewed['review_scores_rating'], equal_var=False)\n",
    "print(result)\n",
    "if (result.pvalue < alpha):\n",
    "    print('Принимаем H1 - Общая оценка рейтинга недвижимости различна для объявлений с количеством отзывов ниже среднего \\\n",
    "и с количеством отзывов выше среднего')\n",
    "else:\n",
    "    print('Не отвергаем H0 - Общая оценка рейтинга недвижимости одинакова для объявлений с количеством отзывов ниже среднего \\\n",
    "и с количеством отзывов выше среднего')"
   ]
  },
  {
   "cell_type": "code",
   "execution_count": null,
   "metadata": {
    "colab": {
     "base_uri": "https://localhost:8080/"
    },
    "id": "B1wo10ShQwcb",
    "outputId": "e4134e58-f4ef-49cf-f55c-a97ffcf03977"
   },
   "outputs": [],
   "source": [
    "# непараметрический U-критерий Манна — Уитни\n",
    "alpha = 0.05\n",
    "\n",
    "result = stats.mannwhitneyu(more_reviewed['review_scores_rating'], less_reviewed['review_scores_rating'])\n",
    "print(result)\n",
    "\n",
    "if (result.pvalue < alpha):\n",
    "    print('Принимаем H1 - Общая оценка рейтинга недвижимости различна для объявлений с количеством отзывов ниже среднего \\\n",
    "и с количеством отзывов выше среднего')\n",
    "else:\n",
    "    print('Не отвергаем H0 - Общая оценка рейтинга недвижимости одинакова для объявлений с количеством отзывов ниже среднего \\\n",
    "и с количеством отзывов выше среднего')"
   ]
  },
  {
   "cell_type": "code",
   "execution_count": null,
   "metadata": {
    "colab": {
     "base_uri": "https://localhost:8080/",
     "height": 512
    },
    "id": "_Kg1xzh4Bqiu",
    "outputId": "5a949132-f65c-4e0e-b83e-c994473276de"
   },
   "outputs": [],
   "source": [
    "sns.set(rc={'figure.figsize':(10,7)})\n",
    "plt.hist(less_reviewed['review_scores_rating'], bins=15, color='r', edgecolor='k', alpha=0.5)\n",
    "plt.hist(more_reviewed['review_scores_rating'], bins=15, color='g', edgecolor='k', alpha=0.7)"
   ]
  },
  {
   "cell_type": "markdown",
   "metadata": {
    "id": "9V4CQia0T92Y"
   },
   "source": [
    "***ВЫВОД:*** при поиске жилья можно также ориентироваться на большое количество отзывов у объявления"
   ]
  },
  {
   "cell_type": "markdown",
   "metadata": {
    "id": "KdtpMVnzKwt2"
   },
   "source": [
    "Но как же ***формируется сама общая пользовательская оценка*** предлагаемого жилья? Какие из других имеющихся критериев оценки имеют большую с ней взаимосвязь?"
   ]
  },
  {
   "cell_type": "code",
   "execution_count": null,
   "metadata": {
    "id": "Z7RSwpbT4XZL"
   },
   "outputs": [],
   "source": [
    "# посмотрим отдельно корреляцию общей оценки и других оценочных критериев\n",
    "review_corr = listings[['review_scores_rating', 'review_scores_accuracy',\n",
    "       'review_scores_cleanliness', 'review_scores_checkin',\n",
    "       'review_scores_communication', 'review_scores_location',\n",
    "       'review_scores_value']]"
   ]
  },
  {
   "cell_type": "code",
   "execution_count": null,
   "metadata": {
    "id": "HI5VcQWGvoLz"
   },
   "outputs": [],
   "source": [
    "# учтём, что отсутствующая часть данных была обозначена 0\n",
    "review_corr = review_corr.query('review_scores_rating > 0 and review_scores_accuracy > 0 and \\\n",
    "       review_scores_cleanliness > 0 and review_scores_checkin > 0 and \\\n",
    "       review_scores_communication > 0 and review_scores_location  > 0 and \\\n",
    "       review_scores_value > 0')"
   ]
  },
  {
   "cell_type": "code",
   "execution_count": null,
   "metadata": {
    "colab": {
     "base_uri": "https://localhost:8080/",
     "height": 452
    },
    "id": "xrYK35FTe7ve",
    "outputId": "f801205d-70fa-49f2-ead7-8d83b3d70e00"
   },
   "outputs": [],
   "source": [
    "plt.figure(figsize=(10, 7))\n",
    "sns.heatmap(review_corr.corr(method='kendall')[['review_scores_rating']], cmap='coolwarm', center=0, linecolor='black', annot=True, linewidths=1)"
   ]
  },
  {
   "cell_type": "code",
   "execution_count": null,
   "metadata": {
    "colab": {
     "base_uri": "https://localhost:8080/",
     "height": 627
    },
    "id": "P8_BuYhYy5_B",
    "outputId": "80c40288-9f77-4a1d-eb4d-39806caaab6f"
   },
   "outputs": [],
   "source": [
    "# ВЗАИМОСВЯЗЬ СУММАРНОЙ ОЦЕНКИ ПОЛЬЗОВАТЕЛЕЙ И ПРОЧИХ КРИТЕРИЕВ ОЦЕНКИ\n",
    "sns.set(rc={'figure.figsize':(20,10)})\n",
    "fig, axes = plt.subplots(2,3)\n",
    "sns.regplot(ax=axes[0,0], y = \"review_scores_rating\", x = \"review_scores_accuracy\", data = review_corr, marker='+')\n",
    "sns.regplot(ax=axes[0,1],  y = \"review_scores_rating\", x = \"review_scores_cleanliness\", data = review_corr, marker='+')\n",
    "sns.regplot(ax=axes[0,2],  y = \"review_scores_rating\", x = \"review_scores_checkin\", data = review_corr, marker='+')\n",
    "sns.regplot(ax=axes[1,0],  y = \"review_scores_rating\", x = \"review_scores_communication\", data = review_corr, marker='+')\n",
    "sns.regplot(ax=axes[1,1],  y = \"review_scores_rating\", x = \"review_scores_location\", data = review_corr, marker='+')\n",
    "sns.regplot(ax=axes[1,2],  y = \"review_scores_rating\", x = \"review_scores_value\", data = review_corr, marker='+', color='darkmagenta')"
   ]
  },
  {
   "cell_type": "markdown",
   "metadata": {
    "id": "Dc9hVaIktMRx"
   },
   "source": [
    "***ВЫВОД:*** Среди всех имеющихся в данных критериев оценки недвижимости пользователями, можно наблюдать наибольшую взаимосвязь между общей оценкой и оценкой показателя \"цена-качество\". Далее по убывающей следует \"точность описания\", \"чистота\", \"коммуникация с хостом\", \"процедура заселения\" и самую наименьшую взаимосвязь показывает \"расположение недвижимости\"."
   ]
  },
  {
   "cell_type": "markdown",
   "metadata": {
    "id": "FR0k8X-gfKAc"
   },
   "source": [
    "***РАСПОЛОЖЕНИЕ НЕДВИЖИМОСТИ*** \n",
    "\n",
    "***Что нам уже известно:***\n",
    "\n",
    "* предлагаемая недвижимость распределена по 15 муниципальным округам Рима неравномерно - 54% всей предлагаемой недвижимости расположено в историческом центре"
   ]
  },
  {
   "cell_type": "markdown",
   "metadata": {
    "id": "rZLtUXkQfi8s"
   },
   "source": [
    "Теперь рассмотрим подробнее, ***в каких районах города лучше выбрать жилье*** и работает ли в Риме правило \"дальше от центра - зато дешевле\". "
   ]
  },
  {
   "cell_type": "code",
   "execution_count": null,
   "metadata": {
    "id": "2yZqggkSOiEM"
   },
   "outputs": [],
   "source": [
    "rome_prices = listings[['neighbourhood', 'price_euro', 'id']]"
   ]
  },
  {
   "cell_type": "code",
   "execution_count": null,
   "metadata": {
    "id": "wtfhZP76KJQy"
   },
   "outputs": [],
   "source": [
    "rome_prices_group = rome_prices.groupby(by='neighbourhood', as_index=False).agg({'price_euro': 'median', 'id': 'count'}).sort_values(by='price_euro', ascending=False) \\\n",
    ".rename(columns={'price_euro': 'price_median', 'id': 'listings_count'})"
   ]
  },
  {
   "cell_type": "code",
   "execution_count": null,
   "metadata": {
    "colab": {
     "base_uri": "https://localhost:8080/",
     "height": 478
    },
    "id": "xpDFVfRIaIKp",
    "outputId": "4ef16103-e1b5-4006-f468-f18396e63018"
   },
   "outputs": [],
   "source": [
    "rome_prices_group"
   ]
  },
  {
   "cell_type": "code",
   "execution_count": null,
   "metadata": {
    "colab": {
     "base_uri": "https://localhost:8080/",
     "height": 786
    },
    "id": "mgcbH4Y_RWWJ",
    "outputId": "3a7d6ac3-f80c-41d9-eefa-728aca72f6ec"
   },
   "outputs": [],
   "source": [
    "sns.barplot(data=rome_prices_group, x='neighbourhood', y='price_median', palette='cubehelix', edgecolor=\"k\", linewidth=2)\n",
    "plt.xticks(rotation=70)\n",
    "plt.title(\"Медиана цены на недвижимость относительно муниципальных районов, Италия, Рим\",  fontsize=14, fontweight=\"bold\", loc='left', pad=20)\n",
    "plt.ylabel(\"Медиана цены за ночь проживания, €\")\n",
    "plt.xlabel(\"Муниципальный район\")"
   ]
  },
  {
   "cell_type": "markdown",
   "metadata": {
    "id": "0nV-ogU5VRG6"
   },
   "source": [
    "Казалось бы, можно сделать вывод, что жить в центре дороже и лучше выбрать более отдаленные районы. Но действительно ли это так? Посмотрим какое количество объявлений приходится на каждый район"
   ]
  },
  {
   "cell_type": "code",
   "execution_count": null,
   "metadata": {
    "colab": {
     "base_uri": "https://localhost:8080/"
    },
    "id": "YFTdwt8gVAJ5",
    "outputId": "c99b7b99-adb6-4e99-a09b-e66d16e5af4f"
   },
   "outputs": [],
   "source": [
    "listings['neighbourhood'].value_counts()"
   ]
  },
  {
   "cell_type": "code",
   "execution_count": null,
   "metadata": {
    "colab": {
     "base_uri": "https://localhost:8080/"
    },
    "id": "H9402NDCfTE7",
    "outputId": "e6be5e7a-91ca-4c34-b48e-bee37b56fbf3"
   },
   "outputs": [],
   "source": [
    "# цена аренды в центре очень различается\n",
    "centro = listings.query('neighbourhood == \"I Centro Storico\"')\n",
    "centro['price_euro'].describe()"
   ]
  },
  {
   "cell_type": "markdown",
   "metadata": {
    "id": "06IrO_aVXz5L"
   },
   "source": [
    "В центре существенно больше предложений аренды жилья, чем в других районах, и как отмечено выше, это 54% от всех предложений в городе. Цена аренды в городе имеет существенный разброс и даже медиана может не давать адекватной картины ценообразования в районе. Поэтому важно подробнее рассмотреть ***из каких именно объявлений состоит предложение жилья в каждом районе***. Для этого построим карту города и диаграмму рассеяния цен относительно каждого муниципального района. Отметим на карте некоторые из главных достопримечательностей города, с которыми чаще всего приезжают ознакомиться туристы, а также два основных аэропорта."
   ]
  },
  {
   "cell_type": "code",
   "execution_count": null,
   "metadata": {
    "id": "AFzCiZMnSgm3"
   },
   "outputs": [],
   "source": [
    "# Возьмем 10 случайных достопримечательностей Рима\n",
    "attractions = {'name': ['Coliseum', 'San Pietro', 'Roman forum', 'Altare della Patria', 'Piazza Campo dei Fiori', 'Pantheon', 'Fontana di Trevi', \n",
    "                        'Piazza di Spagna', \"Castel Sant’Angelo\", 'Terme di Caracalla', 'Villa Borghese'],\n",
    "               'longitude': [12.5113, 12.49308, 12.48532, 12.4831, 12.47218, 12.47687, 12.48334, 12.48346, 12.46637, 12.49243, 12.48530], \n",
    "               'latitude': [41.8919, 41.89384, 41.89246, 41.89459, 41.89559, 41.89859, 41.90093, 41.90624, 41.90304, 41.87903, 41.91270]}\n"
   ]
  },
  {
   "cell_type": "code",
   "execution_count": null,
   "metadata": {
    "id": "UZJ4Z6NWYPj1"
   },
   "outputs": [],
   "source": [
    "airports = {'name': ['Fiumicino', 'Ciampino'],\n",
    "               'longitude': [12.2508, 12.590987], \n",
    "               'latitude': [41.8044, 41.799065 ]}"
   ]
  },
  {
   "cell_type": "code",
   "execution_count": null,
   "metadata": {
    "id": "g8OXSm6vzAri"
   },
   "outputs": [],
   "source": [
    "attractions = pd.DataFrame(attractions)\n",
    "airports = pd.DataFrame(airports)"
   ]
  },
  {
   "cell_type": "code",
   "execution_count": null,
   "metadata": {
    "colab": {
     "base_uri": "https://localhost:8080/",
     "height": 478
    },
    "id": "1VybZsYq4XxM",
    "outputId": "3c3de293-97cd-4798-a0c9-f587d34b1179"
   },
   "outputs": [],
   "source": [
    "# построим карту Рима с разграничением на районы\n",
    "map_df = gpd.read_file('neighbourhoods.geojson')\n",
    "map_df"
   ]
  },
  {
   "cell_type": "code",
   "execution_count": null,
   "metadata": {
    "colab": {
     "base_uri": "https://localhost:8080/"
    },
    "id": "STRJxa3BdZLQ",
    "outputId": "d3350847-ab0d-4b1c-d7e4-defe76d1a760"
   },
   "outputs": [],
   "source": [
    "map_df.info()"
   ]
  },
  {
   "cell_type": "code",
   "execution_count": null,
   "metadata": {
    "id": "epiGyEvcAZ4J"
   },
   "outputs": [],
   "source": [
    "map_df.drop(columns=['neighbourhood_group'], axis=1, inplace=True)"
   ]
  },
  {
   "cell_type": "markdown",
   "metadata": {
    "id": "lQofFmHNqQmC"
   },
   "source": [
    "***Разделим все предложения по аренде на два ценовых сегмента \"> 200 евро\" и \"< 200 евро\"***\n",
    "* ***Предложения жилья с ценой ниже 200 евро за ночь***"
   ]
  },
  {
   "cell_type": "code",
   "execution_count": null,
   "metadata": {
    "id": "5gcN9XlmSgQ0"
   },
   "outputs": [],
   "source": [
    "price_less = listings.query('price_euro < 200')\n",
    "price_more= listings.query('price_euro > 200')"
   ]
  },
  {
   "cell_type": "code",
   "execution_count": null,
   "metadata": {
    "colab": {
     "base_uri": "https://localhost:8080/",
     "height": 911
    },
    "id": "2EBoY-XvbceZ",
    "outputId": "191db39c-a762-4aee-8597-031105bffbb9"
   },
   "outputs": [],
   "source": [
    "plt.figure(figsize=(20,15))\n",
    "map_df.plot(figsize=(20,15), colormap='Blues', edgecolor='black', alpha=0.4)\n",
    "sns.scatterplot(price_less['longitude'], price_less['latitude'], hue=price_less['neighbourhood'], \n",
    "                size=price_less[\"price_euro\"], sizes=(10, 200), palette='gist_rainbow_r', alpha=0.4)\n",
    "plt.scatter(attractions['longitude'], attractions['latitude'], c='black', s=250, marker='x')\n",
    "plt.scatter(airports['longitude'], airports['latitude'], c='black', s=250, marker='X')\n",
    "plt.ioff()\n",
    "plt.title(\"РАСПРЕДЕЛЕНИЕ ПРЕДЛАГАЕМОГО ЖИЛЬЯ ПО РАЙОНАМ ГОРОДА И ЦЕНЕ (сегмент менее 200€ за ночь)\",  fontsize=14, fontweight=\"bold\", loc='left', pad=20)\n",
    "plt.axis('off')\n",
    "plt.legend(loc='center left', bbox_to_anchor=(1, 0.5), ncol=1, fontsize = 14, title=\"x - main attractions, X - airports\", title_fontsize = 14)"
   ]
  },
  {
   "cell_type": "code",
   "execution_count": null,
   "metadata": {
    "id": "gYqPkiyzoP61"
   },
   "outputs": [],
   "source": [
    "# сделаем выборку из 3000 наблюдений для более читаемой визуализации\n",
    "price_less = listings.query('price_euro < 200').head(3000)"
   ]
  },
  {
   "cell_type": "code",
   "execution_count": null,
   "metadata": {
    "colab": {
     "base_uri": "https://localhost:8080/",
     "height": 678
    },
    "id": "ArneAWdNccC-",
    "outputId": "8343f92e-29bc-4579-b7db-20035f607963"
   },
   "outputs": [],
   "source": [
    "plt.figure(figsize=(15,10))\n",
    "plt.ylabel(\"ЦЕНА ЗА НОЧЬ, евро\")\n",
    "plt.xlabel(\" \")\n",
    "plt.title(\"ДИАГРАММА РАССЕЯНИЯ ЦЕН В ЗАВИСИМОСТИ ОТ РАЙОНА ГОРОДА И КОЛИЧЕСТВА ГОСТЕЙ (ИТАЛИЯ, РИМ), сегмент менее 200€ за ночь\",  \n",
    "          fontsize=14, pad=40, loc='left', fontweight=\"bold\")\n",
    "sns.scatterplot(data=price_less, y='price_euro', x='id', palette='gist_rainbow_r', hue='neighbourhood', size=\"accommodates\",sizes=(10, 200), alpha=0.6)\n",
    "plt.legend(loc='center left', bbox_to_anchor=(1, 0.5), ncol=1)"
   ]
  },
  {
   "cell_type": "markdown",
   "metadata": {
    "id": "geIBMd3lmeH6"
   },
   "source": [
    "* Большая часть всех предложений сконцентрирована в историческом центре города (I Centro Storico), также существенное количество предложений расположено в прилегающему к нему району II Parioli/Nomentano (третий по кол-ву объявлений). Основная часть часто посещаемых достопримечательностей, также сконцентрирована в историческом центре или расположена максимально к нему близко.\n",
    "* Предложения в других районах имеют основную тенденцию \"притяжения\" и увеличения концентрации в направлении к центральному району (I Centro Storico)\n",
    "* Район VII San Giovanni/Cinecittà (второй по кол-ву объявлений) помимо центрально-направленной тенденции имеет концентрацию предложений вблизи аэропорта Чампино, поэтому предложения распределены достаточно равномерно по территории района\n",
    "* Районы X Ostia/Acilia и XI Arvalia/Portuense обладают в свою очередь  дополнительным \"центром притяжения\" - международным аэропортом Фьюмичино. Район X Ostia/Acilia также имеет сконцентрированные предложения у приморских территорий.\n",
    "\n",
    "* Ценовая политика предложений различна, в любом районе города можно выбрать на любой кошелек. Из-за высокого разброса, реально **цена слабо зависит от расположения**, то есть даже в самом центре (где медиана цены составила 71 евро) можно найти весьма недорогое жилье (в том числе, в котором можно разместиться компанией в несколько человек) и таких предложений достаточно много, а ценовая политика строится, по большей части, на основании других факторов. "
   ]
  },
  {
   "cell_type": "markdown",
   "metadata": {
    "id": "Q09NhoKHprAg"
   },
   "source": [
    "* ***Предложения жилья с ценой выше 200 евро за ночь***"
   ]
  },
  {
   "cell_type": "code",
   "execution_count": null,
   "metadata": {
    "colab": {
     "base_uri": "https://localhost:8080/",
     "height": 911
    },
    "id": "uyx5t3RPjV0r",
    "outputId": "1fe25aa9-89e8-49d2-c282-68fb7d6d30d9"
   },
   "outputs": [],
   "source": [
    "plt.figure(figsize=(20,15))\n",
    "map_df.plot(figsize=(20,15), colormap='Blues', edgecolor='black', alpha=0.4)\n",
    "sns.scatterplot(price_more['longitude'], price_more['latitude'], hue=price_more['neighbourhood'], \n",
    "                size=price_more[\"price_euro\"], sizes=(210, 800), palette='gist_rainbow_r', alpha=0.5)\n",
    "plt.scatter(attractions['longitude'], attractions['latitude'], c='black', s=250, marker='x')\n",
    "plt.scatter(airports['longitude'], airports['latitude'], c='black', s=250, marker='X')\n",
    "plt.ioff()\n",
    "plt.title(\"РАСПРЕДЕЛЕНИЕ ПРЕДЛАГАЕМОГО ЖИЛЬЯ ПО РАЙОНАМ ГОРОДА ПО ТИПУ КОМНАТ И ЦЕНЕ \\\n",
    "(сегмент более 200€ за ночь)\",  fontsize=14, fontweight=\"bold\", loc='left', pad=20)\n",
    "plt.axis('off')\n",
    "plt.legend(loc='center left', bbox_to_anchor=(1, 0.5), ncol=1, fontsize = 16, title=\"x - main attractions, X - airports\", title_fontsize = 16)"
   ]
  },
  {
   "cell_type": "code",
   "execution_count": null,
   "metadata": {
    "colab": {
     "base_uri": "https://localhost:8080/",
     "height": 678
    },
    "id": "_1fyoYOfd5Qk",
    "outputId": "02bf66c9-271c-4582-ffd1-a8d6962756b3"
   },
   "outputs": [],
   "source": [
    "plt.figure(figsize=(15,10))\n",
    "plt.ylabel(\"ЦЕНА ЗА НОЧЬ, евро\")\n",
    "plt.xlabel(\" \")\n",
    "plt.title(\"ДИАГРАММА РАССЕЯНИЯ ЦЕН В ЗАВИСИМОСТИ ОТ РАЙОНА ГОРОДА И КОЛИЧЕСТВА ГОСТЕЙ (ИТАЛИЯ, РИМ), сегмент более 200€ за ночь\",  \n",
    "          fontsize=14, pad=40, loc='left', fontweight=\"bold\")\n",
    "sns.scatterplot(data=price_more, y='price_euro', x='id', hue='neighbourhood', size=\"accommodates\",sizes=(20, 200), alpha=0.6, palette='gist_rainbow_r')\n",
    "plt.legend(loc='center left', bbox_to_anchor=(1, 0.5), ncol=1)"
   ]
  },
  {
   "cell_type": "markdown",
   "metadata": {
    "id": "Mw65_4aaoqt9"
   },
   "source": [
    "В сегменте жилья дороже 200 евро за ночь также наблюдается максимальная концентрация предложений в историческом центре города, в остальных районах можно отметить только единичные объявления. Также в этом сегменте довольно часто встречаются предложения для размещения больших компаний гостей."
   ]
  },
  {
   "cell_type": "markdown",
   "metadata": {
    "id": "QBlgK9Z5LhUi"
   },
   "source": [
    "***ВЫВОД:*** если цель посещения города именно туризм и посещение достопримечательностей, то нет смысла искать жильё далеко от муниципального района I Centro Storico и тратить драгоценное время путешествия на перемещения по городу из отдаленных районов в центр и обратно (а также деньги на билеты или такси), так как существенной разницы в цене между центром и отдаленными районами города не прослеживается. Если же самый центр города покажется слишком шумным и полным суеты, то есть множество предложений в  II Parioli/Nomentano, району близко расположенному к центру города, но намного более размеренному и спокойному."
   ]
  },
  {
   "cell_type": "markdown",
   "metadata": {
    "id": "rQXX1o367LYX"
   },
   "source": [
    "Но, если цена слабо зависит от расположения, то какие же факторы ёё определяют?"
   ]
  },
  {
   "cell_type": "markdown",
   "metadata": {
    "id": "YAgdlhWn1X50"
   },
   "source": [
    "***Ценообразование и цена***\n",
    "\n",
    "***Что нам уже известно:***\n",
    "\n",
    "* Есть часть предложений с экстремально высокой ценой за ночь - цена выглядит умышленно завышенной, видимо, эти объявления временно 'заморожены' или хосты проверяют забронирует ли кто-то предложенную недвижимость за такую цену, или цена указана не за ночь, а за минимальный период аренды\n",
    "* Разброс цен по городу слабо подчиняется территориальному признаку"
   ]
  },
  {
   "cell_type": "code",
   "execution_count": null,
   "metadata": {
    "id": "JoQtAov9pZ68"
   },
   "outputs": [],
   "source": [
    "mean_pr = listings['price_euro'].mean()\n",
    "median_pr = listings['price_euro'].median()\n",
    "mode_pr = listings['price_euro'].mode()[0]\n",
    "std = listings['price_euro'].std()"
   ]
  },
  {
   "cell_type": "code",
   "execution_count": null,
   "metadata": {
    "colab": {
     "base_uri": "https://localhost:8080/"
    },
    "id": "eK8ENR8SrYdv",
    "outputId": "30343fd9-2cc4-4f04-aede-e0e1a8ca9c74"
   },
   "outputs": [],
   "source": [
    "print(f'Средняя заявленной цены по данным сервиса Airbnb в Риме - {round(mean_pr)} евро, медиана - {round(median_pr)} евро, мода - {round(mode_pr)} евро, среднеквадратическое отклонение - {round(std)}')"
   ]
  },
  {
   "cell_type": "code",
   "execution_count": null,
   "metadata": {
    "colab": {
     "base_uri": "https://localhost:8080/",
     "height": 302
    },
    "id": "zXWs-T7nhQ85",
    "outputId": "8bc003bf-d2a8-47a0-f817-1ec14e9a507e"
   },
   "outputs": [],
   "source": [
    "# Распределение цен \n",
    "#Разделим на 3 сегмента (до 200 евро, от 201 до 1000, от 1001 и выше)\n",
    "plt.figure(figsize=(20,4))\n",
    "sns.histplot(data=listings, x='price_euro', stat='probability', bins=100)\n",
    "plt.margins(x=0)\n",
    "plt.axvline(200, color='orange', linestyle='--')\n",
    "plt.axvline(1000, color='red', linestyle='--')\n",
    "plt.title(\"Распределение цен\", fontsize=16, fontweight=\"bold\")\n",
    "plt.xlabel(\"Цена за ночь, евро\")\n",
    "plt.show()"
   ]
  },
  {
   "cell_type": "code",
   "execution_count": null,
   "metadata": {
    "colab": {
     "base_uri": "https://localhost:8080/",
     "height": 302
    },
    "id": "MCb4qzxsjRde",
    "outputId": "bce6fd6a-ae15-4e08-b50f-56faa0435d6a"
   },
   "outputs": [],
   "source": [
    "# Большая часть объявлений лежит в этом диапазоне\n",
    "plt.figure(figsize=(20,4))\n",
    "listings['price_euro'].hist(bins=100, range=(0, 200))\n",
    "plt.margins(x=0)\n",
    "plt.title(\"Распределение цен в диапазоне до 200€\", fontsize=16, fontweight=\"bold\")\n",
    "plt.xlabel(\"Цена за ночь, евро\")\n",
    "plt.ylabel(\"Кол-во объявлений\")\n",
    "plt.show()"
   ]
  },
  {
   "cell_type": "code",
   "execution_count": null,
   "metadata": {
    "colab": {
     "base_uri": "https://localhost:8080/"
    },
    "id": "BNWJgTDwt7kI",
    "outputId": "04ed6633-bc4b-4d77-b601-c7ed1426a0dd"
   },
   "outputs": [],
   "source": [
    "prlow = listings.query('price_euro < 200')\n",
    "prlow.shape"
   ]
  },
  {
   "cell_type": "code",
   "execution_count": null,
   "metadata": {
    "colab": {
     "base_uri": "https://localhost:8080/",
     "height": 302
    },
    "id": "QczSLWftoYeH",
    "outputId": "3063182b-2fe2-4b66-e565-25870e2a0aef"
   },
   "outputs": [],
   "source": [
    "# Количество объявлений существенно сократилось\n",
    "plt.figure(figsize=(20,4))\n",
    "listings['price_euro'].hist(bins=100, range=(201, 1000))\n",
    "plt.margins(x=0)\n",
    "plt.title(\"Распределение цен в диапазоне от 201 до 1000€\", fontsize=16, fontweight=\"bold\")\n",
    "plt.xlabel(\"Цена за ночь, евро\")\n",
    "plt.ylabel(\"Кол-во объявлений\")\n",
    "plt.show()"
   ]
  },
  {
   "cell_type": "code",
   "execution_count": null,
   "metadata": {
    "colab": {
     "base_uri": "https://localhost:8080/"
    },
    "id": "d7ywQ_S5wNYA",
    "outputId": "823c9abe-3766-4d77-8a11-277a43dbdb12"
   },
   "outputs": [],
   "source": [
    "prmed = listings.query('price_euro > 201 and price_euro <= 1000')\n",
    "prmed.shape"
   ]
  },
  {
   "cell_type": "code",
   "execution_count": null,
   "metadata": {
    "colab": {
     "base_uri": "https://localhost:8080/",
     "height": 302
    },
    "id": "jpSYw6RkowRY",
    "outputId": "bea56638-f912-468a-ae01-49c2e10e89c2"
   },
   "outputs": [],
   "source": [
    "# в этом диапазоне лежит крайне небольшое количество объявлений\n",
    "plt.figure(figsize=(20,4))\n",
    "listings['price_euro'].hist(bins=100, range=(1001, max(listings['price_euro'])))\n",
    "plt.margins(x=0)\n",
    "plt.title(\"Распределение цен в диапазоне от 1001€\", fontsize=16, fontweight=\"bold\")\n",
    "plt.xlabel(\"Цена за ночь, евро\")\n",
    "plt.ylabel(\"Кол-во объявлений\")\n",
    "plt.show()"
   ]
  },
  {
   "cell_type": "code",
   "execution_count": null,
   "metadata": {
    "colab": {
     "base_uri": "https://localhost:8080/"
    },
    "id": "n8Uqee-4w_2E",
    "outputId": "d6542a4c-97d7-4366-df26-69d31d81a6ef"
   },
   "outputs": [],
   "source": [
    "prhigh = listings.query('price_euro >= 1001')\n",
    "prhigh.shape"
   ]
  },
  {
   "cell_type": "code",
   "execution_count": null,
   "metadata": {
    "id": "FbXijkU40ga5"
   },
   "outputs": [],
   "source": [
    "# взаимосвязь цены и ценообразующих критериев\n",
    "price_corr = listings[['price_euro', 'accommodates', 'bedrooms', 'beds', 'bathrooms', 'bathrooms_private']]"
   ]
  },
  {
   "cell_type": "code",
   "execution_count": null,
   "metadata": {
    "colab": {
     "base_uri": "https://localhost:8080/",
     "height": 452
    },
    "id": "6au0r4Fg4LJ_",
    "outputId": "1a22eb7d-6d61-4e9d-940a-b86759d0b10e"
   },
   "outputs": [],
   "source": [
    "plt.figure(figsize=(10, 7))\n",
    "sns.heatmap(price_corr.corr(method='kendall')[['price_euro']], cmap='coolwarm', center=0, linecolor='black', annot=True, linewidths=1)"
   ]
  },
  {
   "cell_type": "code",
   "execution_count": null,
   "metadata": {
    "colab": {
     "base_uri": "https://localhost:8080/",
     "height": 627
    },
    "id": "BDUrB9yCLLQS",
    "outputId": "85cf831b-dcde-4ee3-b8cd-6495829bce3c"
   },
   "outputs": [],
   "source": [
    "\n",
    "sns.set(rc={'figure.figsize':(17,10)})\n",
    "fig.suptitle('Взаимосвязь цены и ценообразующих критериев',  fontsize=16, fontweight=\"bold\")\n",
    "fig, axes = plt.subplots(2,2)\n",
    "sns.regplot(ax=axes[0,0], y = \"price_euro\", x = 'accommodates', data = price_corr, marker='+', color='darkmagenta')\n",
    "sns.regplot(ax=axes[0,1],  y = \"price_euro\", x = 'bedrooms', data = price_corr, marker='+')\n",
    "sns.regplot(ax=axes[1,0],  y = \"price_euro\", x = 'beds', data = price_corr, marker='+')\n",
    "sns.regplot(ax=axes[1,1],  y =\"price_euro\", x = 'bathrooms', data = price_corr, marker='+')"
   ]
  },
  {
   "cell_type": "markdown",
   "metadata": {
    "id": "jfLoA6ylCOwo"
   },
   "source": [
    "* ***ВЫВОД:*** наибольшая взаимосвязь прослеживается между ценой и количеством размещенных гостей, также можно отметить связь с количеством спален, кроватей и ванных комнат"
   ]
  },
  {
   "cell_type": "code",
   "execution_count": null,
   "metadata": {
    "colab": {
     "base_uri": "https://localhost:8080/",
     "height": 1000
    },
    "id": "No7WFAyP5NSz",
    "outputId": "f0e4eda4-822b-41ce-be4e-408b16500118"
   },
   "outputs": [],
   "source": [
    "\n",
    "fig, axes = plt.subplots(2,2, figsize=(15, 15))\n",
    "fig.suptitle('РАСПРЕДЕЛЕНИЕ ЦЕНООБРАЗУЮЩИХ ФАКТОРОВ ОТНОСИТЕЛЬНО ЦЕНЫ ЗА НОЧЬ АРЕНДЫ',  fontsize=16, fontweight=\"bold\")\n",
    "\n",
    "sns.barplot(ax=axes[0,0], y = \"price_euro\", x = 'accommodates', data = price_corr, palette='Blues_r', edgecolor=\"k\", linewidth=2, ci=None)\n",
    "axes[0,0].set_title('Количество гостей', fontsize=14, fontweight=\"bold\", pad=5)\n",
    "sns.barplot(ax=axes[0,1],  y = \"price_euro\", x = 'bedrooms', data = price_corr, palette='Blues_r', edgecolor=\"k\", linewidth=2, ci=None)\n",
    "axes[0,1].set_title('Количество спальных комнат', fontsize=14, fontweight=\"bold\", pad=5)\n",
    "sns.barplot(ax=axes[1,0],  y = \"price_euro\", x = 'beds', data = price_corr, palette='Blues_r', edgecolor=\"k\", linewidth=2, ci=None)\n",
    "axes[1,0].set_title('Количество спальных мест', fontsize=14, fontweight=\"bold\", pad=5)\n",
    "sns.barplot(ax=axes[1,1],  y =\"price_euro\", x = 'bathrooms', data = price_corr, palette='Blues_r', edgecolor=\"k\", linewidth=2, ci=None)\n",
    "axes[1,1].set_title('Количество ванных комнат', fontsize=14, fontweight=\"bold\", pad=5)\n",
    "plt.setp(axes[1,0].xaxis.get_majorticklabels(), rotation=70)\n",
    "plt.setp(axes[1,1].xaxis.get_majorticklabels(), rotation=70)\n",
    "\n",
    "plt.show()\n"
   ]
  },
  {
   "cell_type": "code",
   "execution_count": null,
   "metadata": {
    "colab": {
     "base_uri": "https://localhost:8080/",
     "height": 535
    },
    "id": "LAMg63uK7x9A",
    "outputId": "a47f94cf-a72e-4627-e1b4-5bebb8fdba27"
   },
   "outputs": [],
   "source": [
    "# Цена на недвижимость с личной ванной комнатой и общей с другими гостями, будет различна\n",
    "fig = plt.figure(figsize=(7,7))\n",
    "ax = Axes3D(fig)\n",
    "ax.scatter(listings['bathrooms_private'], listings['bathrooms'], listings['price_euro'])\n",
    "plt.show()"
   ]
  },
  {
   "cell_type": "markdown",
   "metadata": {
    "id": "cFhc8Q5K1xGR"
   },
   "source": [
    "   ***НЕДВИЖИМОСТЬ***\n",
    "\n",
    "***Что нам уже известно:***\n",
    "* По типу недвижимости 89% предложений занято квартирами, но при желании можно снять и домик на дереве, иглу или комнату в замке\n",
    "* В 63% предложений можно получить комнату или дом целиком\n",
    "* Большая часть недвижимости вмещает от 1 до 5 гостей, но есть предложения и для компаний до 15 человек\n",
    "* 68% включают в себя только одну спальню и одну ванную комнату (в 92% объявлений она предполагается личная)\n",
    "* Чаще всего предлагаемое количество спальных мест от 1 до 3\n"
   ]
  },
  {
   "cell_type": "code",
   "execution_count": null,
   "metadata": {
    "id": "D7q_tJ0ms5EC"
   },
   "outputs": [],
   "source": [
    "property_about = listings[['property_type', 'room_type', 'accommodates', 'bedrooms', 'beds', 'bathrooms', 'bathrooms_private']]"
   ]
  },
  {
   "cell_type": "code",
   "execution_count": null,
   "metadata": {
    "colab": {
     "base_uri": "https://localhost:8080/",
     "height": 642
    },
    "id": "_y3CgPo6tbz5",
    "outputId": "d6fe2153-60fb-477c-9499-09410d2131d3"
   },
   "outputs": [],
   "source": [
    "sns.set(rc={'figure.figsize':(25,10)})\n",
    "plt.title(\"РАСПРЕДЕЛЕНИЕ КРИТЕРИЕВ, ХАРАКТЕРИЗУЮЩИХ НЕДВИЖИМОСТЬ\",  fontsize=14, fontweight=\"bold\", loc='left', pad=20)\n",
    "sns.violinplot(data=property_about, scale='width')\n",
    "sns.stripplot(data=property_about)"
   ]
  },
  {
   "cell_type": "code",
   "execution_count": null,
   "metadata": {
    "colab": {
     "base_uri": "https://localhost:8080/",
     "height": 658
    },
    "id": "QAb7uNbAsHzf",
    "outputId": "46965cb5-6f80-41ba-9d11-5b9b9f4d7883"
   },
   "outputs": [],
   "source": [
    "sns.set(rc={'figure.figsize':(25,10)})\n",
    "plt.title(\"Распределение по количеству гостей\",  fontsize=14, fontweight=\"bold\", loc='left', pad=20)\n",
    "sns.countplot(data=property_about, x='accommodates', palette='cubehelix', edgecolor=\"k\", linewidth=2, order=listings['accommodates'].value_counts().index)"
   ]
  },
  {
   "cell_type": "code",
   "execution_count": null,
   "metadata": {
    "colab": {
     "base_uri": "https://localhost:8080/",
     "height": 1000
    },
    "id": "-p2fecdfgbTO",
    "outputId": "0154a557-556c-4c90-a6a2-d8e3972f62ff"
   },
   "outputs": [],
   "source": [
    "sns.set(rc={'figure.figsize':(15,20)})\n",
    "fig, axes = plt.subplots(2,1, sharey=True)\n",
    "sns.countplot(ax=axes[0], data=listings, x='property_type', palette='cubehelix', edgecolor=\"k\", linewidth=2, order=listings['property_type'].value_counts().index)\n",
    "axes[0].set_title('Распределение по типу недвижимости', fontsize=18, fontweight=\"bold\", pad=10)\n",
    "sns.countplot(ax=axes[1], data=listings, x='room_type', palette='cubehelix', edgecolor=\"k\", linewidth=2, order=listings['room_type'].value_counts().index)\n",
    "axes[1].set_title('Распределение по типу комнат', fontsize=18, fontweight=\"bold\", pad=5)\n",
    "plt.setp(axes[0].xaxis.get_majorticklabels(), rotation=45)\n",
    "plt.show()\n"
   ]
  },
  {
   "cell_type": "code",
   "execution_count": null,
   "metadata": {
    "colab": {
     "base_uri": "https://localhost:8080/",
     "height": 487
    },
    "id": "y8T7Js5bvxOl",
    "outputId": "20bc6fcc-12d0-4ba7-dcd3-688d7f498459"
   },
   "outputs": [],
   "source": [
    "sns.set(rc={'figure.figsize':(20,7)})\n",
    "fig, axes = plt.subplots(1,2, sharey=True)\n",
    "sns.countplot(ax=axes[0], x = 'beds', data = listings, palette='cubehelix', edgecolor=\"k\", linewidth=2)\n",
    "axes[0].set_title('Количество спальных мест', fontsize=18, fontweight=\"bold\", pad=10)\n",
    "sns.countplot(ax=axes[1], x = 'bedrooms', data = listings, palette='cubehelix', edgecolor=\"k\", linewidth=2)\n",
    "axes[1].set_title('Количество спальных комнат', fontsize=18, fontweight=\"bold\", pad=10)\n",
    "plt.setp(axes[0].xaxis.get_majorticklabels(), rotation=70)\n",
    "plt.setp(axes[1].xaxis.get_majorticklabels(), rotation=70)\n",
    "plt.show()\n"
   ]
  },
  {
   "cell_type": "code",
   "execution_count": null,
   "metadata": {
    "colab": {
     "base_uri": "https://localhost:8080/",
     "height": 902
    },
    "id": "oK_2u7Qi25qY",
    "outputId": "e6830cd4-d6cf-4735-d803-834aee82e4d3"
   },
   "outputs": [],
   "source": [
    "sns.set(rc={'figure.figsize':(20,15)})\n",
    "fig, axes = plt.subplots(2,1, sharey=True)\n",
    "sns.countplot(ax=axes[0], x = 'bathrooms', data = listings, palette='cubehelix', edgecolor=\"k\", linewidth=2, order=listings['bathrooms'].value_counts().index)\n",
    "axes[0].set_title('Количество ванных комнат', fontsize=18, fontweight=\"bold\", pad=5)\n",
    "sns.countplot(ax=axes[1], x = 'bathrooms_private', data = listings, palette='cubehelix', edgecolor=\"k\", linewidth=2)\n",
    "axes[1].set_title('Общая/Личная', fontsize=18, fontweight=\"bold\", pad=5)\n",
    "plt.setp(axes[0].xaxis.get_majorticklabels(), rotation=70)\n",
    "\n",
    "plt.show()"
   ]
  },
  {
   "cell_type": "code",
   "execution_count": null,
   "metadata": {
    "colab": {
     "base_uri": "https://localhost:8080/",
     "height": 913
    },
    "id": "GYsas_W6RW9q",
    "outputId": "e8df6c06-30f5-46d7-d65c-69fa6fe21d6f"
   },
   "outputs": [],
   "source": [
    "plt.figure(figsize=(20,15))\n",
    "map_df.plot(figsize=(20,15), colormap='Blues', edgecolor='black', alpha=0.4)\n",
    "sns.scatterplot(listings['longitude'], listings['latitude'], hue=listings['property_type'], \n",
    "                size=listings[\"accommodates\"], sizes=(10, 300), palette='gist_rainbow_r', alpha=0.6)\n",
    "plt.ioff()\n",
    "plt.title(\"РАСПРЕДЕЛЕНИЕ ПРЕДЛАГАЕМОГО ЖИЛЬЯ ПО РАЙОНАМ ГОРОДА ПО ЕГО ТИПУ И ВОЗМОЖНОМУ КОЛИЧЕСТВУ ГОСТЕЙ (ИТАЛИЯ, РИМ)\", \\\n",
    "          fontsize=16, fontweight=\"bold\", loc='left', pad=20)\n",
    "plt.axis('off')\n",
    "plt.legend(loc='center left', bbox_to_anchor=(1, 0.5), ncol=1, fontsize = 25)"
   ]
  },
  {
   "cell_type": "markdown",
   "metadata": {
    "id": "B9IBvRcMqnup"
   },
   "source": [
    "***ВЫВОД:*** Как же будет выглядеть собирательный образ недвижимости, которую предложат гостю в Риме? ***Это квартира целиком в историческом центре города с одной спальной комнатой и одной кроватью, с одной отдельной ванной комнатой для двух гостей***"
   ]
  },
  {
   "cell_type": "markdown",
   "metadata": {
    "id": "4-SNlywOOxcV"
   },
   "source": [
    "***ХОСТЫ***\n",
    "\n",
    "***Что мы уже выяснили:***\n",
    "* Хостами выступают не только частные лица, также есть представители риэлторских агентств, гостевых домов и отелей\n",
    "* Меньше четверти хостов являются суперхостами\n",
    "* 78% хостов прошла верификацию \n",
    "* Большая часть хостов зарегистрирована более 5 лет назад\n",
    "* Половина хостов принимает всех обратившихся за арендой\n",
    "* 45% хостов всегда отвечают на поступающие обращения\n",
    "* Только 33% сдают только один объект недвижимости"
   ]
  },
  {
   "cell_type": "markdown",
   "metadata": {
    "id": "31k6i1n9PZs3"
   },
   "source": [
    "Теперь немного о безопасности - как мы могли заметить, большая часть хостов прошла процедуру верификации, что безусловно делает процедуру сдачи недвижимости более безопасной. Интересно узнать, какие основные методы верификации хостов использует сервис Airbnb"
   ]
  },
  {
   "cell_type": "code",
   "execution_count": null,
   "metadata": {
    "id": "lWNGfihV21av"
   },
   "outputs": [],
   "source": [
    "# Подсчитаем количество слов, обозначающий способ верификации и соберем их в новый датафрейм\n",
    "verification_collect = Counter()\n",
    "listings['host_verifications'].str.split().apply(verification_collect.update)\n",
    "verification_collect = pd.Series(verification_collect).to_frame()"
   ]
  },
  {
   "cell_type": "code",
   "execution_count": null,
   "metadata": {
    "id": "wI_bPOH03ZR7"
   },
   "outputs": [],
   "source": [
    "verification_col = verification_collect.reset_index()"
   ]
  },
  {
   "cell_type": "code",
   "execution_count": null,
   "metadata": {
    "id": "KwzFDSOw3ZcP"
   },
   "outputs": [],
   "source": [
    "# переименуем столбцы\n",
    "verification_col.rename(columns={'index':'process', 0:'count'}, inplace=True)"
   ]
  },
  {
   "cell_type": "code",
   "execution_count": null,
   "metadata": {
    "id": "bnbr06pqR-Mr"
   },
   "outputs": [],
   "source": [
    "verification_col.sort_values(by='count', ascending=False, inplace=True)"
   ]
  },
  {
   "cell_type": "code",
   "execution_count": null,
   "metadata": {
    "colab": {
     "base_uri": "https://localhost:8080/",
     "height": 931
    },
    "id": "lUAxuGYiS5PF",
    "outputId": "7657abb1-25c8-49c6-9350-46d75844b05f"
   },
   "outputs": [],
   "source": [
    "sns.barplot(data=verification_col, x='count', y='process', orient='h', palette='cubehelix')\n",
    "plt.title(\"СПОСОБЫ ВЕРИФИКАЦИИ ХОСТА\", \\\n",
    "          fontsize=16, fontweight=\"bold\", loc='left', pad=20)"
   ]
  },
  {
   "cell_type": "markdown",
   "metadata": {
    "id": "FWEaEEdCHdLD"
   },
   "source": [
    "Процедура верификации чаще всего состоит из нескольких компонентов (например, подтвержден номер телефона, электронная почта и удостоверение личности и сделано селфи)"
   ]
  },
  {
   "cell_type": "markdown",
   "metadata": {
    "id": "QIUGAhOfaHF8"
   },
   "source": [
    "Теперь посмотрим подробнее, что стоит за категорией \"суперхост\" и ***стоит ли специально ориентироваться на этот показатель при поиске жилья?***"
   ]
  },
  {
   "cell_type": "code",
   "execution_count": null,
   "metadata": {
    "id": "sMlgHaAsJtIQ"
   },
   "outputs": [],
   "source": [
    "# для удобства стоит создать отдельный датафрейм для анализа данных о хостах\n",
    "host = listings[['host_id', 'host_is_superhost', 'host_response_rate',\t'host_acceptance_rate', 'host_since', 'host_days_active',\t'host_listings_count',\n",
    "                 'host_verifications',\t'host_identity_verified', 'review_scores_rating', 'price_euro']]"
   ]
  },
  {
   "cell_type": "code",
   "execution_count": null,
   "metadata": {
    "id": "5LuM_0HKTRrv"
   },
   "outputs": [],
   "source": [
    "frequency = host[['host_id', 'host_is_superhost']].groupby('host_id', as_index=False).count().rename(columns={'host_is_superhost':'frequency'})"
   ]
  },
  {
   "cell_type": "code",
   "execution_count": null,
   "metadata": {
    "id": "mNvVQVFbWh8j"
   },
   "outputs": [],
   "source": [
    "host = host.merge(frequency, on='host_id')"
   ]
  },
  {
   "cell_type": "code",
   "execution_count": null,
   "metadata": {
    "colab": {
     "base_uri": "https://localhost:8080/",
     "height": 452
    },
    "id": "EkK6IuccKsDf",
    "outputId": "ae0322eb-c2ad-4944-a5c9-61fc419e6cb8"
   },
   "outputs": [],
   "source": [
    "# посмотрим, есть ли взамосвязь между признаками полученного датафрейма и категорией суперхост\n",
    "plt.figure(figsize=(10, 7))\n",
    "sns.heatmap(host.corr(method='spearman')[['host_is_superhost']], cmap='coolwarm', center=0, linecolor='black', annot=True, linewidths=1)"
   ]
  },
  {
   "cell_type": "markdown",
   "metadata": {
    "id": "2xOZJv-RSBVy"
   },
   "source": [
    "Исходя из данных, размещенных на сайте airbnb (https://www.airbnb.ru/d/superhost), на получение значка \"Суперхост\" влияют такие показатели как:\n",
    "* общий рейтинг\n",
    "* частота приема гостей\n",
    "* частота отмены бронирований\n",
    "* частота ответов на сообщения\n",
    "\n",
    "Для полноценной оценки частоты приема гостей необходимы данные за более длительный период (1 год), но остальные указанные выше показатели действительно имеют некоторую положительную корреляцию с исследуемым признаком"
   ]
  },
  {
   "cell_type": "code",
   "execution_count": null,
   "metadata": {
    "colab": {
     "base_uri": "https://localhost:8080/",
     "height": 501
    },
    "id": "Jo_LK_CebmY9",
    "outputId": "33d40306-986e-48b1-92d6-5efc7e7c4def"
   },
   "outputs": [],
   "source": [
    "sns.set(rc={'figure.figsize':(15,7)})\n",
    "fig, ax = plt.subplots()\n",
    "sns.countplot(x='host_identity_verified', data=host, hue='host_is_superhost', palette='icefire')\n",
    "plt.title(\"ПРОХОДИЛ ЛИ ХОСТ ВЕРИФИКАЦИЮ АККАУНТА\", \\\n",
    "          fontsize=16, fontweight=\"bold\", loc='left', pad=20)\n",
    "plt.legend(loc='center left', bbox_to_anchor=(1, 0.5), ncol=1, fontsize = 25, title=\"host_is_superhost\", title_fontsize = 25)\n",
    "\n",
    "ax.set_xticklabels(['YES', 'NO'], fontsize=16, fontweight=\"bold\")"
   ]
  },
  {
   "cell_type": "markdown",
   "metadata": {
    "id": "0H9k8Gg-YhLw"
   },
   "source": [
    "Из прошедших верификацию хостов и суперхостов примерно равное количество, из тех, кто не прошёл - хостов немного больше"
   ]
  },
  {
   "cell_type": "code",
   "execution_count": null,
   "metadata": {
    "colab": {
     "base_uri": "https://localhost:8080/",
     "height": 496
    },
    "id": "EflgZTjMMBwl",
    "outputId": "c54c491e-649e-45bb-f292-0fe3d0c2d75f"
   },
   "outputs": [],
   "source": [
    "sns.set(rc={'figure.figsize':(15,7)})\n",
    "sns.barplot(x='host_since', y=\"host_id\", data=host, hue='host_is_superhost', palette='icefire')\n",
    "plt.title(\"В КАКОМ ГОДУ ЗАРЕГИСТРИРОВАЛСЯ ХОСТ\", \\\n",
    "          fontsize=16, fontweight=\"bold\", loc='left', pad=20)\n",
    "plt.legend(loc='center left', bbox_to_anchor=(1, 0.5), ncol=1, fontsize = 25, title=\"host_is_superhost\", title_fontsize = 25)"
   ]
  },
  {
   "cell_type": "markdown",
   "metadata": {
    "id": "UoqRaDOfKSIe"
   },
   "source": [
    "Особых различий по этому показателю между хостом и суперхостом нет "
   ]
  },
  {
   "cell_type": "code",
   "execution_count": null,
   "metadata": {
    "id": "BwBUwL_alfiq"
   },
   "outputs": [],
   "source": [
    "host_response_super = host.query('host_response_rate > 0 and host_is_superhost == 1')\n",
    "host_response = host.query('host_response_rate > 0 and host_is_superhost != 1')"
   ]
  },
  {
   "cell_type": "code",
   "execution_count": null,
   "metadata": {
    "colab": {
     "base_uri": "https://localhost:8080/",
     "height": 513
    },
    "id": "Zbxm-98Le6d_",
    "outputId": "fab3e95d-4ac3-475f-c028-c5b6d8a9ba00"
   },
   "outputs": [],
   "source": [
    "sns.set(rc={'figure.figsize':(15,7)})\n",
    "fig, axes = plt.subplots(1, 2, sharey=True)\n",
    "fig.suptitle('ДОЛЯ ОТ КОЛИЧЕСТВА СООБЩЕНИЙ НА КОТОРЫЕ ОТВЕТИЛ ХОСТ',  fontsize=16, fontweight=\"bold\")\n",
    "sns.histplot(ax=axes[0], data=host_response_super, x='host_response_rate', color='darkmagenta', binwidth=0.1, stat='probability')\n",
    "axes[0].set_title('superhost', fontsize=16, fontweight=\"bold\")\n",
    "sns.histplot(ax=axes[1], data=host_response, x='host_response_rate', color='blue', binwidth=0.1, stat='probability')\n",
    "axes[1].set_title('host', fontsize=16, fontweight=\"bold\")"
   ]
  },
  {
   "cell_type": "markdown",
   "metadata": {
    "id": "g2O13qO-Kwhf"
   },
   "source": [
    "Суперхосты чаще отвечают на все сообщения, так как этот показатель является одним из требований для получения значка \"superhost\""
   ]
  },
  {
   "cell_type": "code",
   "execution_count": null,
   "metadata": {
    "id": "ScSOGLytmbR8"
   },
   "outputs": [],
   "source": [
    "host_acceptance_super = host.query('host_acceptance_rate > 0 and host_is_superhost == 1')\n",
    "host_acceptance = host.query('host_acceptance_rate > 0 and host_is_superhost != 1')"
   ]
  },
  {
   "cell_type": "code",
   "execution_count": null,
   "metadata": {
    "colab": {
     "base_uri": "https://localhost:8080/",
     "height": 513
    },
    "id": "zSZQdFGQmYZp",
    "outputId": "3a9e0c9b-9e04-4342-cce7-283b907dda89"
   },
   "outputs": [],
   "source": [
    "sns.set(rc={'figure.figsize':(15,7)})\n",
    "fig, axes = plt.subplots(1, 2, sharey=True)\n",
    "fig.suptitle('КАКУЮ ДОЛЮ ЗАИНТЕРЕСОВАВШИХСЯ ЖИЛЬЕМ ХОСТ СОГЛАСИЛСЯ ПРИНЯТЬ',  fontsize=16, fontweight=\"bold\")\n",
    "sns.histplot(ax=axes[0], data=host_acceptance_super, x='host_acceptance_rate', color='darkmagenta', binwidth=0.1, stat='probability')\n",
    "axes[0].set_title('superhost', fontsize=16, fontweight=\"bold\")\n",
    "sns.histplot(ax=axes[1], data=host_acceptance, x='host_acceptance_rate', color='blue', binwidth=0.1, stat='probability')\n",
    "axes[1].set_title('host', fontsize=16, fontweight=\"bold\")"
   ]
  },
  {
   "cell_type": "markdown",
   "metadata": {
    "id": "QbaK1XAYLSGy"
   },
   "source": [
    "Суперхосты также реже отказывают гостям в приеме, так как частый отказ без уважительной причины может способствовать потере значка \"superhost\""
   ]
  },
  {
   "cell_type": "code",
   "execution_count": null,
   "metadata": {
    "id": "q65OpCKimR8H"
   },
   "outputs": [],
   "source": [
    "# рассмотрим ценовой сигмент до 200 евро за ночь, так как ему принадлежит подавляющее число наблюдений \n",
    "price_super_host = host.query('price_euro < 200 and host_is_superhost == 1')\n",
    "price_host = host.query('price_euro < 200 and host_is_superhost != 1')"
   ]
  },
  {
   "cell_type": "code",
   "execution_count": null,
   "metadata": {
    "colab": {
     "base_uri": "https://localhost:8080/",
     "height": 513
    },
    "id": "-H1xtxvdUsVO",
    "outputId": "e3e2e201-9acb-460d-9d09-6e910b4d497d"
   },
   "outputs": [],
   "source": [
    "sns.set(rc={'figure.figsize':(15,7)})\n",
    "fig, axes = plt.subplots(1, 2, sharey=True)\n",
    "fig.suptitle('РАСПРЕДЕЛЕНИЕ ЦЕНЫ БРОНИРОВАНИЯ В СЕГМЕНТЕ ДО 200 ЕВРО ЗА НОЧЬ',  fontsize=16, fontweight=\"bold\")\n",
    "sns.histplot(ax=axes[0], data=price_super_host, x='price_euro', color='darkmagenta', binwidth=50, stat='probability')\n",
    "axes[0].set_title('superhost', fontsize=16, fontweight=\"bold\")\n",
    "sns.histplot(ax=axes[1], data=price_host, x='price_euro', color='blue', binwidth=50, stat='probability')\n",
    "axes[1].set_title('host', fontsize=16, fontweight=\"bold\")"
   ]
  },
  {
   "cell_type": "markdown",
   "metadata": {
    "id": "lcNvQIKCMIxj"
   },
   "source": [
    "Значительных различий в цене также не обнаружено, но у суперхостов немного реже встречаются предложения бюджетного жилья до 50 евро за ночь и чуть больше предложений от 100 евро"
   ]
  },
  {
   "cell_type": "code",
   "execution_count": null,
   "metadata": {
    "id": "j26ecHN_MIFp"
   },
   "outputs": [],
   "source": [
    "review_super_host = host.query('review_scores_rating > 0 and host_is_superhost == 1')\n",
    "review_host = host.query('review_scores_rating > 0 and host_is_superhost != 1')"
   ]
  },
  {
   "cell_type": "code",
   "execution_count": null,
   "metadata": {
    "colab": {
     "base_uri": "https://localhost:8080/",
     "height": 513
    },
    "id": "n1C_MYVIPFiK",
    "outputId": "2da2a5fc-9de4-4771-8b9a-326c4f96c51e"
   },
   "outputs": [],
   "source": [
    "sns.set(rc={'figure.figsize':(15,7)})\n",
    "fig, axes = plt.subplots(1, 2, sharey=True)\n",
    "fig.suptitle('Общий рейтинг',  fontsize=16, fontweight=\"bold\")\n",
    "sns.histplot(ax=axes[0], data=review_super_host, x='review_scores_rating', color='darkmagenta', binwidth=0.1, stat='probability')\n",
    "axes[0].set_title('superhost', fontsize=16, fontweight=\"bold\")\n",
    "sns.histplot(ax=axes[1], data=review_host, x='review_scores_rating', color='blue', binwidth=0.1, stat='probability')\n",
    "axes[1].set_title('host', fontsize=16, fontweight=\"bold\")"
   ]
  },
  {
   "cell_type": "markdown",
   "metadata": {
    "id": "IjsKzMk-PyaS"
   },
   "source": [
    "Суперхосты значительно чаще получают максимальные оценки в отзывах гостей (высокая оценка также является одним из критериев получения значка \"superhost\")"
   ]
  },
  {
   "cell_type": "markdown",
   "metadata": {
    "id": "rNHu-2h-RWT3"
   },
   "source": [
    "***ВЫВОД:*** Суперхост будет просто более отзывчивым хозяином с более стабильным сервисом (так как ему необходимо \"держать марку\"), с меньшей вероятностью неприятных сюрпризов по основным показателям его оценки. Если жилье необходимо на короткий срок и только на переночевать, то особой необходимости искать суперхоста нет. "
   ]
  },
  {
   "cell_type": "markdown",
   "metadata": {
    "id": "zBunmEX8T2RN"
   },
   "source": [
    "Каждый хост, размещая свое объявление, скорее всего стремится, чтобы его заметили и выбрали именно его предложение о сдаче жилья. Рассмотрим, ***какие слова чаще всего используют*** хосты в объявлениях, чтобы привлечь внимание гостей"
   ]
  },
  {
   "cell_type": "code",
   "execution_count": null,
   "metadata": {
    "id": "Pocuyshr0gjB"
   },
   "outputs": [],
   "source": [
    "# подсчитаем отдельные слова в тексте объявления и соберем их в датафрейм\n",
    "description_collect = Counter()\n",
    "listings['description'].str.split().apply(description_collect.update)\n",
    "description_collect = pd.Series(description_collect).to_frame()"
   ]
  },
  {
   "cell_type": "code",
   "execution_count": null,
   "metadata": {
    "id": "_NXCKkmUzAS8"
   },
   "outputs": [],
   "source": [
    "description_col = description_collect.reset_index()"
   ]
  },
  {
   "cell_type": "code",
   "execution_count": null,
   "metadata": {
    "id": "nKnF7SH7yxQp"
   },
   "outputs": [],
   "source": [
    "description_col.rename(columns={'index':'words', 0:'count'}, inplace=True)"
   ]
  },
  {
   "cell_type": "code",
   "execution_count": null,
   "metadata": {
    "colab": {
     "base_uri": "https://localhost:8080/",
     "height": 711
    },
    "id": "5GdB-67601-B",
    "outputId": "27d5bc4f-9fde-442b-ba87-fff72c75b6e7"
   },
   "outputs": [],
   "source": [
    "sns.set(rc={'figure.figsize':(20,15)})\n",
    "wordcloud = WordCloud(background_color='black', width=1920, height=1080, colormap='coolwarm').generate(\" \".join(description_col['words']))\n",
    "plt.imshow(wordcloud)\n",
    "plt.title(\"КАКИЕ СЛОВА ИСПОЛЬЗУЮТ В ОБЪЯВЛЕНИЯХ ДЛЯ ОПИСАНИЯ ПРЕДЛАГАЕМОГО ЖИЛЬЯ:\",  fontsize=16, fontweight=\"bold\", loc='left', pad=40)\n",
    "plt.axis('off')\n",
    "plt.show()"
   ]
  },
  {
   "cell_type": "markdown",
   "metadata": {
    "id": "BnMTaDTVVQ2A"
   },
   "source": [
    "***ВЫВОД:*** текст объявлений в основном далёк от художественного стиля и больше построен на описаниях. Хосты предпочитают в первую очередь подчеркнуть выгодность расположения и кратко дать описание по виду недвижимости (как можно увидеть это чаще всего апартаменты) и что она содержит (количество комнат, ванных, кроватей и тд.)"
   ]
  },
  {
   "cell_type": "markdown",
   "metadata": {
    "id": "r5NYo-OAZQsq"
   },
   "source": [
    "Теперь можно ознакомиться подробнее, ***какие удобства (и в каком количестве)*** в жилье чаще всего хосты могут предоставить своим гостям. Сначала рассмотрим количественное распределение."
   ]
  },
  {
   "cell_type": "code",
   "execution_count": null,
   "metadata": {
    "colab": {
     "base_uri": "https://localhost:8080/",
     "height": 463
    },
    "id": "SwF9oMi9nU9v",
    "outputId": "0c8280eb-e4eb-4feb-e731-63b3fda7bb9e"
   },
   "outputs": [],
   "source": [
    "#  чаще всего в объявлениях хосты озвучивают около 14 различных удобств для каждого объекта недвижимости\n",
    "sns.set(rc={'figure.figsize':(15,7)})\n",
    "sns.histplot(data=listings, x='amenities_count', color='darkmagenta', binwidth=1, edgecolor=\"k\", linewidth=2)\n"
   ]
  },
  {
   "cell_type": "code",
   "execution_count": null,
   "metadata": {
    "id": "4WDQJ7PGqN7M"
   },
   "outputs": [],
   "source": [
    "# Теперь посмотрим, что именно предлагают хосты\n",
    "# Воспользуемся счетчиком слов и cоздадим датафрейм\n",
    "amenities_collect = Counter()\n",
    "listings['amenities'].str.split().apply(amenities_collect.update)\n",
    "amenities_collect = pd.Series(amenities_collect).to_frame()"
   ]
  },
  {
   "cell_type": "code",
   "execution_count": null,
   "metadata": {
    "id": "1h1jrOcouva2"
   },
   "outputs": [],
   "source": [
    "amenities_col = amenities_collect.reset_index()"
   ]
  },
  {
   "cell_type": "code",
   "execution_count": null,
   "metadata": {
    "id": "Qjr9pq_fwkub"
   },
   "outputs": [],
   "source": [
    "amenities_col.rename(columns={'index':'amenity', 0:'count'}, inplace=True)"
   ]
  },
  {
   "cell_type": "code",
   "execution_count": null,
   "metadata": {
    "colab": {
     "base_uri": "https://localhost:8080/",
     "height": 713
    },
    "id": "Qi4zaKL0idAd",
    "outputId": "e9664109-059c-4764-8617-4ea6b7443e75"
   },
   "outputs": [],
   "source": [
    "sns.set(rc={'figure.figsize':(20,15)})\n",
    "wordcloud = WordCloud(background_color='black', width=1920, height=1080, colormap='coolwarm',  max_words=200,  min_font_size=8).generate(\" \".join(amenities_col['amenity']))\n",
    "plt.imshow(wordcloud)\n",
    "plt.title(\"КАКИЕ УДОБСТВАМИ ОБОРУДОВАНО ПРЕДЛАГАЕМОЕ ЖИЛЬЁ:\",  fontsize=16, fontweight=\"bold\", loc='left', pad=40)\n",
    "plt.axis('off')\n",
    "plt.show()"
   ]
  },
  {
   "cell_type": "markdown",
   "metadata": {
    "id": "_48tDVSfa93F"
   },
   "source": [
    "***ВЫВОД:*** Чаще всего для удобства гостей есть вешалки, утюг, вай-фай, фен, обогреватель,  предметы первой необходимости и набор первой помощи,  телевизор, кондиционер, кухня, стиральная машина, отдельное пространство для работы, горячая вода, гидромассажная ванна, кофемашина, лифт и даже парковочное место. Из более редкого и необычного предлагают, например, детскую ванночку и кроватку, фортепиано, пуровер для кофе, рисоварку и хлебопечку, сейф, спортзал и бассейн, возможность курения в помещении и пребывания с домашними животными."
   ]
  },
  {
   "cell_type": "markdown",
   "metadata": {
    "id": "u6XAuMSRl06r"
   },
   "source": [
    "В списке удобств можно также найти пункт **\"возможность долговременного проживания\"**. Чаще всего Airbnb воспринимают как сервис именно для краткосрочного проживания, но так ли это?"
   ]
  },
  {
   "cell_type": "code",
   "execution_count": null,
   "metadata": {
    "colab": {
     "base_uri": "https://localhost:8080/",
     "height": 648
    },
    "id": "QXpeSRskmyUx",
    "outputId": "519bb4ce-75b5-4170-9df4-cbc854b7a365"
   },
   "outputs": [],
   "source": [
    "sns.set(rc={'figure.figsize':(15,10)})\n",
    "sns.histplot(data=listings, x='minimum_nights_cat', color='red',  discrete=True, alpha=0.5, stat='probability', edgecolor=\"k\", linewidth=2)\n",
    "sns.histplot(data=listings, x='maximum_nights_cat', color='blue', discrete=True, alpha=0.5, stat='probability', edgecolor=\"k\", linewidth=2)\n",
    "plt.title('РАСПРЕДЕЛЕНИЕ МИНИМАЛЬНОГО И МАКСИМАЛЬНОГО КОЛ-ВА ДНЕЙ ВОЗМОЖНОГО ПРЕБЫВАНИЯ',  fontsize=16, fontweight=\"bold\")\n",
    "plt.xlabel(\"Range of days\")"
   ]
  },
  {
   "cell_type": "markdown",
   "metadata": {
    "id": "VPfxP57i_teP"
   },
   "source": [
    "\n",
    "* ***1-7 дней*** - примерно в 97% размещенных объявлений рассматривается именно этот период, как минимально возможное время пребывания, и только 3% объявлений, в которых максимальное время пребывания также ограничено этим периодом\n",
    "* ***8-14 дней*** - около 1% указали этот период как минимальное время проживания и 5% как максимальное\n",
    "* ***15-21 день*** - практически не указано, как минимальное время, как максимальное около 2%\n",
    "* ***22-31 день*** - есть около 2% объявлений, в которых минимальное время аренды 3-4 недели, этим же периодом ограничивают максимальное время пребывания около 22% владельцев недвижимости (здесь скорее всего имеет место юридический аспект - согласно местному законодательству, аренда недвижимости свыше 30 дней должна сопровождаться заключением договора, зарегистрированного в налоговых органах, и как результат, уплатой налога на доход с аренды https://www.agenziaentrate.gov.it)\n",
    "\n",
    "В результате, минимальное время аренды, за исключением единичных объявлений (часть из которых похожи на временно не используемые), ограничено периодом от 1 до 31 дня. Оставшиеся 68% ограничений на максимальное время аренды распределились так:\n",
    "* ***32-60 дней*** -  для 3% объявлений\n",
    "* ***61-180 дней*** -  для 7% объявлений\n",
    "* ***181-365 дней*** - для 5% объявлений\n",
    "* ***366+ дней*** - и около 53% объявлений предлагают максимальный срок от года и выше\n",
    "\n",
    "***ВЫВОД:*** Airbnb - это не только про краткосрочную аренду, если есть время и возможность, с помощью сервиса можно найти жилье и на достаточно длительный период"
   ]
  },
  {
   "cell_type": "markdown",
   "metadata": {
    "id": "NEySjOpf2-1w"
   },
   "source": [
    "\n",
    "***Но так ли легко забронировать недвижимость?*** Много ли свободных дней для аренды могут предоставить хосты на ближайший год?"
   ]
  },
  {
   "cell_type": "code",
   "execution_count": null,
   "metadata": {
    "colab": {
     "base_uri": "https://localhost:8080/",
     "height": 648
    },
    "id": "mqFYEAmNnJnd",
    "outputId": "01de8f17-c721-4fcb-c800-53eb4ff41f87"
   },
   "outputs": [],
   "source": [
    "sns.set(rc={'figure.figsize':(15,10)})\n",
    "sns.histplot(data=listings, x='availability_365_cat', color='darkmagenta', discrete=True, stat='probability', edgecolor=\"k\", linewidth=2)\n",
    "plt.title('КОЛИЧЕСТВО ДНЕЙ СВОБОДНЫХ ДЛЯ БРОНИРОВАНИЯ НА БЛИЖАЙШИЕ 365 ДНЕЙ',  fontsize=16, fontweight=\"bold\")"
   ]
  },
  {
   "cell_type": "markdown",
   "metadata": {
    "id": "75BpK9GsA39G"
   },
   "source": [
    "* ***0 свободных дней*** - 13% недвижимости не имеют свободных дней бронирования или временно прекратили её сдачу, закрыв календарь\n",
    "* ***1-14 свободных дней*** - 2% недвижимости\n",
    "* ***15-30 свободных дня*** - 1% недвижимости\n",
    "* ***31-60 свободных дней*** - 2% недвижимости  \n",
    "* ***61-120 дней*** - 9% недвижимости \n",
    "* ***121-180 дней*** - 11% недвижимости\n",
    "* ***181-240 дней*** - 4% недвижимости\n",
    "* ***241-300 дней*** - 8% недвижимости \n",
    "* ***301-364 дней*** - 34% недвижимости\n",
    "* ***365 дней*** - 16% недвижимости, то есть недвижимость готова к сдаче, но не имеет ни одного бронирования на ближайший год"
   ]
  },
  {
   "cell_type": "markdown",
   "metadata": {
    "id": "7NBgBNeLEExB"
   },
   "source": [
    "\n",
    "***ВЫВОД:***Из-за вариативности интепретации, возникает сложность с адекватной оценкой этого критерия - в случае, малого доступного количества свободных дней для аренды, есть как минимум два варианта: или хост открывает бронирование постепенно на небольшое количество дней, или бронь действительно практически полная. Но в любом случае, есть 16% недвижимости полностью доступной для бронирования в течение года\n"
   ]
  },
  {
   "cell_type": "markdown",
   "metadata": {
    "id": "voI9rUfHYIsW"
   },
   "source": [
    "***Выводы по исследованию:***\n",
    "* Читайте отзывы и смотрите на их количество - так проще подобрать лучшее предложение .\n",
    "* Изучите критерии оценки объявления в отзывах, посмотрите, из каких критериев получилась общая оценка и ориентируйтесь на то, что для вас более важно.\n",
    "Стоит выбрать жилье в центре или близких к нему районах, если цель посещения города туризм и знакомство с достопримечательностями. Проще всего в центре будет найти отдельную квартиру с одной спальной и ванной комнатой для пары гостей. Большинство хостов предоставит базовый набор удобств для проживания, а кто-то возможно даже удивит, предложив что-то необычное.\n",
    "* Большая часть предложений лежит в сегменте до 200 евро за ночь, но даже в центре есть объявления на любой кошелек (от 7€ до 3735€) .Из известных по данным факторов, цена будет строится исходя из количества гостей, спальных комнат и кроватей, а также количества ванных и является ли она личной или общей.\n",
    "* Хост - это может быть не только частное лицо, если это необходимо, можно найти и представителей отелей и гостевых домов.\n",
    "* Не стоит искать недвижимость только среди объявлений с категорией суперхост, особенно, если вам нужно просто переночевать - разница между хостом и суперхостом невелика. Но, если вы гостите у суперхоста, то скорее всего получите более стабильный сервис и радушный прием.\n",
    "* Стоит обратить внимание на то, чтобы аккаунт хоста был верифицирован сервисом airbnb, тем более, таких хостов большинство - это вопрос спокойствия и безопасности проживания.\n",
    "* Если это необходимо, то можно найти и жилье для долговременной аренды, сервис это тоже позволяет.\n"
   ]
  }
 ],
 "metadata": {
  "colab": {
   "collapsed_sections": [],
   "name": "bnb.ipynb",
   "provenance": []
  },
  "kernelspec": {
   "display_name": "Python 3",
   "language": "python",
   "name": "python3"
  },
  "language_info": {
   "codemirror_mode": {
    "name": "ipython",
    "version": 3
   },
   "file_extension": ".py",
   "mimetype": "text/x-python",
   "name": "python",
   "nbconvert_exporter": "python",
   "pygments_lexer": "ipython3",
   "version": "3.8.3"
  }
 },
 "nbformat": 4,
 "nbformat_minor": 1
}
