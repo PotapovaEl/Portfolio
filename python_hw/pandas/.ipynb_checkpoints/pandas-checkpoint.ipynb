{
 "cells": [
  {
   "cell_type": "markdown",
   "metadata": {},
   "source": [
    "***Задание 1***"
   ]
  },
  {
   "cell_type": "code",
   "execution_count": 1,
   "metadata": {},
   "outputs": [],
   "source": [
    "import pandas as pd"
   ]
  },
  {
   "cell_type": "code",
   "execution_count": 17,
   "metadata": {},
   "outputs": [],
   "source": [
    "rating = pd.read_csv('ratings.csv')\n",
    "movie = pd.read_csv('movies.csv')\n",
    "\n",
    "rating = rating.query('rating == 5.0')\n",
    "joined = rating.merge(movie, on='movieId', how='left')\n",
    "joined = joined.drop(columns = ['userId', 'timestamp', 'genres', 'movieId'], axis=1)\n"
   ]
  },
  {
   "cell_type": "code",
   "execution_count": 21,
   "metadata": {},
   "outputs": [
    {
     "data": {
      "text/html": [
       "<div>\n",
       "<style scoped>\n",
       "    .dataframe tbody tr th:only-of-type {\n",
       "        vertical-align: middle;\n",
       "    }\n",
       "\n",
       "    .dataframe tbody tr th {\n",
       "        vertical-align: top;\n",
       "    }\n",
       "\n",
       "    .dataframe thead th {\n",
       "        text-align: right;\n",
       "    }\n",
       "</style>\n",
       "<table border=\"1\" class=\"dataframe\">\n",
       "  <thead>\n",
       "    <tr style=\"text-align: right;\">\n",
       "      <th></th>\n",
       "      <th>rating</th>\n",
       "    </tr>\n",
       "    <tr>\n",
       "      <th>title</th>\n",
       "      <th></th>\n",
       "    </tr>\n",
       "  </thead>\n",
       "  <tbody>\n",
       "    <tr>\n",
       "      <th>Shawshank Redemption, The (1994)</th>\n",
       "      <td>153</td>\n",
       "    </tr>\n",
       "  </tbody>\n",
       "</table>\n",
       "</div>"
      ],
      "text/plain": [
       "                                  rating\n",
       "title                                   \n",
       "Shawshank Redemption, The (1994)     153"
      ]
     },
     "execution_count": 21,
     "metadata": {},
     "output_type": "execute_result"
    }
   ],
   "source": [
    "joined.groupby('title').count().sort_values('rating', ascending=False).head(1)"
   ]
  },
  {
   "cell_type": "markdown",
   "metadata": {},
   "source": [
    "***Задание 2***"
   ]
  },
  {
   "cell_type": "code",
   "execution_count": 2,
   "metadata": {},
   "outputs": [
    {
     "name": "stdout",
     "output_type": "stream",
     "text": [
      "Суммарное потребление стран Прибалтики за период с 2005 по 2010 года: 240580.0\n"
     ]
    }
   ],
   "source": [
    "power = pd.read_csv('power.csv')\n",
    "#собираем Прибалтику\n",
    "pw = power[power['country'].isin(['Latvia', 'Lithuania', 'Estonia'])]\n",
    "#выбираем категории\n",
    "pw_cat = pw[ (pw['category'] == 4) | (pw['category'] == 12) | (pw['category'] == 21) ]\n",
    "#фильтр по датам\n",
    "pw_year = pw_cat[ (pw_cat['year'] >=2005) & (pw_cat['year'] <= 2010) ]\n",
    "#исключаем отрицательные значения\n",
    "pw_q = pw_year[ pw_year['quantity'] >=0 ]\n",
    "#суммируем значения\n",
    "sum_q = pw_q['quantity'].sum()\n",
    "print(f'Суммарное потребление стран Прибалтики за период с 2005 по 2010 года: {sum_q}')"
   ]
  },
  {
   "cell_type": "markdown",
   "metadata": {},
   "source": [
    "***Задание 3***"
   ]
  },
  {
   "cell_type": "code",
   "execution_count": 38,
   "metadata": {},
   "outputs": [
    {
     "data": {
      "text/plain": [
       "pandas.core.frame.DataFrame"
      ]
     },
     "execution_count": 38,
     "metadata": {},
     "output_type": "execute_result"
    }
   ],
   "source": [
    "page_url = 'https://spbexchange.ru'\n",
    "df = pd.read_html(page_url, encoding='utf-8')[2]\n",
    "type(df)"
   ]
  },
  {
   "cell_type": "code",
   "execution_count": 39,
   "metadata": {},
   "outputs": [
    {
     "data": {
      "text/html": [
       "<div>\n",
       "<style scoped>\n",
       "    .dataframe tbody tr th:only-of-type {\n",
       "        vertical-align: middle;\n",
       "    }\n",
       "\n",
       "    .dataframe tbody tr th {\n",
       "        vertical-align: top;\n",
       "    }\n",
       "\n",
       "    .dataframe thead th {\n",
       "        text-align: right;\n",
       "    }\n",
       "</style>\n",
       "<table border=\"1\" class=\"dataframe\">\n",
       "  <thead>\n",
       "    <tr style=\"text-align: right;\">\n",
       "      <th></th>\n",
       "      <th>Иностранные акции (USD)</th>\n",
       "      <th>Unnamed: 1</th>\n",
       "      <th>покупка</th>\n",
       "      <th>продажа</th>\n",
       "    </tr>\n",
       "  </thead>\n",
       "  <tbody>\n",
       "    <tr>\n",
       "      <th>0</th>\n",
       "      <td>FB</td>\n",
       "      <td>Facebook, Inc.</td>\n",
       "      <td>23055</td>\n",
       "      <td>231</td>\n",
       "    </tr>\n",
       "    <tr>\n",
       "      <th>1</th>\n",
       "      <td>V</td>\n",
       "      <td>Visa Inc.</td>\n",
       "      <td>19853</td>\n",
       "      <td>199</td>\n",
       "    </tr>\n",
       "    <tr>\n",
       "      <th>2</th>\n",
       "      <td>BABA</td>\n",
       "      <td>Alibaba Group Holding Limited</td>\n",
       "      <td>21914</td>\n",
       "      <td>2195</td>\n",
       "    </tr>\n",
       "    <tr>\n",
       "      <th>3</th>\n",
       "      <td>AMZN</td>\n",
       "      <td>Amazon.com, Inc.</td>\n",
       "      <td>2524</td>\n",
       "      <td>252474</td>\n",
       "    </tr>\n",
       "    <tr>\n",
       "      <th>4</th>\n",
       "      <td>NFLX</td>\n",
       "      <td>Netflix, Inc.</td>\n",
       "      <td>41678</td>\n",
       "      <td>41773</td>\n",
       "    </tr>\n",
       "  </tbody>\n",
       "</table>\n",
       "</div>"
      ],
      "text/plain": [
       "  Иностранные акции (USD)                     Unnamed: 1  покупка  продажа\n",
       "0                      FB                 Facebook, Inc.    23055      231\n",
       "1                       V                      Visa Inc.    19853      199\n",
       "2                    BABA  Alibaba Group Holding Limited    21914     2195\n",
       "3                    AMZN               Amazon.com, Inc.     2524   252474\n",
       "4                    NFLX                  Netflix, Inc.    41678    41773"
      ]
     },
     "execution_count": 39,
     "metadata": {},
     "output_type": "execute_result"
    }
   ],
   "source": [
    "df.head()"
   ]
  }
 ],
 "metadata": {
  "kernelspec": {
   "display_name": "Python 3",
   "language": "python",
   "name": "python3"
  },
  "language_info": {
   "codemirror_mode": {
    "name": "ipython",
    "version": 3
   },
   "file_extension": ".py",
   "mimetype": "text/x-python",
   "name": "python",
   "nbconvert_exporter": "python",
   "pygments_lexer": "ipython3",
   "version": "3.8.3"
  }
 },
 "nbformat": 4,
 "nbformat_minor": 4
}
